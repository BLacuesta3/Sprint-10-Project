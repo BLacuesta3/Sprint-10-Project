{
 "cells": [
  {
   "cell_type": "markdown",
   "metadata": {},
   "source": [
    "**Review**\n",
    "\n",
    "Hello Byron!\n",
    "\n",
    "I'm happy to review your project today.\n",
    "  \n",
    "You can find my comments in colored markdown cells:\n",
    "  \n",
    "<div class=\"alert alert-success\">\n",
    "  If everything is done successfully.\n",
    "</div>\n",
    "  \n",
    "<div class=\"alert alert-warning\">\n",
    "  If I have some (optional) suggestions, or questions to think about, or general comments.\n",
    "</div>\n",
    "  \n",
    "<div class=\"alert alert-danger\">\n",
    "  If a section requires some corrections. Work can't be accepted with red comments.\n",
    "</div>\n",
    "  \n",
    "Please don't remove my comments, as it will make further review iterations much harder for me.\n",
    "  \n",
    "Feel free to reply to my comments or ask questions using the following template:\n",
    "  \n",
    "<div class=\"alert alert-info\">\n",
    "  Thank you so much for your feedbacks. I've split the cells into multiple so it's easier. Hopefully i got it right this time. Thank you!\n",
    "</div>\n",
    "  \n",
    "First of all, thank you for turning in the project! You did a great job overall, but there are some small problems that need to be fixed before the project will be accepted. Let me know if you have any questions!\n"
   ]
  },
  {
   "cell_type": "markdown",
   "metadata": {},
   "source": [
    "###  Title: Sprint 10: Integrated Project 2"
   ]
  },
  {
   "cell_type": "markdown",
   "metadata": {},
   "source": [
    "### Note to Reviewer:\n",
    "My apologies, I was not able to download your version of my project with your corrections.  Sorry for the inconvenience."
   ]
  },
  {
   "cell_type": "markdown",
   "metadata": {},
   "source": [
    "<div class=\"alert alert-block alert-warning\">\n",
    "<b>Reviewer's comment V2</b> <a class=\"tocSkip\"></a>\n",
    "\n",
    "Okay. But, please, next time copy and paste all my comments to your work because I can't check your project from the scratch each time.\n",
    "  \n",
    "</div>"
   ]
  },
  {
   "cell_type": "markdown",
   "metadata": {},
   "source": [
    "### Summary:\n",
    "This project contains data from a companed named Zyfra.  The main objective for this project is to create a model that accurately predicts the amount of gold recovered from gold ore.  The model types that I have chosen to evaluate for this task consists of: Linear Regression, Decision Tree Regressor, K Nearest Neighbors, Polynomial Features, and Random Forest Regressor. These models with be evaluated using cross validation and the fSMAPE metric. This project includes other tasks such as: veryifying if recovery is calculated correctly by using mean absolute error, using bar charts to observe how concentrations of metal (Au, Ag, Pb) change depending on purification stage, using histograms in order to check for anomalies in feed particle size distributions and total concentrations of metals at different stages (raw feed, rougher output, final concentrate) in both the training set and test set."
   ]
  },
  {
   "cell_type": "markdown",
   "metadata": {},
   "source": [
    "#### Step 1. Prepare the data\n",
    "\n",
    "1.1. Open the files and look into the data."
   ]
  },
  {
   "cell_type": "code",
   "execution_count": 1,
   "metadata": {},
   "outputs": [],
   "source": [
    "#Import the necessary libraries.\n",
    "import pandas as pd\n",
    "\n",
    "from sklearn.metrics import mean_absolute_error, make_scorer\n",
    "\n",
    "from sklearn.preprocessing import StandardScaler\n",
    "\n",
    "from sklearn.pipeline import Pipeline, make_pipeline\n",
    "\n",
    "from sklearn.linear_model import LinearRegression\n",
    "\n",
    "from sklearn.model_selection import RandomizedSearchCV\n",
    "\n",
    "from sklearn.model_selection import train_test_split\n",
    "\n",
    "import matplotlib.pyplot as plt\n",
    "\n",
    "from sklearn.model_selection import cross_val_score, RandomizedSearchCV\n",
    "\n",
    "import xgboost as xgb\n",
    "\n",
    "from sklearn.ensemble import RandomForestRegressor, GradientBoostingRegressor\n",
    "\n",
    "from sklearn.tree import DecisionTreeRegressor\n",
    "\n",
    "from sklearn.neighbors import KNeighborsRegressor\n",
    "\n",
    "from sklearn.preprocessing import PolynomialFeatures\n",
    "\n",
    "from sklearn.model_selection import GridSearchCV\n",
    "\n",
    "import numpy as np\n",
    "\n",
    "import seaborn as sns"
   ]
  },
  {
   "cell_type": "markdown",
   "metadata": {},
   "source": [
    "##### Datasets"
   ]
  },
  {
   "cell_type": "code",
   "execution_count": 2,
   "metadata": {},
   "outputs": [],
   "source": [
    "#Create a dataframe from the training set csv file with the name data_train.\n",
    "data_train = pd.read_csv('/datasets/gold_recovery_train.csv')\n",
    "#Create a subset from the data_train column for the C,F, and T variables in the recovery function for task 1.2.\n",
    "subset = data_train[['rougher.output.concentrate_au','rougher.input.feed_au', 'rougher.output.tail_au', 'rougher.output.recovery']]\n",
    "subset = subset.dropna(axis=0)"
   ]
  },
  {
   "cell_type": "code",
   "execution_count": 3,
   "metadata": {},
   "outputs": [],
   "source": [
    "#Create a dataframe for the testing set csv file with the name data_test.\n",
    "data_test = pd.read_csv('/datasets/gold_recovery_test.csv')"
   ]
  },
  {
   "cell_type": "code",
   "execution_count": 4,
   "metadata": {},
   "outputs": [],
   "source": [
    "#Create a dataframe for the full set csv file with the name data_full.\n",
    "data_full = pd.read_csv('/datasets/gold_recovery_full.csv')"
   ]
  },
  {
   "cell_type": "code",
   "execution_count": 5,
   "metadata": {},
   "outputs": [
    {
     "data": {
      "text/html": [
       "<div>\n",
       "<style scoped>\n",
       "    .dataframe tbody tr th:only-of-type {\n",
       "        vertical-align: middle;\n",
       "    }\n",
       "\n",
       "    .dataframe tbody tr th {\n",
       "        vertical-align: top;\n",
       "    }\n",
       "\n",
       "    .dataframe thead th {\n",
       "        text-align: right;\n",
       "    }\n",
       "</style>\n",
       "<table border=\"1\" class=\"dataframe\">\n",
       "  <thead>\n",
       "    <tr style=\"text-align: right;\">\n",
       "      <th></th>\n",
       "      <th>date</th>\n",
       "      <th>final.output.concentrate_ag</th>\n",
       "      <th>final.output.concentrate_pb</th>\n",
       "      <th>final.output.concentrate_sol</th>\n",
       "      <th>final.output.concentrate_au</th>\n",
       "      <th>final.output.recovery</th>\n",
       "      <th>final.output.tail_ag</th>\n",
       "      <th>final.output.tail_pb</th>\n",
       "      <th>final.output.tail_sol</th>\n",
       "      <th>final.output.tail_au</th>\n",
       "      <th>...</th>\n",
       "      <th>secondary_cleaner.state.floatbank4_a_air</th>\n",
       "      <th>secondary_cleaner.state.floatbank4_a_level</th>\n",
       "      <th>secondary_cleaner.state.floatbank4_b_air</th>\n",
       "      <th>secondary_cleaner.state.floatbank4_b_level</th>\n",
       "      <th>secondary_cleaner.state.floatbank5_a_air</th>\n",
       "      <th>secondary_cleaner.state.floatbank5_a_level</th>\n",
       "      <th>secondary_cleaner.state.floatbank5_b_air</th>\n",
       "      <th>secondary_cleaner.state.floatbank5_b_level</th>\n",
       "      <th>secondary_cleaner.state.floatbank6_a_air</th>\n",
       "      <th>secondary_cleaner.state.floatbank6_a_level</th>\n",
       "    </tr>\n",
       "  </thead>\n",
       "  <tbody>\n",
       "    <tr>\n",
       "      <th>0</th>\n",
       "      <td>2016-01-15 00:00:00</td>\n",
       "      <td>6.055403</td>\n",
       "      <td>9.889648</td>\n",
       "      <td>5.507324</td>\n",
       "      <td>42.192020</td>\n",
       "      <td>70.541216</td>\n",
       "      <td>10.411962</td>\n",
       "      <td>0.895447</td>\n",
       "      <td>16.904297</td>\n",
       "      <td>2.143149</td>\n",
       "      <td>...</td>\n",
       "      <td>14.016835</td>\n",
       "      <td>-502.488007</td>\n",
       "      <td>12.099931</td>\n",
       "      <td>-504.715942</td>\n",
       "      <td>9.925633</td>\n",
       "      <td>-498.310211</td>\n",
       "      <td>8.079666</td>\n",
       "      <td>-500.470978</td>\n",
       "      <td>14.151341</td>\n",
       "      <td>-605.841980</td>\n",
       "    </tr>\n",
       "    <tr>\n",
       "      <th>1</th>\n",
       "      <td>2016-01-15 01:00:00</td>\n",
       "      <td>6.029369</td>\n",
       "      <td>9.968944</td>\n",
       "      <td>5.257781</td>\n",
       "      <td>42.701629</td>\n",
       "      <td>69.266198</td>\n",
       "      <td>10.462676</td>\n",
       "      <td>0.927452</td>\n",
       "      <td>16.634514</td>\n",
       "      <td>2.224930</td>\n",
       "      <td>...</td>\n",
       "      <td>13.992281</td>\n",
       "      <td>-505.503262</td>\n",
       "      <td>11.950531</td>\n",
       "      <td>-501.331529</td>\n",
       "      <td>10.039245</td>\n",
       "      <td>-500.169983</td>\n",
       "      <td>7.984757</td>\n",
       "      <td>-500.582168</td>\n",
       "      <td>13.998353</td>\n",
       "      <td>-599.787184</td>\n",
       "    </tr>\n",
       "    <tr>\n",
       "      <th>2</th>\n",
       "      <td>2016-01-15 02:00:00</td>\n",
       "      <td>6.055926</td>\n",
       "      <td>10.213995</td>\n",
       "      <td>5.383759</td>\n",
       "      <td>42.657501</td>\n",
       "      <td>68.116445</td>\n",
       "      <td>10.507046</td>\n",
       "      <td>0.953716</td>\n",
       "      <td>16.208849</td>\n",
       "      <td>2.257889</td>\n",
       "      <td>...</td>\n",
       "      <td>14.015015</td>\n",
       "      <td>-502.520901</td>\n",
       "      <td>11.912783</td>\n",
       "      <td>-501.133383</td>\n",
       "      <td>10.070913</td>\n",
       "      <td>-500.129135</td>\n",
       "      <td>8.013877</td>\n",
       "      <td>-500.517572</td>\n",
       "      <td>14.028663</td>\n",
       "      <td>-601.427363</td>\n",
       "    </tr>\n",
       "    <tr>\n",
       "      <th>3</th>\n",
       "      <td>2016-01-15 03:00:00</td>\n",
       "      <td>6.047977</td>\n",
       "      <td>9.977019</td>\n",
       "      <td>4.858634</td>\n",
       "      <td>42.689819</td>\n",
       "      <td>68.347543</td>\n",
       "      <td>10.422762</td>\n",
       "      <td>0.883763</td>\n",
       "      <td>16.532835</td>\n",
       "      <td>2.146849</td>\n",
       "      <td>...</td>\n",
       "      <td>14.036510</td>\n",
       "      <td>-500.857308</td>\n",
       "      <td>11.999550</td>\n",
       "      <td>-501.193686</td>\n",
       "      <td>9.970366</td>\n",
       "      <td>-499.201640</td>\n",
       "      <td>7.977324</td>\n",
       "      <td>-500.255908</td>\n",
       "      <td>14.005551</td>\n",
       "      <td>-599.996129</td>\n",
       "    </tr>\n",
       "    <tr>\n",
       "      <th>4</th>\n",
       "      <td>2016-01-15 04:00:00</td>\n",
       "      <td>6.148599</td>\n",
       "      <td>10.142511</td>\n",
       "      <td>4.939416</td>\n",
       "      <td>42.774141</td>\n",
       "      <td>66.927016</td>\n",
       "      <td>10.360302</td>\n",
       "      <td>0.792826</td>\n",
       "      <td>16.525686</td>\n",
       "      <td>2.055292</td>\n",
       "      <td>...</td>\n",
       "      <td>14.027298</td>\n",
       "      <td>-499.838632</td>\n",
       "      <td>11.953070</td>\n",
       "      <td>-501.053894</td>\n",
       "      <td>9.925709</td>\n",
       "      <td>-501.686727</td>\n",
       "      <td>7.894242</td>\n",
       "      <td>-500.356035</td>\n",
       "      <td>13.996647</td>\n",
       "      <td>-601.496691</td>\n",
       "    </tr>\n",
       "  </tbody>\n",
       "</table>\n",
       "<p>5 rows × 87 columns</p>\n",
       "</div>"
      ],
      "text/plain": [
       "                  date  final.output.concentrate_ag  \\\n",
       "0  2016-01-15 00:00:00                     6.055403   \n",
       "1  2016-01-15 01:00:00                     6.029369   \n",
       "2  2016-01-15 02:00:00                     6.055926   \n",
       "3  2016-01-15 03:00:00                     6.047977   \n",
       "4  2016-01-15 04:00:00                     6.148599   \n",
       "\n",
       "   final.output.concentrate_pb  final.output.concentrate_sol  \\\n",
       "0                     9.889648                      5.507324   \n",
       "1                     9.968944                      5.257781   \n",
       "2                    10.213995                      5.383759   \n",
       "3                     9.977019                      4.858634   \n",
       "4                    10.142511                      4.939416   \n",
       "\n",
       "   final.output.concentrate_au  final.output.recovery  final.output.tail_ag  \\\n",
       "0                    42.192020              70.541216             10.411962   \n",
       "1                    42.701629              69.266198             10.462676   \n",
       "2                    42.657501              68.116445             10.507046   \n",
       "3                    42.689819              68.347543             10.422762   \n",
       "4                    42.774141              66.927016             10.360302   \n",
       "\n",
       "   final.output.tail_pb  final.output.tail_sol  final.output.tail_au  ...  \\\n",
       "0              0.895447              16.904297              2.143149  ...   \n",
       "1              0.927452              16.634514              2.224930  ...   \n",
       "2              0.953716              16.208849              2.257889  ...   \n",
       "3              0.883763              16.532835              2.146849  ...   \n",
       "4              0.792826              16.525686              2.055292  ...   \n",
       "\n",
       "   secondary_cleaner.state.floatbank4_a_air  \\\n",
       "0                                 14.016835   \n",
       "1                                 13.992281   \n",
       "2                                 14.015015   \n",
       "3                                 14.036510   \n",
       "4                                 14.027298   \n",
       "\n",
       "   secondary_cleaner.state.floatbank4_a_level  \\\n",
       "0                                 -502.488007   \n",
       "1                                 -505.503262   \n",
       "2                                 -502.520901   \n",
       "3                                 -500.857308   \n",
       "4                                 -499.838632   \n",
       "\n",
       "   secondary_cleaner.state.floatbank4_b_air  \\\n",
       "0                                 12.099931   \n",
       "1                                 11.950531   \n",
       "2                                 11.912783   \n",
       "3                                 11.999550   \n",
       "4                                 11.953070   \n",
       "\n",
       "   secondary_cleaner.state.floatbank4_b_level  \\\n",
       "0                                 -504.715942   \n",
       "1                                 -501.331529   \n",
       "2                                 -501.133383   \n",
       "3                                 -501.193686   \n",
       "4                                 -501.053894   \n",
       "\n",
       "   secondary_cleaner.state.floatbank5_a_air  \\\n",
       "0                                  9.925633   \n",
       "1                                 10.039245   \n",
       "2                                 10.070913   \n",
       "3                                  9.970366   \n",
       "4                                  9.925709   \n",
       "\n",
       "   secondary_cleaner.state.floatbank5_a_level  \\\n",
       "0                                 -498.310211   \n",
       "1                                 -500.169983   \n",
       "2                                 -500.129135   \n",
       "3                                 -499.201640   \n",
       "4                                 -501.686727   \n",
       "\n",
       "   secondary_cleaner.state.floatbank5_b_air  \\\n",
       "0                                  8.079666   \n",
       "1                                  7.984757   \n",
       "2                                  8.013877   \n",
       "3                                  7.977324   \n",
       "4                                  7.894242   \n",
       "\n",
       "   secondary_cleaner.state.floatbank5_b_level  \\\n",
       "0                                 -500.470978   \n",
       "1                                 -500.582168   \n",
       "2                                 -500.517572   \n",
       "3                                 -500.255908   \n",
       "4                                 -500.356035   \n",
       "\n",
       "   secondary_cleaner.state.floatbank6_a_air  \\\n",
       "0                                 14.151341   \n",
       "1                                 13.998353   \n",
       "2                                 14.028663   \n",
       "3                                 14.005551   \n",
       "4                                 13.996647   \n",
       "\n",
       "   secondary_cleaner.state.floatbank6_a_level  \n",
       "0                                 -605.841980  \n",
       "1                                 -599.787184  \n",
       "2                                 -601.427363  \n",
       "3                                 -599.996129  \n",
       "4                                 -601.496691  \n",
       "\n",
       "[5 rows x 87 columns]"
      ]
     },
     "execution_count": 5,
     "metadata": {},
     "output_type": "execute_result"
    }
   ],
   "source": [
    "#Use the head() method to print the first five lines of the data_train dataframe.\n",
    "data_train.head()"
   ]
  },
  {
   "cell_type": "markdown",
   "metadata": {},
   "source": [
    "Code Result:\n",
    "It appears that the rows and columns of the data_train dataframe are listed correctly.  No abnormal or unsual entries noted."
   ]
  },
  {
   "cell_type": "code",
   "execution_count": 6,
   "metadata": {},
   "outputs": [
    {
     "data": {
      "text/html": [
       "<div>\n",
       "<style scoped>\n",
       "    .dataframe tbody tr th:only-of-type {\n",
       "        vertical-align: middle;\n",
       "    }\n",
       "\n",
       "    .dataframe tbody tr th {\n",
       "        vertical-align: top;\n",
       "    }\n",
       "\n",
       "    .dataframe thead th {\n",
       "        text-align: right;\n",
       "    }\n",
       "</style>\n",
       "<table border=\"1\" class=\"dataframe\">\n",
       "  <thead>\n",
       "    <tr style=\"text-align: right;\">\n",
       "      <th></th>\n",
       "      <th>date</th>\n",
       "      <th>primary_cleaner.input.sulfate</th>\n",
       "      <th>primary_cleaner.input.depressant</th>\n",
       "      <th>primary_cleaner.input.feed_size</th>\n",
       "      <th>primary_cleaner.input.xanthate</th>\n",
       "      <th>primary_cleaner.state.floatbank8_a_air</th>\n",
       "      <th>primary_cleaner.state.floatbank8_a_level</th>\n",
       "      <th>primary_cleaner.state.floatbank8_b_air</th>\n",
       "      <th>primary_cleaner.state.floatbank8_b_level</th>\n",
       "      <th>primary_cleaner.state.floatbank8_c_air</th>\n",
       "      <th>...</th>\n",
       "      <th>secondary_cleaner.state.floatbank4_a_air</th>\n",
       "      <th>secondary_cleaner.state.floatbank4_a_level</th>\n",
       "      <th>secondary_cleaner.state.floatbank4_b_air</th>\n",
       "      <th>secondary_cleaner.state.floatbank4_b_level</th>\n",
       "      <th>secondary_cleaner.state.floatbank5_a_air</th>\n",
       "      <th>secondary_cleaner.state.floatbank5_a_level</th>\n",
       "      <th>secondary_cleaner.state.floatbank5_b_air</th>\n",
       "      <th>secondary_cleaner.state.floatbank5_b_level</th>\n",
       "      <th>secondary_cleaner.state.floatbank6_a_air</th>\n",
       "      <th>secondary_cleaner.state.floatbank6_a_level</th>\n",
       "    </tr>\n",
       "  </thead>\n",
       "  <tbody>\n",
       "    <tr>\n",
       "      <th>0</th>\n",
       "      <td>2016-09-01 00:59:59</td>\n",
       "      <td>210.800909</td>\n",
       "      <td>14.993118</td>\n",
       "      <td>8.080000</td>\n",
       "      <td>1.005021</td>\n",
       "      <td>1398.981301</td>\n",
       "      <td>-500.225577</td>\n",
       "      <td>1399.144926</td>\n",
       "      <td>-499.919735</td>\n",
       "      <td>1400.102998</td>\n",
       "      <td>...</td>\n",
       "      <td>12.023554</td>\n",
       "      <td>-497.795834</td>\n",
       "      <td>8.016656</td>\n",
       "      <td>-501.289139</td>\n",
       "      <td>7.946562</td>\n",
       "      <td>-432.317850</td>\n",
       "      <td>4.872511</td>\n",
       "      <td>-500.037437</td>\n",
       "      <td>26.705889</td>\n",
       "      <td>-499.709414</td>\n",
       "    </tr>\n",
       "    <tr>\n",
       "      <th>1</th>\n",
       "      <td>2016-09-01 01:59:59</td>\n",
       "      <td>215.392455</td>\n",
       "      <td>14.987471</td>\n",
       "      <td>8.080000</td>\n",
       "      <td>0.990469</td>\n",
       "      <td>1398.777912</td>\n",
       "      <td>-500.057435</td>\n",
       "      <td>1398.055362</td>\n",
       "      <td>-499.778182</td>\n",
       "      <td>1396.151033</td>\n",
       "      <td>...</td>\n",
       "      <td>12.058140</td>\n",
       "      <td>-498.695773</td>\n",
       "      <td>8.130979</td>\n",
       "      <td>-499.634209</td>\n",
       "      <td>7.958270</td>\n",
       "      <td>-525.839648</td>\n",
       "      <td>4.878850</td>\n",
       "      <td>-500.162375</td>\n",
       "      <td>25.019940</td>\n",
       "      <td>-499.819438</td>\n",
       "    </tr>\n",
       "    <tr>\n",
       "      <th>2</th>\n",
       "      <td>2016-09-01 02:59:59</td>\n",
       "      <td>215.259946</td>\n",
       "      <td>12.884934</td>\n",
       "      <td>7.786667</td>\n",
       "      <td>0.996043</td>\n",
       "      <td>1398.493666</td>\n",
       "      <td>-500.868360</td>\n",
       "      <td>1398.860436</td>\n",
       "      <td>-499.764529</td>\n",
       "      <td>1398.075709</td>\n",
       "      <td>...</td>\n",
       "      <td>11.962366</td>\n",
       "      <td>-498.767484</td>\n",
       "      <td>8.096893</td>\n",
       "      <td>-500.827423</td>\n",
       "      <td>8.071056</td>\n",
       "      <td>-500.801673</td>\n",
       "      <td>4.905125</td>\n",
       "      <td>-499.828510</td>\n",
       "      <td>24.994862</td>\n",
       "      <td>-500.622559</td>\n",
       "    </tr>\n",
       "    <tr>\n",
       "      <th>3</th>\n",
       "      <td>2016-09-01 03:59:59</td>\n",
       "      <td>215.336236</td>\n",
       "      <td>12.006805</td>\n",
       "      <td>7.640000</td>\n",
       "      <td>0.863514</td>\n",
       "      <td>1399.618111</td>\n",
       "      <td>-498.863574</td>\n",
       "      <td>1397.440120</td>\n",
       "      <td>-499.211024</td>\n",
       "      <td>1400.129303</td>\n",
       "      <td>...</td>\n",
       "      <td>12.033091</td>\n",
       "      <td>-498.350935</td>\n",
       "      <td>8.074946</td>\n",
       "      <td>-499.474407</td>\n",
       "      <td>7.897085</td>\n",
       "      <td>-500.868509</td>\n",
       "      <td>4.931400</td>\n",
       "      <td>-499.963623</td>\n",
       "      <td>24.948919</td>\n",
       "      <td>-498.709987</td>\n",
       "    </tr>\n",
       "    <tr>\n",
       "      <th>4</th>\n",
       "      <td>2016-09-01 04:59:59</td>\n",
       "      <td>199.099327</td>\n",
       "      <td>10.682530</td>\n",
       "      <td>7.530000</td>\n",
       "      <td>0.805575</td>\n",
       "      <td>1401.268123</td>\n",
       "      <td>-500.808305</td>\n",
       "      <td>1398.128818</td>\n",
       "      <td>-499.504543</td>\n",
       "      <td>1402.172226</td>\n",
       "      <td>...</td>\n",
       "      <td>12.025367</td>\n",
       "      <td>-500.786497</td>\n",
       "      <td>8.054678</td>\n",
       "      <td>-500.397500</td>\n",
       "      <td>8.107890</td>\n",
       "      <td>-509.526725</td>\n",
       "      <td>4.957674</td>\n",
       "      <td>-500.360026</td>\n",
       "      <td>25.003331</td>\n",
       "      <td>-500.856333</td>\n",
       "    </tr>\n",
       "  </tbody>\n",
       "</table>\n",
       "<p>5 rows × 53 columns</p>\n",
       "</div>"
      ],
      "text/plain": [
       "                  date  primary_cleaner.input.sulfate  \\\n",
       "0  2016-09-01 00:59:59                     210.800909   \n",
       "1  2016-09-01 01:59:59                     215.392455   \n",
       "2  2016-09-01 02:59:59                     215.259946   \n",
       "3  2016-09-01 03:59:59                     215.336236   \n",
       "4  2016-09-01 04:59:59                     199.099327   \n",
       "\n",
       "   primary_cleaner.input.depressant  primary_cleaner.input.feed_size  \\\n",
       "0                         14.993118                         8.080000   \n",
       "1                         14.987471                         8.080000   \n",
       "2                         12.884934                         7.786667   \n",
       "3                         12.006805                         7.640000   \n",
       "4                         10.682530                         7.530000   \n",
       "\n",
       "   primary_cleaner.input.xanthate  primary_cleaner.state.floatbank8_a_air  \\\n",
       "0                        1.005021                             1398.981301   \n",
       "1                        0.990469                             1398.777912   \n",
       "2                        0.996043                             1398.493666   \n",
       "3                        0.863514                             1399.618111   \n",
       "4                        0.805575                             1401.268123   \n",
       "\n",
       "   primary_cleaner.state.floatbank8_a_level  \\\n",
       "0                               -500.225577   \n",
       "1                               -500.057435   \n",
       "2                               -500.868360   \n",
       "3                               -498.863574   \n",
       "4                               -500.808305   \n",
       "\n",
       "   primary_cleaner.state.floatbank8_b_air  \\\n",
       "0                             1399.144926   \n",
       "1                             1398.055362   \n",
       "2                             1398.860436   \n",
       "3                             1397.440120   \n",
       "4                             1398.128818   \n",
       "\n",
       "   primary_cleaner.state.floatbank8_b_level  \\\n",
       "0                               -499.919735   \n",
       "1                               -499.778182   \n",
       "2                               -499.764529   \n",
       "3                               -499.211024   \n",
       "4                               -499.504543   \n",
       "\n",
       "   primary_cleaner.state.floatbank8_c_air  ...  \\\n",
       "0                             1400.102998  ...   \n",
       "1                             1396.151033  ...   \n",
       "2                             1398.075709  ...   \n",
       "3                             1400.129303  ...   \n",
       "4                             1402.172226  ...   \n",
       "\n",
       "   secondary_cleaner.state.floatbank4_a_air  \\\n",
       "0                                 12.023554   \n",
       "1                                 12.058140   \n",
       "2                                 11.962366   \n",
       "3                                 12.033091   \n",
       "4                                 12.025367   \n",
       "\n",
       "   secondary_cleaner.state.floatbank4_a_level  \\\n",
       "0                                 -497.795834   \n",
       "1                                 -498.695773   \n",
       "2                                 -498.767484   \n",
       "3                                 -498.350935   \n",
       "4                                 -500.786497   \n",
       "\n",
       "   secondary_cleaner.state.floatbank4_b_air  \\\n",
       "0                                  8.016656   \n",
       "1                                  8.130979   \n",
       "2                                  8.096893   \n",
       "3                                  8.074946   \n",
       "4                                  8.054678   \n",
       "\n",
       "   secondary_cleaner.state.floatbank4_b_level  \\\n",
       "0                                 -501.289139   \n",
       "1                                 -499.634209   \n",
       "2                                 -500.827423   \n",
       "3                                 -499.474407   \n",
       "4                                 -500.397500   \n",
       "\n",
       "   secondary_cleaner.state.floatbank5_a_air  \\\n",
       "0                                  7.946562   \n",
       "1                                  7.958270   \n",
       "2                                  8.071056   \n",
       "3                                  7.897085   \n",
       "4                                  8.107890   \n",
       "\n",
       "   secondary_cleaner.state.floatbank5_a_level  \\\n",
       "0                                 -432.317850   \n",
       "1                                 -525.839648   \n",
       "2                                 -500.801673   \n",
       "3                                 -500.868509   \n",
       "4                                 -509.526725   \n",
       "\n",
       "   secondary_cleaner.state.floatbank5_b_air  \\\n",
       "0                                  4.872511   \n",
       "1                                  4.878850   \n",
       "2                                  4.905125   \n",
       "3                                  4.931400   \n",
       "4                                  4.957674   \n",
       "\n",
       "   secondary_cleaner.state.floatbank5_b_level  \\\n",
       "0                                 -500.037437   \n",
       "1                                 -500.162375   \n",
       "2                                 -499.828510   \n",
       "3                                 -499.963623   \n",
       "4                                 -500.360026   \n",
       "\n",
       "   secondary_cleaner.state.floatbank6_a_air  \\\n",
       "0                                 26.705889   \n",
       "1                                 25.019940   \n",
       "2                                 24.994862   \n",
       "3                                 24.948919   \n",
       "4                                 25.003331   \n",
       "\n",
       "   secondary_cleaner.state.floatbank6_a_level  \n",
       "0                                 -499.709414  \n",
       "1                                 -499.819438  \n",
       "2                                 -500.622559  \n",
       "3                                 -498.709987  \n",
       "4                                 -500.856333  \n",
       "\n",
       "[5 rows x 53 columns]"
      ]
     },
     "execution_count": 6,
     "metadata": {},
     "output_type": "execute_result"
    }
   ],
   "source": [
    "#Use the head() method to print the first five lines of the data_test dataframe.\n",
    "data_test.head()"
   ]
  },
  {
   "cell_type": "markdown",
   "metadata": {},
   "source": [
    "Code Result:\n",
    "It appears that the rows and columns of the data_test dataframe are listed correctly.  No abnormal or unsual entries noted."
   ]
  },
  {
   "cell_type": "code",
   "execution_count": 7,
   "metadata": {},
   "outputs": [
    {
     "data": {
      "text/html": [
       "<div>\n",
       "<style scoped>\n",
       "    .dataframe tbody tr th:only-of-type {\n",
       "        vertical-align: middle;\n",
       "    }\n",
       "\n",
       "    .dataframe tbody tr th {\n",
       "        vertical-align: top;\n",
       "    }\n",
       "\n",
       "    .dataframe thead th {\n",
       "        text-align: right;\n",
       "    }\n",
       "</style>\n",
       "<table border=\"1\" class=\"dataframe\">\n",
       "  <thead>\n",
       "    <tr style=\"text-align: right;\">\n",
       "      <th></th>\n",
       "      <th>date</th>\n",
       "      <th>final.output.concentrate_ag</th>\n",
       "      <th>final.output.concentrate_pb</th>\n",
       "      <th>final.output.concentrate_sol</th>\n",
       "      <th>final.output.concentrate_au</th>\n",
       "      <th>final.output.recovery</th>\n",
       "      <th>final.output.tail_ag</th>\n",
       "      <th>final.output.tail_pb</th>\n",
       "      <th>final.output.tail_sol</th>\n",
       "      <th>final.output.tail_au</th>\n",
       "      <th>...</th>\n",
       "      <th>secondary_cleaner.state.floatbank4_a_air</th>\n",
       "      <th>secondary_cleaner.state.floatbank4_a_level</th>\n",
       "      <th>secondary_cleaner.state.floatbank4_b_air</th>\n",
       "      <th>secondary_cleaner.state.floatbank4_b_level</th>\n",
       "      <th>secondary_cleaner.state.floatbank5_a_air</th>\n",
       "      <th>secondary_cleaner.state.floatbank5_a_level</th>\n",
       "      <th>secondary_cleaner.state.floatbank5_b_air</th>\n",
       "      <th>secondary_cleaner.state.floatbank5_b_level</th>\n",
       "      <th>secondary_cleaner.state.floatbank6_a_air</th>\n",
       "      <th>secondary_cleaner.state.floatbank6_a_level</th>\n",
       "    </tr>\n",
       "  </thead>\n",
       "  <tbody>\n",
       "    <tr>\n",
       "      <th>0</th>\n",
       "      <td>2016-01-15 00:00:00</td>\n",
       "      <td>6.055403</td>\n",
       "      <td>9.889648</td>\n",
       "      <td>5.507324</td>\n",
       "      <td>42.192020</td>\n",
       "      <td>70.541216</td>\n",
       "      <td>10.411962</td>\n",
       "      <td>0.895447</td>\n",
       "      <td>16.904297</td>\n",
       "      <td>2.143149</td>\n",
       "      <td>...</td>\n",
       "      <td>14.016835</td>\n",
       "      <td>-502.488007</td>\n",
       "      <td>12.099931</td>\n",
       "      <td>-504.715942</td>\n",
       "      <td>9.925633</td>\n",
       "      <td>-498.310211</td>\n",
       "      <td>8.079666</td>\n",
       "      <td>-500.470978</td>\n",
       "      <td>14.151341</td>\n",
       "      <td>-605.841980</td>\n",
       "    </tr>\n",
       "    <tr>\n",
       "      <th>1</th>\n",
       "      <td>2016-01-15 01:00:00</td>\n",
       "      <td>6.029369</td>\n",
       "      <td>9.968944</td>\n",
       "      <td>5.257781</td>\n",
       "      <td>42.701629</td>\n",
       "      <td>69.266198</td>\n",
       "      <td>10.462676</td>\n",
       "      <td>0.927452</td>\n",
       "      <td>16.634514</td>\n",
       "      <td>2.224930</td>\n",
       "      <td>...</td>\n",
       "      <td>13.992281</td>\n",
       "      <td>-505.503262</td>\n",
       "      <td>11.950531</td>\n",
       "      <td>-501.331529</td>\n",
       "      <td>10.039245</td>\n",
       "      <td>-500.169983</td>\n",
       "      <td>7.984757</td>\n",
       "      <td>-500.582168</td>\n",
       "      <td>13.998353</td>\n",
       "      <td>-599.787184</td>\n",
       "    </tr>\n",
       "    <tr>\n",
       "      <th>2</th>\n",
       "      <td>2016-01-15 02:00:00</td>\n",
       "      <td>6.055926</td>\n",
       "      <td>10.213995</td>\n",
       "      <td>5.383759</td>\n",
       "      <td>42.657501</td>\n",
       "      <td>68.116445</td>\n",
       "      <td>10.507046</td>\n",
       "      <td>0.953716</td>\n",
       "      <td>16.208849</td>\n",
       "      <td>2.257889</td>\n",
       "      <td>...</td>\n",
       "      <td>14.015015</td>\n",
       "      <td>-502.520901</td>\n",
       "      <td>11.912783</td>\n",
       "      <td>-501.133383</td>\n",
       "      <td>10.070913</td>\n",
       "      <td>-500.129135</td>\n",
       "      <td>8.013877</td>\n",
       "      <td>-500.517572</td>\n",
       "      <td>14.028663</td>\n",
       "      <td>-601.427363</td>\n",
       "    </tr>\n",
       "    <tr>\n",
       "      <th>3</th>\n",
       "      <td>2016-01-15 03:00:00</td>\n",
       "      <td>6.047977</td>\n",
       "      <td>9.977019</td>\n",
       "      <td>4.858634</td>\n",
       "      <td>42.689819</td>\n",
       "      <td>68.347543</td>\n",
       "      <td>10.422762</td>\n",
       "      <td>0.883763</td>\n",
       "      <td>16.532835</td>\n",
       "      <td>2.146849</td>\n",
       "      <td>...</td>\n",
       "      <td>14.036510</td>\n",
       "      <td>-500.857308</td>\n",
       "      <td>11.999550</td>\n",
       "      <td>-501.193686</td>\n",
       "      <td>9.970366</td>\n",
       "      <td>-499.201640</td>\n",
       "      <td>7.977324</td>\n",
       "      <td>-500.255908</td>\n",
       "      <td>14.005551</td>\n",
       "      <td>-599.996129</td>\n",
       "    </tr>\n",
       "    <tr>\n",
       "      <th>4</th>\n",
       "      <td>2016-01-15 04:00:00</td>\n",
       "      <td>6.148599</td>\n",
       "      <td>10.142511</td>\n",
       "      <td>4.939416</td>\n",
       "      <td>42.774141</td>\n",
       "      <td>66.927016</td>\n",
       "      <td>10.360302</td>\n",
       "      <td>0.792826</td>\n",
       "      <td>16.525686</td>\n",
       "      <td>2.055292</td>\n",
       "      <td>...</td>\n",
       "      <td>14.027298</td>\n",
       "      <td>-499.838632</td>\n",
       "      <td>11.953070</td>\n",
       "      <td>-501.053894</td>\n",
       "      <td>9.925709</td>\n",
       "      <td>-501.686727</td>\n",
       "      <td>7.894242</td>\n",
       "      <td>-500.356035</td>\n",
       "      <td>13.996647</td>\n",
       "      <td>-601.496691</td>\n",
       "    </tr>\n",
       "  </tbody>\n",
       "</table>\n",
       "<p>5 rows × 87 columns</p>\n",
       "</div>"
      ],
      "text/plain": [
       "                  date  final.output.concentrate_ag  \\\n",
       "0  2016-01-15 00:00:00                     6.055403   \n",
       "1  2016-01-15 01:00:00                     6.029369   \n",
       "2  2016-01-15 02:00:00                     6.055926   \n",
       "3  2016-01-15 03:00:00                     6.047977   \n",
       "4  2016-01-15 04:00:00                     6.148599   \n",
       "\n",
       "   final.output.concentrate_pb  final.output.concentrate_sol  \\\n",
       "0                     9.889648                      5.507324   \n",
       "1                     9.968944                      5.257781   \n",
       "2                    10.213995                      5.383759   \n",
       "3                     9.977019                      4.858634   \n",
       "4                    10.142511                      4.939416   \n",
       "\n",
       "   final.output.concentrate_au  final.output.recovery  final.output.tail_ag  \\\n",
       "0                    42.192020              70.541216             10.411962   \n",
       "1                    42.701629              69.266198             10.462676   \n",
       "2                    42.657501              68.116445             10.507046   \n",
       "3                    42.689819              68.347543             10.422762   \n",
       "4                    42.774141              66.927016             10.360302   \n",
       "\n",
       "   final.output.tail_pb  final.output.tail_sol  final.output.tail_au  ...  \\\n",
       "0              0.895447              16.904297              2.143149  ...   \n",
       "1              0.927452              16.634514              2.224930  ...   \n",
       "2              0.953716              16.208849              2.257889  ...   \n",
       "3              0.883763              16.532835              2.146849  ...   \n",
       "4              0.792826              16.525686              2.055292  ...   \n",
       "\n",
       "   secondary_cleaner.state.floatbank4_a_air  \\\n",
       "0                                 14.016835   \n",
       "1                                 13.992281   \n",
       "2                                 14.015015   \n",
       "3                                 14.036510   \n",
       "4                                 14.027298   \n",
       "\n",
       "   secondary_cleaner.state.floatbank4_a_level  \\\n",
       "0                                 -502.488007   \n",
       "1                                 -505.503262   \n",
       "2                                 -502.520901   \n",
       "3                                 -500.857308   \n",
       "4                                 -499.838632   \n",
       "\n",
       "   secondary_cleaner.state.floatbank4_b_air  \\\n",
       "0                                 12.099931   \n",
       "1                                 11.950531   \n",
       "2                                 11.912783   \n",
       "3                                 11.999550   \n",
       "4                                 11.953070   \n",
       "\n",
       "   secondary_cleaner.state.floatbank4_b_level  \\\n",
       "0                                 -504.715942   \n",
       "1                                 -501.331529   \n",
       "2                                 -501.133383   \n",
       "3                                 -501.193686   \n",
       "4                                 -501.053894   \n",
       "\n",
       "   secondary_cleaner.state.floatbank5_a_air  \\\n",
       "0                                  9.925633   \n",
       "1                                 10.039245   \n",
       "2                                 10.070913   \n",
       "3                                  9.970366   \n",
       "4                                  9.925709   \n",
       "\n",
       "   secondary_cleaner.state.floatbank5_a_level  \\\n",
       "0                                 -498.310211   \n",
       "1                                 -500.169983   \n",
       "2                                 -500.129135   \n",
       "3                                 -499.201640   \n",
       "4                                 -501.686727   \n",
       "\n",
       "   secondary_cleaner.state.floatbank5_b_air  \\\n",
       "0                                  8.079666   \n",
       "1                                  7.984757   \n",
       "2                                  8.013877   \n",
       "3                                  7.977324   \n",
       "4                                  7.894242   \n",
       "\n",
       "   secondary_cleaner.state.floatbank5_b_level  \\\n",
       "0                                 -500.470978   \n",
       "1                                 -500.582168   \n",
       "2                                 -500.517572   \n",
       "3                                 -500.255908   \n",
       "4                                 -500.356035   \n",
       "\n",
       "   secondary_cleaner.state.floatbank6_a_air  \\\n",
       "0                                 14.151341   \n",
       "1                                 13.998353   \n",
       "2                                 14.028663   \n",
       "3                                 14.005551   \n",
       "4                                 13.996647   \n",
       "\n",
       "   secondary_cleaner.state.floatbank6_a_level  \n",
       "0                                 -605.841980  \n",
       "1                                 -599.787184  \n",
       "2                                 -601.427363  \n",
       "3                                 -599.996129  \n",
       "4                                 -601.496691  \n",
       "\n",
       "[5 rows x 87 columns]"
      ]
     },
     "execution_count": 7,
     "metadata": {},
     "output_type": "execute_result"
    }
   ],
   "source": [
    "#Use the head() method to print the first five lines of the data_full dataframe.\n",
    "data_full.head()"
   ]
  },
  {
   "cell_type": "markdown",
   "metadata": {},
   "source": [
    "Code Result:\n",
    "It appears that the rows and columns of the data_full dataframe are listed correctly.  No abnormal or unsual entries noted."
   ]
  },
  {
   "cell_type": "markdown",
   "metadata": {},
   "source": [
    "##### 1.4. Perform data preprocessing."
   ]
  },
  {
   "cell_type": "markdown",
   "metadata": {},
   "source": [
    "##### Training Set"
   ]
  },
  {
   "cell_type": "code",
   "execution_count": 8,
   "metadata": {},
   "outputs": [
    {
     "data": {
      "text/plain": [
       "date                                            0\n",
       "final.output.concentrate_ag                    72\n",
       "final.output.concentrate_pb                    72\n",
       "final.output.concentrate_sol                  370\n",
       "final.output.concentrate_au                    71\n",
       "                                             ... \n",
       "secondary_cleaner.state.floatbank5_a_level     85\n",
       "secondary_cleaner.state.floatbank5_b_air       85\n",
       "secondary_cleaner.state.floatbank5_b_level     84\n",
       "secondary_cleaner.state.floatbank6_a_air      103\n",
       "secondary_cleaner.state.floatbank6_a_level     85\n",
       "Length: 87, dtype: int64"
      ]
     },
     "execution_count": 8,
     "metadata": {},
     "output_type": "execute_result"
    }
   ],
   "source": [
    "#Use the isna() and sum() methods in order to count the number of missing values in the columns of the data_train dataframe.\n",
    "data_train.isna().sum()"
   ]
  },
  {
   "cell_type": "markdown",
   "metadata": {},
   "source": [
    "Code Result:\n",
    "It appears that there is a small amount of missing values noted in the columns of the data_train dataframe."
   ]
  },
  {
   "cell_type": "code",
   "execution_count": 9,
   "metadata": {},
   "outputs": [],
   "source": [
    "#Use the bfill() method in order to backfill each missing value in the dataframe with data from the previous row.\n",
    "data_train.ffill(inplace=True)"
   ]
  },
  {
   "cell_type": "code",
   "execution_count": 10,
   "metadata": {},
   "outputs": [
    {
     "data": {
      "text/plain": [
       "date                                          0\n",
       "final.output.concentrate_ag                   0\n",
       "final.output.concentrate_pb                   0\n",
       "final.output.concentrate_sol                  0\n",
       "final.output.concentrate_au                   0\n",
       "                                             ..\n",
       "secondary_cleaner.state.floatbank5_a_level    0\n",
       "secondary_cleaner.state.floatbank5_b_air      0\n",
       "secondary_cleaner.state.floatbank5_b_level    0\n",
       "secondary_cleaner.state.floatbank6_a_air      0\n",
       "secondary_cleaner.state.floatbank6_a_level    0\n",
       "Length: 87, dtype: int64"
      ]
     },
     "execution_count": 10,
     "metadata": {},
     "output_type": "execute_result"
    }
   ],
   "source": [
    "#Double check for missing values once again in the data_train dataframe.\n",
    "data_train.isna().sum()"
   ]
  },
  {
   "cell_type": "markdown",
   "metadata": {},
   "source": [
    "Code Result:\n",
    "It appears that the data_train dataframe no longer contains missing values.  The missing values were filled successfully."
   ]
  },
  {
   "cell_type": "markdown",
   "metadata": {},
   "source": [
    "##### Test Set"
   ]
  },
  {
   "cell_type": "code",
   "execution_count": 11,
   "metadata": {},
   "outputs": [
    {
     "data": {
      "text/plain": [
       "date                                            0\n",
       "primary_cleaner.input.sulfate                 302\n",
       "primary_cleaner.input.depressant              284\n",
       "primary_cleaner.input.feed_size                 0\n",
       "primary_cleaner.input.xanthate                166\n",
       "primary_cleaner.state.floatbank8_a_air         16\n",
       "primary_cleaner.state.floatbank8_a_level       16\n",
       "primary_cleaner.state.floatbank8_b_air         16\n",
       "primary_cleaner.state.floatbank8_b_level       16\n",
       "primary_cleaner.state.floatbank8_c_air         16\n",
       "primary_cleaner.state.floatbank8_c_level       16\n",
       "primary_cleaner.state.floatbank8_d_air         16\n",
       "primary_cleaner.state.floatbank8_d_level       16\n",
       "rougher.input.feed_ag                          16\n",
       "rougher.input.feed_pb                          16\n",
       "rougher.input.feed_rate                        40\n",
       "rougher.input.feed_size                        22\n",
       "rougher.input.feed_sol                         67\n",
       "rougher.input.feed_au                          16\n",
       "rougher.input.floatbank10_sulfate             257\n",
       "rougher.input.floatbank10_xanthate            123\n",
       "rougher.input.floatbank11_sulfate              55\n",
       "rougher.input.floatbank11_xanthate            353\n",
       "rougher.state.floatbank10_a_air                17\n",
       "rougher.state.floatbank10_a_level              16\n",
       "rougher.state.floatbank10_b_air                17\n",
       "rougher.state.floatbank10_b_level              16\n",
       "rougher.state.floatbank10_c_air                17\n",
       "rougher.state.floatbank10_c_level              16\n",
       "rougher.state.floatbank10_d_air                17\n",
       "rougher.state.floatbank10_d_level              16\n",
       "rougher.state.floatbank10_e_air                17\n",
       "rougher.state.floatbank10_e_level              16\n",
       "rougher.state.floatbank10_f_air                17\n",
       "rougher.state.floatbank10_f_level              16\n",
       "secondary_cleaner.state.floatbank2_a_air       20\n",
       "secondary_cleaner.state.floatbank2_a_level     16\n",
       "secondary_cleaner.state.floatbank2_b_air       23\n",
       "secondary_cleaner.state.floatbank2_b_level     16\n",
       "secondary_cleaner.state.floatbank3_a_air       34\n",
       "secondary_cleaner.state.floatbank3_a_level     16\n",
       "secondary_cleaner.state.floatbank3_b_air       16\n",
       "secondary_cleaner.state.floatbank3_b_level     16\n",
       "secondary_cleaner.state.floatbank4_a_air       16\n",
       "secondary_cleaner.state.floatbank4_a_level     16\n",
       "secondary_cleaner.state.floatbank4_b_air       16\n",
       "secondary_cleaner.state.floatbank4_b_level     16\n",
       "secondary_cleaner.state.floatbank5_a_air       16\n",
       "secondary_cleaner.state.floatbank5_a_level     16\n",
       "secondary_cleaner.state.floatbank5_b_air       16\n",
       "secondary_cleaner.state.floatbank5_b_level     16\n",
       "secondary_cleaner.state.floatbank6_a_air       16\n",
       "secondary_cleaner.state.floatbank6_a_level     16\n",
       "dtype: int64"
      ]
     },
     "execution_count": 11,
     "metadata": {},
     "output_type": "execute_result"
    }
   ],
   "source": [
    "#Use the isna() and sum() methods in order to count the number of missing values in the columns of the data_test dataframe.\n",
    "data_test.isna().sum()"
   ]
  },
  {
   "cell_type": "markdown",
   "metadata": {},
   "source": [
    "Code Result:\n",
    "It appears that there is a small amount of missing values noted in the columns of the data_test dataframe."
   ]
  },
  {
   "cell_type": "code",
   "execution_count": 12,
   "metadata": {},
   "outputs": [],
   "source": [
    "#Use the bfill() method in order to backfill each missing value in the dataframe with data from the previous row.\n",
    "data_test.ffill(inplace=True)"
   ]
  },
  {
   "cell_type": "code",
   "execution_count": 13,
   "metadata": {},
   "outputs": [
    {
     "data": {
      "text/plain": [
       "date                                          0\n",
       "primary_cleaner.input.sulfate                 0\n",
       "primary_cleaner.input.depressant              0\n",
       "primary_cleaner.input.feed_size               0\n",
       "primary_cleaner.input.xanthate                0\n",
       "primary_cleaner.state.floatbank8_a_air        0\n",
       "primary_cleaner.state.floatbank8_a_level      0\n",
       "primary_cleaner.state.floatbank8_b_air        0\n",
       "primary_cleaner.state.floatbank8_b_level      0\n",
       "primary_cleaner.state.floatbank8_c_air        0\n",
       "primary_cleaner.state.floatbank8_c_level      0\n",
       "primary_cleaner.state.floatbank8_d_air        0\n",
       "primary_cleaner.state.floatbank8_d_level      0\n",
       "rougher.input.feed_ag                         0\n",
       "rougher.input.feed_pb                         0\n",
       "rougher.input.feed_rate                       0\n",
       "rougher.input.feed_size                       0\n",
       "rougher.input.feed_sol                        0\n",
       "rougher.input.feed_au                         0\n",
       "rougher.input.floatbank10_sulfate             0\n",
       "rougher.input.floatbank10_xanthate            0\n",
       "rougher.input.floatbank11_sulfate             0\n",
       "rougher.input.floatbank11_xanthate            0\n",
       "rougher.state.floatbank10_a_air               0\n",
       "rougher.state.floatbank10_a_level             0\n",
       "rougher.state.floatbank10_b_air               0\n",
       "rougher.state.floatbank10_b_level             0\n",
       "rougher.state.floatbank10_c_air               0\n",
       "rougher.state.floatbank10_c_level             0\n",
       "rougher.state.floatbank10_d_air               0\n",
       "rougher.state.floatbank10_d_level             0\n",
       "rougher.state.floatbank10_e_air               0\n",
       "rougher.state.floatbank10_e_level             0\n",
       "rougher.state.floatbank10_f_air               0\n",
       "rougher.state.floatbank10_f_level             0\n",
       "secondary_cleaner.state.floatbank2_a_air      0\n",
       "secondary_cleaner.state.floatbank2_a_level    0\n",
       "secondary_cleaner.state.floatbank2_b_air      0\n",
       "secondary_cleaner.state.floatbank2_b_level    0\n",
       "secondary_cleaner.state.floatbank3_a_air      0\n",
       "secondary_cleaner.state.floatbank3_a_level    0\n",
       "secondary_cleaner.state.floatbank3_b_air      0\n",
       "secondary_cleaner.state.floatbank3_b_level    0\n",
       "secondary_cleaner.state.floatbank4_a_air      0\n",
       "secondary_cleaner.state.floatbank4_a_level    0\n",
       "secondary_cleaner.state.floatbank4_b_air      0\n",
       "secondary_cleaner.state.floatbank4_b_level    0\n",
       "secondary_cleaner.state.floatbank5_a_air      0\n",
       "secondary_cleaner.state.floatbank5_a_level    0\n",
       "secondary_cleaner.state.floatbank5_b_air      0\n",
       "secondary_cleaner.state.floatbank5_b_level    0\n",
       "secondary_cleaner.state.floatbank6_a_air      0\n",
       "secondary_cleaner.state.floatbank6_a_level    0\n",
       "dtype: int64"
      ]
     },
     "execution_count": 13,
     "metadata": {},
     "output_type": "execute_result"
    }
   ],
   "source": [
    "#Double check for missing values once again in the data_test dataframe.\n",
    "data_test.isna().sum()"
   ]
  },
  {
   "cell_type": "markdown",
   "metadata": {},
   "source": [
    "Code Result:\n",
    "It appears that the data_test dataframe no longer contains missing values.  The missing values were filled successfully."
   ]
  },
  {
   "cell_type": "markdown",
   "metadata": {},
   "source": [
    "##### Full Set"
   ]
  },
  {
   "cell_type": "code",
   "execution_count": 14,
   "metadata": {},
   "outputs": [
    {
     "data": {
      "text/plain": [
       "date                                            0\n",
       "final.output.concentrate_ag                    89\n",
       "final.output.concentrate_pb                    87\n",
       "final.output.concentrate_sol                  385\n",
       "final.output.concentrate_au                    86\n",
       "                                             ... \n",
       "secondary_cleaner.state.floatbank5_a_level    101\n",
       "secondary_cleaner.state.floatbank5_b_air      101\n",
       "secondary_cleaner.state.floatbank5_b_level    100\n",
       "secondary_cleaner.state.floatbank6_a_air      119\n",
       "secondary_cleaner.state.floatbank6_a_level    101\n",
       "Length: 87, dtype: int64"
      ]
     },
     "execution_count": 14,
     "metadata": {},
     "output_type": "execute_result"
    }
   ],
   "source": [
    "#Use the isna() and sum() methods in order to count the number of missing values in the columns of the data_full dataframe.\n",
    "data_full.isna().sum()"
   ]
  },
  {
   "cell_type": "markdown",
   "metadata": {},
   "source": [
    "Code Result:\n",
    "It appears that there is a small amount of missing values noted in the columns of the data_full dataframe."
   ]
  },
  {
   "cell_type": "code",
   "execution_count": 15,
   "metadata": {},
   "outputs": [],
   "source": [
    "#Use the bfill() method in order to backfill each missing value in the dataframe with data from the previous row.\n",
    "data_full.ffill(inplace=True)"
   ]
  },
  {
   "cell_type": "code",
   "execution_count": 16,
   "metadata": {},
   "outputs": [
    {
     "data": {
      "text/plain": [
       "date                                          0\n",
       "final.output.concentrate_ag                   0\n",
       "final.output.concentrate_pb                   0\n",
       "final.output.concentrate_sol                  0\n",
       "final.output.concentrate_au                   0\n",
       "                                             ..\n",
       "secondary_cleaner.state.floatbank5_a_level    0\n",
       "secondary_cleaner.state.floatbank5_b_air      0\n",
       "secondary_cleaner.state.floatbank5_b_level    0\n",
       "secondary_cleaner.state.floatbank6_a_air      0\n",
       "secondary_cleaner.state.floatbank6_a_level    0\n",
       "Length: 87, dtype: int64"
      ]
     },
     "execution_count": 16,
     "metadata": {},
     "output_type": "execute_result"
    }
   ],
   "source": [
    "#Double check for missing values once again in the data_full dataframe.\n",
    "data_full.isna().sum()"
   ]
  },
  {
   "cell_type": "markdown",
   "metadata": {},
   "source": [
    "Code Result:\n",
    "It appears that the data_full dataframe no longer contains missing values.  The missing values were filled successfully."
   ]
  },
  {
   "cell_type": "markdown",
   "metadata": {},
   "source": [
    "##### Duplicate Values"
   ]
  },
  {
   "cell_type": "code",
   "execution_count": 17,
   "metadata": {},
   "outputs": [
    {
     "data": {
      "text/plain": [
       "0"
      ]
     },
     "execution_count": 17,
     "metadata": {},
     "output_type": "execute_result"
    }
   ],
   "source": [
    "#Use the duplicated() and sum() methods to check for duplicate values in the data_train dataframe.\n",
    "data_train.duplicated().sum()"
   ]
  },
  {
   "cell_type": "markdown",
   "metadata": {},
   "source": [
    "Code Result:\n",
    "There are no duplicate values noted in the data_train dataframe."
   ]
  },
  {
   "cell_type": "code",
   "execution_count": 18,
   "metadata": {},
   "outputs": [
    {
     "data": {
      "text/plain": [
       "0"
      ]
     },
     "execution_count": 18,
     "metadata": {},
     "output_type": "execute_result"
    }
   ],
   "source": [
    "#Use the duplicated() and sum() methods to check for duplicate values in the data_test dataframe.\n",
    "data_test.duplicated().sum()"
   ]
  },
  {
   "cell_type": "markdown",
   "metadata": {},
   "source": [
    "Code Result:\n",
    "There are no duplicate values noted in the data_test dataframe."
   ]
  },
  {
   "cell_type": "code",
   "execution_count": 19,
   "metadata": {},
   "outputs": [
    {
     "data": {
      "text/plain": [
       "0"
      ]
     },
     "execution_count": 19,
     "metadata": {},
     "output_type": "execute_result"
    }
   ],
   "source": [
    "#Use the duplicated() and sum() methods to check for duplicate values in the data_full dataframe.\n",
    "data_full.duplicated().sum()"
   ]
  },
  {
   "cell_type": "markdown",
   "metadata": {},
   "source": [
    "Code Result:\n",
    "There are no duplicate values noted in the data_full dataframe."
   ]
  },
  {
   "cell_type": "markdown",
   "metadata": {},
   "source": [
    "##### Data Types"
   ]
  },
  {
   "cell_type": "markdown",
   "metadata": {},
   "source": [
    "##### Training Set Data Types"
   ]
  },
  {
   "cell_type": "code",
   "execution_count": 20,
   "metadata": {},
   "outputs": [
    {
     "name": "stdout",
     "output_type": "stream",
     "text": [
      "<class 'pandas.core.frame.DataFrame'>\n",
      "RangeIndex: 16860 entries, 0 to 16859\n",
      "Data columns (total 87 columns):\n",
      " #   Column                                              Non-Null Count  Dtype  \n",
      "---  ------                                              --------------  -----  \n",
      " 0   date                                                16860 non-null  object \n",
      " 1   final.output.concentrate_ag                         16860 non-null  float64\n",
      " 2   final.output.concentrate_pb                         16860 non-null  float64\n",
      " 3   final.output.concentrate_sol                        16860 non-null  float64\n",
      " 4   final.output.concentrate_au                         16860 non-null  float64\n",
      " 5   final.output.recovery                               16860 non-null  float64\n",
      " 6   final.output.tail_ag                                16860 non-null  float64\n",
      " 7   final.output.tail_pb                                16860 non-null  float64\n",
      " 8   final.output.tail_sol                               16860 non-null  float64\n",
      " 9   final.output.tail_au                                16860 non-null  float64\n",
      " 10  primary_cleaner.input.sulfate                       16860 non-null  float64\n",
      " 11  primary_cleaner.input.depressant                    16860 non-null  float64\n",
      " 12  primary_cleaner.input.feed_size                     16860 non-null  float64\n",
      " 13  primary_cleaner.input.xanthate                      16860 non-null  float64\n",
      " 14  primary_cleaner.output.concentrate_ag               16860 non-null  float64\n",
      " 15  primary_cleaner.output.concentrate_pb               16860 non-null  float64\n",
      " 16  primary_cleaner.output.concentrate_sol              16860 non-null  float64\n",
      " 17  primary_cleaner.output.concentrate_au               16860 non-null  float64\n",
      " 18  primary_cleaner.output.tail_ag                      16860 non-null  float64\n",
      " 19  primary_cleaner.output.tail_pb                      16860 non-null  float64\n",
      " 20  primary_cleaner.output.tail_sol                     16860 non-null  float64\n",
      " 21  primary_cleaner.output.tail_au                      16860 non-null  float64\n",
      " 22  primary_cleaner.state.floatbank8_a_air              16860 non-null  float64\n",
      " 23  primary_cleaner.state.floatbank8_a_level            16860 non-null  float64\n",
      " 24  primary_cleaner.state.floatbank8_b_air              16860 non-null  float64\n",
      " 25  primary_cleaner.state.floatbank8_b_level            16860 non-null  float64\n",
      " 26  primary_cleaner.state.floatbank8_c_air              16860 non-null  float64\n",
      " 27  primary_cleaner.state.floatbank8_c_level            16860 non-null  float64\n",
      " 28  primary_cleaner.state.floatbank8_d_air              16860 non-null  float64\n",
      " 29  primary_cleaner.state.floatbank8_d_level            16860 non-null  float64\n",
      " 30  rougher.calculation.sulfate_to_au_concentrate       16860 non-null  float64\n",
      " 31  rougher.calculation.floatbank10_sulfate_to_au_feed  16860 non-null  float64\n",
      " 32  rougher.calculation.floatbank11_sulfate_to_au_feed  16860 non-null  float64\n",
      " 33  rougher.calculation.au_pb_ratio                     16860 non-null  float64\n",
      " 34  rougher.input.feed_ag                               16860 non-null  float64\n",
      " 35  rougher.input.feed_pb                               16860 non-null  float64\n",
      " 36  rougher.input.feed_rate                             16860 non-null  float64\n",
      " 37  rougher.input.feed_size                             16860 non-null  float64\n",
      " 38  rougher.input.feed_sol                              16860 non-null  float64\n",
      " 39  rougher.input.feed_au                               16860 non-null  float64\n",
      " 40  rougher.input.floatbank10_sulfate                   16860 non-null  float64\n",
      " 41  rougher.input.floatbank10_xanthate                  16860 non-null  float64\n",
      " 42  rougher.input.floatbank11_sulfate                   16860 non-null  float64\n",
      " 43  rougher.input.floatbank11_xanthate                  16860 non-null  float64\n",
      " 44  rougher.output.concentrate_ag                       16860 non-null  float64\n",
      " 45  rougher.output.concentrate_pb                       16860 non-null  float64\n",
      " 46  rougher.output.concentrate_sol                      16860 non-null  float64\n",
      " 47  rougher.output.concentrate_au                       16860 non-null  float64\n",
      " 48  rougher.output.recovery                             16860 non-null  float64\n",
      " 49  rougher.output.tail_ag                              16860 non-null  float64\n",
      " 50  rougher.output.tail_pb                              16860 non-null  float64\n",
      " 51  rougher.output.tail_sol                             16860 non-null  float64\n",
      " 52  rougher.output.tail_au                              16860 non-null  float64\n",
      " 53  rougher.state.floatbank10_a_air                     16860 non-null  float64\n",
      " 54  rougher.state.floatbank10_a_level                   16860 non-null  float64\n",
      " 55  rougher.state.floatbank10_b_air                     16860 non-null  float64\n",
      " 56  rougher.state.floatbank10_b_level                   16860 non-null  float64\n",
      " 57  rougher.state.floatbank10_c_air                     16860 non-null  float64\n",
      " 58  rougher.state.floatbank10_c_level                   16860 non-null  float64\n",
      " 59  rougher.state.floatbank10_d_air                     16860 non-null  float64\n",
      " 60  rougher.state.floatbank10_d_level                   16860 non-null  float64\n",
      " 61  rougher.state.floatbank10_e_air                     16860 non-null  float64\n",
      " 62  rougher.state.floatbank10_e_level                   16860 non-null  float64\n",
      " 63  rougher.state.floatbank10_f_air                     16860 non-null  float64\n",
      " 64  rougher.state.floatbank10_f_level                   16860 non-null  float64\n",
      " 65  secondary_cleaner.output.tail_ag                    16860 non-null  float64\n",
      " 66  secondary_cleaner.output.tail_pb                    16860 non-null  float64\n",
      " 67  secondary_cleaner.output.tail_sol                   16860 non-null  float64\n",
      " 68  secondary_cleaner.output.tail_au                    16860 non-null  float64\n",
      " 69  secondary_cleaner.state.floatbank2_a_air            16860 non-null  float64\n",
      " 70  secondary_cleaner.state.floatbank2_a_level          16860 non-null  float64\n",
      " 71  secondary_cleaner.state.floatbank2_b_air            16860 non-null  float64\n",
      " 72  secondary_cleaner.state.floatbank2_b_level          16860 non-null  float64\n",
      " 73  secondary_cleaner.state.floatbank3_a_air            16860 non-null  float64\n",
      " 74  secondary_cleaner.state.floatbank3_a_level          16860 non-null  float64\n",
      " 75  secondary_cleaner.state.floatbank3_b_air            16860 non-null  float64\n",
      " 76  secondary_cleaner.state.floatbank3_b_level          16860 non-null  float64\n",
      " 77  secondary_cleaner.state.floatbank4_a_air            16860 non-null  float64\n",
      " 78  secondary_cleaner.state.floatbank4_a_level          16860 non-null  float64\n",
      " 79  secondary_cleaner.state.floatbank4_b_air            16860 non-null  float64\n",
      " 80  secondary_cleaner.state.floatbank4_b_level          16860 non-null  float64\n",
      " 81  secondary_cleaner.state.floatbank5_a_air            16860 non-null  float64\n",
      " 82  secondary_cleaner.state.floatbank5_a_level          16860 non-null  float64\n",
      " 83  secondary_cleaner.state.floatbank5_b_air            16860 non-null  float64\n",
      " 84  secondary_cleaner.state.floatbank5_b_level          16860 non-null  float64\n",
      " 85  secondary_cleaner.state.floatbank6_a_air            16860 non-null  float64\n",
      " 86  secondary_cleaner.state.floatbank6_a_level          16860 non-null  float64\n",
      "dtypes: float64(86), object(1)\n",
      "memory usage: 11.2+ MB\n"
     ]
    }
   ],
   "source": [
    "#Use the info() method in order to check the data types in the columns of the data_train dataframe.\n",
    "data_train.info()"
   ]
  },
  {
   "cell_type": "markdown",
   "metadata": {},
   "source": [
    "Code Result:\n",
    "The date column of the dataframe is listed as the object data type and needs to be converted to the datetime64[ns] data type.\n",
    "All the other columns in the dataframe appear to have the appropriate data type."
   ]
  },
  {
   "cell_type": "code",
   "execution_count": 21,
   "metadata": {},
   "outputs": [],
   "source": [
    "#Use the pd.to_datetime() method in order to convert the date column to the datetime64[ns] data type.\n",
    "data_train['date'] = pd.to_datetime(data_train['date'], format='%Y-%m-%d %H:%M:%S')"
   ]
  },
  {
   "cell_type": "code",
   "execution_count": 22,
   "metadata": {},
   "outputs": [
    {
     "name": "stdout",
     "output_type": "stream",
     "text": [
      "<class 'pandas.core.frame.DataFrame'>\n",
      "RangeIndex: 16860 entries, 0 to 16859\n",
      "Data columns (total 87 columns):\n",
      " #   Column                                              Non-Null Count  Dtype         \n",
      "---  ------                                              --------------  -----         \n",
      " 0   date                                                16860 non-null  datetime64[ns]\n",
      " 1   final.output.concentrate_ag                         16860 non-null  float64       \n",
      " 2   final.output.concentrate_pb                         16860 non-null  float64       \n",
      " 3   final.output.concentrate_sol                        16860 non-null  float64       \n",
      " 4   final.output.concentrate_au                         16860 non-null  float64       \n",
      " 5   final.output.recovery                               16860 non-null  float64       \n",
      " 6   final.output.tail_ag                                16860 non-null  float64       \n",
      " 7   final.output.tail_pb                                16860 non-null  float64       \n",
      " 8   final.output.tail_sol                               16860 non-null  float64       \n",
      " 9   final.output.tail_au                                16860 non-null  float64       \n",
      " 10  primary_cleaner.input.sulfate                       16860 non-null  float64       \n",
      " 11  primary_cleaner.input.depressant                    16860 non-null  float64       \n",
      " 12  primary_cleaner.input.feed_size                     16860 non-null  float64       \n",
      " 13  primary_cleaner.input.xanthate                      16860 non-null  float64       \n",
      " 14  primary_cleaner.output.concentrate_ag               16860 non-null  float64       \n",
      " 15  primary_cleaner.output.concentrate_pb               16860 non-null  float64       \n",
      " 16  primary_cleaner.output.concentrate_sol              16860 non-null  float64       \n",
      " 17  primary_cleaner.output.concentrate_au               16860 non-null  float64       \n",
      " 18  primary_cleaner.output.tail_ag                      16860 non-null  float64       \n",
      " 19  primary_cleaner.output.tail_pb                      16860 non-null  float64       \n",
      " 20  primary_cleaner.output.tail_sol                     16860 non-null  float64       \n",
      " 21  primary_cleaner.output.tail_au                      16860 non-null  float64       \n",
      " 22  primary_cleaner.state.floatbank8_a_air              16860 non-null  float64       \n",
      " 23  primary_cleaner.state.floatbank8_a_level            16860 non-null  float64       \n",
      " 24  primary_cleaner.state.floatbank8_b_air              16860 non-null  float64       \n",
      " 25  primary_cleaner.state.floatbank8_b_level            16860 non-null  float64       \n",
      " 26  primary_cleaner.state.floatbank8_c_air              16860 non-null  float64       \n",
      " 27  primary_cleaner.state.floatbank8_c_level            16860 non-null  float64       \n",
      " 28  primary_cleaner.state.floatbank8_d_air              16860 non-null  float64       \n",
      " 29  primary_cleaner.state.floatbank8_d_level            16860 non-null  float64       \n",
      " 30  rougher.calculation.sulfate_to_au_concentrate       16860 non-null  float64       \n",
      " 31  rougher.calculation.floatbank10_sulfate_to_au_feed  16860 non-null  float64       \n",
      " 32  rougher.calculation.floatbank11_sulfate_to_au_feed  16860 non-null  float64       \n",
      " 33  rougher.calculation.au_pb_ratio                     16860 non-null  float64       \n",
      " 34  rougher.input.feed_ag                               16860 non-null  float64       \n",
      " 35  rougher.input.feed_pb                               16860 non-null  float64       \n",
      " 36  rougher.input.feed_rate                             16860 non-null  float64       \n",
      " 37  rougher.input.feed_size                             16860 non-null  float64       \n",
      " 38  rougher.input.feed_sol                              16860 non-null  float64       \n",
      " 39  rougher.input.feed_au                               16860 non-null  float64       \n",
      " 40  rougher.input.floatbank10_sulfate                   16860 non-null  float64       \n",
      " 41  rougher.input.floatbank10_xanthate                  16860 non-null  float64       \n",
      " 42  rougher.input.floatbank11_sulfate                   16860 non-null  float64       \n",
      " 43  rougher.input.floatbank11_xanthate                  16860 non-null  float64       \n",
      " 44  rougher.output.concentrate_ag                       16860 non-null  float64       \n",
      " 45  rougher.output.concentrate_pb                       16860 non-null  float64       \n",
      " 46  rougher.output.concentrate_sol                      16860 non-null  float64       \n",
      " 47  rougher.output.concentrate_au                       16860 non-null  float64       \n",
      " 48  rougher.output.recovery                             16860 non-null  float64       \n",
      " 49  rougher.output.tail_ag                              16860 non-null  float64       \n",
      " 50  rougher.output.tail_pb                              16860 non-null  float64       \n",
      " 51  rougher.output.tail_sol                             16860 non-null  float64       \n",
      " 52  rougher.output.tail_au                              16860 non-null  float64       \n",
      " 53  rougher.state.floatbank10_a_air                     16860 non-null  float64       \n",
      " 54  rougher.state.floatbank10_a_level                   16860 non-null  float64       \n",
      " 55  rougher.state.floatbank10_b_air                     16860 non-null  float64       \n",
      " 56  rougher.state.floatbank10_b_level                   16860 non-null  float64       \n",
      " 57  rougher.state.floatbank10_c_air                     16860 non-null  float64       \n",
      " 58  rougher.state.floatbank10_c_level                   16860 non-null  float64       \n",
      " 59  rougher.state.floatbank10_d_air                     16860 non-null  float64       \n",
      " 60  rougher.state.floatbank10_d_level                   16860 non-null  float64       \n",
      " 61  rougher.state.floatbank10_e_air                     16860 non-null  float64       \n",
      " 62  rougher.state.floatbank10_e_level                   16860 non-null  float64       \n",
      " 63  rougher.state.floatbank10_f_air                     16860 non-null  float64       \n",
      " 64  rougher.state.floatbank10_f_level                   16860 non-null  float64       \n",
      " 65  secondary_cleaner.output.tail_ag                    16860 non-null  float64       \n",
      " 66  secondary_cleaner.output.tail_pb                    16860 non-null  float64       \n",
      " 67  secondary_cleaner.output.tail_sol                   16860 non-null  float64       \n",
      " 68  secondary_cleaner.output.tail_au                    16860 non-null  float64       \n",
      " 69  secondary_cleaner.state.floatbank2_a_air            16860 non-null  float64       \n",
      " 70  secondary_cleaner.state.floatbank2_a_level          16860 non-null  float64       \n",
      " 71  secondary_cleaner.state.floatbank2_b_air            16860 non-null  float64       \n",
      " 72  secondary_cleaner.state.floatbank2_b_level          16860 non-null  float64       \n",
      " 73  secondary_cleaner.state.floatbank3_a_air            16860 non-null  float64       \n",
      " 74  secondary_cleaner.state.floatbank3_a_level          16860 non-null  float64       \n",
      " 75  secondary_cleaner.state.floatbank3_b_air            16860 non-null  float64       \n",
      " 76  secondary_cleaner.state.floatbank3_b_level          16860 non-null  float64       \n",
      " 77  secondary_cleaner.state.floatbank4_a_air            16860 non-null  float64       \n",
      " 78  secondary_cleaner.state.floatbank4_a_level          16860 non-null  float64       \n",
      " 79  secondary_cleaner.state.floatbank4_b_air            16860 non-null  float64       \n",
      " 80  secondary_cleaner.state.floatbank4_b_level          16860 non-null  float64       \n",
      " 81  secondary_cleaner.state.floatbank5_a_air            16860 non-null  float64       \n",
      " 82  secondary_cleaner.state.floatbank5_a_level          16860 non-null  float64       \n",
      " 83  secondary_cleaner.state.floatbank5_b_air            16860 non-null  float64       \n",
      " 84  secondary_cleaner.state.floatbank5_b_level          16860 non-null  float64       \n",
      " 85  secondary_cleaner.state.floatbank6_a_air            16860 non-null  float64       \n",
      " 86  secondary_cleaner.state.floatbank6_a_level          16860 non-null  float64       \n",
      "dtypes: datetime64[ns](1), float64(86)\n",
      "memory usage: 11.2 MB\n"
     ]
    }
   ],
   "source": [
    "#Use the info() method once again to double check the datatypes of the columns in the data_train dataframe.\n",
    "data_train.info()"
   ]
  },
  {
   "cell_type": "markdown",
   "metadata": {},
   "source": [
    "Code Result:\n",
    "It appears that date column of the data_train column was converted to datetime64[ns] sucessfully."
   ]
  },
  {
   "cell_type": "markdown",
   "metadata": {},
   "source": [
    "##### Test Set"
   ]
  },
  {
   "cell_type": "code",
   "execution_count": 23,
   "metadata": {},
   "outputs": [
    {
     "name": "stdout",
     "output_type": "stream",
     "text": [
      "<class 'pandas.core.frame.DataFrame'>\n",
      "RangeIndex: 5856 entries, 0 to 5855\n",
      "Data columns (total 53 columns):\n",
      " #   Column                                      Non-Null Count  Dtype  \n",
      "---  ------                                      --------------  -----  \n",
      " 0   date                                        5856 non-null   object \n",
      " 1   primary_cleaner.input.sulfate               5856 non-null   float64\n",
      " 2   primary_cleaner.input.depressant            5856 non-null   float64\n",
      " 3   primary_cleaner.input.feed_size             5856 non-null   float64\n",
      " 4   primary_cleaner.input.xanthate              5856 non-null   float64\n",
      " 5   primary_cleaner.state.floatbank8_a_air      5856 non-null   float64\n",
      " 6   primary_cleaner.state.floatbank8_a_level    5856 non-null   float64\n",
      " 7   primary_cleaner.state.floatbank8_b_air      5856 non-null   float64\n",
      " 8   primary_cleaner.state.floatbank8_b_level    5856 non-null   float64\n",
      " 9   primary_cleaner.state.floatbank8_c_air      5856 non-null   float64\n",
      " 10  primary_cleaner.state.floatbank8_c_level    5856 non-null   float64\n",
      " 11  primary_cleaner.state.floatbank8_d_air      5856 non-null   float64\n",
      " 12  primary_cleaner.state.floatbank8_d_level    5856 non-null   float64\n",
      " 13  rougher.input.feed_ag                       5856 non-null   float64\n",
      " 14  rougher.input.feed_pb                       5856 non-null   float64\n",
      " 15  rougher.input.feed_rate                     5856 non-null   float64\n",
      " 16  rougher.input.feed_size                     5856 non-null   float64\n",
      " 17  rougher.input.feed_sol                      5856 non-null   float64\n",
      " 18  rougher.input.feed_au                       5856 non-null   float64\n",
      " 19  rougher.input.floatbank10_sulfate           5856 non-null   float64\n",
      " 20  rougher.input.floatbank10_xanthate          5856 non-null   float64\n",
      " 21  rougher.input.floatbank11_sulfate           5856 non-null   float64\n",
      " 22  rougher.input.floatbank11_xanthate          5856 non-null   float64\n",
      " 23  rougher.state.floatbank10_a_air             5856 non-null   float64\n",
      " 24  rougher.state.floatbank10_a_level           5856 non-null   float64\n",
      " 25  rougher.state.floatbank10_b_air             5856 non-null   float64\n",
      " 26  rougher.state.floatbank10_b_level           5856 non-null   float64\n",
      " 27  rougher.state.floatbank10_c_air             5856 non-null   float64\n",
      " 28  rougher.state.floatbank10_c_level           5856 non-null   float64\n",
      " 29  rougher.state.floatbank10_d_air             5856 non-null   float64\n",
      " 30  rougher.state.floatbank10_d_level           5856 non-null   float64\n",
      " 31  rougher.state.floatbank10_e_air             5856 non-null   float64\n",
      " 32  rougher.state.floatbank10_e_level           5856 non-null   float64\n",
      " 33  rougher.state.floatbank10_f_air             5856 non-null   float64\n",
      " 34  rougher.state.floatbank10_f_level           5856 non-null   float64\n",
      " 35  secondary_cleaner.state.floatbank2_a_air    5856 non-null   float64\n",
      " 36  secondary_cleaner.state.floatbank2_a_level  5856 non-null   float64\n",
      " 37  secondary_cleaner.state.floatbank2_b_air    5856 non-null   float64\n",
      " 38  secondary_cleaner.state.floatbank2_b_level  5856 non-null   float64\n",
      " 39  secondary_cleaner.state.floatbank3_a_air    5856 non-null   float64\n",
      " 40  secondary_cleaner.state.floatbank3_a_level  5856 non-null   float64\n",
      " 41  secondary_cleaner.state.floatbank3_b_air    5856 non-null   float64\n",
      " 42  secondary_cleaner.state.floatbank3_b_level  5856 non-null   float64\n",
      " 43  secondary_cleaner.state.floatbank4_a_air    5856 non-null   float64\n",
      " 44  secondary_cleaner.state.floatbank4_a_level  5856 non-null   float64\n",
      " 45  secondary_cleaner.state.floatbank4_b_air    5856 non-null   float64\n",
      " 46  secondary_cleaner.state.floatbank4_b_level  5856 non-null   float64\n",
      " 47  secondary_cleaner.state.floatbank5_a_air    5856 non-null   float64\n",
      " 48  secondary_cleaner.state.floatbank5_a_level  5856 non-null   float64\n",
      " 49  secondary_cleaner.state.floatbank5_b_air    5856 non-null   float64\n",
      " 50  secondary_cleaner.state.floatbank5_b_level  5856 non-null   float64\n",
      " 51  secondary_cleaner.state.floatbank6_a_air    5856 non-null   float64\n",
      " 52  secondary_cleaner.state.floatbank6_a_level  5856 non-null   float64\n",
      "dtypes: float64(52), object(1)\n",
      "memory usage: 2.4+ MB\n"
     ]
    }
   ],
   "source": [
    "#Use the info() method in order to check the data types in the columns of the data_test dataframe.\n",
    "data_test.info()"
   ]
  },
  {
   "cell_type": "markdown",
   "metadata": {},
   "source": [
    "Code Result:\n",
    "The date column of the dataframe is listed as the object data type and needs to be converted to the datetime64[ns] data type.\n",
    "All the other columns in the dataframe appear to have the appropriate data type."
   ]
  },
  {
   "cell_type": "code",
   "execution_count": 24,
   "metadata": {},
   "outputs": [],
   "source": [
    "#Use the pd.to_datetime() method in order to convert the date column to the datetime64[ns] data type.\n",
    "data_test['date'] = pd.to_datetime(data_test['date'], format='%Y-%m-%d %H:%M:%S')"
   ]
  },
  {
   "cell_type": "code",
   "execution_count": 25,
   "metadata": {},
   "outputs": [
    {
     "name": "stdout",
     "output_type": "stream",
     "text": [
      "<class 'pandas.core.frame.DataFrame'>\n",
      "RangeIndex: 5856 entries, 0 to 5855\n",
      "Data columns (total 53 columns):\n",
      " #   Column                                      Non-Null Count  Dtype         \n",
      "---  ------                                      --------------  -----         \n",
      " 0   date                                        5856 non-null   datetime64[ns]\n",
      " 1   primary_cleaner.input.sulfate               5856 non-null   float64       \n",
      " 2   primary_cleaner.input.depressant            5856 non-null   float64       \n",
      " 3   primary_cleaner.input.feed_size             5856 non-null   float64       \n",
      " 4   primary_cleaner.input.xanthate              5856 non-null   float64       \n",
      " 5   primary_cleaner.state.floatbank8_a_air      5856 non-null   float64       \n",
      " 6   primary_cleaner.state.floatbank8_a_level    5856 non-null   float64       \n",
      " 7   primary_cleaner.state.floatbank8_b_air      5856 non-null   float64       \n",
      " 8   primary_cleaner.state.floatbank8_b_level    5856 non-null   float64       \n",
      " 9   primary_cleaner.state.floatbank8_c_air      5856 non-null   float64       \n",
      " 10  primary_cleaner.state.floatbank8_c_level    5856 non-null   float64       \n",
      " 11  primary_cleaner.state.floatbank8_d_air      5856 non-null   float64       \n",
      " 12  primary_cleaner.state.floatbank8_d_level    5856 non-null   float64       \n",
      " 13  rougher.input.feed_ag                       5856 non-null   float64       \n",
      " 14  rougher.input.feed_pb                       5856 non-null   float64       \n",
      " 15  rougher.input.feed_rate                     5856 non-null   float64       \n",
      " 16  rougher.input.feed_size                     5856 non-null   float64       \n",
      " 17  rougher.input.feed_sol                      5856 non-null   float64       \n",
      " 18  rougher.input.feed_au                       5856 non-null   float64       \n",
      " 19  rougher.input.floatbank10_sulfate           5856 non-null   float64       \n",
      " 20  rougher.input.floatbank10_xanthate          5856 non-null   float64       \n",
      " 21  rougher.input.floatbank11_sulfate           5856 non-null   float64       \n",
      " 22  rougher.input.floatbank11_xanthate          5856 non-null   float64       \n",
      " 23  rougher.state.floatbank10_a_air             5856 non-null   float64       \n",
      " 24  rougher.state.floatbank10_a_level           5856 non-null   float64       \n",
      " 25  rougher.state.floatbank10_b_air             5856 non-null   float64       \n",
      " 26  rougher.state.floatbank10_b_level           5856 non-null   float64       \n",
      " 27  rougher.state.floatbank10_c_air             5856 non-null   float64       \n",
      " 28  rougher.state.floatbank10_c_level           5856 non-null   float64       \n",
      " 29  rougher.state.floatbank10_d_air             5856 non-null   float64       \n",
      " 30  rougher.state.floatbank10_d_level           5856 non-null   float64       \n",
      " 31  rougher.state.floatbank10_e_air             5856 non-null   float64       \n",
      " 32  rougher.state.floatbank10_e_level           5856 non-null   float64       \n",
      " 33  rougher.state.floatbank10_f_air             5856 non-null   float64       \n",
      " 34  rougher.state.floatbank10_f_level           5856 non-null   float64       \n",
      " 35  secondary_cleaner.state.floatbank2_a_air    5856 non-null   float64       \n",
      " 36  secondary_cleaner.state.floatbank2_a_level  5856 non-null   float64       \n",
      " 37  secondary_cleaner.state.floatbank2_b_air    5856 non-null   float64       \n",
      " 38  secondary_cleaner.state.floatbank2_b_level  5856 non-null   float64       \n",
      " 39  secondary_cleaner.state.floatbank3_a_air    5856 non-null   float64       \n",
      " 40  secondary_cleaner.state.floatbank3_a_level  5856 non-null   float64       \n",
      " 41  secondary_cleaner.state.floatbank3_b_air    5856 non-null   float64       \n",
      " 42  secondary_cleaner.state.floatbank3_b_level  5856 non-null   float64       \n",
      " 43  secondary_cleaner.state.floatbank4_a_air    5856 non-null   float64       \n",
      " 44  secondary_cleaner.state.floatbank4_a_level  5856 non-null   float64       \n",
      " 45  secondary_cleaner.state.floatbank4_b_air    5856 non-null   float64       \n",
      " 46  secondary_cleaner.state.floatbank4_b_level  5856 non-null   float64       \n",
      " 47  secondary_cleaner.state.floatbank5_a_air    5856 non-null   float64       \n",
      " 48  secondary_cleaner.state.floatbank5_a_level  5856 non-null   float64       \n",
      " 49  secondary_cleaner.state.floatbank5_b_air    5856 non-null   float64       \n",
      " 50  secondary_cleaner.state.floatbank5_b_level  5856 non-null   float64       \n",
      " 51  secondary_cleaner.state.floatbank6_a_air    5856 non-null   float64       \n",
      " 52  secondary_cleaner.state.floatbank6_a_level  5856 non-null   float64       \n",
      "dtypes: datetime64[ns](1), float64(52)\n",
      "memory usage: 2.4 MB\n"
     ]
    }
   ],
   "source": [
    "#Use the info() method once again to double check the datatypes of the columns in the data_test dataframe.\n",
    "data_test.info()"
   ]
  },
  {
   "cell_type": "markdown",
   "metadata": {},
   "source": [
    "Code Result:\n",
    "It appears that date column of the data_test column was converted to datetime64[ns] sucessfully."
   ]
  },
  {
   "cell_type": "markdown",
   "metadata": {},
   "source": [
    "##### Full Set"
   ]
  },
  {
   "cell_type": "code",
   "execution_count": 26,
   "metadata": {},
   "outputs": [
    {
     "name": "stdout",
     "output_type": "stream",
     "text": [
      "<class 'pandas.core.frame.DataFrame'>\n",
      "RangeIndex: 22716 entries, 0 to 22715\n",
      "Data columns (total 87 columns):\n",
      " #   Column                                              Non-Null Count  Dtype  \n",
      "---  ------                                              --------------  -----  \n",
      " 0   date                                                22716 non-null  object \n",
      " 1   final.output.concentrate_ag                         22716 non-null  float64\n",
      " 2   final.output.concentrate_pb                         22716 non-null  float64\n",
      " 3   final.output.concentrate_sol                        22716 non-null  float64\n",
      " 4   final.output.concentrate_au                         22716 non-null  float64\n",
      " 5   final.output.recovery                               22716 non-null  float64\n",
      " 6   final.output.tail_ag                                22716 non-null  float64\n",
      " 7   final.output.tail_pb                                22716 non-null  float64\n",
      " 8   final.output.tail_sol                               22716 non-null  float64\n",
      " 9   final.output.tail_au                                22716 non-null  float64\n",
      " 10  primary_cleaner.input.sulfate                       22716 non-null  float64\n",
      " 11  primary_cleaner.input.depressant                    22716 non-null  float64\n",
      " 12  primary_cleaner.input.feed_size                     22716 non-null  float64\n",
      " 13  primary_cleaner.input.xanthate                      22716 non-null  float64\n",
      " 14  primary_cleaner.output.concentrate_ag               22716 non-null  float64\n",
      " 15  primary_cleaner.output.concentrate_pb               22716 non-null  float64\n",
      " 16  primary_cleaner.output.concentrate_sol              22716 non-null  float64\n",
      " 17  primary_cleaner.output.concentrate_au               22716 non-null  float64\n",
      " 18  primary_cleaner.output.tail_ag                      22716 non-null  float64\n",
      " 19  primary_cleaner.output.tail_pb                      22716 non-null  float64\n",
      " 20  primary_cleaner.output.tail_sol                     22716 non-null  float64\n",
      " 21  primary_cleaner.output.tail_au                      22716 non-null  float64\n",
      " 22  primary_cleaner.state.floatbank8_a_air              22716 non-null  float64\n",
      " 23  primary_cleaner.state.floatbank8_a_level            22716 non-null  float64\n",
      " 24  primary_cleaner.state.floatbank8_b_air              22716 non-null  float64\n",
      " 25  primary_cleaner.state.floatbank8_b_level            22716 non-null  float64\n",
      " 26  primary_cleaner.state.floatbank8_c_air              22716 non-null  float64\n",
      " 27  primary_cleaner.state.floatbank8_c_level            22716 non-null  float64\n",
      " 28  primary_cleaner.state.floatbank8_d_air              22716 non-null  float64\n",
      " 29  primary_cleaner.state.floatbank8_d_level            22716 non-null  float64\n",
      " 30  rougher.calculation.sulfate_to_au_concentrate       22716 non-null  float64\n",
      " 31  rougher.calculation.floatbank10_sulfate_to_au_feed  22716 non-null  float64\n",
      " 32  rougher.calculation.floatbank11_sulfate_to_au_feed  22716 non-null  float64\n",
      " 33  rougher.calculation.au_pb_ratio                     22716 non-null  float64\n",
      " 34  rougher.input.feed_ag                               22716 non-null  float64\n",
      " 35  rougher.input.feed_pb                               22716 non-null  float64\n",
      " 36  rougher.input.feed_rate                             22716 non-null  float64\n",
      " 37  rougher.input.feed_size                             22716 non-null  float64\n",
      " 38  rougher.input.feed_sol                              22716 non-null  float64\n",
      " 39  rougher.input.feed_au                               22716 non-null  float64\n",
      " 40  rougher.input.floatbank10_sulfate                   22716 non-null  float64\n",
      " 41  rougher.input.floatbank10_xanthate                  22716 non-null  float64\n",
      " 42  rougher.input.floatbank11_sulfate                   22716 non-null  float64\n",
      " 43  rougher.input.floatbank11_xanthate                  22716 non-null  float64\n",
      " 44  rougher.output.concentrate_ag                       22716 non-null  float64\n",
      " 45  rougher.output.concentrate_pb                       22716 non-null  float64\n",
      " 46  rougher.output.concentrate_sol                      22716 non-null  float64\n",
      " 47  rougher.output.concentrate_au                       22716 non-null  float64\n",
      " 48  rougher.output.recovery                             22716 non-null  float64\n",
      " 49  rougher.output.tail_ag                              22716 non-null  float64\n",
      " 50  rougher.output.tail_pb                              22716 non-null  float64\n",
      " 51  rougher.output.tail_sol                             22716 non-null  float64\n",
      " 52  rougher.output.tail_au                              22716 non-null  float64\n",
      " 53  rougher.state.floatbank10_a_air                     22716 non-null  float64\n",
      " 54  rougher.state.floatbank10_a_level                   22716 non-null  float64\n",
      " 55  rougher.state.floatbank10_b_air                     22716 non-null  float64\n",
      " 56  rougher.state.floatbank10_b_level                   22716 non-null  float64\n",
      " 57  rougher.state.floatbank10_c_air                     22716 non-null  float64\n",
      " 58  rougher.state.floatbank10_c_level                   22716 non-null  float64\n",
      " 59  rougher.state.floatbank10_d_air                     22716 non-null  float64\n",
      " 60  rougher.state.floatbank10_d_level                   22716 non-null  float64\n",
      " 61  rougher.state.floatbank10_e_air                     22716 non-null  float64\n",
      " 62  rougher.state.floatbank10_e_level                   22716 non-null  float64\n",
      " 63  rougher.state.floatbank10_f_air                     22716 non-null  float64\n",
      " 64  rougher.state.floatbank10_f_level                   22716 non-null  float64\n",
      " 65  secondary_cleaner.output.tail_ag                    22716 non-null  float64\n",
      " 66  secondary_cleaner.output.tail_pb                    22716 non-null  float64\n",
      " 67  secondary_cleaner.output.tail_sol                   22716 non-null  float64\n",
      " 68  secondary_cleaner.output.tail_au                    22716 non-null  float64\n",
      " 69  secondary_cleaner.state.floatbank2_a_air            22716 non-null  float64\n",
      " 70  secondary_cleaner.state.floatbank2_a_level          22716 non-null  float64\n",
      " 71  secondary_cleaner.state.floatbank2_b_air            22716 non-null  float64\n",
      " 72  secondary_cleaner.state.floatbank2_b_level          22716 non-null  float64\n",
      " 73  secondary_cleaner.state.floatbank3_a_air            22716 non-null  float64\n",
      " 74  secondary_cleaner.state.floatbank3_a_level          22716 non-null  float64\n",
      " 75  secondary_cleaner.state.floatbank3_b_air            22716 non-null  float64\n",
      " 76  secondary_cleaner.state.floatbank3_b_level          22716 non-null  float64\n",
      " 77  secondary_cleaner.state.floatbank4_a_air            22716 non-null  float64\n",
      " 78  secondary_cleaner.state.floatbank4_a_level          22716 non-null  float64\n",
      " 79  secondary_cleaner.state.floatbank4_b_air            22716 non-null  float64\n",
      " 80  secondary_cleaner.state.floatbank4_b_level          22716 non-null  float64\n",
      " 81  secondary_cleaner.state.floatbank5_a_air            22716 non-null  float64\n",
      " 82  secondary_cleaner.state.floatbank5_a_level          22716 non-null  float64\n",
      " 83  secondary_cleaner.state.floatbank5_b_air            22716 non-null  float64\n",
      " 84  secondary_cleaner.state.floatbank5_b_level          22716 non-null  float64\n",
      " 85  secondary_cleaner.state.floatbank6_a_air            22716 non-null  float64\n",
      " 86  secondary_cleaner.state.floatbank6_a_level          22716 non-null  float64\n",
      "dtypes: float64(86), object(1)\n",
      "memory usage: 15.1+ MB\n"
     ]
    }
   ],
   "source": [
    "#Use the info() method in order to check the data types in the columns of the data_full dataframe.\n",
    "data_full.info()"
   ]
  },
  {
   "cell_type": "markdown",
   "metadata": {},
   "source": [
    "Code Result:\n",
    "The date column of the dataframe is listed as the object data type and needs to be converted to the datetime64[ns] data type.\n",
    "All the other columns in the dataframe appear to have the appropriate data type."
   ]
  },
  {
   "cell_type": "code",
   "execution_count": 27,
   "metadata": {},
   "outputs": [],
   "source": [
    "#Use the pd.to_datetime() method in order to convert the date column to the datetime64[ns] data type.\n",
    "data_full['date'] = pd.to_datetime(data_full['date'], format='%Y-%m-%d %H:%M:%S')"
   ]
  },
  {
   "cell_type": "code",
   "execution_count": 28,
   "metadata": {},
   "outputs": [
    {
     "name": "stdout",
     "output_type": "stream",
     "text": [
      "<class 'pandas.core.frame.DataFrame'>\n",
      "RangeIndex: 22716 entries, 0 to 22715\n",
      "Data columns (total 87 columns):\n",
      " #   Column                                              Non-Null Count  Dtype         \n",
      "---  ------                                              --------------  -----         \n",
      " 0   date                                                22716 non-null  datetime64[ns]\n",
      " 1   final.output.concentrate_ag                         22716 non-null  float64       \n",
      " 2   final.output.concentrate_pb                         22716 non-null  float64       \n",
      " 3   final.output.concentrate_sol                        22716 non-null  float64       \n",
      " 4   final.output.concentrate_au                         22716 non-null  float64       \n",
      " 5   final.output.recovery                               22716 non-null  float64       \n",
      " 6   final.output.tail_ag                                22716 non-null  float64       \n",
      " 7   final.output.tail_pb                                22716 non-null  float64       \n",
      " 8   final.output.tail_sol                               22716 non-null  float64       \n",
      " 9   final.output.tail_au                                22716 non-null  float64       \n",
      " 10  primary_cleaner.input.sulfate                       22716 non-null  float64       \n",
      " 11  primary_cleaner.input.depressant                    22716 non-null  float64       \n",
      " 12  primary_cleaner.input.feed_size                     22716 non-null  float64       \n",
      " 13  primary_cleaner.input.xanthate                      22716 non-null  float64       \n",
      " 14  primary_cleaner.output.concentrate_ag               22716 non-null  float64       \n",
      " 15  primary_cleaner.output.concentrate_pb               22716 non-null  float64       \n",
      " 16  primary_cleaner.output.concentrate_sol              22716 non-null  float64       \n",
      " 17  primary_cleaner.output.concentrate_au               22716 non-null  float64       \n",
      " 18  primary_cleaner.output.tail_ag                      22716 non-null  float64       \n",
      " 19  primary_cleaner.output.tail_pb                      22716 non-null  float64       \n",
      " 20  primary_cleaner.output.tail_sol                     22716 non-null  float64       \n",
      " 21  primary_cleaner.output.tail_au                      22716 non-null  float64       \n",
      " 22  primary_cleaner.state.floatbank8_a_air              22716 non-null  float64       \n",
      " 23  primary_cleaner.state.floatbank8_a_level            22716 non-null  float64       \n",
      " 24  primary_cleaner.state.floatbank8_b_air              22716 non-null  float64       \n",
      " 25  primary_cleaner.state.floatbank8_b_level            22716 non-null  float64       \n",
      " 26  primary_cleaner.state.floatbank8_c_air              22716 non-null  float64       \n",
      " 27  primary_cleaner.state.floatbank8_c_level            22716 non-null  float64       \n",
      " 28  primary_cleaner.state.floatbank8_d_air              22716 non-null  float64       \n",
      " 29  primary_cleaner.state.floatbank8_d_level            22716 non-null  float64       \n",
      " 30  rougher.calculation.sulfate_to_au_concentrate       22716 non-null  float64       \n",
      " 31  rougher.calculation.floatbank10_sulfate_to_au_feed  22716 non-null  float64       \n",
      " 32  rougher.calculation.floatbank11_sulfate_to_au_feed  22716 non-null  float64       \n",
      " 33  rougher.calculation.au_pb_ratio                     22716 non-null  float64       \n",
      " 34  rougher.input.feed_ag                               22716 non-null  float64       \n",
      " 35  rougher.input.feed_pb                               22716 non-null  float64       \n",
      " 36  rougher.input.feed_rate                             22716 non-null  float64       \n",
      " 37  rougher.input.feed_size                             22716 non-null  float64       \n",
      " 38  rougher.input.feed_sol                              22716 non-null  float64       \n",
      " 39  rougher.input.feed_au                               22716 non-null  float64       \n",
      " 40  rougher.input.floatbank10_sulfate                   22716 non-null  float64       \n",
      " 41  rougher.input.floatbank10_xanthate                  22716 non-null  float64       \n",
      " 42  rougher.input.floatbank11_sulfate                   22716 non-null  float64       \n",
      " 43  rougher.input.floatbank11_xanthate                  22716 non-null  float64       \n",
      " 44  rougher.output.concentrate_ag                       22716 non-null  float64       \n",
      " 45  rougher.output.concentrate_pb                       22716 non-null  float64       \n",
      " 46  rougher.output.concentrate_sol                      22716 non-null  float64       \n",
      " 47  rougher.output.concentrate_au                       22716 non-null  float64       \n",
      " 48  rougher.output.recovery                             22716 non-null  float64       \n",
      " 49  rougher.output.tail_ag                              22716 non-null  float64       \n",
      " 50  rougher.output.tail_pb                              22716 non-null  float64       \n",
      " 51  rougher.output.tail_sol                             22716 non-null  float64       \n",
      " 52  rougher.output.tail_au                              22716 non-null  float64       \n",
      " 53  rougher.state.floatbank10_a_air                     22716 non-null  float64       \n",
      " 54  rougher.state.floatbank10_a_level                   22716 non-null  float64       \n",
      " 55  rougher.state.floatbank10_b_air                     22716 non-null  float64       \n",
      " 56  rougher.state.floatbank10_b_level                   22716 non-null  float64       \n",
      " 57  rougher.state.floatbank10_c_air                     22716 non-null  float64       \n",
      " 58  rougher.state.floatbank10_c_level                   22716 non-null  float64       \n",
      " 59  rougher.state.floatbank10_d_air                     22716 non-null  float64       \n",
      " 60  rougher.state.floatbank10_d_level                   22716 non-null  float64       \n",
      " 61  rougher.state.floatbank10_e_air                     22716 non-null  float64       \n",
      " 62  rougher.state.floatbank10_e_level                   22716 non-null  float64       \n",
      " 63  rougher.state.floatbank10_f_air                     22716 non-null  float64       \n",
      " 64  rougher.state.floatbank10_f_level                   22716 non-null  float64       \n",
      " 65  secondary_cleaner.output.tail_ag                    22716 non-null  float64       \n",
      " 66  secondary_cleaner.output.tail_pb                    22716 non-null  float64       \n",
      " 67  secondary_cleaner.output.tail_sol                   22716 non-null  float64       \n",
      " 68  secondary_cleaner.output.tail_au                    22716 non-null  float64       \n",
      " 69  secondary_cleaner.state.floatbank2_a_air            22716 non-null  float64       \n",
      " 70  secondary_cleaner.state.floatbank2_a_level          22716 non-null  float64       \n",
      " 71  secondary_cleaner.state.floatbank2_b_air            22716 non-null  float64       \n",
      " 72  secondary_cleaner.state.floatbank2_b_level          22716 non-null  float64       \n",
      " 73  secondary_cleaner.state.floatbank3_a_air            22716 non-null  float64       \n",
      " 74  secondary_cleaner.state.floatbank3_a_level          22716 non-null  float64       \n",
      " 75  secondary_cleaner.state.floatbank3_b_air            22716 non-null  float64       \n",
      " 76  secondary_cleaner.state.floatbank3_b_level          22716 non-null  float64       \n",
      " 77  secondary_cleaner.state.floatbank4_a_air            22716 non-null  float64       \n",
      " 78  secondary_cleaner.state.floatbank4_a_level          22716 non-null  float64       \n",
      " 79  secondary_cleaner.state.floatbank4_b_air            22716 non-null  float64       \n",
      " 80  secondary_cleaner.state.floatbank4_b_level          22716 non-null  float64       \n",
      " 81  secondary_cleaner.state.floatbank5_a_air            22716 non-null  float64       \n",
      " 82  secondary_cleaner.state.floatbank5_a_level          22716 non-null  float64       \n",
      " 83  secondary_cleaner.state.floatbank5_b_air            22716 non-null  float64       \n",
      " 84  secondary_cleaner.state.floatbank5_b_level          22716 non-null  float64       \n",
      " 85  secondary_cleaner.state.floatbank6_a_air            22716 non-null  float64       \n",
      " 86  secondary_cleaner.state.floatbank6_a_level          22716 non-null  float64       \n",
      "dtypes: datetime64[ns](1), float64(86)\n",
      "memory usage: 15.1 MB\n"
     ]
    }
   ],
   "source": [
    "#Use the info() method once again to double check the datatypes of the columns in the data_full dataframe.\n",
    "data_full.info()"
   ]
  },
  {
   "cell_type": "markdown",
   "metadata": {},
   "source": [
    "Code Result:\n",
    "It appears that date column of the data_full column was converted to datetime64[ns] sucessfully."
   ]
  },
  {
   "cell_type": "markdown",
   "metadata": {},
   "source": [
    "<div class=\"alert alert-block alert-success\">\n",
    "<b>Reviewer's comment V2</b> <a class=\"tocSkip\"></a>\n",
    "\n",
    "Everything is correct. Good job!\n",
    "  \n",
    "</div>"
   ]
  },
  {
   "cell_type": "markdown",
   "metadata": {},
   "source": [
    "#### 1.2. Check that recovery is calculated correctly. Using the training set, calculate recovery for the rougher.output.recovery feature. Find the MAE between your calculations and the feature values. Provide findings."
   ]
  },
  {
   "cell_type": "markdown",
   "metadata": {},
   "source": [
    "##### Recovery function"
   ]
  },
  {
   "cell_type": "code",
   "execution_count": 29,
   "metadata": {},
   "outputs": [],
   "source": [
    "#Create a function to calculate the recovery rate.\n",
    "def recovery(C, F, T):\n",
    "    numerator = C * (F - T) \n",
    "    denominator = F * (C - T)\n",
    "    division = numerator / denominator\n",
    "    recovery = division * 100\n",
    "    return recovery"
   ]
  },
  {
   "cell_type": "code",
   "execution_count": 30,
   "metadata": {},
   "outputs": [
    {
     "name": "stdout",
     "output_type": "stream",
     "text": [
      "<class 'pandas.core.frame.DataFrame'>\n",
      "Int64Index: 14287 entries, 0 to 16859\n",
      "Data columns (total 5 columns):\n",
      " #   Column                         Non-Null Count  Dtype  \n",
      "---  ------                         --------------  -----  \n",
      " 0   rougher.output.concentrate_au  14287 non-null  float64\n",
      " 1   rougher.input.feed_au          14287 non-null  float64\n",
      " 2   rougher.output.tail_au         14287 non-null  float64\n",
      " 3   rougher.output.recovery        14287 non-null  float64\n",
      " 4   calculated_recovery            14287 non-null  float64\n",
      "dtypes: float64(5)\n",
      "memory usage: 669.7 KB\n"
     ]
    }
   ],
   "source": [
    "#Create a variable for the C arguement of the recovery function that contains the values for the share of gold concentrate right\n",
    "#after flotation.\n",
    "C = subset['rougher.output.concentrate_au']\n",
    "\n",
    "#Create a variable for the F arguement of the recovery function that contains the values for the share of gold in the feed right\n",
    "#before flotation.\n",
    "F = subset['rougher.input.feed_au']\n",
    "\n",
    "#Create a variable for the F arguement of the recovery function that contains the values for the share of gold in the feed right\n",
    "#before flotation.\n",
    "T = subset['rougher.output.tail_au']\n",
    "subset['calculated_recovery'] = recovery(C, F, T)\n",
    "subset.info()"
   ]
  },
  {
   "cell_type": "code",
   "execution_count": 31,
   "metadata": {},
   "outputs": [],
   "source": [
    "#Create a new column in the data_train dataframe that consists of the results of the recovery function when using the previously\n",
    "#created variables for: C, F, and T.\n",
    "data_train['calculated_recovery'] = recovery(C, F, T)"
   ]
  },
  {
   "cell_type": "code",
   "execution_count": 32,
   "metadata": {},
   "outputs": [
    {
     "data": {
      "text/plain": [
       "date                                             0\n",
       "final.output.concentrate_ag                      0\n",
       "final.output.concentrate_pb                      0\n",
       "final.output.concentrate_sol                     0\n",
       "final.output.concentrate_au                      0\n",
       "                                              ... \n",
       "secondary_cleaner.state.floatbank5_b_air         0\n",
       "secondary_cleaner.state.floatbank5_b_level       0\n",
       "secondary_cleaner.state.floatbank6_a_air         0\n",
       "secondary_cleaner.state.floatbank6_a_level       0\n",
       "calculated_recovery                           2573\n",
       "Length: 88, dtype: int64"
      ]
     },
     "execution_count": 32,
     "metadata": {},
     "output_type": "execute_result"
    }
   ],
   "source": [
    "#Use the isna() and sum() methods in order to check for missing values in the data_train dataframe.\n",
    "data_train.isna().sum()"
   ]
  },
  {
   "cell_type": "markdown",
   "metadata": {},
   "source": [
    "Code Result:\n",
    "There are 2,573 missing values noted in the calculated_recovery column of the data_train dataframe."
   ]
  },
  {
   "cell_type": "code",
   "execution_count": 33,
   "metadata": {},
   "outputs": [],
   "source": [
    "#Use the dropna() method in order to create a new dataframe that only contains all the non-null values of the data_train dataframe.\n",
    "#Name the new dataframe dt_clean.\n",
    "dt_clean = data_train.dropna()"
   ]
  },
  {
   "cell_type": "code",
   "execution_count": 34,
   "metadata": {},
   "outputs": [
    {
     "data": {
      "text/plain": [
       "date                                          0\n",
       "final.output.concentrate_ag                   0\n",
       "final.output.concentrate_pb                   0\n",
       "final.output.concentrate_sol                  0\n",
       "final.output.concentrate_au                   0\n",
       "                                             ..\n",
       "secondary_cleaner.state.floatbank5_b_air      0\n",
       "secondary_cleaner.state.floatbank5_b_level    0\n",
       "secondary_cleaner.state.floatbank6_a_air      0\n",
       "secondary_cleaner.state.floatbank6_a_level    0\n",
       "calculated_recovery                           0\n",
       "Length: 88, dtype: int64"
      ]
     },
     "execution_count": 34,
     "metadata": {},
     "output_type": "execute_result"
    }
   ],
   "source": [
    "#Use the isna() and sum() methods in order to check for missing values in the dt_clean dataframe.\n",
    "dt_clean.isna().sum()"
   ]
  },
  {
   "cell_type": "markdown",
   "metadata": {},
   "source": [
    "Code Result:\n",
    "There are no missing values noted in the dt_clean dataframe."
   ]
  },
  {
   "cell_type": "code",
   "execution_count": 35,
   "metadata": {},
   "outputs": [
    {
     "data": {
      "text/plain": [
       "9.303415616264301e-15"
      ]
     },
     "execution_count": 35,
     "metadata": {},
     "output_type": "execute_result"
    }
   ],
   "source": [
    "#Use the mean_absolute_error function in order to check if the recovery rate in the 'rougher.output.recovery' column was calculated \n",
    "#correctly when compared to the newly created 'calculated_recovery' column.\n",
    "calc_recovery_mae = mean_absolute_error(dt_clean['calculated_recovery'], dt_clean['rougher.output.recovery'])\n",
    "\n",
    "calc_recovery_mae"
   ]
  },
  {
   "cell_type": "markdown",
   "metadata": {},
   "source": [
    "Code Result:\n",
    "It appears that the mean absolute error betweem the recovery in the 'calculated_recovery' column and the recovery in the 'rougher.output.recovery' column is: approximately 9.30.  Although the recovery in the 'rougher.output.recovery' column is not 100% error free, the mean absolute error is a very small amount, which suggests that the majority of rows in the 'rougher.output.recovery' columns have their recovery calculated correctly."
   ]
  },
  {
   "cell_type": "markdown",
   "metadata": {},
   "source": [
    "<div class=\"alert alert-block alert-warning\">\n",
    "<b>Reviewer's comment V2</b> <a class=\"tocSkip\"></a>\n",
    "\n",
    "Correct. But it's not 9.3. It's 9.3 * 10^(-15). So, it's almost zero.\n",
    "  \n",
    "</div>"
   ]
  },
  {
   "cell_type": "markdown",
   "metadata": {},
   "source": [
    "1.3. Analyze the features not available in the test set. What are these parameters? What is their type?"
   ]
  },
  {
   "cell_type": "code",
   "execution_count": 36,
   "metadata": {},
   "outputs": [],
   "source": [
    "#Use the columns and the difference methods on the data_train and data_test dataframes in order to create an variable named not_in_test.  \n",
    "# This variable will serve as the index of columns that are present in the training set, but not present in the testing set\n",
    "not_in_test = data_train.columns.difference(data_test.columns)"
   ]
  },
  {
   "cell_type": "code",
   "execution_count": 37,
   "metadata": {},
   "outputs": [
    {
     "data": {
      "text/plain": [
       "calculated_recovery                                   float64\n",
       "final.output.concentrate_ag                           float64\n",
       "final.output.concentrate_au                           float64\n",
       "final.output.concentrate_pb                           float64\n",
       "final.output.concentrate_sol                          float64\n",
       "final.output.recovery                                 float64\n",
       "final.output.tail_ag                                  float64\n",
       "final.output.tail_au                                  float64\n",
       "final.output.tail_pb                                  float64\n",
       "final.output.tail_sol                                 float64\n",
       "primary_cleaner.output.concentrate_ag                 float64\n",
       "primary_cleaner.output.concentrate_au                 float64\n",
       "primary_cleaner.output.concentrate_pb                 float64\n",
       "primary_cleaner.output.concentrate_sol                float64\n",
       "primary_cleaner.output.tail_ag                        float64\n",
       "primary_cleaner.output.tail_au                        float64\n",
       "primary_cleaner.output.tail_pb                        float64\n",
       "primary_cleaner.output.tail_sol                       float64\n",
       "rougher.calculation.au_pb_ratio                       float64\n",
       "rougher.calculation.floatbank10_sulfate_to_au_feed    float64\n",
       "rougher.calculation.floatbank11_sulfate_to_au_feed    float64\n",
       "rougher.calculation.sulfate_to_au_concentrate         float64\n",
       "rougher.output.concentrate_ag                         float64\n",
       "rougher.output.concentrate_au                         float64\n",
       "rougher.output.concentrate_pb                         float64\n",
       "rougher.output.concentrate_sol                        float64\n",
       "rougher.output.recovery                               float64\n",
       "rougher.output.tail_ag                                float64\n",
       "rougher.output.tail_au                                float64\n",
       "rougher.output.tail_pb                                float64\n",
       "rougher.output.tail_sol                               float64\n",
       "secondary_cleaner.output.tail_ag                      float64\n",
       "secondary_cleaner.output.tail_au                      float64\n",
       "secondary_cleaner.output.tail_pb                      float64\n",
       "secondary_cleaner.output.tail_sol                     float64\n",
       "dtype: object"
      ]
     },
     "execution_count": 37,
     "metadata": {},
     "output_type": "execute_result"
    }
   ],
   "source": [
    "#Create a dataframe named train_nt that consists of all the rows of the data_train column in accordance to the not_in_test \n",
    "#variable's index.\n",
    "train_nt = data_train[not_in_test]\n",
    "\n",
    "#Use the dtypes method to creata a datframe called tnt_dtype that consists of all the data types of the columns in the\n",
    "#train_nt dataframe.\n",
    "tnt_dtype = train_nt.dtypes\n",
    "\n",
    "#Print tnt_dtype.\n",
    "tnt_dtype"
   ]
  },
  {
   "cell_type": "markdown",
   "metadata": {},
   "source": [
    "Code Result:\n",
    "According to the code result, the features not available in the test set consists of the parameters for the ag, au, pb and sol metals: final.output.concentrate, final.output.tail, primary_cleaner.output.conentrate, primary_cleaner.output.tail, rougher.output.conentrate, secondary_cleaner.output.tail.  The features not available in the test set also consists of the following parameters as well: calculated_recovery, rougher.calculation.au_pb_ratio, rougher.calculation.floatbank10_sulafate_to_au_feed, rougher.calculation.floatbank11_sulafate_to_au_feed, rougher.calculation.sulfate_to_au_concentrate. The features not available in the test set consists of the float64 data type."
   ]
  },
  {
   "cell_type": "markdown",
   "metadata": {},
   "source": [
    "<div class=\"alert alert-block alert-success\">\n",
    "<b>Reviewer's comment V2</b> <a class=\"tocSkip\"></a>\n",
    "\n",
    "Correct\n",
    "  \n",
    "</div>"
   ]
  },
  {
   "cell_type": "markdown",
   "metadata": {},
   "source": [
    "#### Step 2.\n",
    "2.1. Take note of how the concentrations of metals (Au, Ag, Pb) change depending on the purification stage."
   ]
  },
  {
   "cell_type": "markdown",
   "metadata": {},
   "source": [
    "#### Gold (Au) Concentration Histogram"
   ]
  },
  {
   "cell_type": "code",
   "execution_count": 38,
   "metadata": {},
   "outputs": [
    {
     "data": {
      "image/png": "[encoded data removed]",
      "text/plain": [
       "<Figure size 1400x1000 with 1 Axes>"
      ]
     },
     "metadata": {},
     "output_type": "display_data"
    }
   ],
   "source": [
    "#Use matplotlib in order to create a histogram to show the distributions of gold(au) concentrate in each purification\n",
    "#stage\n",
    "plt.figure(figsize=(14, 10))\n",
    "plt.subplot(2, 2, 1)\n",
    "plt.hist(data_full['rougher.input.feed_au'], bins=20, alpha=0.5, label='Raw Feed', color='red')\n",
    "plt.hist(data_full['rougher.output.concentrate_au'], bins=20, alpha=0.5, label='Rougher Concentrate', color='blue')\n",
    "plt.hist(data_full['final.output.concentrate_au'], bins=20, alpha=0.5, label='Final Concentrate', color='green')\n",
    "\n",
    "plt.legend(loc='upper left')\n",
    "plt.title(\"Distributions of Gold (Au) Concentrate Per Purification Stage\")\n",
    "plt.xlabel(\"Gold Concentration\")\n",
    "plt.ylabel(\"Count\")\n",
    "\n",
    "plt.tight_layout\n",
    "plt.show()"
   ]
  },
  {
   "cell_type": "markdown",
   "metadata": {},
   "source": [
    "Conclusion:\n",
    "According to the histogram, the Final Concentrate Stage has the greatest amount of gold concentration with a peak value of: approximately 43-45 and a count of: approximately 8300 values.  The Rougher Concentrate Stage has the second highest amount gold concentration with a peak value of: approximately 21.5-22 and a count of: approximately 5200 values.  The Raw Feed Stage has the lowest gold concentration amount with a peak value of: approximately 7-7.2 and a count of approximately 2800 values."
   ]
  },
  {
   "cell_type": "markdown",
   "metadata": {},
   "source": [
    "#### Gold (Au) Concentration KDE Plot"
   ]
  },
  {
   "cell_type": "code",
   "execution_count": 39,
   "metadata": {},
   "outputs": [
    {
     "data": {
      "text/plain": [
       "<function matplotlib.pyplot.show(close=None, block=None)>"
      ]
     },
     "execution_count": 39,
     "metadata": {},
     "output_type": "execute_result"
    },
    {
     "data": {
      "image/png": "[encoded data removed]",
      "text/plain": [
       "<Figure size 640x480 with 1 Axes>"
      ]
     },
     "metadata": {},
     "output_type": "display_data"
    }
   ],
   "source": [
    "#Use sns.kdeplot() in order to create a KDE plot of the gold(au) concentrations for each purification stage.\n",
    "sns.kdeplot(data_full['rougher.input.feed_au'], color='red', label='Raw Feed', shade=True)\n",
    "sns.kdeplot(data_full['rougher.output.concentrate_au'], color='blue', label='Rougher Concentrate', shade=True)\n",
    "sns.kdeplot(data_full['final.output.concentrate_au'], color='green', label='Final Concentrate', shade=True)\n",
    "\n",
    "#Use matplotlib in order to dispay the KDE plot.\n",
    "plt.xlabel(\"Concentration Amount\")\n",
    "plt.title(\"KDE Plot of Concentrations of Gold (Au) Per Purification Stage\")\n",
    "plt.legend(loc='upper right')\n",
    "plt.tight_layout\n",
    "\n",
    "plt.show"
   ]
  },
  {
   "cell_type": "markdown",
   "metadata": {},
   "source": [
    "Conclusion:\n",
    "It appears that the Final Concentrate Stage peaks at the highest gold concentration value which would be: approximately 47.  The Final Concentrate Stage's gold concentration peak value has a kernel density of: approximately 0.127.  The Rougher Concentrate stage peaks at the second highest gold concentration value, which would be: approximately 20.5.  The Rougher Concentrate's gold concentration peak value has a kernel density of:  approximately 0.150.  The Raw Feed Stage peaks at the lowest gold concentration value of: approximately 8.  The Raw Feed Stage's gold concentraiton peak value has a kernel density of:  approximately 0.170."
   ]
  },
  {
   "cell_type": "markdown",
   "metadata": {},
   "source": [
    "#### Silver (Ag) Concentration Histogram"
   ]
  },
  {
   "cell_type": "code",
   "execution_count": 40,
   "metadata": {},
   "outputs": [
    {
     "data": {
      "image/png": "[encoded data removed]",
      "text/plain": [
       "<Figure size 1400x1000 with 1 Axes>"
      ]
     },
     "metadata": {},
     "output_type": "display_data"
    }
   ],
   "source": [
    "#Use matplotlib in order to create a histogram to show the distributions of silver(ag) concentrate in each purification\n",
    "#stage\n",
    "plt.figure(figsize=(14, 10))\n",
    "plt.subplot(2, 2, 1)\n",
    "plt.hist(data_full['rougher.input.feed_ag'], bins=20, alpha=0.5, label='Raw Feed', color='red')\n",
    "plt.hist(data_full['rougher.output.concentrate_ag'], bins=20, alpha=0.5, label='Rougher Concentrate', color='blue')\n",
    "plt.hist(data_full['final.output.concentrate_ag'], bins=20, alpha=0.5, label='Final Concentrate', color='green')\n",
    "\n",
    "plt.legend(loc='upper right')\n",
    "plt.title(\"Distributions of Silver (Ag) Concentrate Per Purification Stage\")\n",
    "plt.xlabel(\"Silver Concentration\")\n",
    "plt.ylabel(\"Count\")\n",
    "\n",
    "plt.tight_layout\n",
    "plt.show()"
   ]
  },
  {
   "cell_type": "markdown",
   "metadata": {},
   "source": [
    "Conclusion:\n",
    "According to the histogram, the Rougher Concentrate Stage has the greatest amount of silver concentration with a peak value of: approximately 12-12.5 and a count of: approximately 4100 values.  The Raw Feed Stage has the second highest amount silver concentration with a peak value of: approximately 6.5-7 and a count of: approximately 3200 values.  The Final Concentrate Stage has the lowest silver concentration amount with a peak value of: approximately 5.2-5.7 and a count of approximately 5100 values."
   ]
  },
  {
   "cell_type": "markdown",
   "metadata": {},
   "source": [
    "#### Silver (Ag) Concentration KDE Plot"
   ]
  },
  {
   "cell_type": "code",
   "execution_count": 41,
   "metadata": {},
   "outputs": [
    {
     "data": {
      "text/plain": [
       "<function matplotlib.pyplot.show(close=None, block=None)>"
      ]
     },
     "execution_count": 41,
     "metadata": {},
     "output_type": "execute_result"
    },
    {
     "data": {
      "image/png": "[encoded data removed]",
      "text/plain": [
       "<Figure size 640x480 with 1 Axes>"
      ]
     },
     "metadata": {},
     "output_type": "display_data"
    }
   ],
   "source": [
    "#Use sns.kdeplot() in order to create a KDE plot of the silver(ag) concentrations for each purification stage.\n",
    "sns.kdeplot(data_full['rougher.input.feed_ag'], color='red', label='Raw Feed', shade=True)\n",
    "sns.kdeplot(data_full['rougher.output.concentrate_ag'], color='blue', label='Rougher Concentrate', shade=True)\n",
    "sns.kdeplot(data_full['final.output.concentrate_ag'], color='green', label='Final Concentrate', shade=True)\n",
    "\n",
    "#Use matplotlib in order to dispay the KDE plot.\n",
    "plt.xlabel(\"Concentration Amount\")\n",
    "plt.title(\"KDE Plot of Concentrations of Silver (Ag) Per Purification Stage\")\n",
    "plt.legend(loc='upper right')\n",
    "plt.tight_layout\n",
    "\n",
    "plt.show"
   ]
  },
  {
   "cell_type": "markdown",
   "metadata": {},
   "source": [
    "Conclusion:\n",
    "It appears that the Rougher Concentrate Stage peaks at the highest silver concentration value which would be: approximately 12.5.  The Rougher Concentrate Stage's silver concentration peak value has a kernel density of: approximately 0.08.  The Raw Feed Stage peaks at the second highest silver concentration value, which would be: approximately 7.5.  The Rougher Concentrate's gold concentration peak value has a kernel density of:  approximately 0.18.  The Final Concentrate Stage peaks at the lowest silver concentration value of: approximately 4.8.  The Final Concentrate Stage's silver concentration peak value has a kernel density of: approximately 0.28."
   ]
  },
  {
   "cell_type": "markdown",
   "metadata": {},
   "source": [
    "#### Lead (Pb) Concentration Histogram"
   ]
  },
  {
   "cell_type": "code",
   "execution_count": 42,
   "metadata": {},
   "outputs": [
    {
     "data": {
      "image/png": "[encoded data removed]",
      "text/plain": [
       "<Figure size 1400x1000 with 1 Axes>"
      ]
     },
     "metadata": {},
     "output_type": "display_data"
    }
   ],
   "source": [
    "#Use matplotlib in order to create a histogram to show the distributions of lead(pb) concentrate in each purification\n",
    "#stage\n",
    "plt.figure(figsize=(14, 10))\n",
    "plt.subplot(2, 2, 1)\n",
    "plt.hist(data_full['rougher.input.feed_pb'], bins=20, alpha=0.5, label='Raw Feed', color='red')\n",
    "plt.hist(data_full['rougher.output.concentrate_pb'], bins=20, alpha=0.5, label='Rougher Concentrate', color='blue')\n",
    "plt.hist(data_full['final.output.concentrate_pb'], bins=20, alpha=0.5, label='Final Concentrate', color='green')\n",
    "\n",
    "plt.legend(loc='upper left')\n",
    "plt.title(\"Distributions of Lead (Pb) Concentrate Per Purification Stage\")\n",
    "plt.xlabel(\"Lead Concentration\")\n",
    "plt.ylabel(\"Count\")\n",
    "\n",
    "plt.tight_layout\n",
    "plt.show()"
   ]
  },
  {
   "cell_type": "markdown",
   "metadata": {},
   "source": [
    "Conclusion:\n",
    "According to the histogram, the Final Concentrate Stage has the greatest amount of lead concentration with a peak value of: approximately 10.5-11 and a count of: approximately 4700 values.  The Rougher Concentrate Stage has the second highest amount lead concentration with a peak value of: approximately 7.8-8.5 and a count of: approximately 5400 values.  The Raw Feed Stage has the lowest lead concentration amount with a peak value of: approximately 2.7-3 and a count of approximately 2750 values."
   ]
  },
  {
   "cell_type": "markdown",
   "metadata": {},
   "source": [
    "#### Lead (Pb) Concentration KDE Plot"
   ]
  },
  {
   "cell_type": "code",
   "execution_count": 43,
   "metadata": {},
   "outputs": [
    {
     "data": {
      "text/plain": [
       "<function matplotlib.pyplot.show(close=None, block=None)>"
      ]
     },
     "execution_count": 43,
     "metadata": {},
     "output_type": "execute_result"
    },
    {
     "data": {
      "image/png": "[encoded data removed]",
      "text/plain": [
       "<Figure size 640x480 with 1 Axes>"
      ]
     },
     "metadata": {},
     "output_type": "display_data"
    }
   ],
   "source": [
    "#Use sns.kdeplot() in order to create a KDE plot of the lead(pb) concentrations for each purification stage.\n",
    "sns.kdeplot(data_full['rougher.input.feed_pb'], color='red', label='Raw Feed', shade=True)\n",
    "sns.kdeplot(data_full['rougher.output.concentrate_pb'], color='blue', label='Rougher Concentrate', shade=True)\n",
    "sns.kdeplot(data_full['final.output.concentrate_pb'], color='green', label='Final Concentrate', shade=True)\n",
    "\n",
    "#Use matplotlib in order to dispay the KDE plot.\n",
    "plt.xlabel(\"Concentration Amount\")\n",
    "plt.title(\"KDE Plot of Concentrations of Lead (Pb) Per Purification Stage\")\n",
    "plt.legend(loc='upper right')\n",
    "plt.tight_layout\n",
    "\n",
    "plt.show"
   ]
  },
  {
   "cell_type": "markdown",
   "metadata": {},
   "source": [
    "Conclusion:\n",
    "It appears that the Final Concentrate Stage peaks at the highest lead concentration value which would be: approximately 11.5.  The Final Concentrate Stage's lead concentration peak value has a kernel density of: approximately 0.24.  The Rougher Concentrate Stage peaks at the second highest lead concentration value, which would be: approximately 7.  The Rougher Concentrate's lead concentration peak value has a kernel density of: approximately 0.27.  The Final Concentrate Stage peaks at the lowest silver concentration value of: approximately 4.8.  The Raw Stage's lead concentraiton value has a kernel density of: approximately 0.34."
   ]
  },
  {
   "cell_type": "markdown",
   "metadata": {},
   "source": [
    "<div class=\"alert alert-block alert-success\">\n",
    "<b>Reviewer's comment V1</b> <a class=\"tocSkip\"></a>\n",
    "\n",
    "Everything is correct. Well done!\n",
    "  \n",
    "</div>"
   ]
  },
  {
   "cell_type": "markdown",
   "metadata": {},
   "source": [
    "#### 2.2. Compare the feed particle size distributions in the training set and in the test set. If the distributions vary significantly, the model evaluation will be incorrect."
   ]
  },
  {
   "cell_type": "code",
   "execution_count": 44,
   "metadata": {},
   "outputs": [],
   "source": [
    "#Create variables for the 'rougher.input.feed_size' and the 'primary_cleaner.input.feed_size' columns of the training set.\n",
    "r_feed_train = dt_clean['rougher.input.feed_size']\n",
    "pc_feed_train = dt_clean['primary_cleaner.input.feed_size']\n",
    "\n",
    "#Create variables for the 'rougher.input.feed_size' and the 'primary_cleaner.input.feed_size' columns of the test set.\n",
    "r_feed_test = data_full['rougher.input.feed_size']\n",
    "pc_feed_test = data_full['primary_cleaner.input.feed_size']"
   ]
  },
  {
   "cell_type": "markdown",
   "metadata": {},
   "source": [
    "##### Rougher Input Feed Size Training and Test Set Distributions"
   ]
  },
  {
   "cell_type": "markdown",
   "metadata": {},
   "source": [
    "##### Rougher Input Training And Test Set Feed Sizes Histograms"
   ]
  },
  {
   "cell_type": "code",
   "execution_count": 45,
   "metadata": {},
   "outputs": [
    {
     "data": {
      "image/png": "[encoded data removed]",
      "text/plain": [
       "<Figure size 1400x1000 with 1 Axes>"
      ]
     },
     "metadata": {},
     "output_type": "display_data"
    }
   ],
   "source": [
    "#Use matplotlib to create a histogram that displays the difference in distribution between the 'rougher.input.feed_size' \n",
    "#column values in the training set and in the test set.\n",
    "plt.figure(figsize=(14, 10))\n",
    "plt.subplot(2, 2, 1)\n",
    "plt.hist(r_feed_train, bins=20, alpha=0.5, label='Train', color='red')\n",
    "plt.hist(r_feed_test, bins=20, alpha=0.5, label='Test', color='blue')\n",
    "\n",
    "plt.legend(loc='upper right')\n",
    "plt.title(\"Distributions of Rougher Input Feed Sizes In the Training and Test Sets\")\n",
    "plt.xlabel(\"Feed Size\")\n",
    "plt.ylabel(\"Count\")\n",
    "\n",
    "plt.xlim(0, 160)\n",
    "plt.tight_layout\n",
    "plt.show()"
   ]
  },
  {
   "cell_type": "markdown",
   "metadata": {},
   "source": [
    "Conclusion: \n",
    "According to the histogram, the distribution of the values of the rougher input feed size in the training set has a peak value of:\n",
    "approximately 38-58 at a count of: approximately 7800. The distribution of the values of the rougher input feed size in the test set has a peak value of: approximately 52-74 at a count of: approximately 1300."
   ]
  },
  {
   "cell_type": "markdown",
   "metadata": {},
   "source": [
    "<div class=\"alert alert-block alert-danger\">\n",
    "<b>Reviewer's comment V2</b> <a class=\"tocSkip\"></a>\n",
    "\n",
    "When we need to compare distributions with a different number of observations we need to plot normalized histograms to avoid dependence on the number of observations\n",
    "  \n",
    "</div>"
   ]
  },
  {
   "cell_type": "markdown",
   "metadata": {},
   "source": [
    "##### Rougher Input Training Set Feed Sizes KDE Plot"
   ]
  },
  {
   "cell_type": "code",
   "execution_count": 46,
   "metadata": {},
   "outputs": [
    {
     "data": {
      "text/plain": [
       "<function matplotlib.pyplot.show(close=None, block=None)>"
      ]
     },
     "execution_count": 46,
     "metadata": {},
     "output_type": "execute_result"
    },
    {
     "data": {
      "image/png": "[encoded data removed]",
      "text/plain": [
       "<Figure size 640x480 with 1 Axes>"
      ]
     },
     "metadata": {},
     "output_type": "display_data"
    }
   ],
   "source": [
    "#Use sns.kdeplot() in order to create a KDE plot of the rougher input feed sizes in the training set.\n",
    "sns.kdeplot(r_feed_train, color='red', label='Training Set Values', shade=True)\n",
    "\n",
    "#Use matplotlib in order to dispay the KDE plot.\n",
    "plt.legend(loc='upper right')\n",
    "plt.xlabel(\"Feed Size\")\n",
    "plt.title(\"KDE Plot of Rougher Input Feed Sizes In The Training Set\")\n",
    "plt.tight_layout\n",
    "plt.show"
   ]
  },
  {
   "cell_type": "markdown",
   "metadata": {},
   "source": [
    "Conclusion:\n",
    "It appears that the Training Set's Rougher Input Feed Size's peak value is: approximately 75.  The Training Set's Rougher Input Feed size peak value's kernel density is: approximately 0.037."
   ]
  },
  {
   "cell_type": "markdown",
   "metadata": {},
   "source": [
    "##### Rougher Input Test Set Feed Sizes KDE Plot"
   ]
  },
  {
   "cell_type": "code",
   "execution_count": 47,
   "metadata": {},
   "outputs": [
    {
     "data": {
      "text/plain": [
       "<function matplotlib.pyplot.show(close=None, block=None)>"
      ]
     },
     "execution_count": 47,
     "metadata": {},
     "output_type": "execute_result"
    },
    {
     "data": {
      "image/png": "[encoded data removed]",
      "text/plain": [
       "<Figure size 640x480 with 1 Axes>"
      ]
     },
     "metadata": {},
     "output_type": "display_data"
    }
   ],
   "source": [
    "#Use sns.kdeplot() in order to create a KDE plot of the rougher input feed sizes in the test set.\n",
    "sns.kdeplot(r_feed_test, color='blue', label='Test Set Values', shade=True)\n",
    "\n",
    "#Use matplotlib in order to dispay the KDE plot.\n",
    "plt.legend(loc='upper right')\n",
    "plt.xlabel(\"Feed Size\")\n",
    "plt.title(\"KDE Plot of Rougher Input Feed Sizes In The Test Set\")\n",
    "plt.tight_layout\n",
    "plt.show"
   ]
  },
  {
   "cell_type": "markdown",
   "metadata": {},
   "source": [
    "Conclusion:\n",
    "It appears that the Test Set's Rougher Input Feed Size's peak value is: approximately 75.  The Test Set's Rougher Input Feed size peak value's kernel density is: approximately 0.034."
   ]
  },
  {
   "cell_type": "markdown",
   "metadata": {},
   "source": [
    "<div class=\"alert alert-block alert-danger\">\n",
    "<b>Reviewer's comment V2</b> <a class=\"tocSkip\"></a>\n",
    "\n",
    "To compare distributions, you need to plot them on the same graph with different colors\n",
    "  \n",
    "</div>"
   ]
  },
  {
   "cell_type": "markdown",
   "metadata": {},
   "source": [
    "Overall Conclusion About The Rougher Input Feed Sizes of the Training and Test Sets:\n",
    "Although, according to the histogram the rougher input feed sizes have a greater peak value in the test set than in the training set, the KDE plots do not have major differences in the kernel density values of the rougher input feed sizes in the training set and test sets.  These values should not cause any issues with the model's predictions."
   ]
  },
  {
   "cell_type": "markdown",
   "metadata": {},
   "source": [
    "##### Primary Cleaner Feed Size Training and Test Set Distributions"
   ]
  },
  {
   "cell_type": "markdown",
   "metadata": {},
   "source": [
    "#### Primary Cleaner Training Set And Test Set Feed Sizes Histograms"
   ]
  },
  {
   "cell_type": "code",
   "execution_count": 48,
   "metadata": {},
   "outputs": [
    {
     "data": {
      "image/png": "[encoded data removed]",
      "text/plain": [
       "<Figure size 1400x1000 with 1 Axes>"
      ]
     },
     "metadata": {},
     "output_type": "display_data"
    }
   ],
   "source": [
    "#Use matplotlib to create a histogram that displays the difference in distribution between the 'primary_cleaner.input.feed_size' \n",
    "#column values in the training set and in the test set.\n",
    "plt.figure(figsize=(14, 10))\n",
    "plt.subplot(2, 2, 2)\n",
    "plt.hist(pc_feed_train, bins=20, alpha=0.5, label='Train', color='red')\n",
    "plt.hist(pc_feed_test, bins=20, alpha=0.5, label='Test', color='blue')\n",
    "plt.legend(loc='upper right')\n",
    "\n",
    "plt.title(\"Distributions of Primary Cleaner Feed Sizes In The Training and Test Sets\")\n",
    "plt.xlabel(\"Feed Size\")\n",
    "plt.ylabel(\"Count\")\n",
    "plt.xlim(0, 12.5)\n",
    "\n",
    "plt.tight_layout()\n",
    "plt.show()"
   ]
  },
  {
   "cell_type": "markdown",
   "metadata": {},
   "source": [
    "Conclusion: \n",
    "According to the histogram, the distribution of the values of the primary cleaner feed size in the training set has a peak value of: approximately 6.5-7.5 at a count of: approximately 1300. The distribution of the values of the primary cleaner feed size in the test set has a peak value of: approximately 7-7.5 at a count of: approximately 4800."
   ]
  },
  {
   "cell_type": "markdown",
   "metadata": {},
   "source": [
    "<div class=\"alert alert-block alert-danger\">\n",
    "<b>Reviewer's comment V2</b> <a class=\"tocSkip\"></a>\n",
    "\n",
    "When we need to compare distributions with a different number of observations we need to plot normalized histograms to avoid dependence on the number of observations\n",
    "  \n",
    "</div>"
   ]
  },
  {
   "cell_type": "markdown",
   "metadata": {},
   "source": [
    "#### Primary Cleaner Training Set Feed Sizes KDE Plot"
   ]
  },
  {
   "cell_type": "code",
   "execution_count": 49,
   "metadata": {},
   "outputs": [
    {
     "data": {
      "text/plain": [
       "<function matplotlib.pyplot.show(close=None, block=None)>"
      ]
     },
     "execution_count": 49,
     "metadata": {},
     "output_type": "execute_result"
    },
    {
     "data": {
      "image/png": "[encoded data removed]",
      "text/plain": [
       "<Figure size 640x480 with 1 Axes>"
      ]
     },
     "metadata": {},
     "output_type": "display_data"
    }
   ],
   "source": [
    "#Use sns.kdeplot() in order to create a KDE plot of the primary cleaner feed sizes in the training set.\n",
    "sns.kdeplot(pc_feed_train, color='red', label='Training Set Values', shade=True)\n",
    "\n",
    "#Use matplotlib in order to dispay the KDE plot.\n",
    "plt.xlabel('Feed Size')\n",
    "plt.legend(loc='upper left')\n",
    "plt.tight_layout\n",
    "plt.title(\"KDE Plot of Primary Cleaner Feed Sizes In The Training  Set\")\n",
    "plt.show"
   ]
  },
  {
   "cell_type": "markdown",
   "metadata": {},
   "source": [
    "Conclusion:\n",
    "It appears that the Training Set's Primary Cleaner Feed Size's peak value is: approximately 7.8.  The Test Set's Rougher Input Feed size peak value's kernel density is: approximately 0.83."
   ]
  },
  {
   "cell_type": "markdown",
   "metadata": {},
   "source": [
    "#### Primary Cleaner Test Set Feed Sizes KDE Plot"
   ]
  },
  {
   "cell_type": "code",
   "execution_count": 50,
   "metadata": {},
   "outputs": [
    {
     "data": {
      "text/plain": [
       "<function matplotlib.pyplot.show(close=None, block=None)>"
      ]
     },
     "execution_count": 50,
     "metadata": {},
     "output_type": "execute_result"
    },
    {
     "data": {
      "image/png": "[encoded data removed]",
      "text/plain": [
       "<Figure size 640x480 with 1 Axes>"
      ]
     },
     "metadata": {},
     "output_type": "display_data"
    }
   ],
   "source": [
    "#Use sns.kdeplot() in order to create a KDE plot of the primary cleaner feed sizes in the test set.\n",
    "sns.kdeplot(pc_feed_test, color='blue', label='Test Set Values', shade=True)\n",
    "\n",
    "#Use matplotlib in order to dispay the KDE plot.\n",
    "plt.xlabel('Feed Size')\n",
    "plt.legend(loc='upper left')\n",
    "plt.tight_layout\n",
    "plt.title(\"KDE Plot of Primary Cleaner Feed Sizes In The Test Set\")\n",
    "plt.show"
   ]
  },
  {
   "cell_type": "markdown",
   "metadata": {},
   "source": [
    "Conclusion:\n",
    "It appears that the Training Set's Primary Cleaner Feed Size's peak value is: approximately 7.9.  The Test Set's Rougher Input Feed size peak value's kernel density is: approximately 0.79."
   ]
  },
  {
   "cell_type": "markdown",
   "metadata": {},
   "source": [
    "<div class=\"alert alert-block alert-danger\">\n",
    "<b>Reviewer's comment V2</b> <a class=\"tocSkip\"></a>\n",
    "\n",
    "To compare distributions, you need to plot them on the same graph with different colors\n",
    "  \n",
    "</div>"
   ]
  },
  {
   "cell_type": "markdown",
   "metadata": {},
   "source": [
    "Overall Conclusion About The Primary Cleaner Feed Sizes of the Training and Test Sets:\n",
    "According to the histogram, the primary cleaner feed sizes' peak values in the test set and in the training set do not vary significantly. According to the KDE plots, the primary cleaner feed sizes' peak values in the training and tests do also do not vary significantly and both peak values have similar kernal density values as well.  These values should not affect the model's predictions."
   ]
  },
  {
   "cell_type": "markdown",
   "metadata": {},
   "source": [
    "#### 2.3. Consider the total concentrations of all substances at different stages: raw feed, rougher concentrate, and final concentrate. Do you notice any abnormal values in the total distribution? If you do, is it worth removing such values from both samples? Describe the findings and eliminate anomalies. "
   ]
  },
  {
   "cell_type": "code",
   "execution_count": 51,
   "metadata": {},
   "outputs": [],
   "source": [
    "#Create column indexes for the all metals in the the raw feed, rougher concentrate and final concentrate stages.\n",
    "input_feed_columns = ['rougher.input.feed_au', 'rougher.input.feed_ag', 'rougher.input.feed_pb']\n",
    "\n",
    "rougher_concentrate_columns = ['rougher.output.concentrate_au', 'rougher.output.concentrate_ag', 'rougher.output.concentrate_pb']\n",
    "\n",
    "final_concentrate_columns = ['final.output.concentrate_au', 'final.output.concentrate_ag', 'rougher.output.concentrate_pb']"
   ]
  },
  {
   "cell_type": "code",
   "execution_count": 52,
   "metadata": {},
   "outputs": [],
   "source": [
    "#Create a new column using the sum() method that contain the total sums of concentrate in the raw feed for the test set.\n",
    "data_full['input_feed_sums'] = data_full[input_feed_columns].sum(axis=1)\n",
    "\n",
    "#Create a new column using the sum() method that contain the total sums of concentrate in the rougher concentrate for the test set.\n",
    "data_full['rougher_concentrate_sums'] = data_full[rougher_concentrate_columns].sum(axis=1)\n",
    "\n",
    "#Create new columns using the sum() method that contain the total sums of concentrate in the final concentrate for the test set.\n",
    "data_full['final_concentrate_sums'] = data_full[final_concentrate_columns].sum(axis=1)"
   ]
  },
  {
   "cell_type": "markdown",
   "metadata": {},
   "source": [
    "##### Concentration Of All Metals Per Purification Stage Histograms"
   ]
  },
  {
   "cell_type": "code",
   "execution_count": 53,
   "metadata": {},
   "outputs": [
    {
     "data": {
      "image/png": "[encoded data removed]",
      "text/plain": [
       "<Figure size 1400x1000 with 1 Axes>"
      ]
     },
     "metadata": {},
     "output_type": "display_data"
    }
   ],
   "source": [
    "#Use matplotlib to illustrate the distribution of the total concentrations of all metals in the rougher input feed \n",
    "#in both the training set and the test set.\n",
    "plt.figure(figsize=(14, 10))\n",
    "plt.subplot(2, 2, 2)\n",
    "plt.hist(data_full['input_feed_sums'], bins=20, alpha=0.5, label='Raw Feed Sums', color='red')\n",
    "plt.hist(data_full['rougher_concentrate_sums'], bins=20, alpha=0.5, label='Rougher Concentrate Sums', color='blue')\n",
    "plt.hist(data_full['final_concentrate_sums'], bins=20, alpha=0.5, label='Final Concentrate Sums', color='green')\n",
    "plt.legend(loc='upper left')\n",
    "\n",
    "plt.title(\"Distribution of Concentrate of All Metals in Each Purification Stage\")\n",
    "plt.xlabel(\"Concentrate Amount Sums\")\n",
    "plt.ylabel(\"Count\")\n",
    "\n",
    "plt.tight_layout()\n",
    "plt.show()"
   ]
  },
  {
   "cell_type": "markdown",
   "metadata": {},
   "source": [
    "Conclusion:\n",
    "Conclusion:\n",
    "According to the histogram, the Final Concentrate Stage has the greatest amount of concentration of all metals, with a peak value of: approximately 57-62 and a count of: approximately 13900 values.  The Rougher Concentrate Stage has the second concentration of all metals, with a peak value of: approximately 38-43 and a count of: approximately 7700 values.  The Raw Feed Stage has the lowest concentration of all metals, with a peak value of: approximately 15-16 and a count of approximately 3200 values.\n",
    "\n",
    "It also appears that there seems to be notable concentration of zero values in the: 'input_feed_sums' (Raw Feed Sums), 'rougher_concentrate_feed_sums' (Rougher Concentrate Sums), and 'final_concentrate_sums' (Final Concentrate Sums) columns.  I will verify this observation and address the zero values in the next cells.\n"
   ]
  },
  {
   "cell_type": "code",
   "execution_count": 54,
   "metadata": {},
   "outputs": [
    {
     "data": {
      "text/html": [
       "<div>\n",
       "<style scoped>\n",
       "    .dataframe tbody tr th:only-of-type {\n",
       "        vertical-align: middle;\n",
       "    }\n",
       "\n",
       "    .dataframe tbody tr th {\n",
       "        vertical-align: top;\n",
       "    }\n",
       "\n",
       "    .dataframe thead th {\n",
       "        text-align: right;\n",
       "    }\n",
       "</style>\n",
       "<table border=\"1\" class=\"dataframe\">\n",
       "  <thead>\n",
       "    <tr style=\"text-align: right;\">\n",
       "      <th></th>\n",
       "      <th>date</th>\n",
       "      <th>final.output.concentrate_ag</th>\n",
       "      <th>final.output.concentrate_pb</th>\n",
       "      <th>final.output.concentrate_sol</th>\n",
       "      <th>final.output.concentrate_au</th>\n",
       "      <th>final.output.recovery</th>\n",
       "      <th>final.output.tail_ag</th>\n",
       "      <th>final.output.tail_pb</th>\n",
       "      <th>final.output.tail_sol</th>\n",
       "      <th>final.output.tail_au</th>\n",
       "      <th>...</th>\n",
       "      <th>secondary_cleaner.state.floatbank4_b_level</th>\n",
       "      <th>secondary_cleaner.state.floatbank5_a_air</th>\n",
       "      <th>secondary_cleaner.state.floatbank5_a_level</th>\n",
       "      <th>secondary_cleaner.state.floatbank5_b_air</th>\n",
       "      <th>secondary_cleaner.state.floatbank5_b_level</th>\n",
       "      <th>secondary_cleaner.state.floatbank6_a_air</th>\n",
       "      <th>secondary_cleaner.state.floatbank6_a_level</th>\n",
       "      <th>input_feed_sums</th>\n",
       "      <th>rougher_concentrate_sums</th>\n",
       "      <th>final_concentrate_sums</th>\n",
       "    </tr>\n",
       "  </thead>\n",
       "  <tbody>\n",
       "    <tr>\n",
       "      <th>99</th>\n",
       "      <td>2016-01-19 03:00:00</td>\n",
       "      <td>0.0</td>\n",
       "      <td>0.0</td>\n",
       "      <td>0.0</td>\n",
       "      <td>0.0</td>\n",
       "      <td>58.017871</td>\n",
       "      <td>0.0</td>\n",
       "      <td>0.0</td>\n",
       "      <td>0.0</td>\n",
       "      <td>0.0</td>\n",
       "      <td>...</td>\n",
       "      <td>-603.234250</td>\n",
       "      <td>9.974968</td>\n",
       "      <td>-497.092974</td>\n",
       "      <td>7.953962</td>\n",
       "      <td>-499.698442</td>\n",
       "      <td>11.941642</td>\n",
       "      <td>-598.541756</td>\n",
       "      <td>0.0</td>\n",
       "      <td>0.0</td>\n",
       "      <td>0.0</td>\n",
       "    </tr>\n",
       "    <tr>\n",
       "      <th>100</th>\n",
       "      <td>2016-01-19 04:00:00</td>\n",
       "      <td>0.0</td>\n",
       "      <td>0.0</td>\n",
       "      <td>0.0</td>\n",
       "      <td>0.0</td>\n",
       "      <td>58.017871</td>\n",
       "      <td>0.0</td>\n",
       "      <td>0.0</td>\n",
       "      <td>0.0</td>\n",
       "      <td>0.0</td>\n",
       "      <td>...</td>\n",
       "      <td>-623.446329</td>\n",
       "      <td>9.898782</td>\n",
       "      <td>-499.623262</td>\n",
       "      <td>7.979302</td>\n",
       "      <td>-500.283366</td>\n",
       "      <td>11.959950</td>\n",
       "      <td>-600.998301</td>\n",
       "      <td>0.0</td>\n",
       "      <td>0.0</td>\n",
       "      <td>0.0</td>\n",
       "    </tr>\n",
       "    <tr>\n",
       "      <th>101</th>\n",
       "      <td>2016-01-19 05:00:00</td>\n",
       "      <td>0.0</td>\n",
       "      <td>0.0</td>\n",
       "      <td>0.0</td>\n",
       "      <td>0.0</td>\n",
       "      <td>58.017871</td>\n",
       "      <td>0.0</td>\n",
       "      <td>0.0</td>\n",
       "      <td>0.0</td>\n",
       "      <td>0.0</td>\n",
       "      <td>...</td>\n",
       "      <td>-638.103348</td>\n",
       "      <td>9.956309</td>\n",
       "      <td>-499.791870</td>\n",
       "      <td>7.978806</td>\n",
       "      <td>-500.202026</td>\n",
       "      <td>11.987839</td>\n",
       "      <td>-600.302819</td>\n",
       "      <td>0.0</td>\n",
       "      <td>0.0</td>\n",
       "      <td>0.0</td>\n",
       "    </tr>\n",
       "    <tr>\n",
       "      <th>102</th>\n",
       "      <td>2016-01-19 06:00:00</td>\n",
       "      <td>0.0</td>\n",
       "      <td>0.0</td>\n",
       "      <td>0.0</td>\n",
       "      <td>0.0</td>\n",
       "      <td>58.017871</td>\n",
       "      <td>0.0</td>\n",
       "      <td>0.0</td>\n",
       "      <td>0.0</td>\n",
       "      <td>0.0</td>\n",
       "      <td>...</td>\n",
       "      <td>-641.310327</td>\n",
       "      <td>9.966952</td>\n",
       "      <td>-499.842458</td>\n",
       "      <td>8.053455</td>\n",
       "      <td>-499.588522</td>\n",
       "      <td>11.987935</td>\n",
       "      <td>-600.523057</td>\n",
       "      <td>0.0</td>\n",
       "      <td>0.0</td>\n",
       "      <td>0.0</td>\n",
       "    </tr>\n",
       "    <tr>\n",
       "      <th>103</th>\n",
       "      <td>2016-01-19 07:00:00</td>\n",
       "      <td>0.0</td>\n",
       "      <td>0.0</td>\n",
       "      <td>0.0</td>\n",
       "      <td>0.0</td>\n",
       "      <td>58.017871</td>\n",
       "      <td>0.0</td>\n",
       "      <td>0.0</td>\n",
       "      <td>0.0</td>\n",
       "      <td>0.0</td>\n",
       "      <td>...</td>\n",
       "      <td>-641.457227</td>\n",
       "      <td>10.033820</td>\n",
       "      <td>-501.291438</td>\n",
       "      <td>7.985956</td>\n",
       "      <td>-499.934267</td>\n",
       "      <td>12.027556</td>\n",
       "      <td>-600.108918</td>\n",
       "      <td>0.0</td>\n",
       "      <td>0.0</td>\n",
       "      <td>0.0</td>\n",
       "    </tr>\n",
       "    <tr>\n",
       "      <th>...</th>\n",
       "      <td>...</td>\n",
       "      <td>...</td>\n",
       "      <td>...</td>\n",
       "      <td>...</td>\n",
       "      <td>...</td>\n",
       "      <td>...</td>\n",
       "      <td>...</td>\n",
       "      <td>...</td>\n",
       "      <td>...</td>\n",
       "      <td>...</td>\n",
       "      <td>...</td>\n",
       "      <td>...</td>\n",
       "      <td>...</td>\n",
       "      <td>...</td>\n",
       "      <td>...</td>\n",
       "      <td>...</td>\n",
       "      <td>...</td>\n",
       "      <td>...</td>\n",
       "      <td>...</td>\n",
       "      <td>...</td>\n",
       "      <td>...</td>\n",
       "    </tr>\n",
       "    <tr>\n",
       "      <th>17908</th>\n",
       "      <td>2018-01-30 03:59:59</td>\n",
       "      <td>0.0</td>\n",
       "      <td>0.0</td>\n",
       "      <td>0.0</td>\n",
       "      <td>0.0</td>\n",
       "      <td>73.755683</td>\n",
       "      <td>0.0</td>\n",
       "      <td>0.0</td>\n",
       "      <td>0.0</td>\n",
       "      <td>0.0</td>\n",
       "      <td>...</td>\n",
       "      <td>-500.230461</td>\n",
       "      <td>10.909829</td>\n",
       "      <td>-500.314837</td>\n",
       "      <td>9.007956</td>\n",
       "      <td>-500.153163</td>\n",
       "      <td>10.988968</td>\n",
       "      <td>-500.387261</td>\n",
       "      <td>0.0</td>\n",
       "      <td>0.0</td>\n",
       "      <td>0.0</td>\n",
       "    </tr>\n",
       "    <tr>\n",
       "      <th>17909</th>\n",
       "      <td>2018-01-30 04:59:59</td>\n",
       "      <td>0.0</td>\n",
       "      <td>0.0</td>\n",
       "      <td>0.0</td>\n",
       "      <td>0.0</td>\n",
       "      <td>73.755683</td>\n",
       "      <td>0.0</td>\n",
       "      <td>0.0</td>\n",
       "      <td>0.0</td>\n",
       "      <td>0.0</td>\n",
       "      <td>...</td>\n",
       "      <td>-524.758657</td>\n",
       "      <td>10.961487</td>\n",
       "      <td>-500.066426</td>\n",
       "      <td>9.004925</td>\n",
       "      <td>-500.040902</td>\n",
       "      <td>10.961121</td>\n",
       "      <td>-500.023096</td>\n",
       "      <td>0.0</td>\n",
       "      <td>0.0</td>\n",
       "      <td>0.0</td>\n",
       "    </tr>\n",
       "    <tr>\n",
       "      <th>17910</th>\n",
       "      <td>2018-01-30 05:59:59</td>\n",
       "      <td>0.0</td>\n",
       "      <td>0.0</td>\n",
       "      <td>0.0</td>\n",
       "      <td>0.0</td>\n",
       "      <td>73.755683</td>\n",
       "      <td>0.0</td>\n",
       "      <td>0.0</td>\n",
       "      <td>0.0</td>\n",
       "      <td>0.0</td>\n",
       "      <td>...</td>\n",
       "      <td>-499.995375</td>\n",
       "      <td>10.991333</td>\n",
       "      <td>-499.941268</td>\n",
       "      <td>9.062215</td>\n",
       "      <td>-499.992738</td>\n",
       "      <td>10.996987</td>\n",
       "      <td>-499.871678</td>\n",
       "      <td>0.0</td>\n",
       "      <td>0.0</td>\n",
       "      <td>0.0</td>\n",
       "    </tr>\n",
       "    <tr>\n",
       "      <th>17911</th>\n",
       "      <td>2018-01-30 06:59:59</td>\n",
       "      <td>0.0</td>\n",
       "      <td>0.0</td>\n",
       "      <td>0.0</td>\n",
       "      <td>0.0</td>\n",
       "      <td>73.755683</td>\n",
       "      <td>0.0</td>\n",
       "      <td>0.0</td>\n",
       "      <td>0.0</td>\n",
       "      <td>0.0</td>\n",
       "      <td>...</td>\n",
       "      <td>-500.303435</td>\n",
       "      <td>10.980523</td>\n",
       "      <td>-500.095725</td>\n",
       "      <td>9.041985</td>\n",
       "      <td>-499.916563</td>\n",
       "      <td>11.010581</td>\n",
       "      <td>-500.083532</td>\n",
       "      <td>0.0</td>\n",
       "      <td>0.0</td>\n",
       "      <td>0.0</td>\n",
       "    </tr>\n",
       "    <tr>\n",
       "      <th>17912</th>\n",
       "      <td>2018-01-30 07:59:59</td>\n",
       "      <td>0.0</td>\n",
       "      <td>0.0</td>\n",
       "      <td>0.0</td>\n",
       "      <td>0.0</td>\n",
       "      <td>73.755683</td>\n",
       "      <td>0.0</td>\n",
       "      <td>0.0</td>\n",
       "      <td>0.0</td>\n",
       "      <td>0.0</td>\n",
       "      <td>...</td>\n",
       "      <td>-499.966176</td>\n",
       "      <td>10.950164</td>\n",
       "      <td>-499.910890</td>\n",
       "      <td>9.016255</td>\n",
       "      <td>-499.821464</td>\n",
       "      <td>11.006784</td>\n",
       "      <td>-499.988820</td>\n",
       "      <td>0.0</td>\n",
       "      <td>0.0</td>\n",
       "      <td>0.0</td>\n",
       "    </tr>\n",
       "  </tbody>\n",
       "</table>\n",
       "<p>1584 rows × 90 columns</p>\n",
       "</div>"
      ],
      "text/plain": [
       "                     date  final.output.concentrate_ag  \\\n",
       "99    2016-01-19 03:00:00                          0.0   \n",
       "100   2016-01-19 04:00:00                          0.0   \n",
       "101   2016-01-19 05:00:00                          0.0   \n",
       "102   2016-01-19 06:00:00                          0.0   \n",
       "103   2016-01-19 07:00:00                          0.0   \n",
       "...                   ...                          ...   \n",
       "17908 2018-01-30 03:59:59                          0.0   \n",
       "17909 2018-01-30 04:59:59                          0.0   \n",
       "17910 2018-01-30 05:59:59                          0.0   \n",
       "17911 2018-01-30 06:59:59                          0.0   \n",
       "17912 2018-01-30 07:59:59                          0.0   \n",
       "\n",
       "       final.output.concentrate_pb  final.output.concentrate_sol  \\\n",
       "99                             0.0                           0.0   \n",
       "100                            0.0                           0.0   \n",
       "101                            0.0                           0.0   \n",
       "102                            0.0                           0.0   \n",
       "103                            0.0                           0.0   \n",
       "...                            ...                           ...   \n",
       "17908                          0.0                           0.0   \n",
       "17909                          0.0                           0.0   \n",
       "17910                          0.0                           0.0   \n",
       "17911                          0.0                           0.0   \n",
       "17912                          0.0                           0.0   \n",
       "\n",
       "       final.output.concentrate_au  final.output.recovery  \\\n",
       "99                             0.0              58.017871   \n",
       "100                            0.0              58.017871   \n",
       "101                            0.0              58.017871   \n",
       "102                            0.0              58.017871   \n",
       "103                            0.0              58.017871   \n",
       "...                            ...                    ...   \n",
       "17908                          0.0              73.755683   \n",
       "17909                          0.0              73.755683   \n",
       "17910                          0.0              73.755683   \n",
       "17911                          0.0              73.755683   \n",
       "17912                          0.0              73.755683   \n",
       "\n",
       "       final.output.tail_ag  final.output.tail_pb  final.output.tail_sol  \\\n",
       "99                      0.0                   0.0                    0.0   \n",
       "100                     0.0                   0.0                    0.0   \n",
       "101                     0.0                   0.0                    0.0   \n",
       "102                     0.0                   0.0                    0.0   \n",
       "103                     0.0                   0.0                    0.0   \n",
       "...                     ...                   ...                    ...   \n",
       "17908                   0.0                   0.0                    0.0   \n",
       "17909                   0.0                   0.0                    0.0   \n",
       "17910                   0.0                   0.0                    0.0   \n",
       "17911                   0.0                   0.0                    0.0   \n",
       "17912                   0.0                   0.0                    0.0   \n",
       "\n",
       "       final.output.tail_au  ...  secondary_cleaner.state.floatbank4_b_level  \\\n",
       "99                      0.0  ...                                 -603.234250   \n",
       "100                     0.0  ...                                 -623.446329   \n",
       "101                     0.0  ...                                 -638.103348   \n",
       "102                     0.0  ...                                 -641.310327   \n",
       "103                     0.0  ...                                 -641.457227   \n",
       "...                     ...  ...                                         ...   \n",
       "17908                   0.0  ...                                 -500.230461   \n",
       "17909                   0.0  ...                                 -524.758657   \n",
       "17910                   0.0  ...                                 -499.995375   \n",
       "17911                   0.0  ...                                 -500.303435   \n",
       "17912                   0.0  ...                                 -499.966176   \n",
       "\n",
       "       secondary_cleaner.state.floatbank5_a_air  \\\n",
       "99                                     9.974968   \n",
       "100                                    9.898782   \n",
       "101                                    9.956309   \n",
       "102                                    9.966952   \n",
       "103                                   10.033820   \n",
       "...                                         ...   \n",
       "17908                                 10.909829   \n",
       "17909                                 10.961487   \n",
       "17910                                 10.991333   \n",
       "17911                                 10.980523   \n",
       "17912                                 10.950164   \n",
       "\n",
       "       secondary_cleaner.state.floatbank5_a_level  \\\n",
       "99                                    -497.092974   \n",
       "100                                   -499.623262   \n",
       "101                                   -499.791870   \n",
       "102                                   -499.842458   \n",
       "103                                   -501.291438   \n",
       "...                                           ...   \n",
       "17908                                 -500.314837   \n",
       "17909                                 -500.066426   \n",
       "17910                                 -499.941268   \n",
       "17911                                 -500.095725   \n",
       "17912                                 -499.910890   \n",
       "\n",
       "       secondary_cleaner.state.floatbank5_b_air  \\\n",
       "99                                     7.953962   \n",
       "100                                    7.979302   \n",
       "101                                    7.978806   \n",
       "102                                    8.053455   \n",
       "103                                    7.985956   \n",
       "...                                         ...   \n",
       "17908                                  9.007956   \n",
       "17909                                  9.004925   \n",
       "17910                                  9.062215   \n",
       "17911                                  9.041985   \n",
       "17912                                  9.016255   \n",
       "\n",
       "       secondary_cleaner.state.floatbank5_b_level  \\\n",
       "99                                    -499.698442   \n",
       "100                                   -500.283366   \n",
       "101                                   -500.202026   \n",
       "102                                   -499.588522   \n",
       "103                                   -499.934267   \n",
       "...                                           ...   \n",
       "17908                                 -500.153163   \n",
       "17909                                 -500.040902   \n",
       "17910                                 -499.992738   \n",
       "17911                                 -499.916563   \n",
       "17912                                 -499.821464   \n",
       "\n",
       "       secondary_cleaner.state.floatbank6_a_air  \\\n",
       "99                                    11.941642   \n",
       "100                                   11.959950   \n",
       "101                                   11.987839   \n",
       "102                                   11.987935   \n",
       "103                                   12.027556   \n",
       "...                                         ...   \n",
       "17908                                 10.988968   \n",
       "17909                                 10.961121   \n",
       "17910                                 10.996987   \n",
       "17911                                 11.010581   \n",
       "17912                                 11.006784   \n",
       "\n",
       "       secondary_cleaner.state.floatbank6_a_level  input_feed_sums  \\\n",
       "99                                    -598.541756              0.0   \n",
       "100                                   -600.998301              0.0   \n",
       "101                                   -600.302819              0.0   \n",
       "102                                   -600.523057              0.0   \n",
       "103                                   -600.108918              0.0   \n",
       "...                                           ...              ...   \n",
       "17908                                 -500.387261              0.0   \n",
       "17909                                 -500.023096              0.0   \n",
       "17910                                 -499.871678              0.0   \n",
       "17911                                 -500.083532              0.0   \n",
       "17912                                 -499.988820              0.0   \n",
       "\n",
       "       rougher_concentrate_sums  final_concentrate_sums  \n",
       "99                          0.0                     0.0  \n",
       "100                         0.0                     0.0  \n",
       "101                         0.0                     0.0  \n",
       "102                         0.0                     0.0  \n",
       "103                         0.0                     0.0  \n",
       "...                         ...                     ...  \n",
       "17908                       0.0                     0.0  \n",
       "17909                       0.0                     0.0  \n",
       "17910                       0.0                     0.0  \n",
       "17911                       0.0                     0.0  \n",
       "17912                       0.0                     0.0  \n",
       "\n",
       "[1584 rows x 90 columns]"
      ]
     },
     "execution_count": 54,
     "metadata": {},
     "output_type": "execute_result"
    }
   ],
   "source": [
    "#Use conditional filtering to check for values equivalent to '0' in the input_feed_sums column of the test set.\n",
    "data_full[data_full['input_feed_sums'] == 0]"
   ]
  },
  {
   "cell_type": "markdown",
   "metadata": {},
   "source": [
    "Conclusion:\n",
    "There appears to be zero values in the 'input_feed_sums' (Raw Feed Sums) column of the data_full dataframe."
   ]
  },
  {
   "cell_type": "code",
   "execution_count": 55,
   "metadata": {},
   "outputs": [
    {
     "data": {
      "text/html": [
       "<div>\n",
       "<style scoped>\n",
       "    .dataframe tbody tr th:only-of-type {\n",
       "        vertical-align: middle;\n",
       "    }\n",
       "\n",
       "    .dataframe tbody tr th {\n",
       "        vertical-align: top;\n",
       "    }\n",
       "\n",
       "    .dataframe thead th {\n",
       "        text-align: right;\n",
       "    }\n",
       "</style>\n",
       "<table border=\"1\" class=\"dataframe\">\n",
       "  <thead>\n",
       "    <tr style=\"text-align: right;\">\n",
       "      <th></th>\n",
       "      <th>date</th>\n",
       "      <th>final.output.concentrate_ag</th>\n",
       "      <th>final.output.concentrate_pb</th>\n",
       "      <th>final.output.concentrate_sol</th>\n",
       "      <th>final.output.concentrate_au</th>\n",
       "      <th>final.output.recovery</th>\n",
       "      <th>final.output.tail_ag</th>\n",
       "      <th>final.output.tail_pb</th>\n",
       "      <th>final.output.tail_sol</th>\n",
       "      <th>final.output.tail_au</th>\n",
       "      <th>...</th>\n",
       "      <th>secondary_cleaner.state.floatbank4_b_level</th>\n",
       "      <th>secondary_cleaner.state.floatbank5_a_air</th>\n",
       "      <th>secondary_cleaner.state.floatbank5_a_level</th>\n",
       "      <th>secondary_cleaner.state.floatbank5_b_air</th>\n",
       "      <th>secondary_cleaner.state.floatbank5_b_level</th>\n",
       "      <th>secondary_cleaner.state.floatbank6_a_air</th>\n",
       "      <th>secondary_cleaner.state.floatbank6_a_level</th>\n",
       "      <th>input_feed_sums</th>\n",
       "      <th>rougher_concentrate_sums</th>\n",
       "      <th>final_concentrate_sums</th>\n",
       "    </tr>\n",
       "  </thead>\n",
       "  <tbody>\n",
       "    <tr>\n",
       "      <th>45</th>\n",
       "      <td>2016-01-16 21:00:00</td>\n",
       "      <td>4.566664</td>\n",
       "      <td>10.406178</td>\n",
       "      <td>4.588698</td>\n",
       "      <td>46.614456</td>\n",
       "      <td>68.403877</td>\n",
       "      <td>10.705777</td>\n",
       "      <td>1.509070</td>\n",
       "      <td>17.875134</td>\n",
       "      <td>2.509776</td>\n",
       "      <td>...</td>\n",
       "      <td>-550.570104</td>\n",
       "      <td>10.052072</td>\n",
       "      <td>-500.797905</td>\n",
       "      <td>7.984500</td>\n",
       "      <td>-499.581046</td>\n",
       "      <td>11.982025</td>\n",
       "      <td>-599.161228</td>\n",
       "      <td>17.447608</td>\n",
       "      <td>0.0</td>\n",
       "      <td>51.181120</td>\n",
       "    </tr>\n",
       "    <tr>\n",
       "      <th>46</th>\n",
       "      <td>2016-01-16 22:00:00</td>\n",
       "      <td>4.577832</td>\n",
       "      <td>10.691605</td>\n",
       "      <td>5.274175</td>\n",
       "      <td>46.250638</td>\n",
       "      <td>70.675633</td>\n",
       "      <td>10.728531</td>\n",
       "      <td>1.641216</td>\n",
       "      <td>18.349339</td>\n",
       "      <td>2.540843</td>\n",
       "      <td>...</td>\n",
       "      <td>-550.496522</td>\n",
       "      <td>9.953139</td>\n",
       "      <td>-500.330920</td>\n",
       "      <td>8.012074</td>\n",
       "      <td>-500.133530</td>\n",
       "      <td>11.975316</td>\n",
       "      <td>-598.839683</td>\n",
       "      <td>17.938550</td>\n",
       "      <td>0.0</td>\n",
       "      <td>50.828470</td>\n",
       "    </tr>\n",
       "    <tr>\n",
       "      <th>47</th>\n",
       "      <td>2016-01-16 23:00:00</td>\n",
       "      <td>4.591462</td>\n",
       "      <td>10.628846</td>\n",
       "      <td>5.688961</td>\n",
       "      <td>46.663335</td>\n",
       "      <td>55.088448</td>\n",
       "      <td>10.694584</td>\n",
       "      <td>1.671644</td>\n",
       "      <td>17.910312</td>\n",
       "      <td>2.686782</td>\n",
       "      <td>...</td>\n",
       "      <td>-550.095619</td>\n",
       "      <td>9.981163</td>\n",
       "      <td>-502.869109</td>\n",
       "      <td>7.941184</td>\n",
       "      <td>-500.623610</td>\n",
       "      <td>12.018837</td>\n",
       "      <td>-600.916665</td>\n",
       "      <td>15.285978</td>\n",
       "      <td>0.0</td>\n",
       "      <td>51.254797</td>\n",
       "    </tr>\n",
       "    <tr>\n",
       "      <th>48</th>\n",
       "      <td>2016-01-17 00:00:00</td>\n",
       "      <td>5.296830</td>\n",
       "      <td>10.597469</td>\n",
       "      <td>5.688961</td>\n",
       "      <td>44.015642</td>\n",
       "      <td>41.962008</td>\n",
       "      <td>11.975654</td>\n",
       "      <td>1.846558</td>\n",
       "      <td>8.138408</td>\n",
       "      <td>2.889469</td>\n",
       "      <td>...</td>\n",
       "      <td>-550.778624</td>\n",
       "      <td>9.989726</td>\n",
       "      <td>-499.607365</td>\n",
       "      <td>7.958252</td>\n",
       "      <td>-498.882560</td>\n",
       "      <td>11.967977</td>\n",
       "      <td>-599.440603</td>\n",
       "      <td>13.535634</td>\n",
       "      <td>0.0</td>\n",
       "      <td>49.312473</td>\n",
       "    </tr>\n",
       "    <tr>\n",
       "      <th>49</th>\n",
       "      <td>2016-01-17 01:00:00</td>\n",
       "      <td>7.256114</td>\n",
       "      <td>9.017677</td>\n",
       "      <td>5.688961</td>\n",
       "      <td>43.389252</td>\n",
       "      <td>41.962008</td>\n",
       "      <td>12.100582</td>\n",
       "      <td>1.758360</td>\n",
       "      <td>4.606019</td>\n",
       "      <td>3.202483</td>\n",
       "      <td>...</td>\n",
       "      <td>-549.583570</td>\n",
       "      <td>10.094584</td>\n",
       "      <td>-492.041563</td>\n",
       "      <td>8.054770</td>\n",
       "      <td>-498.802262</td>\n",
       "      <td>11.961330</td>\n",
       "      <td>-597.272218</td>\n",
       "      <td>0.088703</td>\n",
       "      <td>0.0</td>\n",
       "      <td>50.645366</td>\n",
       "    </tr>\n",
       "    <tr>\n",
       "      <th>...</th>\n",
       "      <td>...</td>\n",
       "      <td>...</td>\n",
       "      <td>...</td>\n",
       "      <td>...</td>\n",
       "      <td>...</td>\n",
       "      <td>...</td>\n",
       "      <td>...</td>\n",
       "      <td>...</td>\n",
       "      <td>...</td>\n",
       "      <td>...</td>\n",
       "      <td>...</td>\n",
       "      <td>...</td>\n",
       "      <td>...</td>\n",
       "      <td>...</td>\n",
       "      <td>...</td>\n",
       "      <td>...</td>\n",
       "      <td>...</td>\n",
       "      <td>...</td>\n",
       "      <td>...</td>\n",
       "      <td>...</td>\n",
       "      <td>...</td>\n",
       "    </tr>\n",
       "    <tr>\n",
       "      <th>18216</th>\n",
       "      <td>2018-02-11 23:59:59</td>\n",
       "      <td>4.909904</td>\n",
       "      <td>9.941006</td>\n",
       "      <td>8.191698</td>\n",
       "      <td>47.660737</td>\n",
       "      <td>83.597741</td>\n",
       "      <td>8.853800</td>\n",
       "      <td>0.717677</td>\n",
       "      <td>13.399798</td>\n",
       "      <td>1.515512</td>\n",
       "      <td>...</td>\n",
       "      <td>-500.386063</td>\n",
       "      <td>10.998883</td>\n",
       "      <td>-499.846204</td>\n",
       "      <td>8.972741</td>\n",
       "      <td>-500.118532</td>\n",
       "      <td>10.966205</td>\n",
       "      <td>-500.707126</td>\n",
       "      <td>19.134226</td>\n",
       "      <td>0.0</td>\n",
       "      <td>52.570641</td>\n",
       "    </tr>\n",
       "    <tr>\n",
       "      <th>18217</th>\n",
       "      <td>2018-02-12 00:59:59</td>\n",
       "      <td>4.797572</td>\n",
       "      <td>9.889303</td>\n",
       "      <td>8.326773</td>\n",
       "      <td>47.801056</td>\n",
       "      <td>84.738648</td>\n",
       "      <td>8.503813</td>\n",
       "      <td>0.757507</td>\n",
       "      <td>13.591903</td>\n",
       "      <td>1.573222</td>\n",
       "      <td>...</td>\n",
       "      <td>-499.891798</td>\n",
       "      <td>11.010768</td>\n",
       "      <td>-494.562898</td>\n",
       "      <td>9.028307</td>\n",
       "      <td>-499.007596</td>\n",
       "      <td>10.978016</td>\n",
       "      <td>-497.924873</td>\n",
       "      <td>20.260847</td>\n",
       "      <td>0.0</td>\n",
       "      <td>52.598628</td>\n",
       "    </tr>\n",
       "    <tr>\n",
       "      <th>18218</th>\n",
       "      <td>2018-02-12 01:59:59</td>\n",
       "      <td>4.329492</td>\n",
       "      <td>9.413122</td>\n",
       "      <td>8.173988</td>\n",
       "      <td>49.412576</td>\n",
       "      <td>73.519948</td>\n",
       "      <td>8.846540</td>\n",
       "      <td>1.479231</td>\n",
       "      <td>13.094763</td>\n",
       "      <td>2.760905</td>\n",
       "      <td>...</td>\n",
       "      <td>-499.873967</td>\n",
       "      <td>11.034954</td>\n",
       "      <td>-493.250025</td>\n",
       "      <td>9.029441</td>\n",
       "      <td>-480.953533</td>\n",
       "      <td>11.021042</td>\n",
       "      <td>-499.685577</td>\n",
       "      <td>20.815431</td>\n",
       "      <td>0.0</td>\n",
       "      <td>53.742068</td>\n",
       "    </tr>\n",
       "    <tr>\n",
       "      <th>18219</th>\n",
       "      <td>2018-02-12 02:59:59</td>\n",
       "      <td>4.317169</td>\n",
       "      <td>9.642271</td>\n",
       "      <td>8.396492</td>\n",
       "      <td>48.839994</td>\n",
       "      <td>78.415342</td>\n",
       "      <td>8.485093</td>\n",
       "      <td>1.155559</td>\n",
       "      <td>13.380461</td>\n",
       "      <td>2.198065</td>\n",
       "      <td>...</td>\n",
       "      <td>-500.084773</td>\n",
       "      <td>10.972473</td>\n",
       "      <td>-511.806312</td>\n",
       "      <td>8.991251</td>\n",
       "      <td>-500.706169</td>\n",
       "      <td>10.990072</td>\n",
       "      <td>-499.775802</td>\n",
       "      <td>20.339423</td>\n",
       "      <td>0.0</td>\n",
       "      <td>53.157163</td>\n",
       "    </tr>\n",
       "    <tr>\n",
       "      <th>18220</th>\n",
       "      <td>2018-02-12 03:59:59</td>\n",
       "      <td>4.772368</td>\n",
       "      <td>10.273324</td>\n",
       "      <td>8.756321</td>\n",
       "      <td>47.346243</td>\n",
       "      <td>81.353620</td>\n",
       "      <td>8.900304</td>\n",
       "      <td>0.954961</td>\n",
       "      <td>13.374091</td>\n",
       "      <td>1.847744</td>\n",
       "      <td>...</td>\n",
       "      <td>-499.902077</td>\n",
       "      <td>10.982694</td>\n",
       "      <td>-499.780753</td>\n",
       "      <td>8.932517</td>\n",
       "      <td>-500.147271</td>\n",
       "      <td>11.001657</td>\n",
       "      <td>-499.736922</td>\n",
       "      <td>20.125127</td>\n",
       "      <td>0.0</td>\n",
       "      <td>52.118612</td>\n",
       "    </tr>\n",
       "  </tbody>\n",
       "</table>\n",
       "<p>2009 rows × 90 columns</p>\n",
       "</div>"
      ],
      "text/plain": [
       "                     date  final.output.concentrate_ag  \\\n",
       "45    2016-01-16 21:00:00                     4.566664   \n",
       "46    2016-01-16 22:00:00                     4.577832   \n",
       "47    2016-01-16 23:00:00                     4.591462   \n",
       "48    2016-01-17 00:00:00                     5.296830   \n",
       "49    2016-01-17 01:00:00                     7.256114   \n",
       "...                   ...                          ...   \n",
       "18216 2018-02-11 23:59:59                     4.909904   \n",
       "18217 2018-02-12 00:59:59                     4.797572   \n",
       "18218 2018-02-12 01:59:59                     4.329492   \n",
       "18219 2018-02-12 02:59:59                     4.317169   \n",
       "18220 2018-02-12 03:59:59                     4.772368   \n",
       "\n",
       "       final.output.concentrate_pb  final.output.concentrate_sol  \\\n",
       "45                       10.406178                      4.588698   \n",
       "46                       10.691605                      5.274175   \n",
       "47                       10.628846                      5.688961   \n",
       "48                       10.597469                      5.688961   \n",
       "49                        9.017677                      5.688961   \n",
       "...                            ...                           ...   \n",
       "18216                     9.941006                      8.191698   \n",
       "18217                     9.889303                      8.326773   \n",
       "18218                     9.413122                      8.173988   \n",
       "18219                     9.642271                      8.396492   \n",
       "18220                    10.273324                      8.756321   \n",
       "\n",
       "       final.output.concentrate_au  final.output.recovery  \\\n",
       "45                       46.614456              68.403877   \n",
       "46                       46.250638              70.675633   \n",
       "47                       46.663335              55.088448   \n",
       "48                       44.015642              41.962008   \n",
       "49                       43.389252              41.962008   \n",
       "...                            ...                    ...   \n",
       "18216                    47.660737              83.597741   \n",
       "18217                    47.801056              84.738648   \n",
       "18218                    49.412576              73.519948   \n",
       "18219                    48.839994              78.415342   \n",
       "18220                    47.346243              81.353620   \n",
       "\n",
       "       final.output.tail_ag  final.output.tail_pb  final.output.tail_sol  \\\n",
       "45                10.705777              1.509070              17.875134   \n",
       "46                10.728531              1.641216              18.349339   \n",
       "47                10.694584              1.671644              17.910312   \n",
       "48                11.975654              1.846558               8.138408   \n",
       "49                12.100582              1.758360               4.606019   \n",
       "...                     ...                   ...                    ...   \n",
       "18216              8.853800              0.717677              13.399798   \n",
       "18217              8.503813              0.757507              13.591903   \n",
       "18218              8.846540              1.479231              13.094763   \n",
       "18219              8.485093              1.155559              13.380461   \n",
       "18220              8.900304              0.954961              13.374091   \n",
       "\n",
       "       final.output.tail_au  ...  secondary_cleaner.state.floatbank4_b_level  \\\n",
       "45                 2.509776  ...                                 -550.570104   \n",
       "46                 2.540843  ...                                 -550.496522   \n",
       "47                 2.686782  ...                                 -550.095619   \n",
       "48                 2.889469  ...                                 -550.778624   \n",
       "49                 3.202483  ...                                 -549.583570   \n",
       "...                     ...  ...                                         ...   \n",
       "18216              1.515512  ...                                 -500.386063   \n",
       "18217              1.573222  ...                                 -499.891798   \n",
       "18218              2.760905  ...                                 -499.873967   \n",
       "18219              2.198065  ...                                 -500.084773   \n",
       "18220              1.847744  ...                                 -499.902077   \n",
       "\n",
       "       secondary_cleaner.state.floatbank5_a_air  \\\n",
       "45                                    10.052072   \n",
       "46                                     9.953139   \n",
       "47                                     9.981163   \n",
       "48                                     9.989726   \n",
       "49                                    10.094584   \n",
       "...                                         ...   \n",
       "18216                                 10.998883   \n",
       "18217                                 11.010768   \n",
       "18218                                 11.034954   \n",
       "18219                                 10.972473   \n",
       "18220                                 10.982694   \n",
       "\n",
       "       secondary_cleaner.state.floatbank5_a_level  \\\n",
       "45                                    -500.797905   \n",
       "46                                    -500.330920   \n",
       "47                                    -502.869109   \n",
       "48                                    -499.607365   \n",
       "49                                    -492.041563   \n",
       "...                                           ...   \n",
       "18216                                 -499.846204   \n",
       "18217                                 -494.562898   \n",
       "18218                                 -493.250025   \n",
       "18219                                 -511.806312   \n",
       "18220                                 -499.780753   \n",
       "\n",
       "       secondary_cleaner.state.floatbank5_b_air  \\\n",
       "45                                     7.984500   \n",
       "46                                     8.012074   \n",
       "47                                     7.941184   \n",
       "48                                     7.958252   \n",
       "49                                     8.054770   \n",
       "...                                         ...   \n",
       "18216                                  8.972741   \n",
       "18217                                  9.028307   \n",
       "18218                                  9.029441   \n",
       "18219                                  8.991251   \n",
       "18220                                  8.932517   \n",
       "\n",
       "       secondary_cleaner.state.floatbank5_b_level  \\\n",
       "45                                    -499.581046   \n",
       "46                                    -500.133530   \n",
       "47                                    -500.623610   \n",
       "48                                    -498.882560   \n",
       "49                                    -498.802262   \n",
       "...                                           ...   \n",
       "18216                                 -500.118532   \n",
       "18217                                 -499.007596   \n",
       "18218                                 -480.953533   \n",
       "18219                                 -500.706169   \n",
       "18220                                 -500.147271   \n",
       "\n",
       "       secondary_cleaner.state.floatbank6_a_air  \\\n",
       "45                                    11.982025   \n",
       "46                                    11.975316   \n",
       "47                                    12.018837   \n",
       "48                                    11.967977   \n",
       "49                                    11.961330   \n",
       "...                                         ...   \n",
       "18216                                 10.966205   \n",
       "18217                                 10.978016   \n",
       "18218                                 11.021042   \n",
       "18219                                 10.990072   \n",
       "18220                                 11.001657   \n",
       "\n",
       "       secondary_cleaner.state.floatbank6_a_level  input_feed_sums  \\\n",
       "45                                    -599.161228        17.447608   \n",
       "46                                    -598.839683        17.938550   \n",
       "47                                    -600.916665        15.285978   \n",
       "48                                    -599.440603        13.535634   \n",
       "49                                    -597.272218         0.088703   \n",
       "...                                           ...              ...   \n",
       "18216                                 -500.707126        19.134226   \n",
       "18217                                 -497.924873        20.260847   \n",
       "18218                                 -499.685577        20.815431   \n",
       "18219                                 -499.775802        20.339423   \n",
       "18220                                 -499.736922        20.125127   \n",
       "\n",
       "       rougher_concentrate_sums  final_concentrate_sums  \n",
       "45                          0.0               51.181120  \n",
       "46                          0.0               50.828470  \n",
       "47                          0.0               51.254797  \n",
       "48                          0.0               49.312473  \n",
       "49                          0.0               50.645366  \n",
       "...                         ...                     ...  \n",
       "18216                       0.0               52.570641  \n",
       "18217                       0.0               52.598628  \n",
       "18218                       0.0               53.742068  \n",
       "18219                       0.0               53.157163  \n",
       "18220                       0.0               52.118612  \n",
       "\n",
       "[2009 rows x 90 columns]"
      ]
     },
     "execution_count": 55,
     "metadata": {},
     "output_type": "execute_result"
    }
   ],
   "source": [
    "#Use conditional filtering to check for values equivalent to '0' in the rougher_concentrate_sums column of the test set.\n",
    "data_full[data_full['rougher_concentrate_sums'] == 0]"
   ]
  },
  {
   "cell_type": "markdown",
   "metadata": {},
   "source": [
    "Conclusion:\n",
    "There appears to be zero values in the 'rougher_concentrate_sums' (Rougher Concentrate Sums) column of the data_full dataframe."
   ]
  },
  {
   "cell_type": "code",
   "execution_count": 56,
   "metadata": {},
   "outputs": [
    {
     "data": {
      "text/html": [
       "<div>\n",
       "<style scoped>\n",
       "    .dataframe tbody tr th:only-of-type {\n",
       "        vertical-align: middle;\n",
       "    }\n",
       "\n",
       "    .dataframe tbody tr th {\n",
       "        vertical-align: top;\n",
       "    }\n",
       "\n",
       "    .dataframe thead th {\n",
       "        text-align: right;\n",
       "    }\n",
       "</style>\n",
       "<table border=\"1\" class=\"dataframe\">\n",
       "  <thead>\n",
       "    <tr style=\"text-align: right;\">\n",
       "      <th></th>\n",
       "      <th>date</th>\n",
       "      <th>final.output.concentrate_ag</th>\n",
       "      <th>final.output.concentrate_pb</th>\n",
       "      <th>final.output.concentrate_sol</th>\n",
       "      <th>final.output.concentrate_au</th>\n",
       "      <th>final.output.recovery</th>\n",
       "      <th>final.output.tail_ag</th>\n",
       "      <th>final.output.tail_pb</th>\n",
       "      <th>final.output.tail_sol</th>\n",
       "      <th>final.output.tail_au</th>\n",
       "      <th>...</th>\n",
       "      <th>secondary_cleaner.state.floatbank4_b_level</th>\n",
       "      <th>secondary_cleaner.state.floatbank5_a_air</th>\n",
       "      <th>secondary_cleaner.state.floatbank5_a_level</th>\n",
       "      <th>secondary_cleaner.state.floatbank5_b_air</th>\n",
       "      <th>secondary_cleaner.state.floatbank5_b_level</th>\n",
       "      <th>secondary_cleaner.state.floatbank6_a_air</th>\n",
       "      <th>secondary_cleaner.state.floatbank6_a_level</th>\n",
       "      <th>input_feed_sums</th>\n",
       "      <th>rougher_concentrate_sums</th>\n",
       "      <th>final_concentrate_sums</th>\n",
       "    </tr>\n",
       "  </thead>\n",
       "  <tbody>\n",
       "    <tr>\n",
       "      <th>99</th>\n",
       "      <td>2016-01-19 03:00:00</td>\n",
       "      <td>0.0</td>\n",
       "      <td>0.0</td>\n",
       "      <td>0.0</td>\n",
       "      <td>0.0</td>\n",
       "      <td>58.017871</td>\n",
       "      <td>0.0</td>\n",
       "      <td>0.0</td>\n",
       "      <td>0.0</td>\n",
       "      <td>0.0</td>\n",
       "      <td>...</td>\n",
       "      <td>-603.234250</td>\n",
       "      <td>9.974968</td>\n",
       "      <td>-497.092974</td>\n",
       "      <td>7.953962</td>\n",
       "      <td>-499.698442</td>\n",
       "      <td>11.941642</td>\n",
       "      <td>-598.541756</td>\n",
       "      <td>0.000000</td>\n",
       "      <td>0.0</td>\n",
       "      <td>0.0</td>\n",
       "    </tr>\n",
       "    <tr>\n",
       "      <th>100</th>\n",
       "      <td>2016-01-19 04:00:00</td>\n",
       "      <td>0.0</td>\n",
       "      <td>0.0</td>\n",
       "      <td>0.0</td>\n",
       "      <td>0.0</td>\n",
       "      <td>58.017871</td>\n",
       "      <td>0.0</td>\n",
       "      <td>0.0</td>\n",
       "      <td>0.0</td>\n",
       "      <td>0.0</td>\n",
       "      <td>...</td>\n",
       "      <td>-623.446329</td>\n",
       "      <td>9.898782</td>\n",
       "      <td>-499.623262</td>\n",
       "      <td>7.979302</td>\n",
       "      <td>-500.283366</td>\n",
       "      <td>11.959950</td>\n",
       "      <td>-600.998301</td>\n",
       "      <td>0.000000</td>\n",
       "      <td>0.0</td>\n",
       "      <td>0.0</td>\n",
       "    </tr>\n",
       "    <tr>\n",
       "      <th>101</th>\n",
       "      <td>2016-01-19 05:00:00</td>\n",
       "      <td>0.0</td>\n",
       "      <td>0.0</td>\n",
       "      <td>0.0</td>\n",
       "      <td>0.0</td>\n",
       "      <td>58.017871</td>\n",
       "      <td>0.0</td>\n",
       "      <td>0.0</td>\n",
       "      <td>0.0</td>\n",
       "      <td>0.0</td>\n",
       "      <td>...</td>\n",
       "      <td>-638.103348</td>\n",
       "      <td>9.956309</td>\n",
       "      <td>-499.791870</td>\n",
       "      <td>7.978806</td>\n",
       "      <td>-500.202026</td>\n",
       "      <td>11.987839</td>\n",
       "      <td>-600.302819</td>\n",
       "      <td>0.000000</td>\n",
       "      <td>0.0</td>\n",
       "      <td>0.0</td>\n",
       "    </tr>\n",
       "    <tr>\n",
       "      <th>102</th>\n",
       "      <td>2016-01-19 06:00:00</td>\n",
       "      <td>0.0</td>\n",
       "      <td>0.0</td>\n",
       "      <td>0.0</td>\n",
       "      <td>0.0</td>\n",
       "      <td>58.017871</td>\n",
       "      <td>0.0</td>\n",
       "      <td>0.0</td>\n",
       "      <td>0.0</td>\n",
       "      <td>0.0</td>\n",
       "      <td>...</td>\n",
       "      <td>-641.310327</td>\n",
       "      <td>9.966952</td>\n",
       "      <td>-499.842458</td>\n",
       "      <td>8.053455</td>\n",
       "      <td>-499.588522</td>\n",
       "      <td>11.987935</td>\n",
       "      <td>-600.523057</td>\n",
       "      <td>0.000000</td>\n",
       "      <td>0.0</td>\n",
       "      <td>0.0</td>\n",
       "    </tr>\n",
       "    <tr>\n",
       "      <th>103</th>\n",
       "      <td>2016-01-19 07:00:00</td>\n",
       "      <td>0.0</td>\n",
       "      <td>0.0</td>\n",
       "      <td>0.0</td>\n",
       "      <td>0.0</td>\n",
       "      <td>58.017871</td>\n",
       "      <td>0.0</td>\n",
       "      <td>0.0</td>\n",
       "      <td>0.0</td>\n",
       "      <td>0.0</td>\n",
       "      <td>...</td>\n",
       "      <td>-641.457227</td>\n",
       "      <td>10.033820</td>\n",
       "      <td>-501.291438</td>\n",
       "      <td>7.985956</td>\n",
       "      <td>-499.934267</td>\n",
       "      <td>12.027556</td>\n",
       "      <td>-600.108918</td>\n",
       "      <td>0.000000</td>\n",
       "      <td>0.0</td>\n",
       "      <td>0.0</td>\n",
       "    </tr>\n",
       "    <tr>\n",
       "      <th>...</th>\n",
       "      <td>...</td>\n",
       "      <td>...</td>\n",
       "      <td>...</td>\n",
       "      <td>...</td>\n",
       "      <td>...</td>\n",
       "      <td>...</td>\n",
       "      <td>...</td>\n",
       "      <td>...</td>\n",
       "      <td>...</td>\n",
       "      <td>...</td>\n",
       "      <td>...</td>\n",
       "      <td>...</td>\n",
       "      <td>...</td>\n",
       "      <td>...</td>\n",
       "      <td>...</td>\n",
       "      <td>...</td>\n",
       "      <td>...</td>\n",
       "      <td>...</td>\n",
       "      <td>...</td>\n",
       "      <td>...</td>\n",
       "      <td>...</td>\n",
       "    </tr>\n",
       "    <tr>\n",
       "      <th>17909</th>\n",
       "      <td>2018-01-30 04:59:59</td>\n",
       "      <td>0.0</td>\n",
       "      <td>0.0</td>\n",
       "      <td>0.0</td>\n",
       "      <td>0.0</td>\n",
       "      <td>73.755683</td>\n",
       "      <td>0.0</td>\n",
       "      <td>0.0</td>\n",
       "      <td>0.0</td>\n",
       "      <td>0.0</td>\n",
       "      <td>...</td>\n",
       "      <td>-524.758657</td>\n",
       "      <td>10.961487</td>\n",
       "      <td>-500.066426</td>\n",
       "      <td>9.004925</td>\n",
       "      <td>-500.040902</td>\n",
       "      <td>10.961121</td>\n",
       "      <td>-500.023096</td>\n",
       "      <td>0.000000</td>\n",
       "      <td>0.0</td>\n",
       "      <td>0.0</td>\n",
       "    </tr>\n",
       "    <tr>\n",
       "      <th>17910</th>\n",
       "      <td>2018-01-30 05:59:59</td>\n",
       "      <td>0.0</td>\n",
       "      <td>0.0</td>\n",
       "      <td>0.0</td>\n",
       "      <td>0.0</td>\n",
       "      <td>73.755683</td>\n",
       "      <td>0.0</td>\n",
       "      <td>0.0</td>\n",
       "      <td>0.0</td>\n",
       "      <td>0.0</td>\n",
       "      <td>...</td>\n",
       "      <td>-499.995375</td>\n",
       "      <td>10.991333</td>\n",
       "      <td>-499.941268</td>\n",
       "      <td>9.062215</td>\n",
       "      <td>-499.992738</td>\n",
       "      <td>10.996987</td>\n",
       "      <td>-499.871678</td>\n",
       "      <td>0.000000</td>\n",
       "      <td>0.0</td>\n",
       "      <td>0.0</td>\n",
       "    </tr>\n",
       "    <tr>\n",
       "      <th>17911</th>\n",
       "      <td>2018-01-30 06:59:59</td>\n",
       "      <td>0.0</td>\n",
       "      <td>0.0</td>\n",
       "      <td>0.0</td>\n",
       "      <td>0.0</td>\n",
       "      <td>73.755683</td>\n",
       "      <td>0.0</td>\n",
       "      <td>0.0</td>\n",
       "      <td>0.0</td>\n",
       "      <td>0.0</td>\n",
       "      <td>...</td>\n",
       "      <td>-500.303435</td>\n",
       "      <td>10.980523</td>\n",
       "      <td>-500.095725</td>\n",
       "      <td>9.041985</td>\n",
       "      <td>-499.916563</td>\n",
       "      <td>11.010581</td>\n",
       "      <td>-500.083532</td>\n",
       "      <td>0.000000</td>\n",
       "      <td>0.0</td>\n",
       "      <td>0.0</td>\n",
       "    </tr>\n",
       "    <tr>\n",
       "      <th>17912</th>\n",
       "      <td>2018-01-30 07:59:59</td>\n",
       "      <td>0.0</td>\n",
       "      <td>0.0</td>\n",
       "      <td>0.0</td>\n",
       "      <td>0.0</td>\n",
       "      <td>73.755683</td>\n",
       "      <td>0.0</td>\n",
       "      <td>0.0</td>\n",
       "      <td>0.0</td>\n",
       "      <td>0.0</td>\n",
       "      <td>...</td>\n",
       "      <td>-499.966176</td>\n",
       "      <td>10.950164</td>\n",
       "      <td>-499.910890</td>\n",
       "      <td>9.016255</td>\n",
       "      <td>-499.821464</td>\n",
       "      <td>11.006784</td>\n",
       "      <td>-499.988820</td>\n",
       "      <td>0.000000</td>\n",
       "      <td>0.0</td>\n",
       "      <td>0.0</td>\n",
       "    </tr>\n",
       "    <tr>\n",
       "      <th>17913</th>\n",
       "      <td>2018-01-30 08:59:59</td>\n",
       "      <td>0.0</td>\n",
       "      <td>0.0</td>\n",
       "      <td>0.0</td>\n",
       "      <td>0.0</td>\n",
       "      <td>73.755683</td>\n",
       "      <td>0.0</td>\n",
       "      <td>0.0</td>\n",
       "      <td>0.0</td>\n",
       "      <td>0.0</td>\n",
       "      <td>...</td>\n",
       "      <td>-500.059731</td>\n",
       "      <td>10.904404</td>\n",
       "      <td>-500.296086</td>\n",
       "      <td>8.977819</td>\n",
       "      <td>-500.072435</td>\n",
       "      <td>10.985998</td>\n",
       "      <td>-500.329522</td>\n",
       "      <td>0.672178</td>\n",
       "      <td>0.0</td>\n",
       "      <td>0.0</td>\n",
       "    </tr>\n",
       "  </tbody>\n",
       "</table>\n",
       "<p>1439 rows × 90 columns</p>\n",
       "</div>"
      ],
      "text/plain": [
       "                     date  final.output.concentrate_ag  \\\n",
       "99    2016-01-19 03:00:00                          0.0   \n",
       "100   2016-01-19 04:00:00                          0.0   \n",
       "101   2016-01-19 05:00:00                          0.0   \n",
       "102   2016-01-19 06:00:00                          0.0   \n",
       "103   2016-01-19 07:00:00                          0.0   \n",
       "...                   ...                          ...   \n",
       "17909 2018-01-30 04:59:59                          0.0   \n",
       "17910 2018-01-30 05:59:59                          0.0   \n",
       "17911 2018-01-30 06:59:59                          0.0   \n",
       "17912 2018-01-30 07:59:59                          0.0   \n",
       "17913 2018-01-30 08:59:59                          0.0   \n",
       "\n",
       "       final.output.concentrate_pb  final.output.concentrate_sol  \\\n",
       "99                             0.0                           0.0   \n",
       "100                            0.0                           0.0   \n",
       "101                            0.0                           0.0   \n",
       "102                            0.0                           0.0   \n",
       "103                            0.0                           0.0   \n",
       "...                            ...                           ...   \n",
       "17909                          0.0                           0.0   \n",
       "17910                          0.0                           0.0   \n",
       "17911                          0.0                           0.0   \n",
       "17912                          0.0                           0.0   \n",
       "17913                          0.0                           0.0   \n",
       "\n",
       "       final.output.concentrate_au  final.output.recovery  \\\n",
       "99                             0.0              58.017871   \n",
       "100                            0.0              58.017871   \n",
       "101                            0.0              58.017871   \n",
       "102                            0.0              58.017871   \n",
       "103                            0.0              58.017871   \n",
       "...                            ...                    ...   \n",
       "17909                          0.0              73.755683   \n",
       "17910                          0.0              73.755683   \n",
       "17911                          0.0              73.755683   \n",
       "17912                          0.0              73.755683   \n",
       "17913                          0.0              73.755683   \n",
       "\n",
       "       final.output.tail_ag  final.output.tail_pb  final.output.tail_sol  \\\n",
       "99                      0.0                   0.0                    0.0   \n",
       "100                     0.0                   0.0                    0.0   \n",
       "101                     0.0                   0.0                    0.0   \n",
       "102                     0.0                   0.0                    0.0   \n",
       "103                     0.0                   0.0                    0.0   \n",
       "...                     ...                   ...                    ...   \n",
       "17909                   0.0                   0.0                    0.0   \n",
       "17910                   0.0                   0.0                    0.0   \n",
       "17911                   0.0                   0.0                    0.0   \n",
       "17912                   0.0                   0.0                    0.0   \n",
       "17913                   0.0                   0.0                    0.0   \n",
       "\n",
       "       final.output.tail_au  ...  secondary_cleaner.state.floatbank4_b_level  \\\n",
       "99                      0.0  ...                                 -603.234250   \n",
       "100                     0.0  ...                                 -623.446329   \n",
       "101                     0.0  ...                                 -638.103348   \n",
       "102                     0.0  ...                                 -641.310327   \n",
       "103                     0.0  ...                                 -641.457227   \n",
       "...                     ...  ...                                         ...   \n",
       "17909                   0.0  ...                                 -524.758657   \n",
       "17910                   0.0  ...                                 -499.995375   \n",
       "17911                   0.0  ...                                 -500.303435   \n",
       "17912                   0.0  ...                                 -499.966176   \n",
       "17913                   0.0  ...                                 -500.059731   \n",
       "\n",
       "       secondary_cleaner.state.floatbank5_a_air  \\\n",
       "99                                     9.974968   \n",
       "100                                    9.898782   \n",
       "101                                    9.956309   \n",
       "102                                    9.966952   \n",
       "103                                   10.033820   \n",
       "...                                         ...   \n",
       "17909                                 10.961487   \n",
       "17910                                 10.991333   \n",
       "17911                                 10.980523   \n",
       "17912                                 10.950164   \n",
       "17913                                 10.904404   \n",
       "\n",
       "       secondary_cleaner.state.floatbank5_a_level  \\\n",
       "99                                    -497.092974   \n",
       "100                                   -499.623262   \n",
       "101                                   -499.791870   \n",
       "102                                   -499.842458   \n",
       "103                                   -501.291438   \n",
       "...                                           ...   \n",
       "17909                                 -500.066426   \n",
       "17910                                 -499.941268   \n",
       "17911                                 -500.095725   \n",
       "17912                                 -499.910890   \n",
       "17913                                 -500.296086   \n",
       "\n",
       "       secondary_cleaner.state.floatbank5_b_air  \\\n",
       "99                                     7.953962   \n",
       "100                                    7.979302   \n",
       "101                                    7.978806   \n",
       "102                                    8.053455   \n",
       "103                                    7.985956   \n",
       "...                                         ...   \n",
       "17909                                  9.004925   \n",
       "17910                                  9.062215   \n",
       "17911                                  9.041985   \n",
       "17912                                  9.016255   \n",
       "17913                                  8.977819   \n",
       "\n",
       "       secondary_cleaner.state.floatbank5_b_level  \\\n",
       "99                                    -499.698442   \n",
       "100                                   -500.283366   \n",
       "101                                   -500.202026   \n",
       "102                                   -499.588522   \n",
       "103                                   -499.934267   \n",
       "...                                           ...   \n",
       "17909                                 -500.040902   \n",
       "17910                                 -499.992738   \n",
       "17911                                 -499.916563   \n",
       "17912                                 -499.821464   \n",
       "17913                                 -500.072435   \n",
       "\n",
       "       secondary_cleaner.state.floatbank6_a_air  \\\n",
       "99                                    11.941642   \n",
       "100                                   11.959950   \n",
       "101                                   11.987839   \n",
       "102                                   11.987935   \n",
       "103                                   12.027556   \n",
       "...                                         ...   \n",
       "17909                                 10.961121   \n",
       "17910                                 10.996987   \n",
       "17911                                 11.010581   \n",
       "17912                                 11.006784   \n",
       "17913                                 10.985998   \n",
       "\n",
       "       secondary_cleaner.state.floatbank6_a_level  input_feed_sums  \\\n",
       "99                                    -598.541756         0.000000   \n",
       "100                                   -600.998301         0.000000   \n",
       "101                                   -600.302819         0.000000   \n",
       "102                                   -600.523057         0.000000   \n",
       "103                                   -600.108918         0.000000   \n",
       "...                                           ...              ...   \n",
       "17909                                 -500.023096         0.000000   \n",
       "17910                                 -499.871678         0.000000   \n",
       "17911                                 -500.083532         0.000000   \n",
       "17912                                 -499.988820         0.000000   \n",
       "17913                                 -500.329522         0.672178   \n",
       "\n",
       "       rougher_concentrate_sums  final_concentrate_sums  \n",
       "99                          0.0                     0.0  \n",
       "100                         0.0                     0.0  \n",
       "101                         0.0                     0.0  \n",
       "102                         0.0                     0.0  \n",
       "103                         0.0                     0.0  \n",
       "...                         ...                     ...  \n",
       "17909                       0.0                     0.0  \n",
       "17910                       0.0                     0.0  \n",
       "17911                       0.0                     0.0  \n",
       "17912                       0.0                     0.0  \n",
       "17913                       0.0                     0.0  \n",
       "\n",
       "[1439 rows x 90 columns]"
      ]
     },
     "execution_count": 56,
     "metadata": {},
     "output_type": "execute_result"
    }
   ],
   "source": [
    "#Use conditional filtering to check for values equivalent to '0' in the final_concentrate_sums column of the test set.\n",
    "data_full[data_full['final_concentrate_sums'] == 0]"
   ]
  },
  {
   "cell_type": "markdown",
   "metadata": {},
   "source": [
    "Conclusion:\n",
    "There appears to be zero values in the 'rougher_concentrate_sums' (Rougher Concentrate Sums) column of the data_full dataframe."
   ]
  },
  {
   "cell_type": "code",
   "execution_count": 57,
   "metadata": {},
   "outputs": [],
   "source": [
    "#Use conditional filtering to make sure that the data_full dataframe does not contain rows with zero values in the: 'input_feed_sums',\n",
    "#'rougher_concentrate_sums' and 'final_concentrate_sums' columns.\n",
    "data_full = data_full[data_full['input_feed_sums'] > 0]\n",
    "data_full = data_full[data_full['rougher_concentrate_sums'] > 0]\n",
    "data_full = data_full[data_full['final_concentrate_sums'] > 0]"
   ]
  },
  {
   "cell_type": "markdown",
   "metadata": {},
   "source": [
    "##### Concentration Of All Metals Per Purification Stage Histograms (Zero Values Removed)"
   ]
  },
  {
   "cell_type": "code",
   "execution_count": 58,
   "metadata": {},
   "outputs": [
    {
     "data": {
      "image/png": "[encoded data removed]",
      "text/plain": [
       "<Figure size 1400x1000 with 1 Axes>"
      ]
     },
     "metadata": {},
     "output_type": "display_data"
    }
   ],
   "source": [
    "#Use matplotlib to illustrate the distribution of the total concentrations of all metals in the rougher input feed \n",
    "#in both the training set and the test set without zero values.\n",
    "plt.figure(figsize=(14, 10))\n",
    "plt.subplot(2, 2, 2)\n",
    "plt.hist(data_full['input_feed_sums'], bins=20, alpha=0.5, label='Raw Feed', color='red')\n",
    "plt.hist(data_full['rougher_concentrate_sums'], bins=20, alpha=0.5, label='Rougher Concentrate', color='blue')\n",
    "plt.hist(data_full['final_concentrate_sums'], bins=20, alpha=0.5, label='Final Concentrate', color='green')\n",
    "plt.legend(loc='upper left')\n",
    "\n",
    "plt.title(\"Distribution of Concentrate of All Metals in Each Purification Stage\")\n",
    "plt.xlabel(\"Concentrate Amount\")\n",
    "plt.ylabel(\"Count\")\n",
    "\n",
    "plt.tight_layout()\n",
    "plt.show()"
   ]
  },
  {
   "cell_type": "markdown",
   "metadata": {},
   "source": [
    "Conclusion:\n",
    "It appears that the zero values have been successfully removed from the: 'input_feed_sums' (Raw Feed Sums), 'rougher_concentrate_sums' (Rougher Concentrate Sums), and the 'final_concentrate_sums' (Final Concentrate Sums) columns of the \n",
    "data_full dataframe."
   ]
  },
  {
   "cell_type": "markdown",
   "metadata": {},
   "source": [
    "##### Concentration Of All Metals Per Purification Stage KDE Plot (Zero Values Removed)"
   ]
  },
  {
   "cell_type": "code",
   "execution_count": 59,
   "metadata": {},
   "outputs": [
    {
     "data": {
      "text/plain": [
       "<function matplotlib.pyplot.show(close=None, block=None)>"
      ]
     },
     "execution_count": 59,
     "metadata": {},
     "output_type": "execute_result"
    },
    {
     "data": {
      "image/png": "[encoded data removed]",
      "text/plain": [
       "<Figure size 640x480 with 1 Axes>"
      ]
     },
     "metadata": {},
     "output_type": "display_data"
    }
   ],
   "source": [
    "#Use sns.kdeplot() in order to display a kde plot of the concentration of all metal for each purification stage\n",
    "sns.kdeplot(data_full['input_feed_sums'], color='red', label='Raw Feed', shade=True)\n",
    "sns.kdeplot(data_full['rougher_concentrate_sums'], color='blue', label='Rougher Concentrate', shade=True)\n",
    "sns.kdeplot(data_full['final_concentrate_sums'], color='green', label='Final Concentrate', shade=True)\n",
    "\n",
    "#Use matplotlib in order to display the kde plot.\n",
    "plt.legend(loc='upper left')\n",
    "plt.xlabel(\"Concentration Amount\")\n",
    "plt.title(\"KDE Plot of Concentration of All Metals Per Purification Stage \")\n",
    "plt.tight_layout\n",
    "plt.show"
   ]
  },
  {
   "cell_type": "markdown",
   "metadata": {},
   "source": [
    "Conclusion:\n",
    "It appears that the Final Concentrate Stage peaks at the highest value of concentration of all metals which would be: approximately 59.5.  The Final Concentrate Stage's concentration of all metals' peak value has a kernel density of: approximately 0.28.  The Rougher Concentrate Stage peaks at the second highest value of concentration of all metals, which would be: approximately 41.  The Rougher Concentrate's concentration of all metals' peak value has a kernel density of: approximately 0.13.  The Raw Stage peaks at the lowest value of concentrations of all metals which would be: approximately 18.5.  The Raw Feed's concentration of all metals' peak value has a kernel density of: approximately 0.093."
   ]
  },
  {
   "cell_type": "markdown",
   "metadata": {},
   "source": [
    "<div class=\"alert alert-block alert-danger\">\n",
    "<b>Reviewer's comment V2</b> <a class=\"tocSkip\"></a>\n",
    "\n",
    "Everything is correct. Good job! But you need to filter your train data. You need to filter the data, to simplify the life for your ML models. But if you filter only full data, it doesn't affect on the train one.\n",
    "  \n",
    "</div>"
   ]
  },
  {
   "cell_type": "markdown",
   "metadata": {},
   "source": [
    "##### Final sMAPE Function"
   ]
  },
  {
   "cell_type": "code",
   "execution_count": 60,
   "metadata": {},
   "outputs": [],
   "source": [
    "#Create a function that calculates the final sMAPE values calculated using the target and the predicted data.\n",
    "def fsmape(y_true, y_pred_df):\n",
    "    n = len(y_true)\n",
    "    smape_values = []\n",
    "    for actual, predicted in zip(y_true, y_pred_df[0]):\n",
    "        numerator = abs(actual - predicted)\n",
    "        denominator = (abs(actual) + abs(predicted)) / 2\n",
    "        smape_values.append(numerator / denominator if denominator != 0 else 0.0)\n",
    "    \n",
    "    smape_values_2 = []\n",
    "    for actual, predicted in zip(y_true, y_pred_df[1]):\n",
    "        numerator = abs(actual - predicted)\n",
    "        denominator = (abs(actual) + abs(predicted)) / 2\n",
    "        smape_values_2.append(numerator / denominator if denominator != 0 else 0.0)\n",
    "    \n",
    "    rougher_smape = (100 / n) * sum(smape_values)\n",
    "    final_smape = (100 / n) * sum(smape_values_2)\n",
    "    \n",
    "    final = 0.25 * rougher_smape + 0.75 * final_smape \n",
    "    \n",
    "    return final"
   ]
  },
  {
   "cell_type": "markdown",
   "metadata": {},
   "source": [
    "<div class=\"alert alert-block alert-warning\">\n",
    "<b>Reviewer's comment V2</b> <a class=\"tocSkip\"></a>\n",
    "\n",
    "It is possible to use such loops to calculate smape. But this is the slowest solution. It's better to rewrite the function without loops.\n",
    "  \n",
    "</div>"
   ]
  },
  {
   "cell_type": "code",
   "execution_count": 61,
   "metadata": {},
   "outputs": [],
   "source": [
    "#Use the make_scorer() method in order to use the previously created fsmape function as a metric for cross validation.\n",
    "fsmape_scorer = make_scorer(fsmape, greater_is_better=True)"
   ]
  },
  {
   "cell_type": "markdown",
   "metadata": {},
   "source": [
    "##### Note to Reviewer:\n",
    "I am not sure why, but when I set the greater_is_better parameter to False, the cross validation function gives outputs consisting of negative values, but when I set the  greater_is_better parameter to True the cross validation function gives the desired outputs consisting of postive values.  My previous codes appeared to correct to me, so I decided to leave the parameter as is."
   ]
  },
  {
   "cell_type": "markdown",
   "metadata": {},
   "source": [
    "#### 3.2. Train different models. Evaluate them using cross-validation. Pick the best model and test it using the test sample. Provide findings."
   ]
  },
  {
   "cell_type": "markdown",
   "metadata": {},
   "source": [
    "##### Target and Features Preparation"
   ]
  },
  {
   "cell_type": "code",
   "execution_count": 62,
   "metadata": {},
   "outputs": [],
   "source": [
    "#Create an index for the targets.\n",
    "targets = ['rougher.output.recovery','final.output.recovery']\n",
    "#Create an index for the features.\n",
    "features = data_test.columns.values\n",
    "\n",
    "#Create a features from the training set using the previously created features index.\n",
    "x_train = dt_clean[features].reset_index(drop=True)\n",
    "#Create targets from the training set using the previously created target index.\n",
    "y_train = dt_clean[targets].reset_index(drop=True)\n",
    "#Drop the date column from the training set features.\n",
    "x_train = x_train.drop(['date'], axis=1)\n",
    "#Add column names to the training set targets.\n",
    "y_train.columns = [0, 1]\n",
    "\n",
    "#Create a features from the test set using the previously created features index.\n",
    "#Use the data_full dataframe.\n",
    "x_test = data_full[features].reset_index(drop=True)\n",
    "#Create targets from the training set using the previously created target index.\n",
    "#Use the data_full dataframe.\n",
    "y_test = data_full[targets].reset_index(drop=True)\n",
    "#Drop the date column from the test set features.\n",
    "x_test = x_test.drop(['date'], axis=1)\n",
    "#Add column names to the test set targets.\n",
    "y_test.columns = [0, 1]"
   ]
  },
  {
   "cell_type": "code",
   "execution_count": 63,
   "metadata": {},
   "outputs": [],
   "source": [
    "#Use np.random.RandomState() to create a random state for each of the models.\n",
    "state = np.random.RandomState(12345)"
   ]
  },
  {
   "cell_type": "markdown",
   "metadata": {},
   "source": [
    "<div class=\"alert alert-block alert-danger\">\n",
    "<b>Reviewer's comment V2</b> <a class=\"tocSkip\"></a>\n",
    "\n",
    "1. You can't use a full data as a test data. You have a test data in a corresponding file and you can use only this data as test one.\n",
    "2. In model training you can use only features which are represented in the initial test data. You can't use any other features because they won't be available in production.\n",
    "  \n",
    "</div>"
   ]
  },
  {
   "cell_type": "markdown",
   "metadata": {},
   "source": [
    "##### Linear Regression Model"
   ]
  },
  {
   "cell_type": "code",
   "execution_count": 64,
   "metadata": {},
   "outputs": [],
   "source": [
    "#Use Pipeline() and LinearRegression() to create a Linear Regression model.\n",
    "lr = Pipeline([('scaler', StandardScaler()), ('regressor', LinearRegression())])"
   ]
  },
  {
   "cell_type": "code",
   "execution_count": 65,
   "metadata": {},
   "outputs": [
    {
     "name": "stdout",
     "output_type": "stream",
     "text": [
      "Linear Regression Model Cross Validation Scores Mean:\n",
      "0.13789183395598878\n"
     ]
    }
   ],
   "source": [
    "#Use cross_val_score to cross validate the model using the fsmape function as a metric.\n",
    "lr_scores = cross_val_score(lr, x_train, y_train, cv=5, scoring=fsmape_scorer)\n",
    "\n",
    "#Calculate the mean of the cross validation scores.\n",
    "lr_score_mean = lr_scores.mean()\n",
    "\n",
    "print(f\"Linear Regression Model Cross Validation Scores Mean:\\n{lr_score_mean}\")"
   ]
  },
  {
   "cell_type": "code",
   "execution_count": 66,
   "metadata": {},
   "outputs": [
    {
     "data": {
      "text/plain": [
       "Pipeline(steps=[('scaler', StandardScaler()),\n",
       "                ('regressor', LinearRegression())])"
      ]
     },
     "execution_count": 66,
     "metadata": {},
     "output_type": "execute_result"
    }
   ],
   "source": [
    "#Train the Linear Regression model with the target and features of the training set.\n",
    "lr.fit(x_train, y_train)"
   ]
  },
  {
   "cell_type": "code",
   "execution_count": 67,
   "metadata": {},
   "outputs": [],
   "source": [
    "#Use the predict() method on the Linear Regression model to make a prediction using the features from the test set.\n",
    "lr_predict = lr.predict(x_test)"
   ]
  },
  {
   "cell_type": "code",
   "execution_count": 68,
   "metadata": {},
   "outputs": [
    {
     "name": "stdout",
     "output_type": "stream",
     "text": [
      "Linear Regression Model fSMAPE: \n",
      "0.01907946523865437\n"
     ]
    }
   ],
   "source": [
    "#Calculate the fSMAPE metric using the targets from the test set and the predictions from the features of the test set.\n",
    "lr_fsmape = fsmape(y_test, lr_predict)\n",
    "\n",
    "print(f\"Linear Regression Model fSMAPE: \\n{lr_fsmape}\")"
   ]
  },
  {
   "cell_type": "markdown",
   "metadata": {},
   "source": [
    "##### Decision Tree Regressor Model"
   ]
  },
  {
   "cell_type": "code",
   "execution_count": 69,
   "metadata": {},
   "outputs": [],
   "source": [
    "#Use DecisionTreeRegressor() to create a Decision Tree Regressor model.\n",
    "dt = DecisionTreeRegressor(random_state=state)"
   ]
  },
  {
   "cell_type": "code",
   "execution_count": 70,
   "metadata": {},
   "outputs": [
    {
     "name": "stdout",
     "output_type": "stream",
     "text": [
      "Decision Tree Regressor Cross Validation Scores Mean: \n",
      "0.12751525517283513\n"
     ]
    }
   ],
   "source": [
    "#Use cross_val_score to cross validate the model using the fsmape function as a metric.\n",
    "dt_scores = cross_val_score(dt, x_train, y_train, cv=5, scoring=fsmape_scorer)\n",
    "\n",
    "#Calculate the mean of the cross validation scores.\n",
    "dt_score_mean = dt_scores.mean()\n",
    "\n",
    "print(f\"Decision Tree Regressor Cross Validation Scores Mean: \\n{dt_score_mean}\")"
   ]
  },
  {
   "cell_type": "code",
   "execution_count": 71,
   "metadata": {},
   "outputs": [
    {
     "data": {
      "text/plain": [
       "DecisionTreeRegressor(random_state=RandomState(MT19937) at 0x7F5D185CB640)"
      ]
     },
     "execution_count": 71,
     "metadata": {},
     "output_type": "execute_result"
    }
   ],
   "source": [
    "#Train the Decision Tree Regressor model with the target and features of the training set.\n",
    "dt.fit(x_train, y_train)"
   ]
  },
  {
   "cell_type": "code",
   "execution_count": 72,
   "metadata": {},
   "outputs": [],
   "source": [
    "#Use the predict() method on the Decision Tree Regressor model to make a prediction using the features from the test set.\n",
    "dt_predicted = dt.predict(x_test)"
   ]
  },
  {
   "cell_type": "code",
   "execution_count": 73,
   "metadata": {},
   "outputs": [
    {
     "name": "stdout",
     "output_type": "stream",
     "text": [
      "Decision Tree Regressor Model fSMAPE: \n",
      "0.01910341663314217\n"
     ]
    }
   ],
   "source": [
    "#Calculate the fSMAPE metric using the targets from the test set and the predictions from the features of the test set.\n",
    "dt_fsmape = fsmape(y_test, dt_predicted)\n",
    "\n",
    "print(f\"Decision Tree Regressor Model fSMAPE: \\n{dt_fsmape}\")"
   ]
  },
  {
   "cell_type": "markdown",
   "metadata": {},
   "source": [
    "##### K Nearest Neighbors Regressor Model"
   ]
  },
  {
   "cell_type": "code",
   "execution_count": 74,
   "metadata": {},
   "outputs": [],
   "source": [
    "#Use  KNeighborsRegressor() to create a K Nearest Neighbors Regressor model.\n",
    "knn = KNeighborsRegressor()"
   ]
  },
  {
   "cell_type": "code",
   "execution_count": 75,
   "metadata": {},
   "outputs": [
    {
     "name": "stdout",
     "output_type": "stream",
     "text": [
      "K Nearest Neighbors Regressor Cross Validation Scores Mean: \n",
      "0.13777917751472438\n"
     ]
    }
   ],
   "source": [
    "#Use cross_val_score to cross validate the model using the fsmape function as a metric.\n",
    "knn_scores = cross_val_score(knn, x_train, y_train, cv=5, scoring=fsmape_scorer)\n",
    "\n",
    "#Calculate the mean of the cross validation scores.\n",
    "knn_score_mean = knn_scores.mean()\n",
    "\n",
    "print(f\"K Nearest Neighbors Regressor Cross Validation Scores Mean: \\n{knn_score_mean}\")"
   ]
  },
  {
   "cell_type": "code",
   "execution_count": 76,
   "metadata": {},
   "outputs": [
    {
     "data": {
      "text/plain": [
       "KNeighborsRegressor()"
      ]
     },
     "execution_count": 76,
     "metadata": {},
     "output_type": "execute_result"
    }
   ],
   "source": [
    "#Train the K Nearest Neighbors Regressor model with the target and features of the training set.\n",
    "knn.fit(x_train, y_train)"
   ]
  },
  {
   "cell_type": "code",
   "execution_count": 77,
   "metadata": {},
   "outputs": [],
   "source": [
    "#Use the predict() method on the K Nearest Neighbors Regressor model to make a prediction using the features from the test set.\n",
    "knn_predicted = knn.predict(x_test)"
   ]
  },
  {
   "cell_type": "code",
   "execution_count": 78,
   "metadata": {},
   "outputs": [
    {
     "name": "stdout",
     "output_type": "stream",
     "text": [
      "K Nearest Neighbors fSMAPE: \n",
      "0.019099431790011702\n"
     ]
    }
   ],
   "source": [
    "#Calculate the fSMAPE metric using the targets from the test set and the predictions from the features of the test set.\n",
    "knn_fsmape = fsmape(y_test, knn_predicted)\n",
    "\n",
    "print(f\"K Nearest Neighbors fSMAPE: \\n{knn_fsmape}\")"
   ]
  },
  {
   "cell_type": "markdown",
   "metadata": {},
   "source": [
    "##### Polynomial Features Model"
   ]
  },
  {
   "cell_type": "code",
   "execution_count": 79,
   "metadata": {},
   "outputs": [],
   "source": [
    "#Use make_pipeline(), PolynomialFeatures() and LinearRegression() to create a Polynomial Features model.\n",
    "pf = make_pipeline(PolynomialFeatures(), LinearRegression())"
   ]
  },
  {
   "cell_type": "code",
   "execution_count": 80,
   "metadata": {},
   "outputs": [
    {
     "name": "stdout",
     "output_type": "stream",
     "text": [
      "Polynomial Features Model Cross Validation Scores Mean: \n",
      "0.13777075913693382\n"
     ]
    }
   ],
   "source": [
    "#Use cross_val_score to cross validate the model using the fsmape function as a metric.\n",
    "pf_scores = cross_val_score(pf, x_train, y_train, cv=5, scoring=fsmape_scorer)\n",
    "\n",
    "#Calculate the mean of the cross validation scores.\n",
    "pf_score_mean = pf_scores.mean()\n",
    "\n",
    "print(f\"Polynomial Features Model Cross Validation Scores Mean: \\n{pf_score_mean}\")"
   ]
  },
  {
   "cell_type": "code",
   "execution_count": 81,
   "metadata": {},
   "outputs": [
    {
     "data": {
      "text/plain": [
       "Pipeline(steps=[('polynomialfeatures', PolynomialFeatures()),\n",
       "                ('linearregression', LinearRegression())])"
      ]
     },
     "execution_count": 81,
     "metadata": {},
     "output_type": "execute_result"
    }
   ],
   "source": [
    "#Train the Polynomial Features model with the target and features of the training set.\n",
    "pf.fit(x_train, y_train)"
   ]
  },
  {
   "cell_type": "code",
   "execution_count": 82,
   "metadata": {},
   "outputs": [],
   "source": [
    "#Use the predict() method on the Polynomial Features model to make a prediction using the features from the test set.\n",
    "pf_predicted = pf.predict(x_test)"
   ]
  },
  {
   "cell_type": "code",
   "execution_count": 83,
   "metadata": {},
   "outputs": [
    {
     "name": "stdout",
     "output_type": "stream",
     "text": [
      "Polynomial Features fSMAPE \n",
      "0.01910765408134161\n"
     ]
    }
   ],
   "source": [
    "#Calculate the fSMAPE metric using the targets from the test set and the predictions from the features of the test set.\n",
    "pf_fsmape = fsmape(y_test, pf_predicted)\n",
    "\n",
    "print(f\"Polynomial Features fSMAPE \\n{pf_fsmape}\")"
   ]
  },
  {
   "cell_type": "markdown",
   "metadata": {},
   "source": [
    "##### Random Forest Regressor Model"
   ]
  },
  {
   "cell_type": "code",
   "execution_count": 84,
   "metadata": {},
   "outputs": [],
   "source": [
    "#Use RandomForestRegressor() to create a Random Forest Regressor model.\n",
    "rf = RandomForestRegressor(random_state=state)"
   ]
  },
  {
   "cell_type": "code",
   "execution_count": 85,
   "metadata": {},
   "outputs": [
    {
     "name": "stdout",
     "output_type": "stream",
     "text": [
      "Random Forest Regressor Model Cross Validation Scores Mean: \n",
      "0.13777935701320604\n"
     ]
    }
   ],
   "source": [
    "#Use cross_val_score to cross validate the model using the fsmape function as a metric.\n",
    "rf_scores = cross_val_score(rf, x_train, y_train, cv=5, scoring=fsmape_scorer)\n",
    "\n",
    "#Calculate the mean of the cross validation scores.\n",
    "rf_score_mean = rf_scores.mean()\n",
    "\n",
    "print(f\"Random Forest Regressor Model Cross Validation Scores Mean: \\n{rf_score_mean}\")"
   ]
  },
  {
   "cell_type": "code",
   "execution_count": 86,
   "metadata": {},
   "outputs": [],
   "source": [
    "#Train the Random Forest Regressor model with the target and features of the training set.\n",
    "rf.fit(x_train, y_train)\n",
    "\n",
    "#Use the predict() method on the Linear Regression model to make a prediction using the features from the test set.\n",
    "rf_predicted = rf.predict(x_test)"
   ]
  },
  {
   "cell_type": "code",
   "execution_count": 87,
   "metadata": {},
   "outputs": [
    {
     "name": "stdout",
     "output_type": "stream",
     "text": [
      "Random Forest Regressor Model fSMAPE: \n",
      "0.019102220307945873\n"
     ]
    }
   ],
   "source": [
    "#Calculate the fSMAPE metric using the targets from the test set and the predictions from the features of the test set.\n",
    "rf_fsmape = fsmape(y_test, rf_predicted)\n",
    "\n",
    "print(f\"Random Forest Regressor Model fSMAPE: \\n{rf_fsmape}\")"
   ]
  },
  {
   "cell_type": "markdown",
   "metadata": {},
   "source": [
    "Conclusion:\n",
    "According to the results the model with the lowest fSMAPE metric is the Linear Regression model which has an fSMAPE of: approximately 0.019079 and a mean fSMAPE cross validation score of: approximately 0.1378918. This model is the best model for predicting the amount of gold recovered from gold ore.\n",
    "\n",
    "The next best models for the task are in order as follows:\n",
    "2)  K Nearest Neighbors, with an fSMAPE of: approximately 0.019099 and a mean fSMAPE cross validation score of: approximately 0.1377791.\n",
    "3)  Random Forest Regressor, with an fSMAPE of: 0.191022 approximately  and a mean fSMAPE cross validation score of: approximately 0.1377793.\n",
    "4)  Decision Tree Regressor, with an fSMAPE of: approximately 0.0191034 and a mean fSMAPE cross validation score of: approximately 0.1275152.\n",
    "5)  Polynomial Features, with an fSMAPE of: approximately 0.0191076 and a mean fSMAPE cross validation score of: approximately 0.1377707."
   ]
  },
  {
   "cell_type": "markdown",
   "metadata": {},
   "source": [
    "<div class=\"alert alert-block alert-danger\">\n",
    "<b>Reviewer's comment V1</b> <a class=\"tocSkip\"></a>\n",
    "\n",
    "The results are different because you use different features and train the model on different dataparts.\n",
    "\n",
    "1. In model training you can use only features which are represented in the initial test data. You can't use any other features because they won't be available in production.\n",
    "2. You need to tune hyperparameters at least for one model.\n",
    "3. You need to calculate metrics on the test data for the best model. You already have a test data from the corresponding file. To calculate metrics you need to know targets, right? You can find targets for the test data in the full data. You can use method merge and column date to extract these targets.\n",
    "4. You need to do sanity check. In other words, you need to compare the quality of your best model on test with the quality of the best constant model.\n",
    "    \n",
    "</div>"
   ]
  },
  {
   "cell_type": "markdown",
   "metadata": {},
   "source": [
    "#### Final Conclusion:\n",
    "In conclusion I have noted several final observations about the project:\n",
    "1) The recovery is not calculated 100% accurate, but it has a low mean estimated error when compared to my calculated recovery metric with is: approximately 9.30.\n",
    "\n",
    "2) Gold (Ag) has the highest concentration in the final concentrate stage with a peak value of approximately 43-45 with a count of approximately 8300 according to the histogram, and peak value of approximately 47 with a kernel density of approximately 0.127 according to the KDE Plot. Silver (Ag) has the highest concentration in the rougher concentrate stage with a peak value of approximately 12-12.5 consisting of approximately 4100 according to the histogram, and a peak value of approximately 12.5 with a kernel density of approximately 0.08 according to the KDE plot. Lead (Pb) has the highest concentration in the final concentrate stage with a peak value of approximately 10.5-11 and a count of approximately 4700 according to the histogram, and a peak value of approximately 11.5 with a kernel density of approximately 0.24 according to the KDE plot.\n",
    "\n",
    "3)  The Rougher Input Feed Sizes columns' values in the training and tests sets did not vary significantly according to the histograms and KDE plots and should not affect the models' predictions. The Primary Cleaner Feed Sizes columns' values in the training and tests sets did not vary significantly according to the histograms and KDE plots and should not affect the models' predictions.\n",
    "\n",
    "4) According to the histogram, the Final Concentrate Stage has the greatest amount of concentration of all metals, with a peak value of: approximately 57-62 and a count of: approximately 13900 values. According to the KDE plot, the Final Concentrate Stage had the highest peak value of concentration of all metals which would be: approximately 59.5 and a kernel denisty of: approximately 0.28.\n",
    "\n",
    "5) The model with the lowest fSMAPE metric is the Linear Regression model which has an fSMAPE of: approximately 0.019079 and a mean fSMAPE cross validation score of: approximately 0.1378918. This model is the best model for predicting the amount of gold recovered from gold ore.\n"
   ]
  }
 ],
 "metadata": {
  "ExecuteTimeLog": [
   {
    "duration": 2850,
    "start_time": "2024-12-02T09:10:37.524Z"
   },
   {
    "duration": 251,
    "start_time": "2024-12-02T09:10:40.377Z"
   },
   {
    "duration": 81,
    "start_time": "2024-12-02T09:10:40.631Z"
   },
   {
    "duration": 317,
    "start_time": "2024-12-02T09:10:40.714Z"
   },
   {
    "duration": 17,
    "start_time": "2024-12-02T09:10:41.033Z"
   },
   {
    "duration": 15,
    "start_time": "2024-12-02T09:10:43.059Z"
   },
   {
    "duration": 17,
    "start_time": "2024-12-02T09:10:43.361Z"
   },
   {
    "duration": 9,
    "start_time": "2024-12-02T09:10:43.940Z"
   },
   {
    "duration": 5,
    "start_time": "2024-12-02T09:10:44.227Z"
   },
   {
    "duration": 7,
    "start_time": "2024-12-02T09:10:44.387Z"
   },
   {
    "duration": 5,
    "start_time": "2024-12-02T09:10:44.810Z"
   },
   {
    "duration": 4,
    "start_time": "2024-12-02T09:10:45.079Z"
   },
   {
    "duration": 6,
    "start_time": "2024-12-02T09:10:45.236Z"
   },
   {
    "duration": 8,
    "start_time": "2024-12-02T09:10:45.913Z"
   },
   {
    "duration": 5,
    "start_time": "2024-12-02T09:10:46.091Z"
   },
   {
    "duration": 8,
    "start_time": "2024-12-02T09:10:46.170Z"
   },
   {
    "duration": 57,
    "start_time": "2024-12-02T09:10:46.415Z"
   },
   {
    "duration": 20,
    "start_time": "2024-12-02T09:10:46.587Z"
   },
   {
    "duration": 82,
    "start_time": "2024-12-02T09:10:46.750Z"
   },
   {
    "duration": 11,
    "start_time": "2024-12-02T09:10:47.085Z"
   },
   {
    "duration": 8,
    "start_time": "2024-12-02T09:10:47.255Z"
   },
   {
    "duration": 12,
    "start_time": "2024-12-02T09:10:47.337Z"
   },
   {
    "duration": 9,
    "start_time": "2024-12-02T09:10:47.588Z"
   },
   {
    "duration": 4,
    "start_time": "2024-12-02T09:10:47.757Z"
   },
   {
    "duration": 10,
    "start_time": "2024-12-02T09:10:47.841Z"
   },
   {
    "duration": 12,
    "start_time": "2024-12-02T09:10:48.091Z"
   },
   {
    "duration": 6,
    "start_time": "2024-12-02T09:10:48.258Z"
   },
   {
    "duration": 12,
    "start_time": "2024-12-02T09:10:48.341Z"
   },
   {
    "duration": 2,
    "start_time": "2024-12-02T09:10:48.677Z"
   },
   {
    "duration": 10,
    "start_time": "2024-12-02T09:10:48.761Z"
   },
   {
    "duration": 4,
    "start_time": "2024-12-02T09:10:48.845Z"
   },
   {
    "duration": 7,
    "start_time": "2024-12-02T09:10:48.931Z"
   },
   {
    "duration": 13,
    "start_time": "2024-12-02T09:10:49.095Z"
   },
   {
    "duration": 7,
    "start_time": "2024-12-02T09:10:49.182Z"
   },
   {
    "duration": 5,
    "start_time": "2024-12-02T09:10:49.346Z"
   },
   {
    "duration": 4,
    "start_time": "2024-12-02T09:10:49.593Z"
   },
   {
    "duration": 7,
    "start_time": "2024-12-02T09:10:49.678Z"
   },
   {
    "duration": 189,
    "start_time": "2024-12-02T09:10:50.013Z"
   },
   {
    "duration": 721,
    "start_time": "2024-12-02T09:10:50.266Z"
   },
   {
    "duration": 241,
    "start_time": "2024-12-02T09:10:50.990Z"
   },
   {
    "duration": 719,
    "start_time": "2024-12-02T09:10:51.232Z"
   },
   {
    "duration": 183,
    "start_time": "2024-12-02T09:10:51.954Z"
   },
   {
    "duration": 714,
    "start_time": "2024-12-02T09:10:52.139Z"
   },
   {
    "duration": 3,
    "start_time": "2024-12-02T09:10:52.854Z"
   },
   {
    "duration": 157,
    "start_time": "2024-12-02T09:10:54.052Z"
   },
   {
    "duration": 286,
    "start_time": "2024-12-02T09:10:54.477Z"
   },
   {
    "duration": 297,
    "start_time": "2024-12-02T09:10:54.868Z"
   },
   {
    "duration": 241,
    "start_time": "2024-12-02T09:10:55.869Z"
   },
   {
    "duration": 263,
    "start_time": "2024-12-02T09:10:56.297Z"
   },
   {
    "duration": 314,
    "start_time": "2024-12-02T09:10:56.683Z"
   },
   {
    "duration": 2,
    "start_time": "2024-12-02T09:10:57.307Z"
   },
   {
    "duration": 20,
    "start_time": "2024-12-02T09:10:57.465Z"
   },
   {
    "duration": 295,
    "start_time": "2024-12-02T09:10:59.459Z"
   },
   {
    "duration": 28,
    "start_time": "2024-12-02T09:10:59.842Z"
   },
   {
    "duration": 21,
    "start_time": "2024-12-02T09:11:00.124Z"
   },
   {
    "duration": 24,
    "start_time": "2024-12-02T09:11:00.544Z"
   },
   {
    "duration": 16,
    "start_time": "2024-12-02T09:11:00.838Z"
   },
   {
    "duration": 407,
    "start_time": "2024-12-02T09:11:01.104Z"
   },
   {
    "duration": 646,
    "start_time": "2024-12-02T09:11:01.514Z"
   },
   {
    "duration": 4,
    "start_time": "2024-12-02T09:11:02.162Z"
   },
   {
    "duration": 3,
    "start_time": "2024-12-02T09:11:03.773Z"
   },
   {
    "duration": 11,
    "start_time": "2024-12-02T09:11:07.848Z"
   },
   {
    "duration": 3,
    "start_time": "2024-12-02T09:11:09.455Z"
   },
   {
    "duration": 3,
    "start_time": "2024-12-02T09:11:13.936Z"
   },
   {
    "duration": 449,
    "start_time": "2024-12-02T09:11:14.103Z"
   },
   {
    "duration": 189,
    "start_time": "2024-12-02T09:11:14.554Z"
   },
   {
    "duration": 8,
    "start_time": "2024-12-02T09:11:14.745Z"
   },
   {
    "duration": 4,
    "start_time": "2024-12-02T09:11:14.830Z"
   },
   {
    "duration": 3,
    "start_time": "2024-12-02T09:11:20.082Z"
   },
   {
    "duration": 4668,
    "start_time": "2024-12-02T09:11:20.216Z"
   },
   {
    "duration": 1214,
    "start_time": "2024-12-02T09:11:24.886Z"
   },
   {
    "duration": 7,
    "start_time": "2024-12-02T09:11:26.103Z"
   },
   {
    "duration": 3,
    "start_time": "2024-12-02T09:11:26.112Z"
   },
   {
    "duration": 16,
    "start_time": "2024-12-02T09:11:26.116Z"
   },
   {
    "duration": 2519,
    "start_time": "2024-12-02T09:11:26.133Z"
   },
   {
    "duration": 7,
    "start_time": "2024-12-02T09:11:28.654Z"
   },
   {
    "duration": 3824,
    "start_time": "2024-12-02T09:11:28.663Z"
   },
   {
    "duration": 3,
    "start_time": "2024-12-02T09:11:32.489Z"
   },
   {
    "duration": 3,
    "start_time": "2024-12-02T09:11:32.495Z"
   },
   {
    "duration": 25633,
    "start_time": "2024-12-02T09:11:32.500Z"
   },
   {
    "duration": 5902,
    "start_time": "2024-12-02T09:11:58.135Z"
   },
   {
    "duration": 293,
    "start_time": "2024-12-02T09:12:04.039Z"
   },
   {
    "duration": 6,
    "start_time": "2024-12-02T09:12:04.334Z"
   },
   {
    "duration": 3,
    "start_time": "2024-12-02T09:12:04.342Z"
   },
   {
    "duration": 270838,
    "start_time": "2024-12-02T09:12:04.347Z"
   },
   {
    "duration": 70612,
    "start_time": "2024-12-02T09:16:35.187Z"
   },
   {
    "duration": 3,
    "start_time": "2024-12-02T09:17:45.801Z"
   },
   {
    "duration": 6,
    "start_time": "2024-12-02T09:17:45.807Z"
   },
   {
    "duration": 0,
    "start_time": "2024-12-02T09:17:45.814Z"
   },
   {
    "duration": 0,
    "start_time": "2024-12-02T09:17:45.815Z"
   },
   {
    "duration": 5,
    "start_time": "2024-12-02T09:20:05.209Z"
   },
   {
    "duration": 3,
    "start_time": "2024-12-02T09:26:56.535Z"
   }
  ],
  "kernelspec": {
   "display_name": "Python 3 (ipykernel)",
   "language": "python",
   "name": "python3"
  },
  "language_info": {
   "codemirror_mode": {
    "name": "ipython",
    "version": 3
   },
   "file_extension": ".py",
   "mimetype": "text/x-python",
   "name": "python",
   "nbconvert_exporter": "python",
   "pygments_lexer": "ipython3",
   "version": "3.9.19"
  },
  "toc": {
   "base_numbering": 1,
   "nav_menu": {},
   "number_sections": true,
   "sideBar": true,
   "skip_h1_title": true,
   "title_cell": "Table of Contents",
   "title_sidebar": "Contents",
   "toc_cell": false,
   "toc_position": {},
   "toc_section_display": true,
   "toc_window_display": false
  }
 },
 "nbformat": 4,
 "nbformat_minor": 2
}
