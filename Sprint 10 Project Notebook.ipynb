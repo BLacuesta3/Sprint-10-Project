{
 "cells": [
  {
   "cell_type": "code",
   "execution_count": 170,
   "metadata": {},
   "outputs": [],
   "source": [
    "import pandas as pd\n",
    "\n",
    "import plotly.express as px\n",
    "\n",
    "from sklearn.metrics import mean_absolute_error\n",
    "\n",
    "from sklearn.preprocessing import StandardScaler\n",
    "\n",
    "from sklearn.pipeline import Pipeline\n",
    "\n",
    "from sklearn.linear_model import LinearRegression\n",
    "\n",
    "from sklearn.model_selection import RandomizedSearchCV\n",
    "\n",
    "from sklearn.model_selection import train_test_split\n",
    "\n",
    "import matplotlib.pyplot as plt\n",
    "\n",
    "from sklearn.model_selection import cross_val_score, RandomizedSearchCV\n",
    "\n",
    "import xgboost as xgb\n",
    "\n",
    "from sklearn.ensemble import RandomForestClassifier, GradientBoostingClassifier\n",
    "\n",
    "from sklearn.tree import DecisionTreeClassifier\n",
    "\n",
    "from sklearn.neighbors import KNeighborsRegressor\n",
    "\n",
    "from sklearn.preprocessing import PolynomialFeatures\n",
    "\n",
    "import numpy as np"
   ]
  },
  {
   "cell_type": "markdown",
   "metadata": {},
   "source": [
    "### Datasets"
   ]
  },
  {
   "cell_type": "code",
   "execution_count": 171,
   "metadata": {},
   "outputs": [],
   "source": [
    "data_train = pd.read_csv('gold_recovery_train.csv')\n",
    "subset = data_train[['rougher.output.concentrate_au','rougher.input.feed_au', 'rougher.output.tail_au', 'rougher.output.recovery']]\n",
    "subset = subset.dropna(axis=0)"
   ]
  },
  {
   "cell_type": "code",
   "execution_count": 172,
   "metadata": {},
   "outputs": [],
   "source": [
    "data_test = pd.read_csv('gold_recovery_test.csv')"
   ]
  },
  {
   "cell_type": "code",
   "execution_count": 173,
   "metadata": {},
   "outputs": [],
   "source": [
    "data_full = pd.read_csv('gold_recovery_full.csv')"
   ]
  },
  {
   "cell_type": "code",
   "execution_count": 174,
   "metadata": {},
   "outputs": [
    {
     "data": {
      "text/html": [
       "<div>\n",
       "<style scoped>\n",
       "    .dataframe tbody tr th:only-of-type {\n",
       "        vertical-align: middle;\n",
       "    }\n",
       "\n",
       "    .dataframe tbody tr th {\n",
       "        vertical-align: top;\n",
       "    }\n",
       "\n",
       "    .dataframe thead th {\n",
       "        text-align: right;\n",
       "    }\n",
       "</style>\n",
       "<table border=\"1\" class=\"dataframe\">\n",
       "  <thead>\n",
       "    <tr style=\"text-align: right;\">\n",
       "      <th></th>\n",
       "      <th>date</th>\n",
       "      <th>final.output.concentrate_ag</th>\n",
       "      <th>final.output.concentrate_pb</th>\n",
       "      <th>final.output.concentrate_sol</th>\n",
       "      <th>final.output.concentrate_au</th>\n",
       "      <th>final.output.recovery</th>\n",
       "      <th>final.output.tail_ag</th>\n",
       "      <th>final.output.tail_pb</th>\n",
       "      <th>final.output.tail_sol</th>\n",
       "      <th>final.output.tail_au</th>\n",
       "      <th>...</th>\n",
       "      <th>secondary_cleaner.state.floatbank4_a_air</th>\n",
       "      <th>secondary_cleaner.state.floatbank4_a_level</th>\n",
       "      <th>secondary_cleaner.state.floatbank4_b_air</th>\n",
       "      <th>secondary_cleaner.state.floatbank4_b_level</th>\n",
       "      <th>secondary_cleaner.state.floatbank5_a_air</th>\n",
       "      <th>secondary_cleaner.state.floatbank5_a_level</th>\n",
       "      <th>secondary_cleaner.state.floatbank5_b_air</th>\n",
       "      <th>secondary_cleaner.state.floatbank5_b_level</th>\n",
       "      <th>secondary_cleaner.state.floatbank6_a_air</th>\n",
       "      <th>secondary_cleaner.state.floatbank6_a_level</th>\n",
       "    </tr>\n",
       "  </thead>\n",
       "  <tbody>\n",
       "    <tr>\n",
       "      <th>0</th>\n",
       "      <td>2016-01-15 00:00:00</td>\n",
       "      <td>6.055403</td>\n",
       "      <td>9.889648</td>\n",
       "      <td>5.507324</td>\n",
       "      <td>42.192020</td>\n",
       "      <td>70.541216</td>\n",
       "      <td>10.411962</td>\n",
       "      <td>0.895447</td>\n",
       "      <td>16.904297</td>\n",
       "      <td>2.143149</td>\n",
       "      <td>...</td>\n",
       "      <td>14.016835</td>\n",
       "      <td>-502.488007</td>\n",
       "      <td>12.099931</td>\n",
       "      <td>-504.715942</td>\n",
       "      <td>9.925633</td>\n",
       "      <td>-498.310211</td>\n",
       "      <td>8.079666</td>\n",
       "      <td>-500.470978</td>\n",
       "      <td>14.151341</td>\n",
       "      <td>-605.841980</td>\n",
       "    </tr>\n",
       "    <tr>\n",
       "      <th>1</th>\n",
       "      <td>2016-01-15 01:00:00</td>\n",
       "      <td>6.029369</td>\n",
       "      <td>9.968944</td>\n",
       "      <td>5.257781</td>\n",
       "      <td>42.701629</td>\n",
       "      <td>69.266198</td>\n",
       "      <td>10.462676</td>\n",
       "      <td>0.927452</td>\n",
       "      <td>16.634514</td>\n",
       "      <td>2.224930</td>\n",
       "      <td>...</td>\n",
       "      <td>13.992281</td>\n",
       "      <td>-505.503262</td>\n",
       "      <td>11.950531</td>\n",
       "      <td>-501.331529</td>\n",
       "      <td>10.039245</td>\n",
       "      <td>-500.169983</td>\n",
       "      <td>7.984757</td>\n",
       "      <td>-500.582168</td>\n",
       "      <td>13.998353</td>\n",
       "      <td>-599.787184</td>\n",
       "    </tr>\n",
       "    <tr>\n",
       "      <th>2</th>\n",
       "      <td>2016-01-15 02:00:00</td>\n",
       "      <td>6.055926</td>\n",
       "      <td>10.213995</td>\n",
       "      <td>5.383759</td>\n",
       "      <td>42.657501</td>\n",
       "      <td>68.116445</td>\n",
       "      <td>10.507046</td>\n",
       "      <td>0.953716</td>\n",
       "      <td>16.208849</td>\n",
       "      <td>2.257889</td>\n",
       "      <td>...</td>\n",
       "      <td>14.015015</td>\n",
       "      <td>-502.520901</td>\n",
       "      <td>11.912783</td>\n",
       "      <td>-501.133383</td>\n",
       "      <td>10.070913</td>\n",
       "      <td>-500.129135</td>\n",
       "      <td>8.013877</td>\n",
       "      <td>-500.517572</td>\n",
       "      <td>14.028663</td>\n",
       "      <td>-601.427363</td>\n",
       "    </tr>\n",
       "    <tr>\n",
       "      <th>3</th>\n",
       "      <td>2016-01-15 03:00:00</td>\n",
       "      <td>6.047977</td>\n",
       "      <td>9.977019</td>\n",
       "      <td>4.858634</td>\n",
       "      <td>42.689819</td>\n",
       "      <td>68.347543</td>\n",
       "      <td>10.422762</td>\n",
       "      <td>0.883763</td>\n",
       "      <td>16.532835</td>\n",
       "      <td>2.146849</td>\n",
       "      <td>...</td>\n",
       "      <td>14.036510</td>\n",
       "      <td>-500.857308</td>\n",
       "      <td>11.999550</td>\n",
       "      <td>-501.193686</td>\n",
       "      <td>9.970366</td>\n",
       "      <td>-499.201640</td>\n",
       "      <td>7.977324</td>\n",
       "      <td>-500.255908</td>\n",
       "      <td>14.005551</td>\n",
       "      <td>-599.996129</td>\n",
       "    </tr>\n",
       "    <tr>\n",
       "      <th>4</th>\n",
       "      <td>2016-01-15 04:00:00</td>\n",
       "      <td>6.148599</td>\n",
       "      <td>10.142511</td>\n",
       "      <td>4.939416</td>\n",
       "      <td>42.774141</td>\n",
       "      <td>66.927016</td>\n",
       "      <td>10.360302</td>\n",
       "      <td>0.792826</td>\n",
       "      <td>16.525686</td>\n",
       "      <td>2.055292</td>\n",
       "      <td>...</td>\n",
       "      <td>14.027298</td>\n",
       "      <td>-499.838632</td>\n",
       "      <td>11.953070</td>\n",
       "      <td>-501.053894</td>\n",
       "      <td>9.925709</td>\n",
       "      <td>-501.686727</td>\n",
       "      <td>7.894242</td>\n",
       "      <td>-500.356035</td>\n",
       "      <td>13.996647</td>\n",
       "      <td>-601.496691</td>\n",
       "    </tr>\n",
       "  </tbody>\n",
       "</table>\n",
       "<p>5 rows × 87 columns</p>\n",
       "</div>"
      ],
      "text/plain": [
       "                  date  final.output.concentrate_ag  \\\n",
       "0  2016-01-15 00:00:00                     6.055403   \n",
       "1  2016-01-15 01:00:00                     6.029369   \n",
       "2  2016-01-15 02:00:00                     6.055926   \n",
       "3  2016-01-15 03:00:00                     6.047977   \n",
       "4  2016-01-15 04:00:00                     6.148599   \n",
       "\n",
       "   final.output.concentrate_pb  final.output.concentrate_sol  \\\n",
       "0                     9.889648                      5.507324   \n",
       "1                     9.968944                      5.257781   \n",
       "2                    10.213995                      5.383759   \n",
       "3                     9.977019                      4.858634   \n",
       "4                    10.142511                      4.939416   \n",
       "\n",
       "   final.output.concentrate_au  final.output.recovery  final.output.tail_ag  \\\n",
       "0                    42.192020              70.541216             10.411962   \n",
       "1                    42.701629              69.266198             10.462676   \n",
       "2                    42.657501              68.116445             10.507046   \n",
       "3                    42.689819              68.347543             10.422762   \n",
       "4                    42.774141              66.927016             10.360302   \n",
       "\n",
       "   final.output.tail_pb  final.output.tail_sol  final.output.tail_au  ...  \\\n",
       "0              0.895447              16.904297              2.143149  ...   \n",
       "1              0.927452              16.634514              2.224930  ...   \n",
       "2              0.953716              16.208849              2.257889  ...   \n",
       "3              0.883763              16.532835              2.146849  ...   \n",
       "4              0.792826              16.525686              2.055292  ...   \n",
       "\n",
       "   secondary_cleaner.state.floatbank4_a_air  \\\n",
       "0                                 14.016835   \n",
       "1                                 13.992281   \n",
       "2                                 14.015015   \n",
       "3                                 14.036510   \n",
       "4                                 14.027298   \n",
       "\n",
       "   secondary_cleaner.state.floatbank4_a_level  \\\n",
       "0                                 -502.488007   \n",
       "1                                 -505.503262   \n",
       "2                                 -502.520901   \n",
       "3                                 -500.857308   \n",
       "4                                 -499.838632   \n",
       "\n",
       "   secondary_cleaner.state.floatbank4_b_air  \\\n",
       "0                                 12.099931   \n",
       "1                                 11.950531   \n",
       "2                                 11.912783   \n",
       "3                                 11.999550   \n",
       "4                                 11.953070   \n",
       "\n",
       "   secondary_cleaner.state.floatbank4_b_level  \\\n",
       "0                                 -504.715942   \n",
       "1                                 -501.331529   \n",
       "2                                 -501.133383   \n",
       "3                                 -501.193686   \n",
       "4                                 -501.053894   \n",
       "\n",
       "   secondary_cleaner.state.floatbank5_a_air  \\\n",
       "0                                  9.925633   \n",
       "1                                 10.039245   \n",
       "2                                 10.070913   \n",
       "3                                  9.970366   \n",
       "4                                  9.925709   \n",
       "\n",
       "   secondary_cleaner.state.floatbank5_a_level  \\\n",
       "0                                 -498.310211   \n",
       "1                                 -500.169983   \n",
       "2                                 -500.129135   \n",
       "3                                 -499.201640   \n",
       "4                                 -501.686727   \n",
       "\n",
       "   secondary_cleaner.state.floatbank5_b_air  \\\n",
       "0                                  8.079666   \n",
       "1                                  7.984757   \n",
       "2                                  8.013877   \n",
       "3                                  7.977324   \n",
       "4                                  7.894242   \n",
       "\n",
       "   secondary_cleaner.state.floatbank5_b_level  \\\n",
       "0                                 -500.470978   \n",
       "1                                 -500.582168   \n",
       "2                                 -500.517572   \n",
       "3                                 -500.255908   \n",
       "4                                 -500.356035   \n",
       "\n",
       "   secondary_cleaner.state.floatbank6_a_air  \\\n",
       "0                                 14.151341   \n",
       "1                                 13.998353   \n",
       "2                                 14.028663   \n",
       "3                                 14.005551   \n",
       "4                                 13.996647   \n",
       "\n",
       "   secondary_cleaner.state.floatbank6_a_level  \n",
       "0                                 -605.841980  \n",
       "1                                 -599.787184  \n",
       "2                                 -601.427363  \n",
       "3                                 -599.996129  \n",
       "4                                 -601.496691  \n",
       "\n",
       "[5 rows x 87 columns]"
      ]
     },
     "execution_count": 174,
     "metadata": {},
     "output_type": "execute_result"
    }
   ],
   "source": [
    "data_train.head()"
   ]
  },
  {
   "cell_type": "code",
   "execution_count": 175,
   "metadata": {},
   "outputs": [
    {
     "data": {
      "text/html": [
       "<div>\n",
       "<style scoped>\n",
       "    .dataframe tbody tr th:only-of-type {\n",
       "        vertical-align: middle;\n",
       "    }\n",
       "\n",
       "    .dataframe tbody tr th {\n",
       "        vertical-align: top;\n",
       "    }\n",
       "\n",
       "    .dataframe thead th {\n",
       "        text-align: right;\n",
       "    }\n",
       "</style>\n",
       "<table border=\"1\" class=\"dataframe\">\n",
       "  <thead>\n",
       "    <tr style=\"text-align: right;\">\n",
       "      <th></th>\n",
       "      <th>date</th>\n",
       "      <th>primary_cleaner.input.sulfate</th>\n",
       "      <th>primary_cleaner.input.depressant</th>\n",
       "      <th>primary_cleaner.input.feed_size</th>\n",
       "      <th>primary_cleaner.input.xanthate</th>\n",
       "      <th>primary_cleaner.state.floatbank8_a_air</th>\n",
       "      <th>primary_cleaner.state.floatbank8_a_level</th>\n",
       "      <th>primary_cleaner.state.floatbank8_b_air</th>\n",
       "      <th>primary_cleaner.state.floatbank8_b_level</th>\n",
       "      <th>primary_cleaner.state.floatbank8_c_air</th>\n",
       "      <th>...</th>\n",
       "      <th>secondary_cleaner.state.floatbank4_a_air</th>\n",
       "      <th>secondary_cleaner.state.floatbank4_a_level</th>\n",
       "      <th>secondary_cleaner.state.floatbank4_b_air</th>\n",
       "      <th>secondary_cleaner.state.floatbank4_b_level</th>\n",
       "      <th>secondary_cleaner.state.floatbank5_a_air</th>\n",
       "      <th>secondary_cleaner.state.floatbank5_a_level</th>\n",
       "      <th>secondary_cleaner.state.floatbank5_b_air</th>\n",
       "      <th>secondary_cleaner.state.floatbank5_b_level</th>\n",
       "      <th>secondary_cleaner.state.floatbank6_a_air</th>\n",
       "      <th>secondary_cleaner.state.floatbank6_a_level</th>\n",
       "    </tr>\n",
       "  </thead>\n",
       "  <tbody>\n",
       "    <tr>\n",
       "      <th>0</th>\n",
       "      <td>2016-09-01 00:59:59</td>\n",
       "      <td>210.800909</td>\n",
       "      <td>14.993118</td>\n",
       "      <td>8.080000</td>\n",
       "      <td>1.005021</td>\n",
       "      <td>1398.981301</td>\n",
       "      <td>-500.225577</td>\n",
       "      <td>1399.144926</td>\n",
       "      <td>-499.919735</td>\n",
       "      <td>1400.102998</td>\n",
       "      <td>...</td>\n",
       "      <td>12.023554</td>\n",
       "      <td>-497.795834</td>\n",
       "      <td>8.016656</td>\n",
       "      <td>-501.289139</td>\n",
       "      <td>7.946562</td>\n",
       "      <td>-432.317850</td>\n",
       "      <td>4.872511</td>\n",
       "      <td>-500.037437</td>\n",
       "      <td>26.705889</td>\n",
       "      <td>-499.709414</td>\n",
       "    </tr>\n",
       "    <tr>\n",
       "      <th>1</th>\n",
       "      <td>2016-09-01 01:59:59</td>\n",
       "      <td>215.392455</td>\n",
       "      <td>14.987471</td>\n",
       "      <td>8.080000</td>\n",
       "      <td>0.990469</td>\n",
       "      <td>1398.777912</td>\n",
       "      <td>-500.057435</td>\n",
       "      <td>1398.055362</td>\n",
       "      <td>-499.778182</td>\n",
       "      <td>1396.151033</td>\n",
       "      <td>...</td>\n",
       "      <td>12.058140</td>\n",
       "      <td>-498.695773</td>\n",
       "      <td>8.130979</td>\n",
       "      <td>-499.634209</td>\n",
       "      <td>7.958270</td>\n",
       "      <td>-525.839648</td>\n",
       "      <td>4.878850</td>\n",
       "      <td>-500.162375</td>\n",
       "      <td>25.019940</td>\n",
       "      <td>-499.819438</td>\n",
       "    </tr>\n",
       "    <tr>\n",
       "      <th>2</th>\n",
       "      <td>2016-09-01 02:59:59</td>\n",
       "      <td>215.259946</td>\n",
       "      <td>12.884934</td>\n",
       "      <td>7.786667</td>\n",
       "      <td>0.996043</td>\n",
       "      <td>1398.493666</td>\n",
       "      <td>-500.868360</td>\n",
       "      <td>1398.860436</td>\n",
       "      <td>-499.764529</td>\n",
       "      <td>1398.075709</td>\n",
       "      <td>...</td>\n",
       "      <td>11.962366</td>\n",
       "      <td>-498.767484</td>\n",
       "      <td>8.096893</td>\n",
       "      <td>-500.827423</td>\n",
       "      <td>8.071056</td>\n",
       "      <td>-500.801673</td>\n",
       "      <td>4.905125</td>\n",
       "      <td>-499.828510</td>\n",
       "      <td>24.994862</td>\n",
       "      <td>-500.622559</td>\n",
       "    </tr>\n",
       "    <tr>\n",
       "      <th>3</th>\n",
       "      <td>2016-09-01 03:59:59</td>\n",
       "      <td>215.336236</td>\n",
       "      <td>12.006805</td>\n",
       "      <td>7.640000</td>\n",
       "      <td>0.863514</td>\n",
       "      <td>1399.618111</td>\n",
       "      <td>-498.863574</td>\n",
       "      <td>1397.440120</td>\n",
       "      <td>-499.211024</td>\n",
       "      <td>1400.129303</td>\n",
       "      <td>...</td>\n",
       "      <td>12.033091</td>\n",
       "      <td>-498.350935</td>\n",
       "      <td>8.074946</td>\n",
       "      <td>-499.474407</td>\n",
       "      <td>7.897085</td>\n",
       "      <td>-500.868509</td>\n",
       "      <td>4.931400</td>\n",
       "      <td>-499.963623</td>\n",
       "      <td>24.948919</td>\n",
       "      <td>-498.709987</td>\n",
       "    </tr>\n",
       "    <tr>\n",
       "      <th>4</th>\n",
       "      <td>2016-09-01 04:59:59</td>\n",
       "      <td>199.099327</td>\n",
       "      <td>10.682530</td>\n",
       "      <td>7.530000</td>\n",
       "      <td>0.805575</td>\n",
       "      <td>1401.268123</td>\n",
       "      <td>-500.808305</td>\n",
       "      <td>1398.128818</td>\n",
       "      <td>-499.504543</td>\n",
       "      <td>1402.172226</td>\n",
       "      <td>...</td>\n",
       "      <td>12.025367</td>\n",
       "      <td>-500.786497</td>\n",
       "      <td>8.054678</td>\n",
       "      <td>-500.397500</td>\n",
       "      <td>8.107890</td>\n",
       "      <td>-509.526725</td>\n",
       "      <td>4.957674</td>\n",
       "      <td>-500.360026</td>\n",
       "      <td>25.003331</td>\n",
       "      <td>-500.856333</td>\n",
       "    </tr>\n",
       "  </tbody>\n",
       "</table>\n",
       "<p>5 rows × 53 columns</p>\n",
       "</div>"
      ],
      "text/plain": [
       "                  date  primary_cleaner.input.sulfate  \\\n",
       "0  2016-09-01 00:59:59                     210.800909   \n",
       "1  2016-09-01 01:59:59                     215.392455   \n",
       "2  2016-09-01 02:59:59                     215.259946   \n",
       "3  2016-09-01 03:59:59                     215.336236   \n",
       "4  2016-09-01 04:59:59                     199.099327   \n",
       "\n",
       "   primary_cleaner.input.depressant  primary_cleaner.input.feed_size  \\\n",
       "0                         14.993118                         8.080000   \n",
       "1                         14.987471                         8.080000   \n",
       "2                         12.884934                         7.786667   \n",
       "3                         12.006805                         7.640000   \n",
       "4                         10.682530                         7.530000   \n",
       "\n",
       "   primary_cleaner.input.xanthate  primary_cleaner.state.floatbank8_a_air  \\\n",
       "0                        1.005021                             1398.981301   \n",
       "1                        0.990469                             1398.777912   \n",
       "2                        0.996043                             1398.493666   \n",
       "3                        0.863514                             1399.618111   \n",
       "4                        0.805575                             1401.268123   \n",
       "\n",
       "   primary_cleaner.state.floatbank8_a_level  \\\n",
       "0                               -500.225577   \n",
       "1                               -500.057435   \n",
       "2                               -500.868360   \n",
       "3                               -498.863574   \n",
       "4                               -500.808305   \n",
       "\n",
       "   primary_cleaner.state.floatbank8_b_air  \\\n",
       "0                             1399.144926   \n",
       "1                             1398.055362   \n",
       "2                             1398.860436   \n",
       "3                             1397.440120   \n",
       "4                             1398.128818   \n",
       "\n",
       "   primary_cleaner.state.floatbank8_b_level  \\\n",
       "0                               -499.919735   \n",
       "1                               -499.778182   \n",
       "2                               -499.764529   \n",
       "3                               -499.211024   \n",
       "4                               -499.504543   \n",
       "\n",
       "   primary_cleaner.state.floatbank8_c_air  ...  \\\n",
       "0                             1400.102998  ...   \n",
       "1                             1396.151033  ...   \n",
       "2                             1398.075709  ...   \n",
       "3                             1400.129303  ...   \n",
       "4                             1402.172226  ...   \n",
       "\n",
       "   secondary_cleaner.state.floatbank4_a_air  \\\n",
       "0                                 12.023554   \n",
       "1                                 12.058140   \n",
       "2                                 11.962366   \n",
       "3                                 12.033091   \n",
       "4                                 12.025367   \n",
       "\n",
       "   secondary_cleaner.state.floatbank4_a_level  \\\n",
       "0                                 -497.795834   \n",
       "1                                 -498.695773   \n",
       "2                                 -498.767484   \n",
       "3                                 -498.350935   \n",
       "4                                 -500.786497   \n",
       "\n",
       "   secondary_cleaner.state.floatbank4_b_air  \\\n",
       "0                                  8.016656   \n",
       "1                                  8.130979   \n",
       "2                                  8.096893   \n",
       "3                                  8.074946   \n",
       "4                                  8.054678   \n",
       "\n",
       "   secondary_cleaner.state.floatbank4_b_level  \\\n",
       "0                                 -501.289139   \n",
       "1                                 -499.634209   \n",
       "2                                 -500.827423   \n",
       "3                                 -499.474407   \n",
       "4                                 -500.397500   \n",
       "\n",
       "   secondary_cleaner.state.floatbank5_a_air  \\\n",
       "0                                  7.946562   \n",
       "1                                  7.958270   \n",
       "2                                  8.071056   \n",
       "3                                  7.897085   \n",
       "4                                  8.107890   \n",
       "\n",
       "   secondary_cleaner.state.floatbank5_a_level  \\\n",
       "0                                 -432.317850   \n",
       "1                                 -525.839648   \n",
       "2                                 -500.801673   \n",
       "3                                 -500.868509   \n",
       "4                                 -509.526725   \n",
       "\n",
       "   secondary_cleaner.state.floatbank5_b_air  \\\n",
       "0                                  4.872511   \n",
       "1                                  4.878850   \n",
       "2                                  4.905125   \n",
       "3                                  4.931400   \n",
       "4                                  4.957674   \n",
       "\n",
       "   secondary_cleaner.state.floatbank5_b_level  \\\n",
       "0                                 -500.037437   \n",
       "1                                 -500.162375   \n",
       "2                                 -499.828510   \n",
       "3                                 -499.963623   \n",
       "4                                 -500.360026   \n",
       "\n",
       "   secondary_cleaner.state.floatbank6_a_air  \\\n",
       "0                                 26.705889   \n",
       "1                                 25.019940   \n",
       "2                                 24.994862   \n",
       "3                                 24.948919   \n",
       "4                                 25.003331   \n",
       "\n",
       "   secondary_cleaner.state.floatbank6_a_level  \n",
       "0                                 -499.709414  \n",
       "1                                 -499.819438  \n",
       "2                                 -500.622559  \n",
       "3                                 -498.709987  \n",
       "4                                 -500.856333  \n",
       "\n",
       "[5 rows x 53 columns]"
      ]
     },
     "execution_count": 175,
     "metadata": {},
     "output_type": "execute_result"
    }
   ],
   "source": [
    "data_test.head()"
   ]
  },
  {
   "cell_type": "code",
   "execution_count": 176,
   "metadata": {},
   "outputs": [
    {
     "data": {
      "text/html": [
       "<div>\n",
       "<style scoped>\n",
       "    .dataframe tbody tr th:only-of-type {\n",
       "        vertical-align: middle;\n",
       "    }\n",
       "\n",
       "    .dataframe tbody tr th {\n",
       "        vertical-align: top;\n",
       "    }\n",
       "\n",
       "    .dataframe thead th {\n",
       "        text-align: right;\n",
       "    }\n",
       "</style>\n",
       "<table border=\"1\" class=\"dataframe\">\n",
       "  <thead>\n",
       "    <tr style=\"text-align: right;\">\n",
       "      <th></th>\n",
       "      <th>date</th>\n",
       "      <th>final.output.concentrate_ag</th>\n",
       "      <th>final.output.concentrate_pb</th>\n",
       "      <th>final.output.concentrate_sol</th>\n",
       "      <th>final.output.concentrate_au</th>\n",
       "      <th>final.output.recovery</th>\n",
       "      <th>final.output.tail_ag</th>\n",
       "      <th>final.output.tail_pb</th>\n",
       "      <th>final.output.tail_sol</th>\n",
       "      <th>final.output.tail_au</th>\n",
       "      <th>...</th>\n",
       "      <th>secondary_cleaner.state.floatbank4_a_air</th>\n",
       "      <th>secondary_cleaner.state.floatbank4_a_level</th>\n",
       "      <th>secondary_cleaner.state.floatbank4_b_air</th>\n",
       "      <th>secondary_cleaner.state.floatbank4_b_level</th>\n",
       "      <th>secondary_cleaner.state.floatbank5_a_air</th>\n",
       "      <th>secondary_cleaner.state.floatbank5_a_level</th>\n",
       "      <th>secondary_cleaner.state.floatbank5_b_air</th>\n",
       "      <th>secondary_cleaner.state.floatbank5_b_level</th>\n",
       "      <th>secondary_cleaner.state.floatbank6_a_air</th>\n",
       "      <th>secondary_cleaner.state.floatbank6_a_level</th>\n",
       "    </tr>\n",
       "  </thead>\n",
       "  <tbody>\n",
       "    <tr>\n",
       "      <th>0</th>\n",
       "      <td>2016-01-15 00:00:00</td>\n",
       "      <td>6.055403</td>\n",
       "      <td>9.889648</td>\n",
       "      <td>5.507324</td>\n",
       "      <td>42.192020</td>\n",
       "      <td>70.541216</td>\n",
       "      <td>10.411962</td>\n",
       "      <td>0.895447</td>\n",
       "      <td>16.904297</td>\n",
       "      <td>2.143149</td>\n",
       "      <td>...</td>\n",
       "      <td>14.016835</td>\n",
       "      <td>-502.488007</td>\n",
       "      <td>12.099931</td>\n",
       "      <td>-504.715942</td>\n",
       "      <td>9.925633</td>\n",
       "      <td>-498.310211</td>\n",
       "      <td>8.079666</td>\n",
       "      <td>-500.470978</td>\n",
       "      <td>14.151341</td>\n",
       "      <td>-605.841980</td>\n",
       "    </tr>\n",
       "    <tr>\n",
       "      <th>1</th>\n",
       "      <td>2016-01-15 01:00:00</td>\n",
       "      <td>6.029369</td>\n",
       "      <td>9.968944</td>\n",
       "      <td>5.257781</td>\n",
       "      <td>42.701629</td>\n",
       "      <td>69.266198</td>\n",
       "      <td>10.462676</td>\n",
       "      <td>0.927452</td>\n",
       "      <td>16.634514</td>\n",
       "      <td>2.224930</td>\n",
       "      <td>...</td>\n",
       "      <td>13.992281</td>\n",
       "      <td>-505.503262</td>\n",
       "      <td>11.950531</td>\n",
       "      <td>-501.331529</td>\n",
       "      <td>10.039245</td>\n",
       "      <td>-500.169983</td>\n",
       "      <td>7.984757</td>\n",
       "      <td>-500.582168</td>\n",
       "      <td>13.998353</td>\n",
       "      <td>-599.787184</td>\n",
       "    </tr>\n",
       "    <tr>\n",
       "      <th>2</th>\n",
       "      <td>2016-01-15 02:00:00</td>\n",
       "      <td>6.055926</td>\n",
       "      <td>10.213995</td>\n",
       "      <td>5.383759</td>\n",
       "      <td>42.657501</td>\n",
       "      <td>68.116445</td>\n",
       "      <td>10.507046</td>\n",
       "      <td>0.953716</td>\n",
       "      <td>16.208849</td>\n",
       "      <td>2.257889</td>\n",
       "      <td>...</td>\n",
       "      <td>14.015015</td>\n",
       "      <td>-502.520901</td>\n",
       "      <td>11.912783</td>\n",
       "      <td>-501.133383</td>\n",
       "      <td>10.070913</td>\n",
       "      <td>-500.129135</td>\n",
       "      <td>8.013877</td>\n",
       "      <td>-500.517572</td>\n",
       "      <td>14.028663</td>\n",
       "      <td>-601.427363</td>\n",
       "    </tr>\n",
       "    <tr>\n",
       "      <th>3</th>\n",
       "      <td>2016-01-15 03:00:00</td>\n",
       "      <td>6.047977</td>\n",
       "      <td>9.977019</td>\n",
       "      <td>4.858634</td>\n",
       "      <td>42.689819</td>\n",
       "      <td>68.347543</td>\n",
       "      <td>10.422762</td>\n",
       "      <td>0.883763</td>\n",
       "      <td>16.532835</td>\n",
       "      <td>2.146849</td>\n",
       "      <td>...</td>\n",
       "      <td>14.036510</td>\n",
       "      <td>-500.857308</td>\n",
       "      <td>11.999550</td>\n",
       "      <td>-501.193686</td>\n",
       "      <td>9.970366</td>\n",
       "      <td>-499.201640</td>\n",
       "      <td>7.977324</td>\n",
       "      <td>-500.255908</td>\n",
       "      <td>14.005551</td>\n",
       "      <td>-599.996129</td>\n",
       "    </tr>\n",
       "    <tr>\n",
       "      <th>4</th>\n",
       "      <td>2016-01-15 04:00:00</td>\n",
       "      <td>6.148599</td>\n",
       "      <td>10.142511</td>\n",
       "      <td>4.939416</td>\n",
       "      <td>42.774141</td>\n",
       "      <td>66.927016</td>\n",
       "      <td>10.360302</td>\n",
       "      <td>0.792826</td>\n",
       "      <td>16.525686</td>\n",
       "      <td>2.055292</td>\n",
       "      <td>...</td>\n",
       "      <td>14.027298</td>\n",
       "      <td>-499.838632</td>\n",
       "      <td>11.953070</td>\n",
       "      <td>-501.053894</td>\n",
       "      <td>9.925709</td>\n",
       "      <td>-501.686727</td>\n",
       "      <td>7.894242</td>\n",
       "      <td>-500.356035</td>\n",
       "      <td>13.996647</td>\n",
       "      <td>-601.496691</td>\n",
       "    </tr>\n",
       "  </tbody>\n",
       "</table>\n",
       "<p>5 rows × 87 columns</p>\n",
       "</div>"
      ],
      "text/plain": [
       "                  date  final.output.concentrate_ag  \\\n",
       "0  2016-01-15 00:00:00                     6.055403   \n",
       "1  2016-01-15 01:00:00                     6.029369   \n",
       "2  2016-01-15 02:00:00                     6.055926   \n",
       "3  2016-01-15 03:00:00                     6.047977   \n",
       "4  2016-01-15 04:00:00                     6.148599   \n",
       "\n",
       "   final.output.concentrate_pb  final.output.concentrate_sol  \\\n",
       "0                     9.889648                      5.507324   \n",
       "1                     9.968944                      5.257781   \n",
       "2                    10.213995                      5.383759   \n",
       "3                     9.977019                      4.858634   \n",
       "4                    10.142511                      4.939416   \n",
       "\n",
       "   final.output.concentrate_au  final.output.recovery  final.output.tail_ag  \\\n",
       "0                    42.192020              70.541216             10.411962   \n",
       "1                    42.701629              69.266198             10.462676   \n",
       "2                    42.657501              68.116445             10.507046   \n",
       "3                    42.689819              68.347543             10.422762   \n",
       "4                    42.774141              66.927016             10.360302   \n",
       "\n",
       "   final.output.tail_pb  final.output.tail_sol  final.output.tail_au  ...  \\\n",
       "0              0.895447              16.904297              2.143149  ...   \n",
       "1              0.927452              16.634514              2.224930  ...   \n",
       "2              0.953716              16.208849              2.257889  ...   \n",
       "3              0.883763              16.532835              2.146849  ...   \n",
       "4              0.792826              16.525686              2.055292  ...   \n",
       "\n",
       "   secondary_cleaner.state.floatbank4_a_air  \\\n",
       "0                                 14.016835   \n",
       "1                                 13.992281   \n",
       "2                                 14.015015   \n",
       "3                                 14.036510   \n",
       "4                                 14.027298   \n",
       "\n",
       "   secondary_cleaner.state.floatbank4_a_level  \\\n",
       "0                                 -502.488007   \n",
       "1                                 -505.503262   \n",
       "2                                 -502.520901   \n",
       "3                                 -500.857308   \n",
       "4                                 -499.838632   \n",
       "\n",
       "   secondary_cleaner.state.floatbank4_b_air  \\\n",
       "0                                 12.099931   \n",
       "1                                 11.950531   \n",
       "2                                 11.912783   \n",
       "3                                 11.999550   \n",
       "4                                 11.953070   \n",
       "\n",
       "   secondary_cleaner.state.floatbank4_b_level  \\\n",
       "0                                 -504.715942   \n",
       "1                                 -501.331529   \n",
       "2                                 -501.133383   \n",
       "3                                 -501.193686   \n",
       "4                                 -501.053894   \n",
       "\n",
       "   secondary_cleaner.state.floatbank5_a_air  \\\n",
       "0                                  9.925633   \n",
       "1                                 10.039245   \n",
       "2                                 10.070913   \n",
       "3                                  9.970366   \n",
       "4                                  9.925709   \n",
       "\n",
       "   secondary_cleaner.state.floatbank5_a_level  \\\n",
       "0                                 -498.310211   \n",
       "1                                 -500.169983   \n",
       "2                                 -500.129135   \n",
       "3                                 -499.201640   \n",
       "4                                 -501.686727   \n",
       "\n",
       "   secondary_cleaner.state.floatbank5_b_air  \\\n",
       "0                                  8.079666   \n",
       "1                                  7.984757   \n",
       "2                                  8.013877   \n",
       "3                                  7.977324   \n",
       "4                                  7.894242   \n",
       "\n",
       "   secondary_cleaner.state.floatbank5_b_level  \\\n",
       "0                                 -500.470978   \n",
       "1                                 -500.582168   \n",
       "2                                 -500.517572   \n",
       "3                                 -500.255908   \n",
       "4                                 -500.356035   \n",
       "\n",
       "   secondary_cleaner.state.floatbank6_a_air  \\\n",
       "0                                 14.151341   \n",
       "1                                 13.998353   \n",
       "2                                 14.028663   \n",
       "3                                 14.005551   \n",
       "4                                 13.996647   \n",
       "\n",
       "   secondary_cleaner.state.floatbank6_a_level  \n",
       "0                                 -605.841980  \n",
       "1                                 -599.787184  \n",
       "2                                 -601.427363  \n",
       "3                                 -599.996129  \n",
       "4                                 -601.496691  \n",
       "\n",
       "[5 rows x 87 columns]"
      ]
     },
     "execution_count": 176,
     "metadata": {},
     "output_type": "execute_result"
    }
   ],
   "source": [
    "data_full.head()"
   ]
  },
  {
   "cell_type": "markdown",
   "metadata": {},
   "source": [
    "### Missing Values Data Preprocessing"
   ]
  },
  {
   "cell_type": "code",
   "execution_count": 177,
   "metadata": {},
   "outputs": [
    {
     "data": {
      "text/plain": [
       "date                                            0\n",
       "final.output.concentrate_ag                    72\n",
       "final.output.concentrate_pb                    72\n",
       "final.output.concentrate_sol                  370\n",
       "final.output.concentrate_au                    71\n",
       "                                             ... \n",
       "secondary_cleaner.state.floatbank5_a_level     85\n",
       "secondary_cleaner.state.floatbank5_b_air       85\n",
       "secondary_cleaner.state.floatbank5_b_level     84\n",
       "secondary_cleaner.state.floatbank6_a_air      103\n",
       "secondary_cleaner.state.floatbank6_a_level     85\n",
       "Length: 87, dtype: int64"
      ]
     },
     "execution_count": 177,
     "metadata": {},
     "output_type": "execute_result"
    }
   ],
   "source": [
    "data_train.isna().sum()"
   ]
  },
  {
   "cell_type": "code",
   "execution_count": 178,
   "metadata": {},
   "outputs": [],
   "source": [
    "data_train.bfill(inplace=True)"
   ]
  },
  {
   "cell_type": "code",
   "execution_count": 179,
   "metadata": {},
   "outputs": [
    {
     "data": {
      "text/plain": [
       "date                                          0\n",
       "final.output.concentrate_ag                   0\n",
       "final.output.concentrate_pb                   0\n",
       "final.output.concentrate_sol                  0\n",
       "final.output.concentrate_au                   0\n",
       "                                             ..\n",
       "secondary_cleaner.state.floatbank5_a_level    0\n",
       "secondary_cleaner.state.floatbank5_b_air      0\n",
       "secondary_cleaner.state.floatbank5_b_level    0\n",
       "secondary_cleaner.state.floatbank6_a_air      0\n",
       "secondary_cleaner.state.floatbank6_a_level    0\n",
       "Length: 87, dtype: int64"
      ]
     },
     "execution_count": 179,
     "metadata": {},
     "output_type": "execute_result"
    }
   ],
   "source": [
    "data_train.isna().sum()"
   ]
  },
  {
   "cell_type": "code",
   "execution_count": 180,
   "metadata": {},
   "outputs": [
    {
     "data": {
      "text/plain": [
       "date                                            0\n",
       "primary_cleaner.input.sulfate                 302\n",
       "primary_cleaner.input.depressant              284\n",
       "primary_cleaner.input.feed_size                 0\n",
       "primary_cleaner.input.xanthate                166\n",
       "primary_cleaner.state.floatbank8_a_air         16\n",
       "primary_cleaner.state.floatbank8_a_level       16\n",
       "primary_cleaner.state.floatbank8_b_air         16\n",
       "primary_cleaner.state.floatbank8_b_level       16\n",
       "primary_cleaner.state.floatbank8_c_air         16\n",
       "primary_cleaner.state.floatbank8_c_level       16\n",
       "primary_cleaner.state.floatbank8_d_air         16\n",
       "primary_cleaner.state.floatbank8_d_level       16\n",
       "rougher.input.feed_ag                          16\n",
       "rougher.input.feed_pb                          16\n",
       "rougher.input.feed_rate                        40\n",
       "rougher.input.feed_size                        22\n",
       "rougher.input.feed_sol                         67\n",
       "rougher.input.feed_au                          16\n",
       "rougher.input.floatbank10_sulfate             257\n",
       "rougher.input.floatbank10_xanthate            123\n",
       "rougher.input.floatbank11_sulfate              55\n",
       "rougher.input.floatbank11_xanthate            353\n",
       "rougher.state.floatbank10_a_air                17\n",
       "rougher.state.floatbank10_a_level              16\n",
       "rougher.state.floatbank10_b_air                17\n",
       "rougher.state.floatbank10_b_level              16\n",
       "rougher.state.floatbank10_c_air                17\n",
       "rougher.state.floatbank10_c_level              16\n",
       "rougher.state.floatbank10_d_air                17\n",
       "rougher.state.floatbank10_d_level              16\n",
       "rougher.state.floatbank10_e_air                17\n",
       "rougher.state.floatbank10_e_level              16\n",
       "rougher.state.floatbank10_f_air                17\n",
       "rougher.state.floatbank10_f_level              16\n",
       "secondary_cleaner.state.floatbank2_a_air       20\n",
       "secondary_cleaner.state.floatbank2_a_level     16\n",
       "secondary_cleaner.state.floatbank2_b_air       23\n",
       "secondary_cleaner.state.floatbank2_b_level     16\n",
       "secondary_cleaner.state.floatbank3_a_air       34\n",
       "secondary_cleaner.state.floatbank3_a_level     16\n",
       "secondary_cleaner.state.floatbank3_b_air       16\n",
       "secondary_cleaner.state.floatbank3_b_level     16\n",
       "secondary_cleaner.state.floatbank4_a_air       16\n",
       "secondary_cleaner.state.floatbank4_a_level     16\n",
       "secondary_cleaner.state.floatbank4_b_air       16\n",
       "secondary_cleaner.state.floatbank4_b_level     16\n",
       "secondary_cleaner.state.floatbank5_a_air       16\n",
       "secondary_cleaner.state.floatbank5_a_level     16\n",
       "secondary_cleaner.state.floatbank5_b_air       16\n",
       "secondary_cleaner.state.floatbank5_b_level     16\n",
       "secondary_cleaner.state.floatbank6_a_air       16\n",
       "secondary_cleaner.state.floatbank6_a_level     16\n",
       "dtype: int64"
      ]
     },
     "execution_count": 180,
     "metadata": {},
     "output_type": "execute_result"
    }
   ],
   "source": [
    "data_test.isna().sum()"
   ]
  },
  {
   "cell_type": "code",
   "execution_count": 181,
   "metadata": {},
   "outputs": [],
   "source": [
    "data_test.bfill(inplace=True)"
   ]
  },
  {
   "cell_type": "code",
   "execution_count": 182,
   "metadata": {},
   "outputs": [
    {
     "data": {
      "text/plain": [
       "date                                          0\n",
       "primary_cleaner.input.sulfate                 0\n",
       "primary_cleaner.input.depressant              0\n",
       "primary_cleaner.input.feed_size               0\n",
       "primary_cleaner.input.xanthate                0\n",
       "primary_cleaner.state.floatbank8_a_air        0\n",
       "primary_cleaner.state.floatbank8_a_level      0\n",
       "primary_cleaner.state.floatbank8_b_air        0\n",
       "primary_cleaner.state.floatbank8_b_level      0\n",
       "primary_cleaner.state.floatbank8_c_air        0\n",
       "primary_cleaner.state.floatbank8_c_level      0\n",
       "primary_cleaner.state.floatbank8_d_air        0\n",
       "primary_cleaner.state.floatbank8_d_level      0\n",
       "rougher.input.feed_ag                         0\n",
       "rougher.input.feed_pb                         0\n",
       "rougher.input.feed_rate                       0\n",
       "rougher.input.feed_size                       0\n",
       "rougher.input.feed_sol                        0\n",
       "rougher.input.feed_au                         0\n",
       "rougher.input.floatbank10_sulfate             0\n",
       "rougher.input.floatbank10_xanthate            0\n",
       "rougher.input.floatbank11_sulfate             0\n",
       "rougher.input.floatbank11_xanthate            0\n",
       "rougher.state.floatbank10_a_air               0\n",
       "rougher.state.floatbank10_a_level             0\n",
       "rougher.state.floatbank10_b_air               0\n",
       "rougher.state.floatbank10_b_level             0\n",
       "rougher.state.floatbank10_c_air               0\n",
       "rougher.state.floatbank10_c_level             0\n",
       "rougher.state.floatbank10_d_air               0\n",
       "rougher.state.floatbank10_d_level             0\n",
       "rougher.state.floatbank10_e_air               0\n",
       "rougher.state.floatbank10_e_level             0\n",
       "rougher.state.floatbank10_f_air               0\n",
       "rougher.state.floatbank10_f_level             0\n",
       "secondary_cleaner.state.floatbank2_a_air      0\n",
       "secondary_cleaner.state.floatbank2_a_level    0\n",
       "secondary_cleaner.state.floatbank2_b_air      0\n",
       "secondary_cleaner.state.floatbank2_b_level    0\n",
       "secondary_cleaner.state.floatbank3_a_air      0\n",
       "secondary_cleaner.state.floatbank3_a_level    0\n",
       "secondary_cleaner.state.floatbank3_b_air      0\n",
       "secondary_cleaner.state.floatbank3_b_level    0\n",
       "secondary_cleaner.state.floatbank4_a_air      0\n",
       "secondary_cleaner.state.floatbank4_a_level    0\n",
       "secondary_cleaner.state.floatbank4_b_air      0\n",
       "secondary_cleaner.state.floatbank4_b_level    0\n",
       "secondary_cleaner.state.floatbank5_a_air      0\n",
       "secondary_cleaner.state.floatbank5_a_level    0\n",
       "secondary_cleaner.state.floatbank5_b_air      0\n",
       "secondary_cleaner.state.floatbank5_b_level    0\n",
       "secondary_cleaner.state.floatbank6_a_air      0\n",
       "secondary_cleaner.state.floatbank6_a_level    0\n",
       "dtype: int64"
      ]
     },
     "execution_count": 182,
     "metadata": {},
     "output_type": "execute_result"
    }
   ],
   "source": [
    "data_test.isna().sum()"
   ]
  },
  {
   "cell_type": "code",
   "execution_count": 183,
   "metadata": {},
   "outputs": [
    {
     "data": {
      "text/plain": [
       "date                                            0\n",
       "final.output.concentrate_ag                    89\n",
       "final.output.concentrate_pb                    87\n",
       "final.output.concentrate_sol                  385\n",
       "final.output.concentrate_au                    86\n",
       "                                             ... \n",
       "secondary_cleaner.state.floatbank5_a_level    101\n",
       "secondary_cleaner.state.floatbank5_b_air      101\n",
       "secondary_cleaner.state.floatbank5_b_level    100\n",
       "secondary_cleaner.state.floatbank6_a_air      119\n",
       "secondary_cleaner.state.floatbank6_a_level    101\n",
       "Length: 87, dtype: int64"
      ]
     },
     "execution_count": 183,
     "metadata": {},
     "output_type": "execute_result"
    }
   ],
   "source": [
    "data_full.isna().sum()"
   ]
  },
  {
   "cell_type": "code",
   "execution_count": 184,
   "metadata": {},
   "outputs": [],
   "source": [
    "data_full.bfill(inplace=True)"
   ]
  },
  {
   "cell_type": "code",
   "execution_count": 185,
   "metadata": {},
   "outputs": [
    {
     "data": {
      "text/plain": [
       "date                                          0\n",
       "final.output.concentrate_ag                   0\n",
       "final.output.concentrate_pb                   0\n",
       "final.output.concentrate_sol                  0\n",
       "final.output.concentrate_au                   0\n",
       "                                             ..\n",
       "secondary_cleaner.state.floatbank5_a_level    0\n",
       "secondary_cleaner.state.floatbank5_b_air      0\n",
       "secondary_cleaner.state.floatbank5_b_level    0\n",
       "secondary_cleaner.state.floatbank6_a_air      0\n",
       "secondary_cleaner.state.floatbank6_a_level    0\n",
       "Length: 87, dtype: int64"
      ]
     },
     "execution_count": 185,
     "metadata": {},
     "output_type": "execute_result"
    }
   ],
   "source": [
    "data_full.isna().sum()"
   ]
  },
  {
   "cell_type": "markdown",
   "metadata": {},
   "source": [
    "### Duplicate Values"
   ]
  },
  {
   "cell_type": "code",
   "execution_count": 186,
   "metadata": {},
   "outputs": [
    {
     "data": {
      "text/plain": [
       "0"
      ]
     },
     "execution_count": 186,
     "metadata": {},
     "output_type": "execute_result"
    }
   ],
   "source": [
    "data_train.duplicated().sum()"
   ]
  },
  {
   "cell_type": "code",
   "execution_count": 187,
   "metadata": {},
   "outputs": [
    {
     "data": {
      "text/plain": [
       "0"
      ]
     },
     "execution_count": 187,
     "metadata": {},
     "output_type": "execute_result"
    }
   ],
   "source": [
    "data_test.duplicated().sum()"
   ]
  },
  {
   "cell_type": "code",
   "execution_count": 188,
   "metadata": {},
   "outputs": [
    {
     "data": {
      "text/plain": [
       "0"
      ]
     },
     "execution_count": 188,
     "metadata": {},
     "output_type": "execute_result"
    }
   ],
   "source": [
    "data_full.duplicated().sum()"
   ]
  },
  {
   "cell_type": "markdown",
   "metadata": {},
   "source": [
    "### Data Types"
   ]
  },
  {
   "cell_type": "code",
   "execution_count": 189,
   "metadata": {},
   "outputs": [
    {
     "name": "stdout",
     "output_type": "stream",
     "text": [
      "<class 'pandas.core.frame.DataFrame'>\n",
      "RangeIndex: 16860 entries, 0 to 16859\n",
      "Data columns (total 87 columns):\n",
      " #   Column                                              Non-Null Count  Dtype  \n",
      "---  ------                                              --------------  -----  \n",
      " 0   date                                                16860 non-null  object \n",
      " 1   final.output.concentrate_ag                         16860 non-null  float64\n",
      " 2   final.output.concentrate_pb                         16860 non-null  float64\n",
      " 3   final.output.concentrate_sol                        16860 non-null  float64\n",
      " 4   final.output.concentrate_au                         16860 non-null  float64\n",
      " 5   final.output.recovery                               16860 non-null  float64\n",
      " 6   final.output.tail_ag                                16860 non-null  float64\n",
      " 7   final.output.tail_pb                                16860 non-null  float64\n",
      " 8   final.output.tail_sol                               16860 non-null  float64\n",
      " 9   final.output.tail_au                                16860 non-null  float64\n",
      " 10  primary_cleaner.input.sulfate                       16860 non-null  float64\n",
      " 11  primary_cleaner.input.depressant                    16860 non-null  float64\n",
      " 12  primary_cleaner.input.feed_size                     16860 non-null  float64\n",
      " 13  primary_cleaner.input.xanthate                      16860 non-null  float64\n",
      " 14  primary_cleaner.output.concentrate_ag               16860 non-null  float64\n",
      " 15  primary_cleaner.output.concentrate_pb               16860 non-null  float64\n",
      " 16  primary_cleaner.output.concentrate_sol              16860 non-null  float64\n",
      " 17  primary_cleaner.output.concentrate_au               16860 non-null  float64\n",
      " 18  primary_cleaner.output.tail_ag                      16860 non-null  float64\n",
      " 19  primary_cleaner.output.tail_pb                      16860 non-null  float64\n",
      " 20  primary_cleaner.output.tail_sol                     16860 non-null  float64\n",
      " 21  primary_cleaner.output.tail_au                      16860 non-null  float64\n",
      " 22  primary_cleaner.state.floatbank8_a_air              16860 non-null  float64\n",
      " 23  primary_cleaner.state.floatbank8_a_level            16860 non-null  float64\n",
      " 24  primary_cleaner.state.floatbank8_b_air              16860 non-null  float64\n",
      " 25  primary_cleaner.state.floatbank8_b_level            16860 non-null  float64\n",
      " 26  primary_cleaner.state.floatbank8_c_air              16860 non-null  float64\n",
      " 27  primary_cleaner.state.floatbank8_c_level            16860 non-null  float64\n",
      " 28  primary_cleaner.state.floatbank8_d_air              16860 non-null  float64\n",
      " 29  primary_cleaner.state.floatbank8_d_level            16860 non-null  float64\n",
      " 30  rougher.calculation.sulfate_to_au_concentrate       16860 non-null  float64\n",
      " 31  rougher.calculation.floatbank10_sulfate_to_au_feed  16860 non-null  float64\n",
      " 32  rougher.calculation.floatbank11_sulfate_to_au_feed  16860 non-null  float64\n",
      " 33  rougher.calculation.au_pb_ratio                     16860 non-null  float64\n",
      " 34  rougher.input.feed_ag                               16860 non-null  float64\n",
      " 35  rougher.input.feed_pb                               16860 non-null  float64\n",
      " 36  rougher.input.feed_rate                             16860 non-null  float64\n",
      " 37  rougher.input.feed_size                             16860 non-null  float64\n",
      " 38  rougher.input.feed_sol                              16860 non-null  float64\n",
      " 39  rougher.input.feed_au                               16860 non-null  float64\n",
      " 40  rougher.input.floatbank10_sulfate                   16860 non-null  float64\n",
      " 41  rougher.input.floatbank10_xanthate                  16860 non-null  float64\n",
      " 42  rougher.input.floatbank11_sulfate                   16860 non-null  float64\n",
      " 43  rougher.input.floatbank11_xanthate                  16860 non-null  float64\n",
      " 44  rougher.output.concentrate_ag                       16860 non-null  float64\n",
      " 45  rougher.output.concentrate_pb                       16860 non-null  float64\n",
      " 46  rougher.output.concentrate_sol                      16860 non-null  float64\n",
      " 47  rougher.output.concentrate_au                       16860 non-null  float64\n",
      " 48  rougher.output.recovery                             16860 non-null  float64\n",
      " 49  rougher.output.tail_ag                              16860 non-null  float64\n",
      " 50  rougher.output.tail_pb                              16860 non-null  float64\n",
      " 51  rougher.output.tail_sol                             16860 non-null  float64\n",
      " 52  rougher.output.tail_au                              16860 non-null  float64\n",
      " 53  rougher.state.floatbank10_a_air                     16860 non-null  float64\n",
      " 54  rougher.state.floatbank10_a_level                   16860 non-null  float64\n",
      " 55  rougher.state.floatbank10_b_air                     16860 non-null  float64\n",
      " 56  rougher.state.floatbank10_b_level                   16860 non-null  float64\n",
      " 57  rougher.state.floatbank10_c_air                     16860 non-null  float64\n",
      " 58  rougher.state.floatbank10_c_level                   16860 non-null  float64\n",
      " 59  rougher.state.floatbank10_d_air                     16860 non-null  float64\n",
      " 60  rougher.state.floatbank10_d_level                   16860 non-null  float64\n",
      " 61  rougher.state.floatbank10_e_air                     16860 non-null  float64\n",
      " 62  rougher.state.floatbank10_e_level                   16860 non-null  float64\n",
      " 63  rougher.state.floatbank10_f_air                     16860 non-null  float64\n",
      " 64  rougher.state.floatbank10_f_level                   16860 non-null  float64\n",
      " 65  secondary_cleaner.output.tail_ag                    16860 non-null  float64\n",
      " 66  secondary_cleaner.output.tail_pb                    16860 non-null  float64\n",
      " 67  secondary_cleaner.output.tail_sol                   16860 non-null  float64\n",
      " 68  secondary_cleaner.output.tail_au                    16860 non-null  float64\n",
      " 69  secondary_cleaner.state.floatbank2_a_air            16860 non-null  float64\n",
      " 70  secondary_cleaner.state.floatbank2_a_level          16860 non-null  float64\n",
      " 71  secondary_cleaner.state.floatbank2_b_air            16860 non-null  float64\n",
      " 72  secondary_cleaner.state.floatbank2_b_level          16860 non-null  float64\n",
      " 73  secondary_cleaner.state.floatbank3_a_air            16860 non-null  float64\n",
      " 74  secondary_cleaner.state.floatbank3_a_level          16860 non-null  float64\n",
      " 75  secondary_cleaner.state.floatbank3_b_air            16860 non-null  float64\n",
      " 76  secondary_cleaner.state.floatbank3_b_level          16860 non-null  float64\n",
      " 77  secondary_cleaner.state.floatbank4_a_air            16860 non-null  float64\n",
      " 78  secondary_cleaner.state.floatbank4_a_level          16860 non-null  float64\n",
      " 79  secondary_cleaner.state.floatbank4_b_air            16860 non-null  float64\n",
      " 80  secondary_cleaner.state.floatbank4_b_level          16860 non-null  float64\n",
      " 81  secondary_cleaner.state.floatbank5_a_air            16860 non-null  float64\n",
      " 82  secondary_cleaner.state.floatbank5_a_level          16860 non-null  float64\n",
      " 83  secondary_cleaner.state.floatbank5_b_air            16860 non-null  float64\n",
      " 84  secondary_cleaner.state.floatbank5_b_level          16860 non-null  float64\n",
      " 85  secondary_cleaner.state.floatbank6_a_air            16860 non-null  float64\n",
      " 86  secondary_cleaner.state.floatbank6_a_level          16860 non-null  float64\n",
      "dtypes: float64(86), object(1)\n",
      "memory usage: 11.2+ MB\n"
     ]
    }
   ],
   "source": [
    "data_train.info()"
   ]
  },
  {
   "cell_type": "code",
   "execution_count": 190,
   "metadata": {},
   "outputs": [],
   "source": [
    "data_train['date'] = pd.to_datetime(data_train['date'], format='%Y-%m-%d %H:%M:%S')"
   ]
  },
  {
   "cell_type": "code",
   "execution_count": 191,
   "metadata": {},
   "outputs": [
    {
     "name": "stdout",
     "output_type": "stream",
     "text": [
      "<class 'pandas.core.frame.DataFrame'>\n",
      "RangeIndex: 16860 entries, 0 to 16859\n",
      "Data columns (total 87 columns):\n",
      " #   Column                                              Non-Null Count  Dtype         \n",
      "---  ------                                              --------------  -----         \n",
      " 0   date                                                16860 non-null  datetime64[ns]\n",
      " 1   final.output.concentrate_ag                         16860 non-null  float64       \n",
      " 2   final.output.concentrate_pb                         16860 non-null  float64       \n",
      " 3   final.output.concentrate_sol                        16860 non-null  float64       \n",
      " 4   final.output.concentrate_au                         16860 non-null  float64       \n",
      " 5   final.output.recovery                               16860 non-null  float64       \n",
      " 6   final.output.tail_ag                                16860 non-null  float64       \n",
      " 7   final.output.tail_pb                                16860 non-null  float64       \n",
      " 8   final.output.tail_sol                               16860 non-null  float64       \n",
      " 9   final.output.tail_au                                16860 non-null  float64       \n",
      " 10  primary_cleaner.input.sulfate                       16860 non-null  float64       \n",
      " 11  primary_cleaner.input.depressant                    16860 non-null  float64       \n",
      " 12  primary_cleaner.input.feed_size                     16860 non-null  float64       \n",
      " 13  primary_cleaner.input.xanthate                      16860 non-null  float64       \n",
      " 14  primary_cleaner.output.concentrate_ag               16860 non-null  float64       \n",
      " 15  primary_cleaner.output.concentrate_pb               16860 non-null  float64       \n",
      " 16  primary_cleaner.output.concentrate_sol              16860 non-null  float64       \n",
      " 17  primary_cleaner.output.concentrate_au               16860 non-null  float64       \n",
      " 18  primary_cleaner.output.tail_ag                      16860 non-null  float64       \n",
      " 19  primary_cleaner.output.tail_pb                      16860 non-null  float64       \n",
      " 20  primary_cleaner.output.tail_sol                     16860 non-null  float64       \n",
      " 21  primary_cleaner.output.tail_au                      16860 non-null  float64       \n",
      " 22  primary_cleaner.state.floatbank8_a_air              16860 non-null  float64       \n",
      " 23  primary_cleaner.state.floatbank8_a_level            16860 non-null  float64       \n",
      " 24  primary_cleaner.state.floatbank8_b_air              16860 non-null  float64       \n",
      " 25  primary_cleaner.state.floatbank8_b_level            16860 non-null  float64       \n",
      " 26  primary_cleaner.state.floatbank8_c_air              16860 non-null  float64       \n",
      " 27  primary_cleaner.state.floatbank8_c_level            16860 non-null  float64       \n",
      " 28  primary_cleaner.state.floatbank8_d_air              16860 non-null  float64       \n",
      " 29  primary_cleaner.state.floatbank8_d_level            16860 non-null  float64       \n",
      " 30  rougher.calculation.sulfate_to_au_concentrate       16860 non-null  float64       \n",
      " 31  rougher.calculation.floatbank10_sulfate_to_au_feed  16860 non-null  float64       \n",
      " 32  rougher.calculation.floatbank11_sulfate_to_au_feed  16860 non-null  float64       \n",
      " 33  rougher.calculation.au_pb_ratio                     16860 non-null  float64       \n",
      " 34  rougher.input.feed_ag                               16860 non-null  float64       \n",
      " 35  rougher.input.feed_pb                               16860 non-null  float64       \n",
      " 36  rougher.input.feed_rate                             16860 non-null  float64       \n",
      " 37  rougher.input.feed_size                             16860 non-null  float64       \n",
      " 38  rougher.input.feed_sol                              16860 non-null  float64       \n",
      " 39  rougher.input.feed_au                               16860 non-null  float64       \n",
      " 40  rougher.input.floatbank10_sulfate                   16860 non-null  float64       \n",
      " 41  rougher.input.floatbank10_xanthate                  16860 non-null  float64       \n",
      " 42  rougher.input.floatbank11_sulfate                   16860 non-null  float64       \n",
      " 43  rougher.input.floatbank11_xanthate                  16860 non-null  float64       \n",
      " 44  rougher.output.concentrate_ag                       16860 non-null  float64       \n",
      " 45  rougher.output.concentrate_pb                       16860 non-null  float64       \n",
      " 46  rougher.output.concentrate_sol                      16860 non-null  float64       \n",
      " 47  rougher.output.concentrate_au                       16860 non-null  float64       \n",
      " 48  rougher.output.recovery                             16860 non-null  float64       \n",
      " 49  rougher.output.tail_ag                              16860 non-null  float64       \n",
      " 50  rougher.output.tail_pb                              16860 non-null  float64       \n",
      " 51  rougher.output.tail_sol                             16860 non-null  float64       \n",
      " 52  rougher.output.tail_au                              16860 non-null  float64       \n",
      " 53  rougher.state.floatbank10_a_air                     16860 non-null  float64       \n",
      " 54  rougher.state.floatbank10_a_level                   16860 non-null  float64       \n",
      " 55  rougher.state.floatbank10_b_air                     16860 non-null  float64       \n",
      " 56  rougher.state.floatbank10_b_level                   16860 non-null  float64       \n",
      " 57  rougher.state.floatbank10_c_air                     16860 non-null  float64       \n",
      " 58  rougher.state.floatbank10_c_level                   16860 non-null  float64       \n",
      " 59  rougher.state.floatbank10_d_air                     16860 non-null  float64       \n",
      " 60  rougher.state.floatbank10_d_level                   16860 non-null  float64       \n",
      " 61  rougher.state.floatbank10_e_air                     16860 non-null  float64       \n",
      " 62  rougher.state.floatbank10_e_level                   16860 non-null  float64       \n",
      " 63  rougher.state.floatbank10_f_air                     16860 non-null  float64       \n",
      " 64  rougher.state.floatbank10_f_level                   16860 non-null  float64       \n",
      " 65  secondary_cleaner.output.tail_ag                    16860 non-null  float64       \n",
      " 66  secondary_cleaner.output.tail_pb                    16860 non-null  float64       \n",
      " 67  secondary_cleaner.output.tail_sol                   16860 non-null  float64       \n",
      " 68  secondary_cleaner.output.tail_au                    16860 non-null  float64       \n",
      " 69  secondary_cleaner.state.floatbank2_a_air            16860 non-null  float64       \n",
      " 70  secondary_cleaner.state.floatbank2_a_level          16860 non-null  float64       \n",
      " 71  secondary_cleaner.state.floatbank2_b_air            16860 non-null  float64       \n",
      " 72  secondary_cleaner.state.floatbank2_b_level          16860 non-null  float64       \n",
      " 73  secondary_cleaner.state.floatbank3_a_air            16860 non-null  float64       \n",
      " 74  secondary_cleaner.state.floatbank3_a_level          16860 non-null  float64       \n",
      " 75  secondary_cleaner.state.floatbank3_b_air            16860 non-null  float64       \n",
      " 76  secondary_cleaner.state.floatbank3_b_level          16860 non-null  float64       \n",
      " 77  secondary_cleaner.state.floatbank4_a_air            16860 non-null  float64       \n",
      " 78  secondary_cleaner.state.floatbank4_a_level          16860 non-null  float64       \n",
      " 79  secondary_cleaner.state.floatbank4_b_air            16860 non-null  float64       \n",
      " 80  secondary_cleaner.state.floatbank4_b_level          16860 non-null  float64       \n",
      " 81  secondary_cleaner.state.floatbank5_a_air            16860 non-null  float64       \n",
      " 82  secondary_cleaner.state.floatbank5_a_level          16860 non-null  float64       \n",
      " 83  secondary_cleaner.state.floatbank5_b_air            16860 non-null  float64       \n",
      " 84  secondary_cleaner.state.floatbank5_b_level          16860 non-null  float64       \n",
      " 85  secondary_cleaner.state.floatbank6_a_air            16860 non-null  float64       \n",
      " 86  secondary_cleaner.state.floatbank6_a_level          16860 non-null  float64       \n",
      "dtypes: datetime64[ns](1), float64(86)\n",
      "memory usage: 11.2 MB\n"
     ]
    }
   ],
   "source": [
    "data_train.info()"
   ]
  },
  {
   "cell_type": "code",
   "execution_count": 192,
   "metadata": {},
   "outputs": [
    {
     "name": "stdout",
     "output_type": "stream",
     "text": [
      "<class 'pandas.core.frame.DataFrame'>\n",
      "RangeIndex: 5856 entries, 0 to 5855\n",
      "Data columns (total 53 columns):\n",
      " #   Column                                      Non-Null Count  Dtype  \n",
      "---  ------                                      --------------  -----  \n",
      " 0   date                                        5856 non-null   object \n",
      " 1   primary_cleaner.input.sulfate               5856 non-null   float64\n",
      " 2   primary_cleaner.input.depressant            5856 non-null   float64\n",
      " 3   primary_cleaner.input.feed_size             5856 non-null   float64\n",
      " 4   primary_cleaner.input.xanthate              5856 non-null   float64\n",
      " 5   primary_cleaner.state.floatbank8_a_air      5856 non-null   float64\n",
      " 6   primary_cleaner.state.floatbank8_a_level    5856 non-null   float64\n",
      " 7   primary_cleaner.state.floatbank8_b_air      5856 non-null   float64\n",
      " 8   primary_cleaner.state.floatbank8_b_level    5856 non-null   float64\n",
      " 9   primary_cleaner.state.floatbank8_c_air      5856 non-null   float64\n",
      " 10  primary_cleaner.state.floatbank8_c_level    5856 non-null   float64\n",
      " 11  primary_cleaner.state.floatbank8_d_air      5856 non-null   float64\n",
      " 12  primary_cleaner.state.floatbank8_d_level    5856 non-null   float64\n",
      " 13  rougher.input.feed_ag                       5856 non-null   float64\n",
      " 14  rougher.input.feed_pb                       5856 non-null   float64\n",
      " 15  rougher.input.feed_rate                     5856 non-null   float64\n",
      " 16  rougher.input.feed_size                     5856 non-null   float64\n",
      " 17  rougher.input.feed_sol                      5856 non-null   float64\n",
      " 18  rougher.input.feed_au                       5856 non-null   float64\n",
      " 19  rougher.input.floatbank10_sulfate           5856 non-null   float64\n",
      " 20  rougher.input.floatbank10_xanthate          5856 non-null   float64\n",
      " 21  rougher.input.floatbank11_sulfate           5856 non-null   float64\n",
      " 22  rougher.input.floatbank11_xanthate          5856 non-null   float64\n",
      " 23  rougher.state.floatbank10_a_air             5856 non-null   float64\n",
      " 24  rougher.state.floatbank10_a_level           5856 non-null   float64\n",
      " 25  rougher.state.floatbank10_b_air             5856 non-null   float64\n",
      " 26  rougher.state.floatbank10_b_level           5856 non-null   float64\n",
      " 27  rougher.state.floatbank10_c_air             5856 non-null   float64\n",
      " 28  rougher.state.floatbank10_c_level           5856 non-null   float64\n",
      " 29  rougher.state.floatbank10_d_air             5856 non-null   float64\n",
      " 30  rougher.state.floatbank10_d_level           5856 non-null   float64\n",
      " 31  rougher.state.floatbank10_e_air             5856 non-null   float64\n",
      " 32  rougher.state.floatbank10_e_level           5856 non-null   float64\n",
      " 33  rougher.state.floatbank10_f_air             5856 non-null   float64\n",
      " 34  rougher.state.floatbank10_f_level           5856 non-null   float64\n",
      " 35  secondary_cleaner.state.floatbank2_a_air    5856 non-null   float64\n",
      " 36  secondary_cleaner.state.floatbank2_a_level  5856 non-null   float64\n",
      " 37  secondary_cleaner.state.floatbank2_b_air    5856 non-null   float64\n",
      " 38  secondary_cleaner.state.floatbank2_b_level  5856 non-null   float64\n",
      " 39  secondary_cleaner.state.floatbank3_a_air    5856 non-null   float64\n",
      " 40  secondary_cleaner.state.floatbank3_a_level  5856 non-null   float64\n",
      " 41  secondary_cleaner.state.floatbank3_b_air    5856 non-null   float64\n",
      " 42  secondary_cleaner.state.floatbank3_b_level  5856 non-null   float64\n",
      " 43  secondary_cleaner.state.floatbank4_a_air    5856 non-null   float64\n",
      " 44  secondary_cleaner.state.floatbank4_a_level  5856 non-null   float64\n",
      " 45  secondary_cleaner.state.floatbank4_b_air    5856 non-null   float64\n",
      " 46  secondary_cleaner.state.floatbank4_b_level  5856 non-null   float64\n",
      " 47  secondary_cleaner.state.floatbank5_a_air    5856 non-null   float64\n",
      " 48  secondary_cleaner.state.floatbank5_a_level  5856 non-null   float64\n",
      " 49  secondary_cleaner.state.floatbank5_b_air    5856 non-null   float64\n",
      " 50  secondary_cleaner.state.floatbank5_b_level  5856 non-null   float64\n",
      " 51  secondary_cleaner.state.floatbank6_a_air    5856 non-null   float64\n",
      " 52  secondary_cleaner.state.floatbank6_a_level  5856 non-null   float64\n",
      "dtypes: float64(52), object(1)\n",
      "memory usage: 2.4+ MB\n"
     ]
    }
   ],
   "source": [
    "data_test.info()"
   ]
  },
  {
   "cell_type": "code",
   "execution_count": 193,
   "metadata": {},
   "outputs": [],
   "source": [
    "data_test['date'] = pd.to_datetime(data_test['date'], format='%Y-%m-%d %H:%M:%S')"
   ]
  },
  {
   "cell_type": "code",
   "execution_count": 194,
   "metadata": {},
   "outputs": [
    {
     "name": "stdout",
     "output_type": "stream",
     "text": [
      "<class 'pandas.core.frame.DataFrame'>\n",
      "RangeIndex: 5856 entries, 0 to 5855\n",
      "Data columns (total 53 columns):\n",
      " #   Column                                      Non-Null Count  Dtype         \n",
      "---  ------                                      --------------  -----         \n",
      " 0   date                                        5856 non-null   datetime64[ns]\n",
      " 1   primary_cleaner.input.sulfate               5856 non-null   float64       \n",
      " 2   primary_cleaner.input.depressant            5856 non-null   float64       \n",
      " 3   primary_cleaner.input.feed_size             5856 non-null   float64       \n",
      " 4   primary_cleaner.input.xanthate              5856 non-null   float64       \n",
      " 5   primary_cleaner.state.floatbank8_a_air      5856 non-null   float64       \n",
      " 6   primary_cleaner.state.floatbank8_a_level    5856 non-null   float64       \n",
      " 7   primary_cleaner.state.floatbank8_b_air      5856 non-null   float64       \n",
      " 8   primary_cleaner.state.floatbank8_b_level    5856 non-null   float64       \n",
      " 9   primary_cleaner.state.floatbank8_c_air      5856 non-null   float64       \n",
      " 10  primary_cleaner.state.floatbank8_c_level    5856 non-null   float64       \n",
      " 11  primary_cleaner.state.floatbank8_d_air      5856 non-null   float64       \n",
      " 12  primary_cleaner.state.floatbank8_d_level    5856 non-null   float64       \n",
      " 13  rougher.input.feed_ag                       5856 non-null   float64       \n",
      " 14  rougher.input.feed_pb                       5856 non-null   float64       \n",
      " 15  rougher.input.feed_rate                     5856 non-null   float64       \n",
      " 16  rougher.input.feed_size                     5856 non-null   float64       \n",
      " 17  rougher.input.feed_sol                      5856 non-null   float64       \n",
      " 18  rougher.input.feed_au                       5856 non-null   float64       \n",
      " 19  rougher.input.floatbank10_sulfate           5856 non-null   float64       \n",
      " 20  rougher.input.floatbank10_xanthate          5856 non-null   float64       \n",
      " 21  rougher.input.floatbank11_sulfate           5856 non-null   float64       \n",
      " 22  rougher.input.floatbank11_xanthate          5856 non-null   float64       \n",
      " 23  rougher.state.floatbank10_a_air             5856 non-null   float64       \n",
      " 24  rougher.state.floatbank10_a_level           5856 non-null   float64       \n",
      " 25  rougher.state.floatbank10_b_air             5856 non-null   float64       \n",
      " 26  rougher.state.floatbank10_b_level           5856 non-null   float64       \n",
      " 27  rougher.state.floatbank10_c_air             5856 non-null   float64       \n",
      " 28  rougher.state.floatbank10_c_level           5856 non-null   float64       \n",
      " 29  rougher.state.floatbank10_d_air             5856 non-null   float64       \n",
      " 30  rougher.state.floatbank10_d_level           5856 non-null   float64       \n",
      " 31  rougher.state.floatbank10_e_air             5856 non-null   float64       \n",
      " 32  rougher.state.floatbank10_e_level           5856 non-null   float64       \n",
      " 33  rougher.state.floatbank10_f_air             5856 non-null   float64       \n",
      " 34  rougher.state.floatbank10_f_level           5856 non-null   float64       \n",
      " 35  secondary_cleaner.state.floatbank2_a_air    5856 non-null   float64       \n",
      " 36  secondary_cleaner.state.floatbank2_a_level  5856 non-null   float64       \n",
      " 37  secondary_cleaner.state.floatbank2_b_air    5856 non-null   float64       \n",
      " 38  secondary_cleaner.state.floatbank2_b_level  5856 non-null   float64       \n",
      " 39  secondary_cleaner.state.floatbank3_a_air    5856 non-null   float64       \n",
      " 40  secondary_cleaner.state.floatbank3_a_level  5856 non-null   float64       \n",
      " 41  secondary_cleaner.state.floatbank3_b_air    5856 non-null   float64       \n",
      " 42  secondary_cleaner.state.floatbank3_b_level  5856 non-null   float64       \n",
      " 43  secondary_cleaner.state.floatbank4_a_air    5856 non-null   float64       \n",
      " 44  secondary_cleaner.state.floatbank4_a_level  5856 non-null   float64       \n",
      " 45  secondary_cleaner.state.floatbank4_b_air    5856 non-null   float64       \n",
      " 46  secondary_cleaner.state.floatbank4_b_level  5856 non-null   float64       \n",
      " 47  secondary_cleaner.state.floatbank5_a_air    5856 non-null   float64       \n",
      " 48  secondary_cleaner.state.floatbank5_a_level  5856 non-null   float64       \n",
      " 49  secondary_cleaner.state.floatbank5_b_air    5856 non-null   float64       \n",
      " 50  secondary_cleaner.state.floatbank5_b_level  5856 non-null   float64       \n",
      " 51  secondary_cleaner.state.floatbank6_a_air    5856 non-null   float64       \n",
      " 52  secondary_cleaner.state.floatbank6_a_level  5856 non-null   float64       \n",
      "dtypes: datetime64[ns](1), float64(52)\n",
      "memory usage: 2.4 MB\n"
     ]
    }
   ],
   "source": [
    "data_test.info()"
   ]
  },
  {
   "cell_type": "code",
   "execution_count": 195,
   "metadata": {},
   "outputs": [
    {
     "name": "stdout",
     "output_type": "stream",
     "text": [
      "<class 'pandas.core.frame.DataFrame'>\n",
      "RangeIndex: 22716 entries, 0 to 22715\n",
      "Data columns (total 87 columns):\n",
      " #   Column                                              Non-Null Count  Dtype  \n",
      "---  ------                                              --------------  -----  \n",
      " 0   date                                                22716 non-null  object \n",
      " 1   final.output.concentrate_ag                         22716 non-null  float64\n",
      " 2   final.output.concentrate_pb                         22716 non-null  float64\n",
      " 3   final.output.concentrate_sol                        22716 non-null  float64\n",
      " 4   final.output.concentrate_au                         22716 non-null  float64\n",
      " 5   final.output.recovery                               22716 non-null  float64\n",
      " 6   final.output.tail_ag                                22716 non-null  float64\n",
      " 7   final.output.tail_pb                                22716 non-null  float64\n",
      " 8   final.output.tail_sol                               22716 non-null  float64\n",
      " 9   final.output.tail_au                                22716 non-null  float64\n",
      " 10  primary_cleaner.input.sulfate                       22716 non-null  float64\n",
      " 11  primary_cleaner.input.depressant                    22716 non-null  float64\n",
      " 12  primary_cleaner.input.feed_size                     22716 non-null  float64\n",
      " 13  primary_cleaner.input.xanthate                      22716 non-null  float64\n",
      " 14  primary_cleaner.output.concentrate_ag               22716 non-null  float64\n",
      " 15  primary_cleaner.output.concentrate_pb               22716 non-null  float64\n",
      " 16  primary_cleaner.output.concentrate_sol              22716 non-null  float64\n",
      " 17  primary_cleaner.output.concentrate_au               22716 non-null  float64\n",
      " 18  primary_cleaner.output.tail_ag                      22716 non-null  float64\n",
      " 19  primary_cleaner.output.tail_pb                      22716 non-null  float64\n",
      " 20  primary_cleaner.output.tail_sol                     22716 non-null  float64\n",
      " 21  primary_cleaner.output.tail_au                      22716 non-null  float64\n",
      " 22  primary_cleaner.state.floatbank8_a_air              22716 non-null  float64\n",
      " 23  primary_cleaner.state.floatbank8_a_level            22716 non-null  float64\n",
      " 24  primary_cleaner.state.floatbank8_b_air              22716 non-null  float64\n",
      " 25  primary_cleaner.state.floatbank8_b_level            22716 non-null  float64\n",
      " 26  primary_cleaner.state.floatbank8_c_air              22716 non-null  float64\n",
      " 27  primary_cleaner.state.floatbank8_c_level            22716 non-null  float64\n",
      " 28  primary_cleaner.state.floatbank8_d_air              22716 non-null  float64\n",
      " 29  primary_cleaner.state.floatbank8_d_level            22716 non-null  float64\n",
      " 30  rougher.calculation.sulfate_to_au_concentrate       22716 non-null  float64\n",
      " 31  rougher.calculation.floatbank10_sulfate_to_au_feed  22716 non-null  float64\n",
      " 32  rougher.calculation.floatbank11_sulfate_to_au_feed  22716 non-null  float64\n",
      " 33  rougher.calculation.au_pb_ratio                     22716 non-null  float64\n",
      " 34  rougher.input.feed_ag                               22716 non-null  float64\n",
      " 35  rougher.input.feed_pb                               22716 non-null  float64\n",
      " 36  rougher.input.feed_rate                             22716 non-null  float64\n",
      " 37  rougher.input.feed_size                             22716 non-null  float64\n",
      " 38  rougher.input.feed_sol                              22716 non-null  float64\n",
      " 39  rougher.input.feed_au                               22716 non-null  float64\n",
      " 40  rougher.input.floatbank10_sulfate                   22716 non-null  float64\n",
      " 41  rougher.input.floatbank10_xanthate                  22716 non-null  float64\n",
      " 42  rougher.input.floatbank11_sulfate                   22716 non-null  float64\n",
      " 43  rougher.input.floatbank11_xanthate                  22716 non-null  float64\n",
      " 44  rougher.output.concentrate_ag                       22716 non-null  float64\n",
      " 45  rougher.output.concentrate_pb                       22716 non-null  float64\n",
      " 46  rougher.output.concentrate_sol                      22716 non-null  float64\n",
      " 47  rougher.output.concentrate_au                       22716 non-null  float64\n",
      " 48  rougher.output.recovery                             22716 non-null  float64\n",
      " 49  rougher.output.tail_ag                              22716 non-null  float64\n",
      " 50  rougher.output.tail_pb                              22716 non-null  float64\n",
      " 51  rougher.output.tail_sol                             22716 non-null  float64\n",
      " 52  rougher.output.tail_au                              22716 non-null  float64\n",
      " 53  rougher.state.floatbank10_a_air                     22716 non-null  float64\n",
      " 54  rougher.state.floatbank10_a_level                   22716 non-null  float64\n",
      " 55  rougher.state.floatbank10_b_air                     22716 non-null  float64\n",
      " 56  rougher.state.floatbank10_b_level                   22716 non-null  float64\n",
      " 57  rougher.state.floatbank10_c_air                     22716 non-null  float64\n",
      " 58  rougher.state.floatbank10_c_level                   22716 non-null  float64\n",
      " 59  rougher.state.floatbank10_d_air                     22716 non-null  float64\n",
      " 60  rougher.state.floatbank10_d_level                   22716 non-null  float64\n",
      " 61  rougher.state.floatbank10_e_air                     22716 non-null  float64\n",
      " 62  rougher.state.floatbank10_e_level                   22716 non-null  float64\n",
      " 63  rougher.state.floatbank10_f_air                     22716 non-null  float64\n",
      " 64  rougher.state.floatbank10_f_level                   22716 non-null  float64\n",
      " 65  secondary_cleaner.output.tail_ag                    22716 non-null  float64\n",
      " 66  secondary_cleaner.output.tail_pb                    22716 non-null  float64\n",
      " 67  secondary_cleaner.output.tail_sol                   22716 non-null  float64\n",
      " 68  secondary_cleaner.output.tail_au                    22716 non-null  float64\n",
      " 69  secondary_cleaner.state.floatbank2_a_air            22716 non-null  float64\n",
      " 70  secondary_cleaner.state.floatbank2_a_level          22716 non-null  float64\n",
      " 71  secondary_cleaner.state.floatbank2_b_air            22716 non-null  float64\n",
      " 72  secondary_cleaner.state.floatbank2_b_level          22716 non-null  float64\n",
      " 73  secondary_cleaner.state.floatbank3_a_air            22716 non-null  float64\n",
      " 74  secondary_cleaner.state.floatbank3_a_level          22716 non-null  float64\n",
      " 75  secondary_cleaner.state.floatbank3_b_air            22716 non-null  float64\n",
      " 76  secondary_cleaner.state.floatbank3_b_level          22716 non-null  float64\n",
      " 77  secondary_cleaner.state.floatbank4_a_air            22716 non-null  float64\n",
      " 78  secondary_cleaner.state.floatbank4_a_level          22716 non-null  float64\n",
      " 79  secondary_cleaner.state.floatbank4_b_air            22716 non-null  float64\n",
      " 80  secondary_cleaner.state.floatbank4_b_level          22716 non-null  float64\n",
      " 81  secondary_cleaner.state.floatbank5_a_air            22716 non-null  float64\n",
      " 82  secondary_cleaner.state.floatbank5_a_level          22716 non-null  float64\n",
      " 83  secondary_cleaner.state.floatbank5_b_air            22716 non-null  float64\n",
      " 84  secondary_cleaner.state.floatbank5_b_level          22716 non-null  float64\n",
      " 85  secondary_cleaner.state.floatbank6_a_air            22716 non-null  float64\n",
      " 86  secondary_cleaner.state.floatbank6_a_level          22716 non-null  float64\n",
      "dtypes: float64(86), object(1)\n",
      "memory usage: 15.1+ MB\n"
     ]
    }
   ],
   "source": [
    "data_full.info()"
   ]
  },
  {
   "cell_type": "code",
   "execution_count": 196,
   "metadata": {},
   "outputs": [],
   "source": [
    "data_full['date'] = pd.to_datetime(data_full['date'], format='%Y-%m-%d %H:%M:%S')"
   ]
  },
  {
   "cell_type": "code",
   "execution_count": 197,
   "metadata": {},
   "outputs": [
    {
     "name": "stdout",
     "output_type": "stream",
     "text": [
      "<class 'pandas.core.frame.DataFrame'>\n",
      "RangeIndex: 22716 entries, 0 to 22715\n",
      "Data columns (total 87 columns):\n",
      " #   Column                                              Non-Null Count  Dtype         \n",
      "---  ------                                              --------------  -----         \n",
      " 0   date                                                22716 non-null  datetime64[ns]\n",
      " 1   final.output.concentrate_ag                         22716 non-null  float64       \n",
      " 2   final.output.concentrate_pb                         22716 non-null  float64       \n",
      " 3   final.output.concentrate_sol                        22716 non-null  float64       \n",
      " 4   final.output.concentrate_au                         22716 non-null  float64       \n",
      " 5   final.output.recovery                               22716 non-null  float64       \n",
      " 6   final.output.tail_ag                                22716 non-null  float64       \n",
      " 7   final.output.tail_pb                                22716 non-null  float64       \n",
      " 8   final.output.tail_sol                               22716 non-null  float64       \n",
      " 9   final.output.tail_au                                22716 non-null  float64       \n",
      " 10  primary_cleaner.input.sulfate                       22716 non-null  float64       \n",
      " 11  primary_cleaner.input.depressant                    22716 non-null  float64       \n",
      " 12  primary_cleaner.input.feed_size                     22716 non-null  float64       \n",
      " 13  primary_cleaner.input.xanthate                      22716 non-null  float64       \n",
      " 14  primary_cleaner.output.concentrate_ag               22716 non-null  float64       \n",
      " 15  primary_cleaner.output.concentrate_pb               22716 non-null  float64       \n",
      " 16  primary_cleaner.output.concentrate_sol              22716 non-null  float64       \n",
      " 17  primary_cleaner.output.concentrate_au               22716 non-null  float64       \n",
      " 18  primary_cleaner.output.tail_ag                      22716 non-null  float64       \n",
      " 19  primary_cleaner.output.tail_pb                      22716 non-null  float64       \n",
      " 20  primary_cleaner.output.tail_sol                     22716 non-null  float64       \n",
      " 21  primary_cleaner.output.tail_au                      22716 non-null  float64       \n",
      " 22  primary_cleaner.state.floatbank8_a_air              22716 non-null  float64       \n",
      " 23  primary_cleaner.state.floatbank8_a_level            22716 non-null  float64       \n",
      " 24  primary_cleaner.state.floatbank8_b_air              22716 non-null  float64       \n",
      " 25  primary_cleaner.state.floatbank8_b_level            22716 non-null  float64       \n",
      " 26  primary_cleaner.state.floatbank8_c_air              22716 non-null  float64       \n",
      " 27  primary_cleaner.state.floatbank8_c_level            22716 non-null  float64       \n",
      " 28  primary_cleaner.state.floatbank8_d_air              22716 non-null  float64       \n",
      " 29  primary_cleaner.state.floatbank8_d_level            22716 non-null  float64       \n",
      " 30  rougher.calculation.sulfate_to_au_concentrate       22716 non-null  float64       \n",
      " 31  rougher.calculation.floatbank10_sulfate_to_au_feed  22716 non-null  float64       \n",
      " 32  rougher.calculation.floatbank11_sulfate_to_au_feed  22716 non-null  float64       \n",
      " 33  rougher.calculation.au_pb_ratio                     22716 non-null  float64       \n",
      " 34  rougher.input.feed_ag                               22716 non-null  float64       \n",
      " 35  rougher.input.feed_pb                               22716 non-null  float64       \n",
      " 36  rougher.input.feed_rate                             22716 non-null  float64       \n",
      " 37  rougher.input.feed_size                             22716 non-null  float64       \n",
      " 38  rougher.input.feed_sol                              22716 non-null  float64       \n",
      " 39  rougher.input.feed_au                               22716 non-null  float64       \n",
      " 40  rougher.input.floatbank10_sulfate                   22716 non-null  float64       \n",
      " 41  rougher.input.floatbank10_xanthate                  22716 non-null  float64       \n",
      " 42  rougher.input.floatbank11_sulfate                   22716 non-null  float64       \n",
      " 43  rougher.input.floatbank11_xanthate                  22716 non-null  float64       \n",
      " 44  rougher.output.concentrate_ag                       22716 non-null  float64       \n",
      " 45  rougher.output.concentrate_pb                       22716 non-null  float64       \n",
      " 46  rougher.output.concentrate_sol                      22716 non-null  float64       \n",
      " 47  rougher.output.concentrate_au                       22716 non-null  float64       \n",
      " 48  rougher.output.recovery                             22716 non-null  float64       \n",
      " 49  rougher.output.tail_ag                              22716 non-null  float64       \n",
      " 50  rougher.output.tail_pb                              22716 non-null  float64       \n",
      " 51  rougher.output.tail_sol                             22716 non-null  float64       \n",
      " 52  rougher.output.tail_au                              22716 non-null  float64       \n",
      " 53  rougher.state.floatbank10_a_air                     22716 non-null  float64       \n",
      " 54  rougher.state.floatbank10_a_level                   22716 non-null  float64       \n",
      " 55  rougher.state.floatbank10_b_air                     22716 non-null  float64       \n",
      " 56  rougher.state.floatbank10_b_level                   22716 non-null  float64       \n",
      " 57  rougher.state.floatbank10_c_air                     22716 non-null  float64       \n",
      " 58  rougher.state.floatbank10_c_level                   22716 non-null  float64       \n",
      " 59  rougher.state.floatbank10_d_air                     22716 non-null  float64       \n",
      " 60  rougher.state.floatbank10_d_level                   22716 non-null  float64       \n",
      " 61  rougher.state.floatbank10_e_air                     22716 non-null  float64       \n",
      " 62  rougher.state.floatbank10_e_level                   22716 non-null  float64       \n",
      " 63  rougher.state.floatbank10_f_air                     22716 non-null  float64       \n",
      " 64  rougher.state.floatbank10_f_level                   22716 non-null  float64       \n",
      " 65  secondary_cleaner.output.tail_ag                    22716 non-null  float64       \n",
      " 66  secondary_cleaner.output.tail_pb                    22716 non-null  float64       \n",
      " 67  secondary_cleaner.output.tail_sol                   22716 non-null  float64       \n",
      " 68  secondary_cleaner.output.tail_au                    22716 non-null  float64       \n",
      " 69  secondary_cleaner.state.floatbank2_a_air            22716 non-null  float64       \n",
      " 70  secondary_cleaner.state.floatbank2_a_level          22716 non-null  float64       \n",
      " 71  secondary_cleaner.state.floatbank2_b_air            22716 non-null  float64       \n",
      " 72  secondary_cleaner.state.floatbank2_b_level          22716 non-null  float64       \n",
      " 73  secondary_cleaner.state.floatbank3_a_air            22716 non-null  float64       \n",
      " 74  secondary_cleaner.state.floatbank3_a_level          22716 non-null  float64       \n",
      " 75  secondary_cleaner.state.floatbank3_b_air            22716 non-null  float64       \n",
      " 76  secondary_cleaner.state.floatbank3_b_level          22716 non-null  float64       \n",
      " 77  secondary_cleaner.state.floatbank4_a_air            22716 non-null  float64       \n",
      " 78  secondary_cleaner.state.floatbank4_a_level          22716 non-null  float64       \n",
      " 79  secondary_cleaner.state.floatbank4_b_air            22716 non-null  float64       \n",
      " 80  secondary_cleaner.state.floatbank4_b_level          22716 non-null  float64       \n",
      " 81  secondary_cleaner.state.floatbank5_a_air            22716 non-null  float64       \n",
      " 82  secondary_cleaner.state.floatbank5_a_level          22716 non-null  float64       \n",
      " 83  secondary_cleaner.state.floatbank5_b_air            22716 non-null  float64       \n",
      " 84  secondary_cleaner.state.floatbank5_b_level          22716 non-null  float64       \n",
      " 85  secondary_cleaner.state.floatbank6_a_air            22716 non-null  float64       \n",
      " 86  secondary_cleaner.state.floatbank6_a_level          22716 non-null  float64       \n",
      "dtypes: datetime64[ns](1), float64(86)\n",
      "memory usage: 15.1 MB\n"
     ]
    }
   ],
   "source": [
    "data_full.info()"
   ]
  },
  {
   "cell_type": "markdown",
   "metadata": {},
   "source": [
    "X_train = data_train_2.drop(['rougher.output.recovery', \"date\"], axis=1)\n",
    "y_train = data_train_2['rougher.output.recovery']\n",
    "X_test = data_test.drop(['rougher.output.recovery', \"date\"], axis=1)\n",
    "Y_test = data_test['rougher.output.recovery']"
   ]
  },
  {
   "cell_type": "code",
   "execution_count": 198,
   "metadata": {},
   "outputs": [
    {
     "data": {
      "text/plain": [
       "Index(['date', 'final.output.concentrate_ag', 'final.output.concentrate_pb',\n",
       "       'final.output.concentrate_sol', 'final.output.concentrate_au',\n",
       "       'final.output.recovery', 'final.output.tail_ag', 'final.output.tail_pb',\n",
       "       'final.output.tail_sol', 'final.output.tail_au',\n",
       "       'primary_cleaner.input.sulfate', 'primary_cleaner.input.depressant',\n",
       "       'primary_cleaner.input.feed_size', 'primary_cleaner.input.xanthate',\n",
       "       'primary_cleaner.output.concentrate_ag',\n",
       "       'primary_cleaner.output.concentrate_pb',\n",
       "       'primary_cleaner.output.concentrate_sol',\n",
       "       'primary_cleaner.output.concentrate_au',\n",
       "       'primary_cleaner.output.tail_ag', 'primary_cleaner.output.tail_pb',\n",
       "       'primary_cleaner.output.tail_sol', 'primary_cleaner.output.tail_au',\n",
       "       'primary_cleaner.state.floatbank8_a_air',\n",
       "       'primary_cleaner.state.floatbank8_a_level',\n",
       "       'primary_cleaner.state.floatbank8_b_air',\n",
       "       'primary_cleaner.state.floatbank8_b_level',\n",
       "       'primary_cleaner.state.floatbank8_c_air',\n",
       "       'primary_cleaner.state.floatbank8_c_level',\n",
       "       'primary_cleaner.state.floatbank8_d_air',\n",
       "       'primary_cleaner.state.floatbank8_d_level',\n",
       "       'rougher.calculation.sulfate_to_au_concentrate',\n",
       "       'rougher.calculation.floatbank10_sulfate_to_au_feed',\n",
       "       'rougher.calculation.floatbank11_sulfate_to_au_feed',\n",
       "       'rougher.calculation.au_pb_ratio', 'rougher.input.feed_ag',\n",
       "       'rougher.input.feed_pb', 'rougher.input.feed_rate',\n",
       "       'rougher.input.feed_size', 'rougher.input.feed_sol',\n",
       "       'rougher.input.feed_au', 'rougher.input.floatbank10_sulfate',\n",
       "       'rougher.input.floatbank10_xanthate',\n",
       "       'rougher.input.floatbank11_sulfate',\n",
       "       'rougher.input.floatbank11_xanthate', 'rougher.output.concentrate_ag',\n",
       "       'rougher.output.concentrate_pb', 'rougher.output.concentrate_sol',\n",
       "       'rougher.output.concentrate_au', 'rougher.output.recovery',\n",
       "       'rougher.output.tail_ag', 'rougher.output.tail_pb',\n",
       "       'rougher.output.tail_sol', 'rougher.output.tail_au',\n",
       "       'rougher.state.floatbank10_a_air', 'rougher.state.floatbank10_a_level',\n",
       "       'rougher.state.floatbank10_b_air', 'rougher.state.floatbank10_b_level',\n",
       "       'rougher.state.floatbank10_c_air', 'rougher.state.floatbank10_c_level',\n",
       "       'rougher.state.floatbank10_d_air', 'rougher.state.floatbank10_d_level',\n",
       "       'rougher.state.floatbank10_e_air', 'rougher.state.floatbank10_e_level',\n",
       "       'rougher.state.floatbank10_f_air', 'rougher.state.floatbank10_f_level',\n",
       "       'secondary_cleaner.output.tail_ag', 'secondary_cleaner.output.tail_pb',\n",
       "       'secondary_cleaner.output.tail_sol', 'secondary_cleaner.output.tail_au',\n",
       "       'secondary_cleaner.state.floatbank2_a_air',\n",
       "       'secondary_cleaner.state.floatbank2_a_level',\n",
       "       'secondary_cleaner.state.floatbank2_b_air',\n",
       "       'secondary_cleaner.state.floatbank2_b_level',\n",
       "       'secondary_cleaner.state.floatbank3_a_air',\n",
       "       'secondary_cleaner.state.floatbank3_a_level',\n",
       "       'secondary_cleaner.state.floatbank3_b_air',\n",
       "       'secondary_cleaner.state.floatbank3_b_level',\n",
       "       'secondary_cleaner.state.floatbank4_a_air',\n",
       "       'secondary_cleaner.state.floatbank4_a_level',\n",
       "       'secondary_cleaner.state.floatbank4_b_air',\n",
       "       'secondary_cleaner.state.floatbank4_b_level',\n",
       "       'secondary_cleaner.state.floatbank5_a_air',\n",
       "       'secondary_cleaner.state.floatbank5_a_level',\n",
       "       'secondary_cleaner.state.floatbank5_b_air',\n",
       "       'secondary_cleaner.state.floatbank5_b_level',\n",
       "       'secondary_cleaner.state.floatbank6_a_air',\n",
       "       'secondary_cleaner.state.floatbank6_a_level'],\n",
       "      dtype='object')"
      ]
     },
     "execution_count": 198,
     "metadata": {},
     "output_type": "execute_result"
    }
   ],
   "source": [
    "data_full.columns"
   ]
  },
  {
   "cell_type": "markdown",
   "metadata": {},
   "source": [
    "### Recovery function"
   ]
  },
  {
   "cell_type": "markdown",
   "metadata": {},
   "source": [
    "Fillna with ffill (fill all missing values with previous value) take value from previous reading."
   ]
  },
  {
   "cell_type": "code",
   "execution_count": 199,
   "metadata": {},
   "outputs": [],
   "source": [
    "C = data_train['rougher.output.concentrate_au']\n",
    "\n",
    "F = data_train['rougher.input.feed_au']\n",
    "\n",
    "T = data_train['rougher.output.tail_au']"
   ]
  },
  {
   "cell_type": "code",
   "execution_count": 200,
   "metadata": {},
   "outputs": [],
   "source": [
    "def recovery(C, F, T):\n",
    "    numerator = C * (F - T) \n",
    "    denominator = F * (C - T) \n",
    "    #epsilon = 1e10\n",
    "    #division = numerator / (denominator + epsilon)\n",
    "    division = numerator / denominator\n",
    "    recovery = division * 100\n",
    "    return recovery"
   ]
  },
  {
   "cell_type": "code",
   "execution_count": 201,
   "metadata": {},
   "outputs": [
    {
     "name": "stdout",
     "output_type": "stream",
     "text": [
      "<class 'pandas.core.frame.DataFrame'>\n",
      "Index: 14287 entries, 0 to 16859\n",
      "Data columns (total 5 columns):\n",
      " #   Column                         Non-Null Count  Dtype  \n",
      "---  ------                         --------------  -----  \n",
      " 0   rougher.output.concentrate_au  14287 non-null  float64\n",
      " 1   rougher.input.feed_au          14287 non-null  float64\n",
      " 2   rougher.output.tail_au         14287 non-null  float64\n",
      " 3   rougher.output.recovery        14287 non-null  float64\n",
      " 4   calculated_recovery            14287 non-null  float64\n",
      "dtypes: float64(5)\n",
      "memory usage: 669.7 KB\n"
     ]
    }
   ],
   "source": [
    "# Harry's code\n",
    "#subset = data_train[['rougher.output.concentrate_au','rougher.input.feed_au', 'rougher.output.tail_au', 'rougher.output.recovery']]\n",
    "C = subset['rougher.output.concentrate_au']\n",
    "\n",
    "F = subset['rougher.input.feed_au']\n",
    "\n",
    "T = subset['rougher.output.tail_au']\n",
    "subset['calculated_recovery'] = recovery(C, F, T)\n",
    "subset.info()"
   ]
  },
  {
   "cell_type": "code",
   "execution_count": 202,
   "metadata": {},
   "outputs": [
    {
     "data": {
      "text/html": [
       "<div>\n",
       "<style scoped>\n",
       "    .dataframe tbody tr th:only-of-type {\n",
       "        vertical-align: middle;\n",
       "    }\n",
       "\n",
       "    .dataframe tbody tr th {\n",
       "        vertical-align: top;\n",
       "    }\n",
       "\n",
       "    .dataframe thead th {\n",
       "        text-align: right;\n",
       "    }\n",
       "</style>\n",
       "<table border=\"1\" class=\"dataframe\">\n",
       "  <thead>\n",
       "    <tr style=\"text-align: right;\">\n",
       "      <th></th>\n",
       "      <th>rougher.output.concentrate_au</th>\n",
       "      <th>rougher.input.feed_au</th>\n",
       "      <th>rougher.output.tail_au</th>\n",
       "      <th>rougher.output.recovery</th>\n",
       "      <th>calculated_recovery</th>\n",
       "    </tr>\n",
       "  </thead>\n",
       "  <tbody>\n",
       "  </tbody>\n",
       "</table>\n",
       "</div>"
      ],
      "text/plain": [
       "Empty DataFrame\n",
       "Columns: [rougher.output.concentrate_au, rougher.input.feed_au, rougher.output.tail_au, rougher.output.recovery, calculated_recovery]\n",
       "Index: []"
      ]
     },
     "execution_count": 202,
     "metadata": {},
     "output_type": "execute_result"
    }
   ],
   "source": [
    "subset[subset['calculated_recovery'].isna()]"
   ]
  },
  {
   "cell_type": "code",
   "execution_count": 203,
   "metadata": {},
   "outputs": [
    {
     "data": {
      "text/plain": [
       "9.303415616264301e-15"
      ]
     },
     "execution_count": 203,
     "metadata": {},
     "output_type": "execute_result"
    }
   ],
   "source": [
    "mean_absolute_error(subset['calculated_recovery'], subset['rougher.output.recovery'])"
   ]
  },
  {
   "cell_type": "code",
   "execution_count": 204,
   "metadata": {},
   "outputs": [],
   "source": [
    "data_train['calculated_recovery'] = recovery(C, F, T)"
   ]
  },
  {
   "cell_type": "code",
   "execution_count": 205,
   "metadata": {},
   "outputs": [
    {
     "data": {
      "text/plain": [
       "date                                             0\n",
       "final.output.concentrate_ag                      0\n",
       "final.output.concentrate_pb                      0\n",
       "final.output.concentrate_sol                     0\n",
       "final.output.concentrate_au                      0\n",
       "                                              ... \n",
       "secondary_cleaner.state.floatbank5_b_air         0\n",
       "secondary_cleaner.state.floatbank5_b_level       0\n",
       "secondary_cleaner.state.floatbank6_a_air         0\n",
       "secondary_cleaner.state.floatbank6_a_level       0\n",
       "calculated_recovery                           2573\n",
       "Length: 88, dtype: int64"
      ]
     },
     "execution_count": 205,
     "metadata": {},
     "output_type": "execute_result"
    }
   ],
   "source": [
    "data_train.isna().sum()"
   ]
  },
  {
   "cell_type": "code",
   "execution_count": 206,
   "metadata": {},
   "outputs": [
    {
     "data": {
      "text/html": [
       "<div>\n",
       "<style scoped>\n",
       "    .dataframe tbody tr th:only-of-type {\n",
       "        vertical-align: middle;\n",
       "    }\n",
       "\n",
       "    .dataframe tbody tr th {\n",
       "        vertical-align: top;\n",
       "    }\n",
       "\n",
       "    .dataframe thead th {\n",
       "        text-align: right;\n",
       "    }\n",
       "</style>\n",
       "<table border=\"1\" class=\"dataframe\">\n",
       "  <thead>\n",
       "    <tr style=\"text-align: right;\">\n",
       "      <th></th>\n",
       "      <th>date</th>\n",
       "      <th>final.output.concentrate_ag</th>\n",
       "      <th>final.output.concentrate_pb</th>\n",
       "      <th>final.output.concentrate_sol</th>\n",
       "      <th>final.output.concentrate_au</th>\n",
       "      <th>final.output.recovery</th>\n",
       "      <th>final.output.tail_ag</th>\n",
       "      <th>final.output.tail_pb</th>\n",
       "      <th>final.output.tail_sol</th>\n",
       "      <th>final.output.tail_au</th>\n",
       "      <th>...</th>\n",
       "      <th>secondary_cleaner.state.floatbank4_a_level</th>\n",
       "      <th>secondary_cleaner.state.floatbank4_b_air</th>\n",
       "      <th>secondary_cleaner.state.floatbank4_b_level</th>\n",
       "      <th>secondary_cleaner.state.floatbank5_a_air</th>\n",
       "      <th>secondary_cleaner.state.floatbank5_a_level</th>\n",
       "      <th>secondary_cleaner.state.floatbank5_b_air</th>\n",
       "      <th>secondary_cleaner.state.floatbank5_b_level</th>\n",
       "      <th>secondary_cleaner.state.floatbank6_a_air</th>\n",
       "      <th>secondary_cleaner.state.floatbank6_a_level</th>\n",
       "      <th>calculated_recovery</th>\n",
       "    </tr>\n",
       "  </thead>\n",
       "  <tbody>\n",
       "    <tr>\n",
       "      <th>53</th>\n",
       "      <td>2016-01-17 05:00:00</td>\n",
       "      <td>5.919503</td>\n",
       "      <td>11.078044</td>\n",
       "      <td>6.215769</td>\n",
       "      <td>42.922611</td>\n",
       "      <td>71.308281</td>\n",
       "      <td>10.866006</td>\n",
       "      <td>1.577753</td>\n",
       "      <td>17.550397</td>\n",
       "      <td>2.476280</td>\n",
       "      <td>...</td>\n",
       "      <td>-548.238797</td>\n",
       "      <td>12.042964</td>\n",
       "      <td>-550.430774</td>\n",
       "      <td>9.989624</td>\n",
       "      <td>-499.606754</td>\n",
       "      <td>7.950446</td>\n",
       "      <td>-500.352648</td>\n",
       "      <td>12.011728</td>\n",
       "      <td>-599.043399</td>\n",
       "      <td>NaN</td>\n",
       "    </tr>\n",
       "    <tr>\n",
       "      <th>99</th>\n",
       "      <td>2016-01-19 03:00:00</td>\n",
       "      <td>0.000000</td>\n",
       "      <td>0.000000</td>\n",
       "      <td>0.000000</td>\n",
       "      <td>0.000000</td>\n",
       "      <td>23.290474</td>\n",
       "      <td>0.000000</td>\n",
       "      <td>0.000000</td>\n",
       "      <td>0.000000</td>\n",
       "      <td>0.000000</td>\n",
       "      <td>...</td>\n",
       "      <td>-799.601232</td>\n",
       "      <td>12.036072</td>\n",
       "      <td>-603.234250</td>\n",
       "      <td>9.974968</td>\n",
       "      <td>-497.092974</td>\n",
       "      <td>7.953962</td>\n",
       "      <td>-499.698442</td>\n",
       "      <td>11.941642</td>\n",
       "      <td>-598.541756</td>\n",
       "      <td>NaN</td>\n",
       "    </tr>\n",
       "    <tr>\n",
       "      <th>100</th>\n",
       "      <td>2016-01-19 04:00:00</td>\n",
       "      <td>0.000000</td>\n",
       "      <td>0.000000</td>\n",
       "      <td>0.000000</td>\n",
       "      <td>0.000000</td>\n",
       "      <td>23.290474</td>\n",
       "      <td>0.000000</td>\n",
       "      <td>0.000000</td>\n",
       "      <td>0.000000</td>\n",
       "      <td>0.000000</td>\n",
       "      <td>...</td>\n",
       "      <td>-799.600946</td>\n",
       "      <td>12.040491</td>\n",
       "      <td>-623.446329</td>\n",
       "      <td>9.898782</td>\n",
       "      <td>-499.623262</td>\n",
       "      <td>7.979302</td>\n",
       "      <td>-500.283366</td>\n",
       "      <td>11.959950</td>\n",
       "      <td>-600.998301</td>\n",
       "      <td>NaN</td>\n",
       "    </tr>\n",
       "    <tr>\n",
       "      <th>101</th>\n",
       "      <td>2016-01-19 05:00:00</td>\n",
       "      <td>0.000000</td>\n",
       "      <td>0.000000</td>\n",
       "      <td>0.000000</td>\n",
       "      <td>0.000000</td>\n",
       "      <td>23.290474</td>\n",
       "      <td>0.000000</td>\n",
       "      <td>0.000000</td>\n",
       "      <td>0.000000</td>\n",
       "      <td>0.000000</td>\n",
       "      <td>...</td>\n",
       "      <td>-799.600659</td>\n",
       "      <td>12.040238</td>\n",
       "      <td>-638.103348</td>\n",
       "      <td>9.956309</td>\n",
       "      <td>-499.791870</td>\n",
       "      <td>7.978806</td>\n",
       "      <td>-500.202026</td>\n",
       "      <td>11.987839</td>\n",
       "      <td>-600.302819</td>\n",
       "      <td>NaN</td>\n",
       "    </tr>\n",
       "    <tr>\n",
       "      <th>102</th>\n",
       "      <td>2016-01-19 06:00:00</td>\n",
       "      <td>0.000000</td>\n",
       "      <td>0.000000</td>\n",
       "      <td>0.000000</td>\n",
       "      <td>0.000000</td>\n",
       "      <td>23.290474</td>\n",
       "      <td>0.000000</td>\n",
       "      <td>0.000000</td>\n",
       "      <td>0.000000</td>\n",
       "      <td>0.000000</td>\n",
       "      <td>...</td>\n",
       "      <td>-799.600372</td>\n",
       "      <td>12.030771</td>\n",
       "      <td>-641.310327</td>\n",
       "      <td>9.966952</td>\n",
       "      <td>-499.842458</td>\n",
       "      <td>8.053455</td>\n",
       "      <td>-499.588522</td>\n",
       "      <td>11.987935</td>\n",
       "      <td>-600.523057</td>\n",
       "      <td>NaN</td>\n",
       "    </tr>\n",
       "    <tr>\n",
       "      <th>...</th>\n",
       "      <td>...</td>\n",
       "      <td>...</td>\n",
       "      <td>...</td>\n",
       "      <td>...</td>\n",
       "      <td>...</td>\n",
       "      <td>...</td>\n",
       "      <td>...</td>\n",
       "      <td>...</td>\n",
       "      <td>...</td>\n",
       "      <td>...</td>\n",
       "      <td>...</td>\n",
       "      <td>...</td>\n",
       "      <td>...</td>\n",
       "      <td>...</td>\n",
       "      <td>...</td>\n",
       "      <td>...</td>\n",
       "      <td>...</td>\n",
       "      <td>...</td>\n",
       "      <td>...</td>\n",
       "      <td>...</td>\n",
       "      <td>...</td>\n",
       "    </tr>\n",
       "    <tr>\n",
       "      <th>16697</th>\n",
       "      <td>2018-08-11 16:59:59</td>\n",
       "      <td>3.958494</td>\n",
       "      <td>10.765712</td>\n",
       "      <td>7.887805</td>\n",
       "      <td>46.249962</td>\n",
       "      <td>70.871419</td>\n",
       "      <td>14.793868</td>\n",
       "      <td>4.400949</td>\n",
       "      <td>8.613606</td>\n",
       "      <td>3.868595</td>\n",
       "      <td>...</td>\n",
       "      <td>-501.051083</td>\n",
       "      <td>20.046078</td>\n",
       "      <td>-501.394212</td>\n",
       "      <td>17.982038</td>\n",
       "      <td>-499.849382</td>\n",
       "      <td>12.989903</td>\n",
       "      <td>-500.207022</td>\n",
       "      <td>17.997144</td>\n",
       "      <td>-501.774775</td>\n",
       "      <td>NaN</td>\n",
       "    </tr>\n",
       "    <tr>\n",
       "      <th>16698</th>\n",
       "      <td>2018-08-11 17:59:59</td>\n",
       "      <td>4.004948</td>\n",
       "      <td>9.668969</td>\n",
       "      <td>8.652235</td>\n",
       "      <td>46.803491</td>\n",
       "      <td>56.203095</td>\n",
       "      <td>16.301126</td>\n",
       "      <td>5.009660</td>\n",
       "      <td>9.603387</td>\n",
       "      <td>5.517890</td>\n",
       "      <td>...</td>\n",
       "      <td>-499.974814</td>\n",
       "      <td>19.987702</td>\n",
       "      <td>-499.084535</td>\n",
       "      <td>18.000712</td>\n",
       "      <td>-500.307173</td>\n",
       "      <td>13.019299</td>\n",
       "      <td>-500.132894</td>\n",
       "      <td>18.010586</td>\n",
       "      <td>-502.012474</td>\n",
       "      <td>NaN</td>\n",
       "    </tr>\n",
       "    <tr>\n",
       "      <th>16699</th>\n",
       "      <td>2018-08-11 18:59:59</td>\n",
       "      <td>3.725068</td>\n",
       "      <td>8.274357</td>\n",
       "      <td>8.841145</td>\n",
       "      <td>48.654627</td>\n",
       "      <td>49.317741</td>\n",
       "      <td>16.118560</td>\n",
       "      <td>5.002483</td>\n",
       "      <td>10.102624</td>\n",
       "      <td>5.733715</td>\n",
       "      <td>...</td>\n",
       "      <td>-501.346407</td>\n",
       "      <td>20.033370</td>\n",
       "      <td>-500.583932</td>\n",
       "      <td>17.968434</td>\n",
       "      <td>-501.021691</td>\n",
       "      <td>12.960565</td>\n",
       "      <td>-500.076888</td>\n",
       "      <td>17.994091</td>\n",
       "      <td>-504.227412</td>\n",
       "      <td>NaN</td>\n",
       "    </tr>\n",
       "    <tr>\n",
       "      <th>16700</th>\n",
       "      <td>2018-08-11 19:59:59</td>\n",
       "      <td>3.455061</td>\n",
       "      <td>7.840984</td>\n",
       "      <td>8.833333</td>\n",
       "      <td>49.429785</td>\n",
       "      <td>50.760512</td>\n",
       "      <td>15.543128</td>\n",
       "      <td>4.780950</td>\n",
       "      <td>9.944061</td>\n",
       "      <td>5.851795</td>\n",
       "      <td>...</td>\n",
       "      <td>-500.439620</td>\n",
       "      <td>20.007188</td>\n",
       "      <td>-500.244110</td>\n",
       "      <td>17.955487</td>\n",
       "      <td>-499.845317</td>\n",
       "      <td>13.024346</td>\n",
       "      <td>-500.219297</td>\n",
       "      <td>17.989071</td>\n",
       "      <td>-502.324529</td>\n",
       "      <td>NaN</td>\n",
       "    </tr>\n",
       "    <tr>\n",
       "      <th>16701</th>\n",
       "      <td>2018-08-11 20:59:59</td>\n",
       "      <td>3.567320</td>\n",
       "      <td>7.873250</td>\n",
       "      <td>8.615208</td>\n",
       "      <td>49.602848</td>\n",
       "      <td>53.019959</td>\n",
       "      <td>16.177795</td>\n",
       "      <td>4.916824</td>\n",
       "      <td>10.082170</td>\n",
       "      <td>6.111331</td>\n",
       "      <td>...</td>\n",
       "      <td>-498.583774</td>\n",
       "      <td>19.976622</td>\n",
       "      <td>-498.238287</td>\n",
       "      <td>17.981863</td>\n",
       "      <td>-498.675906</td>\n",
       "      <td>12.979300</td>\n",
       "      <td>-499.871272</td>\n",
       "      <td>17.987102</td>\n",
       "      <td>-499.191760</td>\n",
       "      <td>NaN</td>\n",
       "    </tr>\n",
       "  </tbody>\n",
       "</table>\n",
       "<p>2573 rows × 88 columns</p>\n",
       "</div>"
      ],
      "text/plain": [
       "                     date  final.output.concentrate_ag  \\\n",
       "53    2016-01-17 05:00:00                     5.919503   \n",
       "99    2016-01-19 03:00:00                     0.000000   \n",
       "100   2016-01-19 04:00:00                     0.000000   \n",
       "101   2016-01-19 05:00:00                     0.000000   \n",
       "102   2016-01-19 06:00:00                     0.000000   \n",
       "...                   ...                          ...   \n",
       "16697 2018-08-11 16:59:59                     3.958494   \n",
       "16698 2018-08-11 17:59:59                     4.004948   \n",
       "16699 2018-08-11 18:59:59                     3.725068   \n",
       "16700 2018-08-11 19:59:59                     3.455061   \n",
       "16701 2018-08-11 20:59:59                     3.567320   \n",
       "\n",
       "       final.output.concentrate_pb  final.output.concentrate_sol  \\\n",
       "53                       11.078044                      6.215769   \n",
       "99                        0.000000                      0.000000   \n",
       "100                       0.000000                      0.000000   \n",
       "101                       0.000000                      0.000000   \n",
       "102                       0.000000                      0.000000   \n",
       "...                            ...                           ...   \n",
       "16697                    10.765712                      7.887805   \n",
       "16698                     9.668969                      8.652235   \n",
       "16699                     8.274357                      8.841145   \n",
       "16700                     7.840984                      8.833333   \n",
       "16701                     7.873250                      8.615208   \n",
       "\n",
       "       final.output.concentrate_au  final.output.recovery  \\\n",
       "53                       42.922611              71.308281   \n",
       "99                        0.000000              23.290474   \n",
       "100                       0.000000              23.290474   \n",
       "101                       0.000000              23.290474   \n",
       "102                       0.000000              23.290474   \n",
       "...                            ...                    ...   \n",
       "16697                    46.249962              70.871419   \n",
       "16698                    46.803491              56.203095   \n",
       "16699                    48.654627              49.317741   \n",
       "16700                    49.429785              50.760512   \n",
       "16701                    49.602848              53.019959   \n",
       "\n",
       "       final.output.tail_ag  final.output.tail_pb  final.output.tail_sol  \\\n",
       "53                10.866006              1.577753              17.550397   \n",
       "99                 0.000000              0.000000               0.000000   \n",
       "100                0.000000              0.000000               0.000000   \n",
       "101                0.000000              0.000000               0.000000   \n",
       "102                0.000000              0.000000               0.000000   \n",
       "...                     ...                   ...                    ...   \n",
       "16697             14.793868              4.400949               8.613606   \n",
       "16698             16.301126              5.009660               9.603387   \n",
       "16699             16.118560              5.002483              10.102624   \n",
       "16700             15.543128              4.780950               9.944061   \n",
       "16701             16.177795              4.916824              10.082170   \n",
       "\n",
       "       final.output.tail_au  ...  secondary_cleaner.state.floatbank4_a_level  \\\n",
       "53                 2.476280  ...                                 -548.238797   \n",
       "99                 0.000000  ...                                 -799.601232   \n",
       "100                0.000000  ...                                 -799.600946   \n",
       "101                0.000000  ...                                 -799.600659   \n",
       "102                0.000000  ...                                 -799.600372   \n",
       "...                     ...  ...                                         ...   \n",
       "16697              3.868595  ...                                 -501.051083   \n",
       "16698              5.517890  ...                                 -499.974814   \n",
       "16699              5.733715  ...                                 -501.346407   \n",
       "16700              5.851795  ...                                 -500.439620   \n",
       "16701              6.111331  ...                                 -498.583774   \n",
       "\n",
       "       secondary_cleaner.state.floatbank4_b_air  \\\n",
       "53                                    12.042964   \n",
       "99                                    12.036072   \n",
       "100                                   12.040491   \n",
       "101                                   12.040238   \n",
       "102                                   12.030771   \n",
       "...                                         ...   \n",
       "16697                                 20.046078   \n",
       "16698                                 19.987702   \n",
       "16699                                 20.033370   \n",
       "16700                                 20.007188   \n",
       "16701                                 19.976622   \n",
       "\n",
       "       secondary_cleaner.state.floatbank4_b_level  \\\n",
       "53                                    -550.430774   \n",
       "99                                    -603.234250   \n",
       "100                                   -623.446329   \n",
       "101                                   -638.103348   \n",
       "102                                   -641.310327   \n",
       "...                                           ...   \n",
       "16697                                 -501.394212   \n",
       "16698                                 -499.084535   \n",
       "16699                                 -500.583932   \n",
       "16700                                 -500.244110   \n",
       "16701                                 -498.238287   \n",
       "\n",
       "       secondary_cleaner.state.floatbank5_a_air  \\\n",
       "53                                     9.989624   \n",
       "99                                     9.974968   \n",
       "100                                    9.898782   \n",
       "101                                    9.956309   \n",
       "102                                    9.966952   \n",
       "...                                         ...   \n",
       "16697                                 17.982038   \n",
       "16698                                 18.000712   \n",
       "16699                                 17.968434   \n",
       "16700                                 17.955487   \n",
       "16701                                 17.981863   \n",
       "\n",
       "       secondary_cleaner.state.floatbank5_a_level  \\\n",
       "53                                    -499.606754   \n",
       "99                                    -497.092974   \n",
       "100                                   -499.623262   \n",
       "101                                   -499.791870   \n",
       "102                                   -499.842458   \n",
       "...                                           ...   \n",
       "16697                                 -499.849382   \n",
       "16698                                 -500.307173   \n",
       "16699                                 -501.021691   \n",
       "16700                                 -499.845317   \n",
       "16701                                 -498.675906   \n",
       "\n",
       "       secondary_cleaner.state.floatbank5_b_air  \\\n",
       "53                                     7.950446   \n",
       "99                                     7.953962   \n",
       "100                                    7.979302   \n",
       "101                                    7.978806   \n",
       "102                                    8.053455   \n",
       "...                                         ...   \n",
       "16697                                 12.989903   \n",
       "16698                                 13.019299   \n",
       "16699                                 12.960565   \n",
       "16700                                 13.024346   \n",
       "16701                                 12.979300   \n",
       "\n",
       "       secondary_cleaner.state.floatbank5_b_level  \\\n",
       "53                                    -500.352648   \n",
       "99                                    -499.698442   \n",
       "100                                   -500.283366   \n",
       "101                                   -500.202026   \n",
       "102                                   -499.588522   \n",
       "...                                           ...   \n",
       "16697                                 -500.207022   \n",
       "16698                                 -500.132894   \n",
       "16699                                 -500.076888   \n",
       "16700                                 -500.219297   \n",
       "16701                                 -499.871272   \n",
       "\n",
       "       secondary_cleaner.state.floatbank6_a_air  \\\n",
       "53                                    12.011728   \n",
       "99                                    11.941642   \n",
       "100                                   11.959950   \n",
       "101                                   11.987839   \n",
       "102                                   11.987935   \n",
       "...                                         ...   \n",
       "16697                                 17.997144   \n",
       "16698                                 18.010586   \n",
       "16699                                 17.994091   \n",
       "16700                                 17.989071   \n",
       "16701                                 17.987102   \n",
       "\n",
       "       secondary_cleaner.state.floatbank6_a_level  calculated_recovery  \n",
       "53                                    -599.043399                  NaN  \n",
       "99                                    -598.541756                  NaN  \n",
       "100                                   -600.998301                  NaN  \n",
       "101                                   -600.302819                  NaN  \n",
       "102                                   -600.523057                  NaN  \n",
       "...                                           ...                  ...  \n",
       "16697                                 -501.774775                  NaN  \n",
       "16698                                 -502.012474                  NaN  \n",
       "16699                                 -504.227412                  NaN  \n",
       "16700                                 -502.324529                  NaN  \n",
       "16701                                 -499.191760                  NaN  \n",
       "\n",
       "[2573 rows x 88 columns]"
      ]
     },
     "execution_count": 206,
     "metadata": {},
     "output_type": "execute_result"
    }
   ],
   "source": [
    "data_train[data_train['calculated_recovery'].isna()]"
   ]
  },
  {
   "cell_type": "code",
   "execution_count": 207,
   "metadata": {},
   "outputs": [
    {
     "data": {
      "text/plain": [
       "date                                             0\n",
       "final.output.concentrate_ag                      0\n",
       "final.output.concentrate_pb                      0\n",
       "final.output.concentrate_sol                     0\n",
       "final.output.concentrate_au                      0\n",
       "                                              ... \n",
       "secondary_cleaner.state.floatbank5_b_air         0\n",
       "secondary_cleaner.state.floatbank5_b_level       0\n",
       "secondary_cleaner.state.floatbank6_a_air         0\n",
       "secondary_cleaner.state.floatbank6_a_level       0\n",
       "calculated_recovery                           2573\n",
       "Length: 88, dtype: int64"
      ]
     },
     "execution_count": 207,
     "metadata": {},
     "output_type": "execute_result"
    }
   ],
   "source": [
    "data_train['calculated_recovery'].dropna(inplace=True)\n",
    "\n",
    "data_train.isna().sum()"
   ]
  },
  {
   "cell_type": "code",
   "execution_count": 208,
   "metadata": {},
   "outputs": [
    {
     "data": {
      "text/plain": [
       "count    14287.000000\n",
       "mean        82.394201\n",
       "std         15.096808\n",
       "min         -0.000000\n",
       "25%         79.818372\n",
       "50%         85.235997\n",
       "75%         90.131691\n",
       "max        100.000000\n",
       "Name: calculated_recovery, dtype: float64"
      ]
     },
     "execution_count": 208,
     "metadata": {},
     "output_type": "execute_result"
    }
   ],
   "source": [
    "data_train['calculated_recovery'].describe()"
   ]
  },
  {
   "cell_type": "code",
   "execution_count": 209,
   "metadata": {},
   "outputs": [],
   "source": [
    "dt_clean = data_train.dropna()"
   ]
  },
  {
   "cell_type": "code",
   "execution_count": 210,
   "metadata": {},
   "outputs": [
    {
     "data": {
      "text/plain": [
       "9.303415616264301e-15"
      ]
     },
     "execution_count": 210,
     "metadata": {},
     "output_type": "execute_result"
    }
   ],
   "source": [
    "calc_recovery_mae = mean_absolute_error(dt_clean['calculated_recovery'], dt_clean['rougher.output.recovery'])\n",
    "\n",
    "calc_recovery_mae"
   ]
  },
  {
   "cell_type": "markdown",
   "metadata": {},
   "source": [
    "1.3. Analyze the features not available in the test set. What are these parameters? What is their type?"
   ]
  },
  {
   "cell_type": "code",
   "execution_count": 211,
   "metadata": {},
   "outputs": [],
   "source": [
    "not_in_test = data_train.columns.difference(data_test.columns)"
   ]
  },
  {
   "cell_type": "code",
   "execution_count": 212,
   "metadata": {},
   "outputs": [
    {
     "data": {
      "text/html": [
       "<div>\n",
       "<style scoped>\n",
       "    .dataframe tbody tr th:only-of-type {\n",
       "        vertical-align: middle;\n",
       "    }\n",
       "\n",
       "    .dataframe tbody tr th {\n",
       "        vertical-align: top;\n",
       "    }\n",
       "\n",
       "    .dataframe thead th {\n",
       "        text-align: right;\n",
       "    }\n",
       "</style>\n",
       "<table border=\"1\" class=\"dataframe\">\n",
       "  <thead>\n",
       "    <tr style=\"text-align: right;\">\n",
       "      <th></th>\n",
       "      <th>calculated_recovery</th>\n",
       "      <th>final.output.concentrate_ag</th>\n",
       "      <th>final.output.concentrate_au</th>\n",
       "      <th>final.output.concentrate_pb</th>\n",
       "      <th>final.output.concentrate_sol</th>\n",
       "      <th>final.output.recovery</th>\n",
       "      <th>final.output.tail_ag</th>\n",
       "      <th>final.output.tail_au</th>\n",
       "      <th>final.output.tail_pb</th>\n",
       "      <th>final.output.tail_sol</th>\n",
       "      <th>...</th>\n",
       "      <th>rougher.output.concentrate_sol</th>\n",
       "      <th>rougher.output.recovery</th>\n",
       "      <th>rougher.output.tail_ag</th>\n",
       "      <th>rougher.output.tail_au</th>\n",
       "      <th>rougher.output.tail_pb</th>\n",
       "      <th>rougher.output.tail_sol</th>\n",
       "      <th>secondary_cleaner.output.tail_ag</th>\n",
       "      <th>secondary_cleaner.output.tail_au</th>\n",
       "      <th>secondary_cleaner.output.tail_pb</th>\n",
       "      <th>secondary_cleaner.output.tail_sol</th>\n",
       "    </tr>\n",
       "  </thead>\n",
       "  <tbody>\n",
       "    <tr>\n",
       "      <th>0</th>\n",
       "      <td>87.107763</td>\n",
       "      <td>6.055403</td>\n",
       "      <td>42.192020</td>\n",
       "      <td>9.889648</td>\n",
       "      <td>5.507324</td>\n",
       "      <td>70.541216</td>\n",
       "      <td>10.411962</td>\n",
       "      <td>2.143149</td>\n",
       "      <td>0.895447</td>\n",
       "      <td>16.904297</td>\n",
       "      <td>...</td>\n",
       "      <td>28.029297</td>\n",
       "      <td>87.107763</td>\n",
       "      <td>5.008018</td>\n",
       "      <td>1.170244</td>\n",
       "      <td>0.508728</td>\n",
       "      <td>19.154297</td>\n",
       "      <td>14.500184</td>\n",
       "      <td>2.606185</td>\n",
       "      <td>4.694824</td>\n",
       "      <td>8.764648</td>\n",
       "    </tr>\n",
       "    <tr>\n",
       "      <th>1</th>\n",
       "      <td>86.843261</td>\n",
       "      <td>6.029369</td>\n",
       "      <td>42.701629</td>\n",
       "      <td>9.968944</td>\n",
       "      <td>5.257781</td>\n",
       "      <td>69.266198</td>\n",
       "      <td>10.462676</td>\n",
       "      <td>2.224930</td>\n",
       "      <td>0.927452</td>\n",
       "      <td>16.634514</td>\n",
       "      <td>...</td>\n",
       "      <td>28.067063</td>\n",
       "      <td>86.843261</td>\n",
       "      <td>4.955378</td>\n",
       "      <td>1.184827</td>\n",
       "      <td>0.536689</td>\n",
       "      <td>18.965234</td>\n",
       "      <td>14.265474</td>\n",
       "      <td>2.488248</td>\n",
       "      <td>4.592547</td>\n",
       "      <td>9.001494</td>\n",
       "    </tr>\n",
       "    <tr>\n",
       "      <th>2</th>\n",
       "      <td>86.842308</td>\n",
       "      <td>6.055926</td>\n",
       "      <td>42.657501</td>\n",
       "      <td>10.213995</td>\n",
       "      <td>5.383759</td>\n",
       "      <td>68.116445</td>\n",
       "      <td>10.507046</td>\n",
       "      <td>2.257889</td>\n",
       "      <td>0.953716</td>\n",
       "      <td>16.208849</td>\n",
       "      <td>...</td>\n",
       "      <td>27.454037</td>\n",
       "      <td>86.842308</td>\n",
       "      <td>4.843460</td>\n",
       "      <td>1.162562</td>\n",
       "      <td>0.546416</td>\n",
       "      <td>18.808533</td>\n",
       "      <td>14.115662</td>\n",
       "      <td>2.458187</td>\n",
       "      <td>4.624775</td>\n",
       "      <td>8.842896</td>\n",
       "    </tr>\n",
       "    <tr>\n",
       "      <th>3</th>\n",
       "      <td>87.226430</td>\n",
       "      <td>6.047977</td>\n",
       "      <td>42.689819</td>\n",
       "      <td>9.977019</td>\n",
       "      <td>4.858634</td>\n",
       "      <td>68.347543</td>\n",
       "      <td>10.422762</td>\n",
       "      <td>2.146849</td>\n",
       "      <td>0.883763</td>\n",
       "      <td>16.532835</td>\n",
       "      <td>...</td>\n",
       "      <td>27.341277</td>\n",
       "      <td>87.226430</td>\n",
       "      <td>4.655288</td>\n",
       "      <td>1.079755</td>\n",
       "      <td>0.542525</td>\n",
       "      <td>19.330200</td>\n",
       "      <td>13.732071</td>\n",
       "      <td>2.322062</td>\n",
       "      <td>4.482453</td>\n",
       "      <td>9.122857</td>\n",
       "    </tr>\n",
       "    <tr>\n",
       "      <th>4</th>\n",
       "      <td>86.688794</td>\n",
       "      <td>6.148599</td>\n",
       "      <td>42.774141</td>\n",
       "      <td>10.142511</td>\n",
       "      <td>4.939416</td>\n",
       "      <td>66.927016</td>\n",
       "      <td>10.360302</td>\n",
       "      <td>2.055292</td>\n",
       "      <td>0.792826</td>\n",
       "      <td>16.525686</td>\n",
       "      <td>...</td>\n",
       "      <td>27.041023</td>\n",
       "      <td>86.688794</td>\n",
       "      <td>4.552800</td>\n",
       "      <td>1.012642</td>\n",
       "      <td>0.515438</td>\n",
       "      <td>19.267422</td>\n",
       "      <td>14.079996</td>\n",
       "      <td>2.330448</td>\n",
       "      <td>4.470737</td>\n",
       "      <td>8.871028</td>\n",
       "    </tr>\n",
       "  </tbody>\n",
       "</table>\n",
       "<p>5 rows × 35 columns</p>\n",
       "</div>"
      ],
      "text/plain": [
       "   calculated_recovery  final.output.concentrate_ag  \\\n",
       "0            87.107763                     6.055403   \n",
       "1            86.843261                     6.029369   \n",
       "2            86.842308                     6.055926   \n",
       "3            87.226430                     6.047977   \n",
       "4            86.688794                     6.148599   \n",
       "\n",
       "   final.output.concentrate_au  final.output.concentrate_pb  \\\n",
       "0                    42.192020                     9.889648   \n",
       "1                    42.701629                     9.968944   \n",
       "2                    42.657501                    10.213995   \n",
       "3                    42.689819                     9.977019   \n",
       "4                    42.774141                    10.142511   \n",
       "\n",
       "   final.output.concentrate_sol  final.output.recovery  final.output.tail_ag  \\\n",
       "0                      5.507324              70.541216             10.411962   \n",
       "1                      5.257781              69.266198             10.462676   \n",
       "2                      5.383759              68.116445             10.507046   \n",
       "3                      4.858634              68.347543             10.422762   \n",
       "4                      4.939416              66.927016             10.360302   \n",
       "\n",
       "   final.output.tail_au  final.output.tail_pb  final.output.tail_sol  ...  \\\n",
       "0              2.143149              0.895447              16.904297  ...   \n",
       "1              2.224930              0.927452              16.634514  ...   \n",
       "2              2.257889              0.953716              16.208849  ...   \n",
       "3              2.146849              0.883763              16.532835  ...   \n",
       "4              2.055292              0.792826              16.525686  ...   \n",
       "\n",
       "   rougher.output.concentrate_sol  rougher.output.recovery  \\\n",
       "0                       28.029297                87.107763   \n",
       "1                       28.067063                86.843261   \n",
       "2                       27.454037                86.842308   \n",
       "3                       27.341277                87.226430   \n",
       "4                       27.041023                86.688794   \n",
       "\n",
       "   rougher.output.tail_ag  rougher.output.tail_au  rougher.output.tail_pb  \\\n",
       "0                5.008018                1.170244                0.508728   \n",
       "1                4.955378                1.184827                0.536689   \n",
       "2                4.843460                1.162562                0.546416   \n",
       "3                4.655288                1.079755                0.542525   \n",
       "4                4.552800                1.012642                0.515438   \n",
       "\n",
       "   rougher.output.tail_sol  secondary_cleaner.output.tail_ag  \\\n",
       "0                19.154297                         14.500184   \n",
       "1                18.965234                         14.265474   \n",
       "2                18.808533                         14.115662   \n",
       "3                19.330200                         13.732071   \n",
       "4                19.267422                         14.079996   \n",
       "\n",
       "   secondary_cleaner.output.tail_au  secondary_cleaner.output.tail_pb  \\\n",
       "0                          2.606185                          4.694824   \n",
       "1                          2.488248                          4.592547   \n",
       "2                          2.458187                          4.624775   \n",
       "3                          2.322062                          4.482453   \n",
       "4                          2.330448                          4.470737   \n",
       "\n",
       "   secondary_cleaner.output.tail_sol  \n",
       "0                           8.764648  \n",
       "1                           9.001494  \n",
       "2                           8.842896  \n",
       "3                           9.122857  \n",
       "4                           8.871028  \n",
       "\n",
       "[5 rows x 35 columns]"
      ]
     },
     "execution_count": 212,
     "metadata": {},
     "output_type": "execute_result"
    }
   ],
   "source": [
    "train_nt = data_train[not_in_test]\n",
    "\n",
    "train_nt.head()"
   ]
  },
  {
   "cell_type": "code",
   "execution_count": 213,
   "metadata": {},
   "outputs": [
    {
     "data": {
      "text/plain": [
       "calculated_recovery                                   float64\n",
       "final.output.concentrate_ag                           float64\n",
       "final.output.concentrate_au                           float64\n",
       "final.output.concentrate_pb                           float64\n",
       "final.output.concentrate_sol                          float64\n",
       "final.output.recovery                                 float64\n",
       "final.output.tail_ag                                  float64\n",
       "final.output.tail_au                                  float64\n",
       "final.output.tail_pb                                  float64\n",
       "final.output.tail_sol                                 float64\n",
       "primary_cleaner.output.concentrate_ag                 float64\n",
       "primary_cleaner.output.concentrate_au                 float64\n",
       "primary_cleaner.output.concentrate_pb                 float64\n",
       "primary_cleaner.output.concentrate_sol                float64\n",
       "primary_cleaner.output.tail_ag                        float64\n",
       "primary_cleaner.output.tail_au                        float64\n",
       "primary_cleaner.output.tail_pb                        float64\n",
       "primary_cleaner.output.tail_sol                       float64\n",
       "rougher.calculation.au_pb_ratio                       float64\n",
       "rougher.calculation.floatbank10_sulfate_to_au_feed    float64\n",
       "rougher.calculation.floatbank11_sulfate_to_au_feed    float64\n",
       "rougher.calculation.sulfate_to_au_concentrate         float64\n",
       "rougher.output.concentrate_ag                         float64\n",
       "rougher.output.concentrate_au                         float64\n",
       "rougher.output.concentrate_pb                         float64\n",
       "rougher.output.concentrate_sol                        float64\n",
       "rougher.output.recovery                               float64\n",
       "rougher.output.tail_ag                                float64\n",
       "rougher.output.tail_au                                float64\n",
       "rougher.output.tail_pb                                float64\n",
       "rougher.output.tail_sol                               float64\n",
       "secondary_cleaner.output.tail_ag                      float64\n",
       "secondary_cleaner.output.tail_au                      float64\n",
       "secondary_cleaner.output.tail_pb                      float64\n",
       "secondary_cleaner.output.tail_sol                     float64\n",
       "dtype: object"
      ]
     },
     "execution_count": 213,
     "metadata": {},
     "output_type": "execute_result"
    }
   ],
   "source": [
    "tnt_dtype = train_nt.dtypes\n",
    "\n",
    "tnt_dtype"
   ]
  },
  {
   "cell_type": "markdown",
   "metadata": {},
   "source": [
    "2.1. Take note of how the concentrations of metals (Au, Ag, Pb) change depending on the purification stage."
   ]
  },
  {
   "cell_type": "code",
   "execution_count": 214,
   "metadata": {},
   "outputs": [],
   "source": [
    "au_input = data_train['rougher.input.feed_au'].sum()\n",
    "\n",
    "au_rougher = data_train['rougher.output.concentrate_au'].sum()\n",
    "\n",
    "au_output = data_train['final.output.concentrate_au'].sum()"
   ]
  },
  {
   "cell_type": "code",
   "execution_count": 215,
   "metadata": {},
   "outputs": [],
   "source": [
    "ag_input = data_train['rougher.input.feed_ag'].sum()\n",
    "\n",
    "ag_rougher = data_train['rougher.output.concentrate_ag'].sum()\n",
    "\n",
    "ag_output = data_train['final.output.concentrate_ag'].sum()"
   ]
  },
  {
   "cell_type": "code",
   "execution_count": 216,
   "metadata": {},
   "outputs": [],
   "source": [
    "pb_input = data_train['rougher.input.feed_au'].sum()\n",
    "\n",
    "pb_rougher = data_train['rougher.output.concentrate_pb'].sum()\n",
    "\n",
    "pb_output = data_train['final.output.concentrate_pb'].sum()"
   ]
  },
  {
   "cell_type": "code",
   "execution_count": 217,
   "metadata": {},
   "outputs": [
    {
     "data": {
      "text/html": [
       "<div>\n",
       "<style scoped>\n",
       "    .dataframe tbody tr th:only-of-type {\n",
       "        vertical-align: middle;\n",
       "    }\n",
       "\n",
       "    .dataframe tbody tr th {\n",
       "        vertical-align: top;\n",
       "    }\n",
       "\n",
       "    .dataframe thead th {\n",
       "        text-align: right;\n",
       "    }\n",
       "</style>\n",
       "<table border=\"1\" class=\"dataframe\">\n",
       "  <thead>\n",
       "    <tr style=\"text-align: right;\">\n",
       "      <th></th>\n",
       "      <th>Stage</th>\n",
       "      <th>Au Concentration Amount</th>\n",
       "    </tr>\n",
       "  </thead>\n",
       "  <tbody>\n",
       "    <tr>\n",
       "      <th>0</th>\n",
       "      <td>Input</td>\n",
       "      <td>120312.898481</td>\n",
       "    </tr>\n",
       "    <tr>\n",
       "      <th>1</th>\n",
       "      <td>Rougher</td>\n",
       "      <td>291985.848802</td>\n",
       "    </tr>\n",
       "    <tr>\n",
       "      <th>2</th>\n",
       "      <td>Output</td>\n",
       "      <td>662921.096778</td>\n",
       "    </tr>\n",
       "  </tbody>\n",
       "</table>\n",
       "</div>"
      ],
      "text/plain": [
       "     Stage  Au Concentration Amount\n",
       "0    Input            120312.898481\n",
       "1  Rougher            291985.848802\n",
       "2   Output            662921.096778"
      ]
     },
     "execution_count": 217,
     "metadata": {},
     "output_type": "execute_result"
    }
   ],
   "source": [
    "au_stages = ['Input', 'Rougher', 'Output']\n",
    "\n",
    "au_amount = [au_input, au_rougher, au_output]\n",
    "\n",
    "au_data = {'Stage': au_stages, 'Au Concentration Amount': au_amount}\n",
    "\n",
    "au_df = pd.DataFrame(au_data)\n",
    "\n",
    "au_df"
   ]
  },
  {
   "cell_type": "code",
   "execution_count": 218,
   "metadata": {},
   "outputs": [
    {
     "data": {
      "text/html": [
       "<div>\n",
       "<style scoped>\n",
       "    .dataframe tbody tr th:only-of-type {\n",
       "        vertical-align: middle;\n",
       "    }\n",
       "\n",
       "    .dataframe tbody tr th {\n",
       "        vertical-align: top;\n",
       "    }\n",
       "\n",
       "    .dataframe thead th {\n",
       "        text-align: right;\n",
       "    }\n",
       "</style>\n",
       "<table border=\"1\" class=\"dataframe\">\n",
       "  <thead>\n",
       "    <tr style=\"text-align: right;\">\n",
       "      <th></th>\n",
       "      <th>Stage</th>\n",
       "      <th>Ag Concentration Amount</th>\n",
       "    </tr>\n",
       "  </thead>\n",
       "  <tbody>\n",
       "    <tr>\n",
       "      <th>0</th>\n",
       "      <td>Input</td>\n",
       "      <td>131419.615748</td>\n",
       "    </tr>\n",
       "    <tr>\n",
       "      <th>1</th>\n",
       "      <td>Rougher</td>\n",
       "      <td>177530.996531</td>\n",
       "    </tr>\n",
       "    <tr>\n",
       "      <th>2</th>\n",
       "      <td>Output</td>\n",
       "      <td>79253.150493</td>\n",
       "    </tr>\n",
       "  </tbody>\n",
       "</table>\n",
       "</div>"
      ],
      "text/plain": [
       "     Stage  Ag Concentration Amount\n",
       "0    Input            131419.615748\n",
       "1  Rougher            177530.996531\n",
       "2   Output             79253.150493"
      ]
     },
     "execution_count": 218,
     "metadata": {},
     "output_type": "execute_result"
    }
   ],
   "source": [
    "ag_stages = ['Input', 'Rougher', 'Output']\n",
    "\n",
    "ag_amount = [ag_input, ag_rougher, ag_output]\n",
    "\n",
    "ag_data = {'Stage': ag_stages, 'Ag Concentration Amount': ag_amount}\n",
    "\n",
    "ag_df = pd.DataFrame(ag_data)\n",
    "\n",
    "ag_df"
   ]
  },
  {
   "cell_type": "code",
   "execution_count": 219,
   "metadata": {},
   "outputs": [
    {
     "data": {
      "text/html": [
       "<div>\n",
       "<style scoped>\n",
       "    .dataframe tbody tr th:only-of-type {\n",
       "        vertical-align: middle;\n",
       "    }\n",
       "\n",
       "    .dataframe tbody tr th {\n",
       "        vertical-align: top;\n",
       "    }\n",
       "\n",
       "    .dataframe thead th {\n",
       "        text-align: right;\n",
       "    }\n",
       "</style>\n",
       "<table border=\"1\" class=\"dataframe\">\n",
       "  <thead>\n",
       "    <tr style=\"text-align: right;\">\n",
       "      <th></th>\n",
       "      <th>Stage</th>\n",
       "      <th>Pb Concentration Amount</th>\n",
       "    </tr>\n",
       "  </thead>\n",
       "  <tbody>\n",
       "    <tr>\n",
       "      <th>0</th>\n",
       "      <td>Input</td>\n",
       "      <td>120312.898481</td>\n",
       "    </tr>\n",
       "    <tr>\n",
       "      <th>1</th>\n",
       "      <td>Rougher</td>\n",
       "      <td>115450.909639</td>\n",
       "    </tr>\n",
       "    <tr>\n",
       "      <th>2</th>\n",
       "      <td>Output</td>\n",
       "      <td>153092.550044</td>\n",
       "    </tr>\n",
       "  </tbody>\n",
       "</table>\n",
       "</div>"
      ],
      "text/plain": [
       "     Stage  Pb Concentration Amount\n",
       "0    Input            120312.898481\n",
       "1  Rougher            115450.909639\n",
       "2   Output            153092.550044"
      ]
     },
     "execution_count": 219,
     "metadata": {},
     "output_type": "execute_result"
    }
   ],
   "source": [
    "pb_stages = ['Input', 'Rougher', 'Output']\n",
    "\n",
    "pb_amount = [pb_input, pb_rougher, pb_output]\n",
    "\n",
    "pb_data = {'Stage': pb_stages, 'Pb Concentration Amount': pb_amount}\n",
    "\n",
    "pb_df = pd.DataFrame(pb_data)\n",
    "\n",
    "pb_df"
   ]
  },
  {
   "cell_type": "code",
   "execution_count": 220,
   "metadata": {},
   "outputs": [
    {
     "data": {
      "application/vnd.plotly.v1+json": {
       "config": {
        "plotlyServerURL": "https://plot.ly"
       },
       "data": [
        {
         "alignmentgroup": "True",
         "hovertemplate": "Stage=%{x}<br>Au Concentration Amount=%{y}<extra></extra>",
         "legendgroup": "",
         "marker": {
          "color": "gold",
          "pattern": {
           "shape": ""
          }
         },
         "name": "",
         "offsetgroup": "",
         "orientation": "v",
         "showlegend": false,
         "textposition": "auto",
         "type": "bar",
         "x": [
          "Input",
          "Rougher",
          "Output"
         ],
         "xaxis": "x",
         "y": [
          120312.89848123906,
          291985.84880184947,
          662921.0967784495
         ],
         "yaxis": "y"
        }
       ],
       "layout": {
        "barmode": "relative",
        "legend": {
         "tracegroupgap": 0
        },
        "plot_bgcolor": "white",
        "template": {
         "data": {
          "bar": [
           {
            "error_x": {
             "color": "#2a3f5f"
            },
            "error_y": {
             "color": "#2a3f5f"
            },
            "marker": {
             "line": {
              "color": "#E5ECF6",
              "width": 0.5
             },
             "pattern": {
              "fillmode": "overlay",
              "size": 10,
              "solidity": 0.2
             }
            },
            "type": "bar"
           }
          ],
          "barpolar": [
           {
            "marker": {
             "line": {
              "color": "#E5ECF6",
              "width": 0.5
             },
             "pattern": {
              "fillmode": "overlay",
              "size": 10,
              "solidity": 0.2
             }
            },
            "type": "barpolar"
           }
          ],
          "carpet": [
           {
            "aaxis": {
             "endlinecolor": "#2a3f5f",
             "gridcolor": "white",
             "linecolor": "white",
             "minorgridcolor": "white",
             "startlinecolor": "#2a3f5f"
            },
            "baxis": {
             "endlinecolor": "#2a3f5f",
             "gridcolor": "white",
             "linecolor": "white",
             "minorgridcolor": "white",
             "startlinecolor": "#2a3f5f"
            },
            "type": "carpet"
           }
          ],
          "choropleth": [
           {
            "colorbar": {
             "outlinewidth": 0,
             "ticks": ""
            },
            "type": "choropleth"
           }
          ],
          "contour": [
           {
            "colorbar": {
             "outlinewidth": 0,
             "ticks": ""
            },
            "colorscale": [
             [
              0,
              "#0d0887"
             ],
             [
              0.1111111111111111,
              "#46039f"
             ],
             [
              0.2222222222222222,
              "#7201a8"
             ],
             [
              0.3333333333333333,
              "#9c179e"
             ],
             [
              0.4444444444444444,
              "#bd3786"
             ],
             [
              0.5555555555555556,
              "#d8576b"
             ],
             [
              0.6666666666666666,
              "#ed7953"
             ],
             [
              0.7777777777777778,
              "#fb9f3a"
             ],
             [
              0.8888888888888888,
              "#fdca26"
             ],
             [
              1,
              "#f0f921"
             ]
            ],
            "type": "contour"
           }
          ],
          "contourcarpet": [
           {
            "colorbar": {
             "outlinewidth": 0,
             "ticks": ""
            },
            "type": "contourcarpet"
           }
          ],
          "heatmap": [
           {
            "colorbar": {
             "outlinewidth": 0,
             "ticks": ""
            },
            "colorscale": [
             [
              0,
              "#0d0887"
             ],
             [
              0.1111111111111111,
              "#46039f"
             ],
             [
              0.2222222222222222,
              "#7201a8"
             ],
             [
              0.3333333333333333,
              "#9c179e"
             ],
             [
              0.4444444444444444,
              "#bd3786"
             ],
             [
              0.5555555555555556,
              "#d8576b"
             ],
             [
              0.6666666666666666,
              "#ed7953"
             ],
             [
              0.7777777777777778,
              "#fb9f3a"
             ],
             [
              0.8888888888888888,
              "#fdca26"
             ],
             [
              1,
              "#f0f921"
             ]
            ],
            "type": "heatmap"
           }
          ],
          "heatmapgl": [
           {
            "colorbar": {
             "outlinewidth": 0,
             "ticks": ""
            },
            "colorscale": [
             [
              0,
              "#0d0887"
             ],
             [
              0.1111111111111111,
              "#46039f"
             ],
             [
              0.2222222222222222,
              "#7201a8"
             ],
             [
              0.3333333333333333,
              "#9c179e"
             ],
             [
              0.4444444444444444,
              "#bd3786"
             ],
             [
              0.5555555555555556,
              "#d8576b"
             ],
             [
              0.6666666666666666,
              "#ed7953"
             ],
             [
              0.7777777777777778,
              "#fb9f3a"
             ],
             [
              0.8888888888888888,
              "#fdca26"
             ],
             [
              1,
              "#f0f921"
             ]
            ],
            "type": "heatmapgl"
           }
          ],
          "histogram": [
           {
            "marker": {
             "pattern": {
              "fillmode": "overlay",
              "size": 10,
              "solidity": 0.2
             }
            },
            "type": "histogram"
           }
          ],
          "histogram2d": [
           {
            "colorbar": {
             "outlinewidth": 0,
             "ticks": ""
            },
            "colorscale": [
             [
              0,
              "#0d0887"
             ],
             [
              0.1111111111111111,
              "#46039f"
             ],
             [
              0.2222222222222222,
              "#7201a8"
             ],
             [
              0.3333333333333333,
              "#9c179e"
             ],
             [
              0.4444444444444444,
              "#bd3786"
             ],
             [
              0.5555555555555556,
              "#d8576b"
             ],
             [
              0.6666666666666666,
              "#ed7953"
             ],
             [
              0.7777777777777778,
              "#fb9f3a"
             ],
             [
              0.8888888888888888,
              "#fdca26"
             ],
             [
              1,
              "#f0f921"
             ]
            ],
            "type": "histogram2d"
           }
          ],
          "histogram2dcontour": [
           {
            "colorbar": {
             "outlinewidth": 0,
             "ticks": ""
            },
            "colorscale": [
             [
              0,
              "#0d0887"
             ],
             [
              0.1111111111111111,
              "#46039f"
             ],
             [
              0.2222222222222222,
              "#7201a8"
             ],
             [
              0.3333333333333333,
              "#9c179e"
             ],
             [
              0.4444444444444444,
              "#bd3786"
             ],
             [
              0.5555555555555556,
              "#d8576b"
             ],
             [
              0.6666666666666666,
              "#ed7953"
             ],
             [
              0.7777777777777778,
              "#fb9f3a"
             ],
             [
              0.8888888888888888,
              "#fdca26"
             ],
             [
              1,
              "#f0f921"
             ]
            ],
            "type": "histogram2dcontour"
           }
          ],
          "mesh3d": [
           {
            "colorbar": {
             "outlinewidth": 0,
             "ticks": ""
            },
            "type": "mesh3d"
           }
          ],
          "parcoords": [
           {
            "line": {
             "colorbar": {
              "outlinewidth": 0,
              "ticks": ""
             }
            },
            "type": "parcoords"
           }
          ],
          "pie": [
           {
            "automargin": true,
            "type": "pie"
           }
          ],
          "scatter": [
           {
            "fillpattern": {
             "fillmode": "overlay",
             "size": 10,
             "solidity": 0.2
            },
            "type": "scatter"
           }
          ],
          "scatter3d": [
           {
            "line": {
             "colorbar": {
              "outlinewidth": 0,
              "ticks": ""
             }
            },
            "marker": {
             "colorbar": {
              "outlinewidth": 0,
              "ticks": ""
             }
            },
            "type": "scatter3d"
           }
          ],
          "scattercarpet": [
           {
            "marker": {
             "colorbar": {
              "outlinewidth": 0,
              "ticks": ""
             }
            },
            "type": "scattercarpet"
           }
          ],
          "scattergeo": [
           {
            "marker": {
             "colorbar": {
              "outlinewidth": 0,
              "ticks": ""
             }
            },
            "type": "scattergeo"
           }
          ],
          "scattergl": [
           {
            "marker": {
             "colorbar": {
              "outlinewidth": 0,
              "ticks": ""
             }
            },
            "type": "scattergl"
           }
          ],
          "scattermapbox": [
           {
            "marker": {
             "colorbar": {
              "outlinewidth": 0,
              "ticks": ""
             }
            },
            "type": "scattermapbox"
           }
          ],
          "scatterpolar": [
           {
            "marker": {
             "colorbar": {
              "outlinewidth": 0,
              "ticks": ""
             }
            },
            "type": "scatterpolar"
           }
          ],
          "scatterpolargl": [
           {
            "marker": {
             "colorbar": {
              "outlinewidth": 0,
              "ticks": ""
             }
            },
            "type": "scatterpolargl"
           }
          ],
          "scatterternary": [
           {
            "marker": {
             "colorbar": {
              "outlinewidth": 0,
              "ticks": ""
             }
            },
            "type": "scatterternary"
           }
          ],
          "surface": [
           {
            "colorbar": {
             "outlinewidth": 0,
             "ticks": ""
            },
            "colorscale": [
             [
              0,
              "#0d0887"
             ],
             [
              0.1111111111111111,
              "#46039f"
             ],
             [
              0.2222222222222222,
              "#7201a8"
             ],
             [
              0.3333333333333333,
              "#9c179e"
             ],
             [
              0.4444444444444444,
              "#bd3786"
             ],
             [
              0.5555555555555556,
              "#d8576b"
             ],
             [
              0.6666666666666666,
              "#ed7953"
             ],
             [
              0.7777777777777778,
              "#fb9f3a"
             ],
             [
              0.8888888888888888,
              "#fdca26"
             ],
             [
              1,
              "#f0f921"
             ]
            ],
            "type": "surface"
           }
          ],
          "table": [
           {
            "cells": {
             "fill": {
              "color": "#EBF0F8"
             },
             "line": {
              "color": "white"
             }
            },
            "header": {
             "fill": {
              "color": "#C8D4E3"
             },
             "line": {
              "color": "white"
             }
            },
            "type": "table"
           }
          ]
         },
         "layout": {
          "annotationdefaults": {
           "arrowcolor": "#2a3f5f",
           "arrowhead": 0,
           "arrowwidth": 1
          },
          "autotypenumbers": "strict",
          "coloraxis": {
           "colorbar": {
            "outlinewidth": 0,
            "ticks": ""
           }
          },
          "colorscale": {
           "diverging": [
            [
             0,
             "#8e0152"
            ],
            [
             0.1,
             "#c51b7d"
            ],
            [
             0.2,
             "#de77ae"
            ],
            [
             0.3,
             "#f1b6da"
            ],
            [
             0.4,
             "#fde0ef"
            ],
            [
             0.5,
             "#f7f7f7"
            ],
            [
             0.6,
             "#e6f5d0"
            ],
            [
             0.7,
             "#b8e186"
            ],
            [
             0.8,
             "#7fbc41"
            ],
            [
             0.9,
             "#4d9221"
            ],
            [
             1,
             "#276419"
            ]
           ],
           "sequential": [
            [
             0,
             "#0d0887"
            ],
            [
             0.1111111111111111,
             "#46039f"
            ],
            [
             0.2222222222222222,
             "#7201a8"
            ],
            [
             0.3333333333333333,
             "#9c179e"
            ],
            [
             0.4444444444444444,
             "#bd3786"
            ],
            [
             0.5555555555555556,
             "#d8576b"
            ],
            [
             0.6666666666666666,
             "#ed7953"
            ],
            [
             0.7777777777777778,
             "#fb9f3a"
            ],
            [
             0.8888888888888888,
             "#fdca26"
            ],
            [
             1,
             "#f0f921"
            ]
           ],
           "sequentialminus": [
            [
             0,
             "#0d0887"
            ],
            [
             0.1111111111111111,
             "#46039f"
            ],
            [
             0.2222222222222222,
             "#7201a8"
            ],
            [
             0.3333333333333333,
             "#9c179e"
            ],
            [
             0.4444444444444444,
             "#bd3786"
            ],
            [
             0.5555555555555556,
             "#d8576b"
            ],
            [
             0.6666666666666666,
             "#ed7953"
            ],
            [
             0.7777777777777778,
             "#fb9f3a"
            ],
            [
             0.8888888888888888,
             "#fdca26"
            ],
            [
             1,
             "#f0f921"
            ]
           ]
          },
          "colorway": [
           "#636efa",
           "#EF553B",
           "#00cc96",
           "#ab63fa",
           "#FFA15A",
           "#19d3f3",
           "#FF6692",
           "#B6E880",
           "#FF97FF",
           "#FECB52"
          ],
          "font": {
           "color": "#2a3f5f"
          },
          "geo": {
           "bgcolor": "white",
           "lakecolor": "white",
           "landcolor": "#E5ECF6",
           "showlakes": true,
           "showland": true,
           "subunitcolor": "white"
          },
          "hoverlabel": {
           "align": "left"
          },
          "hovermode": "closest",
          "mapbox": {
           "style": "light"
          },
          "paper_bgcolor": "white",
          "plot_bgcolor": "#E5ECF6",
          "polar": {
           "angularaxis": {
            "gridcolor": "white",
            "linecolor": "white",
            "ticks": ""
           },
           "bgcolor": "#E5ECF6",
           "radialaxis": {
            "gridcolor": "white",
            "linecolor": "white",
            "ticks": ""
           }
          },
          "scene": {
           "xaxis": {
            "backgroundcolor": "#E5ECF6",
            "gridcolor": "white",
            "gridwidth": 2,
            "linecolor": "white",
            "showbackground": true,
            "ticks": "",
            "zerolinecolor": "white"
           },
           "yaxis": {
            "backgroundcolor": "#E5ECF6",
            "gridcolor": "white",
            "gridwidth": 2,
            "linecolor": "white",
            "showbackground": true,
            "ticks": "",
            "zerolinecolor": "white"
           },
           "zaxis": {
            "backgroundcolor": "#E5ECF6",
            "gridcolor": "white",
            "gridwidth": 2,
            "linecolor": "white",
            "showbackground": true,
            "ticks": "",
            "zerolinecolor": "white"
           }
          },
          "shapedefaults": {
           "line": {
            "color": "#2a3f5f"
           }
          },
          "ternary": {
           "aaxis": {
            "gridcolor": "white",
            "linecolor": "white",
            "ticks": ""
           },
           "baxis": {
            "gridcolor": "white",
            "linecolor": "white",
            "ticks": ""
           },
           "bgcolor": "#E5ECF6",
           "caxis": {
            "gridcolor": "white",
            "linecolor": "white",
            "ticks": ""
           }
          },
          "title": {
           "x": 0.05
          },
          "xaxis": {
           "automargin": true,
           "gridcolor": "white",
           "linecolor": "white",
           "ticks": "",
           "title": {
            "standoff": 15
           },
           "zerolinecolor": "white",
           "zerolinewidth": 2
          },
          "yaxis": {
           "automargin": true,
           "gridcolor": "white",
           "linecolor": "white",
           "ticks": "",
           "title": {
            "standoff": 15
           },
           "zerolinecolor": "white",
           "zerolinewidth": 2
          }
         }
        },
        "title": {
         "text": "Au Concentration per Purificaiton Stage"
        },
        "xaxis": {
         "anchor": "y",
         "domain": [
          0,
          1
         ],
         "linecolor": "black",
         "linewidth": 2,
         "showline": true,
         "title": {
          "text": "Stage"
         }
        },
        "yaxis": {
         "anchor": "x",
         "domain": [
          0,
          1
         ],
         "gridcolor": "black",
         "linecolor": "black",
         "linewidth": 2,
         "showgrid": true,
         "showline": true,
         "title": {
          "text": "Au Concentration Amount"
         }
        }
       }
      }
     },
     "metadata": {},
     "output_type": "display_data"
    }
   ],
   "source": [
    "au_bar = px.bar(au_df, x='Stage', y='Au Concentration Amount', title='Au Concentration per Purificaiton Stage', color_discrete_sequence=['gold'])\n",
    "\n",
    "au_bar.update_layout(plot_bgcolor='white', yaxis=dict(showgrid=True, gridcolor='black'))\n",
    "au_bar.update_xaxes(showline=True, linewidth=2, linecolor='black')\n",
    "\n",
    "au_bar.update_yaxes(showline=True, linewidth=2, linecolor='black')\n",
    "au_bar.show()"
   ]
  },
  {
   "cell_type": "code",
   "execution_count": 221,
   "metadata": {},
   "outputs": [
    {
     "data": {
      "application/vnd.plotly.v1+json": {
       "config": {
        "plotlyServerURL": "https://plot.ly"
       },
       "data": [
        {
         "alignmentgroup": "True",
         "hovertemplate": "Stage=%{x}<br>Ag Concentration Amount=%{y}<extra></extra>",
         "legendgroup": "",
         "marker": {
          "color": "silver",
          "pattern": {
           "shape": ""
          }
         },
         "name": "",
         "offsetgroup": "",
         "orientation": "v",
         "showlegend": false,
         "textposition": "auto",
         "type": "bar",
         "x": [
          "Input",
          "Rougher",
          "Output"
         ],
         "xaxis": "x",
         "y": [
          131419.6157476891,
          177530.99653075202,
          79253.15049252792
         ],
         "yaxis": "y"
        }
       ],
       "layout": {
        "barmode": "relative",
        "legend": {
         "tracegroupgap": 0
        },
        "plot_bgcolor": "white",
        "template": {
         "data": {
          "bar": [
           {
            "error_x": {
             "color": "#2a3f5f"
            },
            "error_y": {
             "color": "#2a3f5f"
            },
            "marker": {
             "line": {
              "color": "#E5ECF6",
              "width": 0.5
             },
             "pattern": {
              "fillmode": "overlay",
              "size": 10,
              "solidity": 0.2
             }
            },
            "type": "bar"
           }
          ],
          "barpolar": [
           {
            "marker": {
             "line": {
              "color": "#E5ECF6",
              "width": 0.5
             },
             "pattern": {
              "fillmode": "overlay",
              "size": 10,
              "solidity": 0.2
             }
            },
            "type": "barpolar"
           }
          ],
          "carpet": [
           {
            "aaxis": {
             "endlinecolor": "#2a3f5f",
             "gridcolor": "white",
             "linecolor": "white",
             "minorgridcolor": "white",
             "startlinecolor": "#2a3f5f"
            },
            "baxis": {
             "endlinecolor": "#2a3f5f",
             "gridcolor": "white",
             "linecolor": "white",
             "minorgridcolor": "white",
             "startlinecolor": "#2a3f5f"
            },
            "type": "carpet"
           }
          ],
          "choropleth": [
           {
            "colorbar": {
             "outlinewidth": 0,
             "ticks": ""
            },
            "type": "choropleth"
           }
          ],
          "contour": [
           {
            "colorbar": {
             "outlinewidth": 0,
             "ticks": ""
            },
            "colorscale": [
             [
              0,
              "#0d0887"
             ],
             [
              0.1111111111111111,
              "#46039f"
             ],
             [
              0.2222222222222222,
              "#7201a8"
             ],
             [
              0.3333333333333333,
              "#9c179e"
             ],
             [
              0.4444444444444444,
              "#bd3786"
             ],
             [
              0.5555555555555556,
              "#d8576b"
             ],
             [
              0.6666666666666666,
              "#ed7953"
             ],
             [
              0.7777777777777778,
              "#fb9f3a"
             ],
             [
              0.8888888888888888,
              "#fdca26"
             ],
             [
              1,
              "#f0f921"
             ]
            ],
            "type": "contour"
           }
          ],
          "contourcarpet": [
           {
            "colorbar": {
             "outlinewidth": 0,
             "ticks": ""
            },
            "type": "contourcarpet"
           }
          ],
          "heatmap": [
           {
            "colorbar": {
             "outlinewidth": 0,
             "ticks": ""
            },
            "colorscale": [
             [
              0,
              "#0d0887"
             ],
             [
              0.1111111111111111,
              "#46039f"
             ],
             [
              0.2222222222222222,
              "#7201a8"
             ],
             [
              0.3333333333333333,
              "#9c179e"
             ],
             [
              0.4444444444444444,
              "#bd3786"
             ],
             [
              0.5555555555555556,
              "#d8576b"
             ],
             [
              0.6666666666666666,
              "#ed7953"
             ],
             [
              0.7777777777777778,
              "#fb9f3a"
             ],
             [
              0.8888888888888888,
              "#fdca26"
             ],
             [
              1,
              "#f0f921"
             ]
            ],
            "type": "heatmap"
           }
          ],
          "heatmapgl": [
           {
            "colorbar": {
             "outlinewidth": 0,
             "ticks": ""
            },
            "colorscale": [
             [
              0,
              "#0d0887"
             ],
             [
              0.1111111111111111,
              "#46039f"
             ],
             [
              0.2222222222222222,
              "#7201a8"
             ],
             [
              0.3333333333333333,
              "#9c179e"
             ],
             [
              0.4444444444444444,
              "#bd3786"
             ],
             [
              0.5555555555555556,
              "#d8576b"
             ],
             [
              0.6666666666666666,
              "#ed7953"
             ],
             [
              0.7777777777777778,
              "#fb9f3a"
             ],
             [
              0.8888888888888888,
              "#fdca26"
             ],
             [
              1,
              "#f0f921"
             ]
            ],
            "type": "heatmapgl"
           }
          ],
          "histogram": [
           {
            "marker": {
             "pattern": {
              "fillmode": "overlay",
              "size": 10,
              "solidity": 0.2
             }
            },
            "type": "histogram"
           }
          ],
          "histogram2d": [
           {
            "colorbar": {
             "outlinewidth": 0,
             "ticks": ""
            },
            "colorscale": [
             [
              0,
              "#0d0887"
             ],
             [
              0.1111111111111111,
              "#46039f"
             ],
             [
              0.2222222222222222,
              "#7201a8"
             ],
             [
              0.3333333333333333,
              "#9c179e"
             ],
             [
              0.4444444444444444,
              "#bd3786"
             ],
             [
              0.5555555555555556,
              "#d8576b"
             ],
             [
              0.6666666666666666,
              "#ed7953"
             ],
             [
              0.7777777777777778,
              "#fb9f3a"
             ],
             [
              0.8888888888888888,
              "#fdca26"
             ],
             [
              1,
              "#f0f921"
             ]
            ],
            "type": "histogram2d"
           }
          ],
          "histogram2dcontour": [
           {
            "colorbar": {
             "outlinewidth": 0,
             "ticks": ""
            },
            "colorscale": [
             [
              0,
              "#0d0887"
             ],
             [
              0.1111111111111111,
              "#46039f"
             ],
             [
              0.2222222222222222,
              "#7201a8"
             ],
             [
              0.3333333333333333,
              "#9c179e"
             ],
             [
              0.4444444444444444,
              "#bd3786"
             ],
             [
              0.5555555555555556,
              "#d8576b"
             ],
             [
              0.6666666666666666,
              "#ed7953"
             ],
             [
              0.7777777777777778,
              "#fb9f3a"
             ],
             [
              0.8888888888888888,
              "#fdca26"
             ],
             [
              1,
              "#f0f921"
             ]
            ],
            "type": "histogram2dcontour"
           }
          ],
          "mesh3d": [
           {
            "colorbar": {
             "outlinewidth": 0,
             "ticks": ""
            },
            "type": "mesh3d"
           }
          ],
          "parcoords": [
           {
            "line": {
             "colorbar": {
              "outlinewidth": 0,
              "ticks": ""
             }
            },
            "type": "parcoords"
           }
          ],
          "pie": [
           {
            "automargin": true,
            "type": "pie"
           }
          ],
          "scatter": [
           {
            "fillpattern": {
             "fillmode": "overlay",
             "size": 10,
             "solidity": 0.2
            },
            "type": "scatter"
           }
          ],
          "scatter3d": [
           {
            "line": {
             "colorbar": {
              "outlinewidth": 0,
              "ticks": ""
             }
            },
            "marker": {
             "colorbar": {
              "outlinewidth": 0,
              "ticks": ""
             }
            },
            "type": "scatter3d"
           }
          ],
          "scattercarpet": [
           {
            "marker": {
             "colorbar": {
              "outlinewidth": 0,
              "ticks": ""
             }
            },
            "type": "scattercarpet"
           }
          ],
          "scattergeo": [
           {
            "marker": {
             "colorbar": {
              "outlinewidth": 0,
              "ticks": ""
             }
            },
            "type": "scattergeo"
           }
          ],
          "scattergl": [
           {
            "marker": {
             "colorbar": {
              "outlinewidth": 0,
              "ticks": ""
             }
            },
            "type": "scattergl"
           }
          ],
          "scattermapbox": [
           {
            "marker": {
             "colorbar": {
              "outlinewidth": 0,
              "ticks": ""
             }
            },
            "type": "scattermapbox"
           }
          ],
          "scatterpolar": [
           {
            "marker": {
             "colorbar": {
              "outlinewidth": 0,
              "ticks": ""
             }
            },
            "type": "scatterpolar"
           }
          ],
          "scatterpolargl": [
           {
            "marker": {
             "colorbar": {
              "outlinewidth": 0,
              "ticks": ""
             }
            },
            "type": "scatterpolargl"
           }
          ],
          "scatterternary": [
           {
            "marker": {
             "colorbar": {
              "outlinewidth": 0,
              "ticks": ""
             }
            },
            "type": "scatterternary"
           }
          ],
          "surface": [
           {
            "colorbar": {
             "outlinewidth": 0,
             "ticks": ""
            },
            "colorscale": [
             [
              0,
              "#0d0887"
             ],
             [
              0.1111111111111111,
              "#46039f"
             ],
             [
              0.2222222222222222,
              "#7201a8"
             ],
             [
              0.3333333333333333,
              "#9c179e"
             ],
             [
              0.4444444444444444,
              "#bd3786"
             ],
             [
              0.5555555555555556,
              "#d8576b"
             ],
             [
              0.6666666666666666,
              "#ed7953"
             ],
             [
              0.7777777777777778,
              "#fb9f3a"
             ],
             [
              0.8888888888888888,
              "#fdca26"
             ],
             [
              1,
              "#f0f921"
             ]
            ],
            "type": "surface"
           }
          ],
          "table": [
           {
            "cells": {
             "fill": {
              "color": "#EBF0F8"
             },
             "line": {
              "color": "white"
             }
            },
            "header": {
             "fill": {
              "color": "#C8D4E3"
             },
             "line": {
              "color": "white"
             }
            },
            "type": "table"
           }
          ]
         },
         "layout": {
          "annotationdefaults": {
           "arrowcolor": "#2a3f5f",
           "arrowhead": 0,
           "arrowwidth": 1
          },
          "autotypenumbers": "strict",
          "coloraxis": {
           "colorbar": {
            "outlinewidth": 0,
            "ticks": ""
           }
          },
          "colorscale": {
           "diverging": [
            [
             0,
             "#8e0152"
            ],
            [
             0.1,
             "#c51b7d"
            ],
            [
             0.2,
             "#de77ae"
            ],
            [
             0.3,
             "#f1b6da"
            ],
            [
             0.4,
             "#fde0ef"
            ],
            [
             0.5,
             "#f7f7f7"
            ],
            [
             0.6,
             "#e6f5d0"
            ],
            [
             0.7,
             "#b8e186"
            ],
            [
             0.8,
             "#7fbc41"
            ],
            [
             0.9,
             "#4d9221"
            ],
            [
             1,
             "#276419"
            ]
           ],
           "sequential": [
            [
             0,
             "#0d0887"
            ],
            [
             0.1111111111111111,
             "#46039f"
            ],
            [
             0.2222222222222222,
             "#7201a8"
            ],
            [
             0.3333333333333333,
             "#9c179e"
            ],
            [
             0.4444444444444444,
             "#bd3786"
            ],
            [
             0.5555555555555556,
             "#d8576b"
            ],
            [
             0.6666666666666666,
             "#ed7953"
            ],
            [
             0.7777777777777778,
             "#fb9f3a"
            ],
            [
             0.8888888888888888,
             "#fdca26"
            ],
            [
             1,
             "#f0f921"
            ]
           ],
           "sequentialminus": [
            [
             0,
             "#0d0887"
            ],
            [
             0.1111111111111111,
             "#46039f"
            ],
            [
             0.2222222222222222,
             "#7201a8"
            ],
            [
             0.3333333333333333,
             "#9c179e"
            ],
            [
             0.4444444444444444,
             "#bd3786"
            ],
            [
             0.5555555555555556,
             "#d8576b"
            ],
            [
             0.6666666666666666,
             "#ed7953"
            ],
            [
             0.7777777777777778,
             "#fb9f3a"
            ],
            [
             0.8888888888888888,
             "#fdca26"
            ],
            [
             1,
             "#f0f921"
            ]
           ]
          },
          "colorway": [
           "#636efa",
           "#EF553B",
           "#00cc96",
           "#ab63fa",
           "#FFA15A",
           "#19d3f3",
           "#FF6692",
           "#B6E880",
           "#FF97FF",
           "#FECB52"
          ],
          "font": {
           "color": "#2a3f5f"
          },
          "geo": {
           "bgcolor": "white",
           "lakecolor": "white",
           "landcolor": "#E5ECF6",
           "showlakes": true,
           "showland": true,
           "subunitcolor": "white"
          },
          "hoverlabel": {
           "align": "left"
          },
          "hovermode": "closest",
          "mapbox": {
           "style": "light"
          },
          "paper_bgcolor": "white",
          "plot_bgcolor": "#E5ECF6",
          "polar": {
           "angularaxis": {
            "gridcolor": "white",
            "linecolor": "white",
            "ticks": ""
           },
           "bgcolor": "#E5ECF6",
           "radialaxis": {
            "gridcolor": "white",
            "linecolor": "white",
            "ticks": ""
           }
          },
          "scene": {
           "xaxis": {
            "backgroundcolor": "#E5ECF6",
            "gridcolor": "white",
            "gridwidth": 2,
            "linecolor": "white",
            "showbackground": true,
            "ticks": "",
            "zerolinecolor": "white"
           },
           "yaxis": {
            "backgroundcolor": "#E5ECF6",
            "gridcolor": "white",
            "gridwidth": 2,
            "linecolor": "white",
            "showbackground": true,
            "ticks": "",
            "zerolinecolor": "white"
           },
           "zaxis": {
            "backgroundcolor": "#E5ECF6",
            "gridcolor": "white",
            "gridwidth": 2,
            "linecolor": "white",
            "showbackground": true,
            "ticks": "",
            "zerolinecolor": "white"
           }
          },
          "shapedefaults": {
           "line": {
            "color": "#2a3f5f"
           }
          },
          "ternary": {
           "aaxis": {
            "gridcolor": "white",
            "linecolor": "white",
            "ticks": ""
           },
           "baxis": {
            "gridcolor": "white",
            "linecolor": "white",
            "ticks": ""
           },
           "bgcolor": "#E5ECF6",
           "caxis": {
            "gridcolor": "white",
            "linecolor": "white",
            "ticks": ""
           }
          },
          "title": {
           "x": 0.05
          },
          "xaxis": {
           "automargin": true,
           "gridcolor": "white",
           "linecolor": "white",
           "ticks": "",
           "title": {
            "standoff": 15
           },
           "zerolinecolor": "white",
           "zerolinewidth": 2
          },
          "yaxis": {
           "automargin": true,
           "gridcolor": "white",
           "linecolor": "white",
           "ticks": "",
           "title": {
            "standoff": 15
           },
           "zerolinecolor": "white",
           "zerolinewidth": 2
          }
         }
        },
        "title": {
         "text": "Ag Concentration per Purificaiton Stage"
        },
        "xaxis": {
         "anchor": "y",
         "domain": [
          0,
          1
         ],
         "linecolor": "black",
         "linewidth": 2,
         "showline": true,
         "title": {
          "text": "Stage"
         }
        },
        "yaxis": {
         "anchor": "x",
         "domain": [
          0,
          1
         ],
         "gridcolor": "black",
         "linecolor": "black",
         "linewidth": 2,
         "showgrid": true,
         "showline": true,
         "title": {
          "text": "Ag Concentration Amount"
         }
        }
       }
      }
     },
     "metadata": {},
     "output_type": "display_data"
    }
   ],
   "source": [
    "ag_bar = px.bar(ag_df, x='Stage', y='Ag Concentration Amount', title='Ag Concentration per Purificaiton Stage', color_discrete_sequence=['silver'])\n",
    "\n",
    "ag_bar.update_layout(plot_bgcolor='white', yaxis=dict(showgrid=True, gridcolor='black'))\n",
    "ag_bar.update_xaxes(showline=True, linewidth=2, linecolor='black')\n",
    "\n",
    "ag_bar.update_yaxes(showline=True, linewidth=2, linecolor='black')\n",
    "ag_bar.show()"
   ]
  },
  {
   "cell_type": "code",
   "execution_count": 222,
   "metadata": {},
   "outputs": [
    {
     "data": {
      "application/vnd.plotly.v1+json": {
       "config": {
        "plotlyServerURL": "https://plot.ly"
       },
       "data": [
        {
         "alignmentgroup": "True",
         "hovertemplate": "Stage=%{x}<br>Pb Concentration Amount=%{y}<extra></extra>",
         "legendgroup": "",
         "marker": {
          "color": "black",
          "pattern": {
           "shape": ""
          }
         },
         "name": "",
         "offsetgroup": "",
         "orientation": "v",
         "showlegend": false,
         "textposition": "auto",
         "type": "bar",
         "x": [
          "Input",
          "Rougher",
          "Output"
         ],
         "xaxis": "x",
         "y": [
          120312.89848123906,
          115450.909638703,
          153092.55004392008
         ],
         "yaxis": "y"
        }
       ],
       "layout": {
        "barmode": "relative",
        "legend": {
         "tracegroupgap": 0
        },
        "plot_bgcolor": "white",
        "template": {
         "data": {
          "bar": [
           {
            "error_x": {
             "color": "#2a3f5f"
            },
            "error_y": {
             "color": "#2a3f5f"
            },
            "marker": {
             "line": {
              "color": "#E5ECF6",
              "width": 0.5
             },
             "pattern": {
              "fillmode": "overlay",
              "size": 10,
              "solidity": 0.2
             }
            },
            "type": "bar"
           }
          ],
          "barpolar": [
           {
            "marker": {
             "line": {
              "color": "#E5ECF6",
              "width": 0.5
             },
             "pattern": {
              "fillmode": "overlay",
              "size": 10,
              "solidity": 0.2
             }
            },
            "type": "barpolar"
           }
          ],
          "carpet": [
           {
            "aaxis": {
             "endlinecolor": "#2a3f5f",
             "gridcolor": "white",
             "linecolor": "white",
             "minorgridcolor": "white",
             "startlinecolor": "#2a3f5f"
            },
            "baxis": {
             "endlinecolor": "#2a3f5f",
             "gridcolor": "white",
             "linecolor": "white",
             "minorgridcolor": "white",
             "startlinecolor": "#2a3f5f"
            },
            "type": "carpet"
           }
          ],
          "choropleth": [
           {
            "colorbar": {
             "outlinewidth": 0,
             "ticks": ""
            },
            "type": "choropleth"
           }
          ],
          "contour": [
           {
            "colorbar": {
             "outlinewidth": 0,
             "ticks": ""
            },
            "colorscale": [
             [
              0,
              "#0d0887"
             ],
             [
              0.1111111111111111,
              "#46039f"
             ],
             [
              0.2222222222222222,
              "#7201a8"
             ],
             [
              0.3333333333333333,
              "#9c179e"
             ],
             [
              0.4444444444444444,
              "#bd3786"
             ],
             [
              0.5555555555555556,
              "#d8576b"
             ],
             [
              0.6666666666666666,
              "#ed7953"
             ],
             [
              0.7777777777777778,
              "#fb9f3a"
             ],
             [
              0.8888888888888888,
              "#fdca26"
             ],
             [
              1,
              "#f0f921"
             ]
            ],
            "type": "contour"
           }
          ],
          "contourcarpet": [
           {
            "colorbar": {
             "outlinewidth": 0,
             "ticks": ""
            },
            "type": "contourcarpet"
           }
          ],
          "heatmap": [
           {
            "colorbar": {
             "outlinewidth": 0,
             "ticks": ""
            },
            "colorscale": [
             [
              0,
              "#0d0887"
             ],
             [
              0.1111111111111111,
              "#46039f"
             ],
             [
              0.2222222222222222,
              "#7201a8"
             ],
             [
              0.3333333333333333,
              "#9c179e"
             ],
             [
              0.4444444444444444,
              "#bd3786"
             ],
             [
              0.5555555555555556,
              "#d8576b"
             ],
             [
              0.6666666666666666,
              "#ed7953"
             ],
             [
              0.7777777777777778,
              "#fb9f3a"
             ],
             [
              0.8888888888888888,
              "#fdca26"
             ],
             [
              1,
              "#f0f921"
             ]
            ],
            "type": "heatmap"
           }
          ],
          "heatmapgl": [
           {
            "colorbar": {
             "outlinewidth": 0,
             "ticks": ""
            },
            "colorscale": [
             [
              0,
              "#0d0887"
             ],
             [
              0.1111111111111111,
              "#46039f"
             ],
             [
              0.2222222222222222,
              "#7201a8"
             ],
             [
              0.3333333333333333,
              "#9c179e"
             ],
             [
              0.4444444444444444,
              "#bd3786"
             ],
             [
              0.5555555555555556,
              "#d8576b"
             ],
             [
              0.6666666666666666,
              "#ed7953"
             ],
             [
              0.7777777777777778,
              "#fb9f3a"
             ],
             [
              0.8888888888888888,
              "#fdca26"
             ],
             [
              1,
              "#f0f921"
             ]
            ],
            "type": "heatmapgl"
           }
          ],
          "histogram": [
           {
            "marker": {
             "pattern": {
              "fillmode": "overlay",
              "size": 10,
              "solidity": 0.2
             }
            },
            "type": "histogram"
           }
          ],
          "histogram2d": [
           {
            "colorbar": {
             "outlinewidth": 0,
             "ticks": ""
            },
            "colorscale": [
             [
              0,
              "#0d0887"
             ],
             [
              0.1111111111111111,
              "#46039f"
             ],
             [
              0.2222222222222222,
              "#7201a8"
             ],
             [
              0.3333333333333333,
              "#9c179e"
             ],
             [
              0.4444444444444444,
              "#bd3786"
             ],
             [
              0.5555555555555556,
              "#d8576b"
             ],
             [
              0.6666666666666666,
              "#ed7953"
             ],
             [
              0.7777777777777778,
              "#fb9f3a"
             ],
             [
              0.8888888888888888,
              "#fdca26"
             ],
             [
              1,
              "#f0f921"
             ]
            ],
            "type": "histogram2d"
           }
          ],
          "histogram2dcontour": [
           {
            "colorbar": {
             "outlinewidth": 0,
             "ticks": ""
            },
            "colorscale": [
             [
              0,
              "#0d0887"
             ],
             [
              0.1111111111111111,
              "#46039f"
             ],
             [
              0.2222222222222222,
              "#7201a8"
             ],
             [
              0.3333333333333333,
              "#9c179e"
             ],
             [
              0.4444444444444444,
              "#bd3786"
             ],
             [
              0.5555555555555556,
              "#d8576b"
             ],
             [
              0.6666666666666666,
              "#ed7953"
             ],
             [
              0.7777777777777778,
              "#fb9f3a"
             ],
             [
              0.8888888888888888,
              "#fdca26"
             ],
             [
              1,
              "#f0f921"
             ]
            ],
            "type": "histogram2dcontour"
           }
          ],
          "mesh3d": [
           {
            "colorbar": {
             "outlinewidth": 0,
             "ticks": ""
            },
            "type": "mesh3d"
           }
          ],
          "parcoords": [
           {
            "line": {
             "colorbar": {
              "outlinewidth": 0,
              "ticks": ""
             }
            },
            "type": "parcoords"
           }
          ],
          "pie": [
           {
            "automargin": true,
            "type": "pie"
           }
          ],
          "scatter": [
           {
            "fillpattern": {
             "fillmode": "overlay",
             "size": 10,
             "solidity": 0.2
            },
            "type": "scatter"
           }
          ],
          "scatter3d": [
           {
            "line": {
             "colorbar": {
              "outlinewidth": 0,
              "ticks": ""
             }
            },
            "marker": {
             "colorbar": {
              "outlinewidth": 0,
              "ticks": ""
             }
            },
            "type": "scatter3d"
           }
          ],
          "scattercarpet": [
           {
            "marker": {
             "colorbar": {
              "outlinewidth": 0,
              "ticks": ""
             }
            },
            "type": "scattercarpet"
           }
          ],
          "scattergeo": [
           {
            "marker": {
             "colorbar": {
              "outlinewidth": 0,
              "ticks": ""
             }
            },
            "type": "scattergeo"
           }
          ],
          "scattergl": [
           {
            "marker": {
             "colorbar": {
              "outlinewidth": 0,
              "ticks": ""
             }
            },
            "type": "scattergl"
           }
          ],
          "scattermapbox": [
           {
            "marker": {
             "colorbar": {
              "outlinewidth": 0,
              "ticks": ""
             }
            },
            "type": "scattermapbox"
           }
          ],
          "scatterpolar": [
           {
            "marker": {
             "colorbar": {
              "outlinewidth": 0,
              "ticks": ""
             }
            },
            "type": "scatterpolar"
           }
          ],
          "scatterpolargl": [
           {
            "marker": {
             "colorbar": {
              "outlinewidth": 0,
              "ticks": ""
             }
            },
            "type": "scatterpolargl"
           }
          ],
          "scatterternary": [
           {
            "marker": {
             "colorbar": {
              "outlinewidth": 0,
              "ticks": ""
             }
            },
            "type": "scatterternary"
           }
          ],
          "surface": [
           {
            "colorbar": {
             "outlinewidth": 0,
             "ticks": ""
            },
            "colorscale": [
             [
              0,
              "#0d0887"
             ],
             [
              0.1111111111111111,
              "#46039f"
             ],
             [
              0.2222222222222222,
              "#7201a8"
             ],
             [
              0.3333333333333333,
              "#9c179e"
             ],
             [
              0.4444444444444444,
              "#bd3786"
             ],
             [
              0.5555555555555556,
              "#d8576b"
             ],
             [
              0.6666666666666666,
              "#ed7953"
             ],
             [
              0.7777777777777778,
              "#fb9f3a"
             ],
             [
              0.8888888888888888,
              "#fdca26"
             ],
             [
              1,
              "#f0f921"
             ]
            ],
            "type": "surface"
           }
          ],
          "table": [
           {
            "cells": {
             "fill": {
              "color": "#EBF0F8"
             },
             "line": {
              "color": "white"
             }
            },
            "header": {
             "fill": {
              "color": "#C8D4E3"
             },
             "line": {
              "color": "white"
             }
            },
            "type": "table"
           }
          ]
         },
         "layout": {
          "annotationdefaults": {
           "arrowcolor": "#2a3f5f",
           "arrowhead": 0,
           "arrowwidth": 1
          },
          "autotypenumbers": "strict",
          "coloraxis": {
           "colorbar": {
            "outlinewidth": 0,
            "ticks": ""
           }
          },
          "colorscale": {
           "diverging": [
            [
             0,
             "#8e0152"
            ],
            [
             0.1,
             "#c51b7d"
            ],
            [
             0.2,
             "#de77ae"
            ],
            [
             0.3,
             "#f1b6da"
            ],
            [
             0.4,
             "#fde0ef"
            ],
            [
             0.5,
             "#f7f7f7"
            ],
            [
             0.6,
             "#e6f5d0"
            ],
            [
             0.7,
             "#b8e186"
            ],
            [
             0.8,
             "#7fbc41"
            ],
            [
             0.9,
             "#4d9221"
            ],
            [
             1,
             "#276419"
            ]
           ],
           "sequential": [
            [
             0,
             "#0d0887"
            ],
            [
             0.1111111111111111,
             "#46039f"
            ],
            [
             0.2222222222222222,
             "#7201a8"
            ],
            [
             0.3333333333333333,
             "#9c179e"
            ],
            [
             0.4444444444444444,
             "#bd3786"
            ],
            [
             0.5555555555555556,
             "#d8576b"
            ],
            [
             0.6666666666666666,
             "#ed7953"
            ],
            [
             0.7777777777777778,
             "#fb9f3a"
            ],
            [
             0.8888888888888888,
             "#fdca26"
            ],
            [
             1,
             "#f0f921"
            ]
           ],
           "sequentialminus": [
            [
             0,
             "#0d0887"
            ],
            [
             0.1111111111111111,
             "#46039f"
            ],
            [
             0.2222222222222222,
             "#7201a8"
            ],
            [
             0.3333333333333333,
             "#9c179e"
            ],
            [
             0.4444444444444444,
             "#bd3786"
            ],
            [
             0.5555555555555556,
             "#d8576b"
            ],
            [
             0.6666666666666666,
             "#ed7953"
            ],
            [
             0.7777777777777778,
             "#fb9f3a"
            ],
            [
             0.8888888888888888,
             "#fdca26"
            ],
            [
             1,
             "#f0f921"
            ]
           ]
          },
          "colorway": [
           "#636efa",
           "#EF553B",
           "#00cc96",
           "#ab63fa",
           "#FFA15A",
           "#19d3f3",
           "#FF6692",
           "#B6E880",
           "#FF97FF",
           "#FECB52"
          ],
          "font": {
           "color": "#2a3f5f"
          },
          "geo": {
           "bgcolor": "white",
           "lakecolor": "white",
           "landcolor": "#E5ECF6",
           "showlakes": true,
           "showland": true,
           "subunitcolor": "white"
          },
          "hoverlabel": {
           "align": "left"
          },
          "hovermode": "closest",
          "mapbox": {
           "style": "light"
          },
          "paper_bgcolor": "white",
          "plot_bgcolor": "#E5ECF6",
          "polar": {
           "angularaxis": {
            "gridcolor": "white",
            "linecolor": "white",
            "ticks": ""
           },
           "bgcolor": "#E5ECF6",
           "radialaxis": {
            "gridcolor": "white",
            "linecolor": "white",
            "ticks": ""
           }
          },
          "scene": {
           "xaxis": {
            "backgroundcolor": "#E5ECF6",
            "gridcolor": "white",
            "gridwidth": 2,
            "linecolor": "white",
            "showbackground": true,
            "ticks": "",
            "zerolinecolor": "white"
           },
           "yaxis": {
            "backgroundcolor": "#E5ECF6",
            "gridcolor": "white",
            "gridwidth": 2,
            "linecolor": "white",
            "showbackground": true,
            "ticks": "",
            "zerolinecolor": "white"
           },
           "zaxis": {
            "backgroundcolor": "#E5ECF6",
            "gridcolor": "white",
            "gridwidth": 2,
            "linecolor": "white",
            "showbackground": true,
            "ticks": "",
            "zerolinecolor": "white"
           }
          },
          "shapedefaults": {
           "line": {
            "color": "#2a3f5f"
           }
          },
          "ternary": {
           "aaxis": {
            "gridcolor": "white",
            "linecolor": "white",
            "ticks": ""
           },
           "baxis": {
            "gridcolor": "white",
            "linecolor": "white",
            "ticks": ""
           },
           "bgcolor": "#E5ECF6",
           "caxis": {
            "gridcolor": "white",
            "linecolor": "white",
            "ticks": ""
           }
          },
          "title": {
           "x": 0.05
          },
          "xaxis": {
           "automargin": true,
           "gridcolor": "white",
           "linecolor": "white",
           "ticks": "",
           "title": {
            "standoff": 15
           },
           "zerolinecolor": "white",
           "zerolinewidth": 2
          },
          "yaxis": {
           "automargin": true,
           "gridcolor": "white",
           "linecolor": "white",
           "ticks": "",
           "title": {
            "standoff": 15
           },
           "zerolinecolor": "white",
           "zerolinewidth": 2
          }
         }
        },
        "title": {
         "text": "Pb Concentration per Purification Stage"
        },
        "xaxis": {
         "anchor": "y",
         "domain": [
          0,
          1
         ],
         "linecolor": "black",
         "linewidth": 2,
         "showline": true,
         "title": {
          "text": "Stage"
         }
        },
        "yaxis": {
         "anchor": "x",
         "domain": [
          0,
          1
         ],
         "gridcolor": "black",
         "linecolor": "black",
         "linewidth": 2,
         "showgrid": true,
         "showline": true,
         "title": {
          "text": "Pb Concentration Amount"
         }
        }
       }
      }
     },
     "metadata": {},
     "output_type": "display_data"
    }
   ],
   "source": [
    "pb_bar = px.bar(pb_df, x='Stage', y='Pb Concentration Amount', title='Pb Concentration per Purification Stage', color_discrete_sequence=['black'])\n",
    "\n",
    "pb_bar.update_layout(plot_bgcolor='white', yaxis=dict(showgrid=True, gridcolor='black'))\n",
    "pb_bar.update_xaxes(showline=True, linewidth=2, linecolor='black')\n",
    "\n",
    "pb_bar.update_yaxes(showline=True, linewidth=2, linecolor='black')\n",
    "pb_bar.show()"
   ]
  },
  {
   "cell_type": "markdown",
   "metadata": {},
   "source": [
    "```Python\n",
    "# Train feed size cols\n",
    "rougher_feed_size_train = train_data['rougher.input.feed_size']\n",
    "primary_cleaner_feed_size_train = train_data['primary_cleaner.input.feed_size']\n",
    "\n",
    "# Test feed size cols\n",
    "rougher_feed_size_test = test_data['rougher.input.feed_size']\n",
    "primary_cleaner_feed_size_test = test_data['primary_cleaner.input.feed_size']\n",
    "\n",
    "\n",
    "# Create figure for plots\n",
    "plt.figure(figsize=(14, 10))\n",
    "\n",
    "# Histogram for Rougher Feed Size\n",
    "plt.subplot(2, 2, 1)\n",
    "plt.hist(rougher_feed_size_train, bins=200, alpha=0.5, label='Train', color='blue')\n",
    "plt.hist(rougher_feed_size_test, bins=200, alpha=0.5, label='Test', color='red')\n",
    "plt.legend(loc='upper right')\n",
    "plt.title('Feed Particle Size Distributions (Rougher Input)')\n",
    "plt.xlim(0, 160)\n",
    "\n",
    "# Histogram for Primary Cleaner Feed Size\n",
    "plt.subplot(2, 2, 2)\n",
    "plt.hist(primary_cleaner_feed_size_train, bins=60, alpha=0.5, label='Train', color='blue')\n",
    "plt.hist(primary_cleaner_feed_size_test, bins=60, alpha=0.5, label='Test', color='red')\n",
    "plt.legend(loc='upper right')\n",
    "plt.title('Feed Particle Size Distributions (Primary Cleaner Input)')\n",
    "\n",
    "plt.tight_layout()\n",
    "plt.show()```\n",
    "\n",
    "Looks alot better!"
   ]
  },
  {
   "cell_type": "markdown",
   "metadata": {},
   "source": [
    "\n",
    "# Train feed size cols\n",
    "rougher_feed_size_train = train_data['rougher.input.feed_size']\n",
    "primary_cleaner_feed_size_train = train_data['primary_cleaner.input.feed_size']\n",
    "\n",
    "# Test feed size cols\n",
    "rougher_feed_size_test = test_data['rougher.input.feed_size']\n",
    "primary_cleaner_feed_size_test = test_data['primary_cleaner.input.feed_size']\n",
    "\n",
    "# Create figure for plots\n",
    "plt.figure(figsize=(14, 10))\n",
    "\n",
    "# Histogram for Rougher Feed Size\n",
    "plt.subplot(2, 2, 1)\n",
    "plt.hist(rougher_feed_size_train, bins=200, alpha=0.5, label='Train', color='blue')\n",
    "plt.hist(rougher_feed_size_test, bins=200, alpha=0.5, label='Test', color='red')\n",
    "plt.legend(loc='upper right')\n",
    "plt.title('Feed Particle Size Distributions (Rougher Input)')\n",
    "plt.xlim(0, 160)"
   ]
  },
  {
   "cell_type": "markdown",
   "metadata": {},
   "source": [
    "Sure, let's create a simple example using Plotly Express to display two histograms on the same chart. Plotly Express allows us to easily create and customize visualizations, including multiple histograms in one plot.\n",
    "\n",
    "Here’s a basic guide:\n",
    "\n",
    "1. **Import the necessary libraries**: You will need to import Plotly Express and a data manipulation library like Pandas.\n",
    "\n",
    "2. **Prepare your data**: You should have your data ready. For this example, we'll use random data.\n",
    "\n",
    "3. **Create the histograms**: Use `px.histogram()` and the `color` argument to differentiate between the two histograms.\n",
    "\n",
    "Here’s a sample code:\n",
    "\n",
    "```python\n",
    "import plotly.express as px\n",
    "import pandas as pd\n",
    "import numpy as np\n",
    "\n",
    "# Generate random data\n",
    "np.random.seed(42)  # For reproducibility\n",
    "data = pd.DataFrame({\n",
    "    'Value': np.concatenate([np.random.normal(loc=0, scale=1, size=500), np.random.normal(loc=3, scale=1, size=500)]),\n",
    "    'Category': ['Category 1']*500 + ['Category 2']*500\n",
    "})\n",
    "\n",
    "# Create the histogram\n",
    "fig = px.histogram(data, x='Value', color='Category', barmode='overlay', opacity=0.7, title='Overlay of Two Histograms')\n",
    "\n",
    "# Show the plot\n",
    "fig.show()\n",
    "```\n",
    "\n",
    "### Key Points:\n",
    "- **`barmode='overlay'`**: This overlays the histograms on top of each other. You can also use `'group'` to display them side by side.\n",
    "- **`opacity`**: Adjusts the transparency, allowing you to see overlapping areas more clearly.\n",
    "- **`color`**: Differentiates the histograms based on the column specified.\n",
    "\n",
    "Try running this code with your dataset, and you can adjust the parameters as needed for your particular data and visualization preferences. Let me know if you have any specific questions!"
   ]
  },
  {
   "cell_type": "markdown",
   "metadata": {},
   "source": [
    "plt.subplot(2, 2, 1)\n",
    "plt.hist(rougher_feed_size_train, bins=200, alpha=0.5, label='Train', color='blue')\n",
    "plt.hist(rougher_feed_size_test, bins=200, alpha=0.5, label='Test', color='red')\n",
    "plt.legend(loc='upper right')\n",
    "plt.title('Feed Particle Size Distributions (Rougher Input)')\n",
    "plt.xlim(0, 160)"
   ]
  },
  {
   "cell_type": "code",
   "execution_count": 223,
   "metadata": {},
   "outputs": [
    {
     "data": {
      "image/png": "[encoded data removed]",
      "text/plain": [
       "<Figure size 1400x1000 with 1 Axes>"
      ]
     },
     "metadata": {},
     "output_type": "display_data"
    }
   ],
   "source": [
    "r_feed_train = data_train['rougher.input.feed_size']\n",
    "pc_feed_train = data_train['primary_cleaner.input.feed_size']\n",
    "\n",
    "r_feed_test = data_test['rougher.input.feed_size']\n",
    "pc_feed_test = data_test['primary_cleaner.input.feed_size']\n",
    "\n",
    "plt.figure(figsize=(14, 10))\n",
    "plt.subplot(2, 2, 1)\n",
    "plt.hist(r_feed_train, bins=200, alpha=0.5, label='Train', color='red')\n",
    "plt.hist(r_feed_test, bins=200, alpha=0.5, label='Test', color='blue')\n",
    "plt.legend(loc='upper right')\n",
    "\n",
    "plt.xlim(0, 160)\n",
    "\n",
    "plt.tight_layout\n",
    "plt.show()"
   ]
  },
  {
   "cell_type": "code",
   "execution_count": 224,
   "metadata": {},
   "outputs": [
    {
     "data": {
      "image/png": "[encoded data removed]",
      "text/plain": [
       "<Figure size 1400x1000 with 1 Axes>"
      ]
     },
     "metadata": {},
     "output_type": "display_data"
    }
   ],
   "source": [
    "plt.figure(figsize=(14, 10))\n",
    "plt.subplot(2, 2, 2)\n",
    "plt.hist(pc_feed_train, bins=200, alpha=0.5, label='Train', color='red')\n",
    "plt.hist(pc_feed_test, bins=200, alpha=0.5, label='Test', color='blue')\n",
    "plt.legend(loc='upper right')\n",
    "\n",
    "plt.xlim(0, 12.5)\n",
    "\n",
    "plt.tight_layout()\n",
    "plt.show()"
   ]
  },
  {
   "cell_type": "code",
   "execution_count": 225,
   "metadata": {},
   "outputs": [],
   "source": [
    "data_train = data_train[(data_train['rougher.input.feed_size'] < 0) | (data_train['rougher.input.feed_size'] > 15) & (data_train['rougher.input.feed_size'] <= 150)]\n",
    "r_feed_train_2 = data_train['rougher.input.feed_size']\n",
    "\n",
    "data_test = data_test[(data_test['rougher.input.feed_size'] < 0) | (data_test['rougher.input.feed_size'] > 15) & (data_test['rougher.input.feed_size'] <= 150)]\n",
    "r_feed_test_2 = data_test['rougher.input.feed_size']"
   ]
  },
  {
   "cell_type": "code",
   "execution_count": 226,
   "metadata": {},
   "outputs": [
    {
     "data": {
      "image/png": "[encoded data removed]",
      "text/plain": [
       "<Figure size 1400x1000 with 1 Axes>"
      ]
     },
     "metadata": {},
     "output_type": "display_data"
    }
   ],
   "source": [
    "plt.figure(figsize=(14, 10))\n",
    "plt.subplot(2, 2, 1)\n",
    "plt.hist(r_feed_train_2, bins=200, alpha=0.5, label='Train', color='red')\n",
    "plt.hist(r_feed_test_2, bins=200, alpha=0.5, label='Test', color='blue')\n",
    "plt.legend(loc='upper right')\n",
    "\n",
    "plt.xlim(0, 150)\n",
    "\n",
    "plt.tight_layout\n",
    "plt.show()"
   ]
  },
  {
   "cell_type": "code",
   "execution_count": 227,
   "metadata": {},
   "outputs": [],
   "source": [
    "data_train = data_train[(data_train['primary_cleaner.input.feed_size'] < 0) |  (data_train['primary_cleaner.input.feed_size'] > 5.7)]\n",
    "pc_feed_train_2 = data_train['primary_cleaner.input.feed_size']\n",
    "\n",
    "data_test = data_test[(data_test['primary_cleaner.input.feed_size'] < 0) |  (data_test['primary_cleaner.input.feed_size'] > 5.7)]\n",
    "pc_feed_test_2 = data_test['primary_cleaner.input.feed_size']"
   ]
  },
  {
   "cell_type": "code",
   "execution_count": 228,
   "metadata": {},
   "outputs": [
    {
     "data": {
      "image/png": "[encoded data removed]",
      "text/plain": [
       "<Figure size 1400x1000 with 1 Axes>"
      ]
     },
     "metadata": {},
     "output_type": "display_data"
    }
   ],
   "source": [
    "plt.figure(figsize=(14, 10))\n",
    "plt.subplot(2, 2, 2)\n",
    "plt.hist(pc_feed_train_2, bins=200, alpha=0.5, label='Train', color='red')\n",
    "plt.hist(pc_feed_test_2, bins=200, alpha=0.5, label='Test', color='blue')\n",
    "plt.legend(loc='upper right')\n",
    "\n",
    "plt.xlim(0, 12.5)\n",
    "\n",
    "plt.tight_layout()\n",
    "plt.show()"
   ]
  },
  {
   "cell_type": "code",
   "execution_count": 229,
   "metadata": {},
   "outputs": [],
   "source": [
    "#This is the correct answer.\n",
    "def smape(y_true, y_pred):\n",
    "    n = len(y_true)\n",
    "    smape_values = []\n",
    "    for actual, predicted in zip(y_true, y_pred):\n",
    "        numerator = abs(actual - predicted)\n",
    "        denominator = (abs(actual) + abs(predicted)) / 2\n",
    "        smape_values.append(numerator / denominator if denominator != 0 else 0.0)\n",
    "    return (100 / n) * sum(smape_values)\n",
    "\n",
    "def final_smape(rougher_smape, final_smape):\n",
    "    final = 0.25 * rougher_smape + 0.75 * final_smape \n",
    "    return final"
   ]
  },
  {
   "cell_type": "code",
   "execution_count": 230,
   "metadata": {},
   "outputs": [],
   "source": [
    "def final_smape(rougher_smape, final_smape):\n",
    "    final = 0.25 * rougher_smape + 0.75 * final_smape \n",
    "    return final"
   ]
  },
  {
   "cell_type": "code",
   "execution_count": 231,
   "metadata": {},
   "outputs": [
    {
     "data": {
      "text/html": [
       "<div>\n",
       "<style scoped>\n",
       "    .dataframe tbody tr th:only-of-type {\n",
       "        vertical-align: middle;\n",
       "    }\n",
       "\n",
       "    .dataframe tbody tr th {\n",
       "        vertical-align: top;\n",
       "    }\n",
       "\n",
       "    .dataframe thead th {\n",
       "        text-align: right;\n",
       "    }\n",
       "</style>\n",
       "<table border=\"1\" class=\"dataframe\">\n",
       "  <thead>\n",
       "    <tr style=\"text-align: right;\">\n",
       "      <th></th>\n",
       "      <th>date</th>\n",
       "      <th>final.output.concentrate_ag</th>\n",
       "      <th>final.output.concentrate_pb</th>\n",
       "      <th>final.output.concentrate_sol</th>\n",
       "      <th>final.output.concentrate_au</th>\n",
       "      <th>final.output.recovery</th>\n",
       "      <th>final.output.tail_ag</th>\n",
       "      <th>final.output.tail_pb</th>\n",
       "      <th>final.output.tail_sol</th>\n",
       "      <th>final.output.tail_au</th>\n",
       "      <th>...</th>\n",
       "      <th>secondary_cleaner.state.floatbank4_a_level</th>\n",
       "      <th>secondary_cleaner.state.floatbank4_b_air</th>\n",
       "      <th>secondary_cleaner.state.floatbank4_b_level</th>\n",
       "      <th>secondary_cleaner.state.floatbank5_a_air</th>\n",
       "      <th>secondary_cleaner.state.floatbank5_a_level</th>\n",
       "      <th>secondary_cleaner.state.floatbank5_b_air</th>\n",
       "      <th>secondary_cleaner.state.floatbank5_b_level</th>\n",
       "      <th>secondary_cleaner.state.floatbank6_a_air</th>\n",
       "      <th>secondary_cleaner.state.floatbank6_a_level</th>\n",
       "      <th>calculated_recovery</th>\n",
       "    </tr>\n",
       "  </thead>\n",
       "  <tbody>\n",
       "    <tr>\n",
       "      <th>0</th>\n",
       "      <td>2016-01-15 00:00:00</td>\n",
       "      <td>6.055403</td>\n",
       "      <td>9.889648</td>\n",
       "      <td>5.507324</td>\n",
       "      <td>42.192020</td>\n",
       "      <td>70.541216</td>\n",
       "      <td>10.411962</td>\n",
       "      <td>0.895447</td>\n",
       "      <td>16.904297</td>\n",
       "      <td>2.143149</td>\n",
       "      <td>...</td>\n",
       "      <td>-502.488007</td>\n",
       "      <td>12.099931</td>\n",
       "      <td>-504.715942</td>\n",
       "      <td>9.925633</td>\n",
       "      <td>-498.310211</td>\n",
       "      <td>8.079666</td>\n",
       "      <td>-500.470978</td>\n",
       "      <td>14.151341</td>\n",
       "      <td>-605.841980</td>\n",
       "      <td>87.107763</td>\n",
       "    </tr>\n",
       "    <tr>\n",
       "      <th>1</th>\n",
       "      <td>2016-01-15 01:00:00</td>\n",
       "      <td>6.029369</td>\n",
       "      <td>9.968944</td>\n",
       "      <td>5.257781</td>\n",
       "      <td>42.701629</td>\n",
       "      <td>69.266198</td>\n",
       "      <td>10.462676</td>\n",
       "      <td>0.927452</td>\n",
       "      <td>16.634514</td>\n",
       "      <td>2.224930</td>\n",
       "      <td>...</td>\n",
       "      <td>-505.503262</td>\n",
       "      <td>11.950531</td>\n",
       "      <td>-501.331529</td>\n",
       "      <td>10.039245</td>\n",
       "      <td>-500.169983</td>\n",
       "      <td>7.984757</td>\n",
       "      <td>-500.582168</td>\n",
       "      <td>13.998353</td>\n",
       "      <td>-599.787184</td>\n",
       "      <td>86.843261</td>\n",
       "    </tr>\n",
       "    <tr>\n",
       "      <th>2</th>\n",
       "      <td>2016-01-15 02:00:00</td>\n",
       "      <td>6.055926</td>\n",
       "      <td>10.213995</td>\n",
       "      <td>5.383759</td>\n",
       "      <td>42.657501</td>\n",
       "      <td>68.116445</td>\n",
       "      <td>10.507046</td>\n",
       "      <td>0.953716</td>\n",
       "      <td>16.208849</td>\n",
       "      <td>2.257889</td>\n",
       "      <td>...</td>\n",
       "      <td>-502.520901</td>\n",
       "      <td>11.912783</td>\n",
       "      <td>-501.133383</td>\n",
       "      <td>10.070913</td>\n",
       "      <td>-500.129135</td>\n",
       "      <td>8.013877</td>\n",
       "      <td>-500.517572</td>\n",
       "      <td>14.028663</td>\n",
       "      <td>-601.427363</td>\n",
       "      <td>86.842308</td>\n",
       "    </tr>\n",
       "    <tr>\n",
       "      <th>3</th>\n",
       "      <td>2016-01-15 03:00:00</td>\n",
       "      <td>6.047977</td>\n",
       "      <td>9.977019</td>\n",
       "      <td>4.858634</td>\n",
       "      <td>42.689819</td>\n",
       "      <td>68.347543</td>\n",
       "      <td>10.422762</td>\n",
       "      <td>0.883763</td>\n",
       "      <td>16.532835</td>\n",
       "      <td>2.146849</td>\n",
       "      <td>...</td>\n",
       "      <td>-500.857308</td>\n",
       "      <td>11.999550</td>\n",
       "      <td>-501.193686</td>\n",
       "      <td>9.970366</td>\n",
       "      <td>-499.201640</td>\n",
       "      <td>7.977324</td>\n",
       "      <td>-500.255908</td>\n",
       "      <td>14.005551</td>\n",
       "      <td>-599.996129</td>\n",
       "      <td>87.226430</td>\n",
       "    </tr>\n",
       "    <tr>\n",
       "      <th>4</th>\n",
       "      <td>2016-01-15 04:00:00</td>\n",
       "      <td>6.148599</td>\n",
       "      <td>10.142511</td>\n",
       "      <td>4.939416</td>\n",
       "      <td>42.774141</td>\n",
       "      <td>66.927016</td>\n",
       "      <td>10.360302</td>\n",
       "      <td>0.792826</td>\n",
       "      <td>16.525686</td>\n",
       "      <td>2.055292</td>\n",
       "      <td>...</td>\n",
       "      <td>-499.838632</td>\n",
       "      <td>11.953070</td>\n",
       "      <td>-501.053894</td>\n",
       "      <td>9.925709</td>\n",
       "      <td>-501.686727</td>\n",
       "      <td>7.894242</td>\n",
       "      <td>-500.356035</td>\n",
       "      <td>13.996647</td>\n",
       "      <td>-601.496691</td>\n",
       "      <td>86.688794</td>\n",
       "    </tr>\n",
       "  </tbody>\n",
       "</table>\n",
       "<p>5 rows × 88 columns</p>\n",
       "</div>"
      ],
      "text/plain": [
       "                 date  final.output.concentrate_ag  \\\n",
       "0 2016-01-15 00:00:00                     6.055403   \n",
       "1 2016-01-15 01:00:00                     6.029369   \n",
       "2 2016-01-15 02:00:00                     6.055926   \n",
       "3 2016-01-15 03:00:00                     6.047977   \n",
       "4 2016-01-15 04:00:00                     6.148599   \n",
       "\n",
       "   final.output.concentrate_pb  final.output.concentrate_sol  \\\n",
       "0                     9.889648                      5.507324   \n",
       "1                     9.968944                      5.257781   \n",
       "2                    10.213995                      5.383759   \n",
       "3                     9.977019                      4.858634   \n",
       "4                    10.142511                      4.939416   \n",
       "\n",
       "   final.output.concentrate_au  final.output.recovery  final.output.tail_ag  \\\n",
       "0                    42.192020              70.541216             10.411962   \n",
       "1                    42.701629              69.266198             10.462676   \n",
       "2                    42.657501              68.116445             10.507046   \n",
       "3                    42.689819              68.347543             10.422762   \n",
       "4                    42.774141              66.927016             10.360302   \n",
       "\n",
       "   final.output.tail_pb  final.output.tail_sol  final.output.tail_au  ...  \\\n",
       "0              0.895447              16.904297              2.143149  ...   \n",
       "1              0.927452              16.634514              2.224930  ...   \n",
       "2              0.953716              16.208849              2.257889  ...   \n",
       "3              0.883763              16.532835              2.146849  ...   \n",
       "4              0.792826              16.525686              2.055292  ...   \n",
       "\n",
       "   secondary_cleaner.state.floatbank4_a_level  \\\n",
       "0                                 -502.488007   \n",
       "1                                 -505.503262   \n",
       "2                                 -502.520901   \n",
       "3                                 -500.857308   \n",
       "4                                 -499.838632   \n",
       "\n",
       "   secondary_cleaner.state.floatbank4_b_air  \\\n",
       "0                                 12.099931   \n",
       "1                                 11.950531   \n",
       "2                                 11.912783   \n",
       "3                                 11.999550   \n",
       "4                                 11.953070   \n",
       "\n",
       "   secondary_cleaner.state.floatbank4_b_level  \\\n",
       "0                                 -504.715942   \n",
       "1                                 -501.331529   \n",
       "2                                 -501.133383   \n",
       "3                                 -501.193686   \n",
       "4                                 -501.053894   \n",
       "\n",
       "   secondary_cleaner.state.floatbank5_a_air  \\\n",
       "0                                  9.925633   \n",
       "1                                 10.039245   \n",
       "2                                 10.070913   \n",
       "3                                  9.970366   \n",
       "4                                  9.925709   \n",
       "\n",
       "   secondary_cleaner.state.floatbank5_a_level  \\\n",
       "0                                 -498.310211   \n",
       "1                                 -500.169983   \n",
       "2                                 -500.129135   \n",
       "3                                 -499.201640   \n",
       "4                                 -501.686727   \n",
       "\n",
       "   secondary_cleaner.state.floatbank5_b_air  \\\n",
       "0                                  8.079666   \n",
       "1                                  7.984757   \n",
       "2                                  8.013877   \n",
       "3                                  7.977324   \n",
       "4                                  7.894242   \n",
       "\n",
       "   secondary_cleaner.state.floatbank5_b_level  \\\n",
       "0                                 -500.470978   \n",
       "1                                 -500.582168   \n",
       "2                                 -500.517572   \n",
       "3                                 -500.255908   \n",
       "4                                 -500.356035   \n",
       "\n",
       "   secondary_cleaner.state.floatbank6_a_air  \\\n",
       "0                                 14.151341   \n",
       "1                                 13.998353   \n",
       "2                                 14.028663   \n",
       "3                                 14.005551   \n",
       "4                                 13.996647   \n",
       "\n",
       "   secondary_cleaner.state.floatbank6_a_level  calculated_recovery  \n",
       "0                                 -605.841980            87.107763  \n",
       "1                                 -599.787184            86.843261  \n",
       "2                                 -601.427363            86.842308  \n",
       "3                                 -599.996129            87.226430  \n",
       "4                                 -601.496691            86.688794  \n",
       "\n",
       "[5 rows x 88 columns]"
      ]
     },
     "execution_count": 231,
     "metadata": {},
     "output_type": "execute_result"
    }
   ],
   "source": [
    "data_train.head()"
   ]
  },
  {
   "cell_type": "code",
   "execution_count": 232,
   "metadata": {},
   "outputs": [],
   "source": [
    "state = np.random.RandomState(12345)"
   ]
  },
  {
   "cell_type": "code",
   "execution_count": 233,
   "metadata": {},
   "outputs": [],
   "source": [
    "x = dt_clean.drop(['date', 'final.output.concentrate_au'], axis=1)\n",
    "y = dt_clean['final.output.concentrate_au']"
   ]
  },
  {
   "cell_type": "code",
   "execution_count": 234,
   "metadata": {},
   "outputs": [],
   "source": [
    "x_train, x_valid, y_train, y_valid = train_test_split(x, y, test_size=0.25, random_state=state)"
   ]
  },
  {
   "cell_type": "markdown",
   "metadata": {},
   "source": [
    "#### Linear Regression Model"
   ]
  },
  {
   "cell_type": "code",
   "execution_count": 235,
   "metadata": {},
   "outputs": [],
   "source": [
    "lr = Pipeline([('scaler', StandardScaler()), ('regressor', LinearRegression())])"
   ]
  },
  {
   "cell_type": "code",
   "execution_count": 236,
   "metadata": {},
   "outputs": [],
   "source": [
    "lr_param_grid = {'scaler__with_mean': [True, False], 'scaler__with_std': [True, False]}"
   ]
  },
  {
   "cell_type": "markdown",
   "metadata": {},
   "source": [
    "\n",
    "r0_lr_rsearch = RandomizedSearchCV(estimator=r0_model, param_distributions=param_grid, n_iter=10, cv=5, random_state=12345, n_jobs=1)"
   ]
  },
  {
   "cell_type": "code",
   "execution_count": 237,
   "metadata": {},
   "outputs": [
    {
     "name": "stderr",
     "output_type": "stream",
     "text": [
      "c:\\Users\\HP\\anaconda3\\Lib\\site-packages\\sklearn\\model_selection\\_search.py:320: UserWarning:\n",
      "\n",
      "The total space of parameters 4 is smaller than n_iter=10. Running 4 iterations. For exhaustive searches, use GridSearchCV.\n",
      "\n"
     ]
    },
    {
     "data": {
      "text/html": [
       "<style>#sk-container-id-3 {\n",
       "  /* Definition of color scheme common for light and dark mode */\n",
       "  --sklearn-color-text: black;\n",
       "  --sklearn-color-line: gray;\n",
       "  /* Definition of color scheme for unfitted estimators */\n",
       "  --sklearn-color-unfitted-level-0: #fff5e6;\n",
       "  --sklearn-color-unfitted-level-1: #f6e4d2;\n",
       "  --sklearn-color-unfitted-level-2: #ffe0b3;\n",
       "  --sklearn-color-unfitted-level-3: chocolate;\n",
       "  /* Definition of color scheme for fitted estimators */\n",
       "  --sklearn-color-fitted-level-0: #f0f8ff;\n",
       "  --sklearn-color-fitted-level-1: #d4ebff;\n",
       "  --sklearn-color-fitted-level-2: #b3dbfd;\n",
       "  --sklearn-color-fitted-level-3: cornflowerblue;\n",
       "\n",
       "  /* Specific color for light theme */\n",
       "  --sklearn-color-text-on-default-background: var(--sg-text-color, var(--theme-code-foreground, var(--jp-content-font-color1, black)));\n",
       "  --sklearn-color-background: var(--sg-background-color, var(--theme-background, var(--jp-layout-color0, white)));\n",
       "  --sklearn-color-border-box: var(--sg-text-color, var(--theme-code-foreground, var(--jp-content-font-color1, black)));\n",
       "  --sklearn-color-icon: #696969;\n",
       "\n",
       "  @media (prefers-color-scheme: dark) {\n",
       "    /* Redefinition of color scheme for dark theme */\n",
       "    --sklearn-color-text-on-default-background: var(--sg-text-color, var(--theme-code-foreground, var(--jp-content-font-color1, white)));\n",
       "    --sklearn-color-background: var(--sg-background-color, var(--theme-background, var(--jp-layout-color0, #111)));\n",
       "    --sklearn-color-border-box: var(--sg-text-color, var(--theme-code-foreground, var(--jp-content-font-color1, white)));\n",
       "    --sklearn-color-icon: #878787;\n",
       "  }\n",
       "}\n",
       "\n",
       "#sk-container-id-3 {\n",
       "  color: var(--sklearn-color-text);\n",
       "}\n",
       "\n",
       "#sk-container-id-3 pre {\n",
       "  padding: 0;\n",
       "}\n",
       "\n",
       "#sk-container-id-3 input.sk-hidden--visually {\n",
       "  border: 0;\n",
       "  clip: rect(1px 1px 1px 1px);\n",
       "  clip: rect(1px, 1px, 1px, 1px);\n",
       "  height: 1px;\n",
       "  margin: -1px;\n",
       "  overflow: hidden;\n",
       "  padding: 0;\n",
       "  position: absolute;\n",
       "  width: 1px;\n",
       "}\n",
       "\n",
       "#sk-container-id-3 div.sk-dashed-wrapped {\n",
       "  border: 1px dashed var(--sklearn-color-line);\n",
       "  margin: 0 0.4em 0.5em 0.4em;\n",
       "  box-sizing: border-box;\n",
       "  padding-bottom: 0.4em;\n",
       "  background-color: var(--sklearn-color-background);\n",
       "}\n",
       "\n",
       "#sk-container-id-3 div.sk-container {\n",
       "  /* jupyter's `normalize.less` sets `[hidden] { display: none; }`\n",
       "     but bootstrap.min.css set `[hidden] { display: none !important; }`\n",
       "     so we also need the `!important` here to be able to override the\n",
       "     default hidden behavior on the sphinx rendered scikit-learn.org.\n",
       "     See: https://github.com/scikit-learn/scikit-learn/issues/21755 */\n",
       "  display: inline-block !important;\n",
       "  position: relative;\n",
       "}\n",
       "\n",
       "#sk-container-id-3 div.sk-text-repr-fallback {\n",
       "  display: none;\n",
       "}\n",
       "\n",
       "div.sk-parallel-item,\n",
       "div.sk-serial,\n",
       "div.sk-item {\n",
       "  /* draw centered vertical line to link estimators */\n",
       "  background-image: linear-gradient(var(--sklearn-color-text-on-default-background), var(--sklearn-color-text-on-default-background));\n",
       "  background-size: 2px 100%;\n",
       "  background-repeat: no-repeat;\n",
       "  background-position: center center;\n",
       "}\n",
       "\n",
       "/* Parallel-specific style estimator block */\n",
       "\n",
       "#sk-container-id-3 div.sk-parallel-item::after {\n",
       "  content: \"\";\n",
       "  width: 100%;\n",
       "  border-bottom: 2px solid var(--sklearn-color-text-on-default-background);\n",
       "  flex-grow: 1;\n",
       "}\n",
       "\n",
       "#sk-container-id-3 div.sk-parallel {\n",
       "  display: flex;\n",
       "  align-items: stretch;\n",
       "  justify-content: center;\n",
       "  background-color: var(--sklearn-color-background);\n",
       "  position: relative;\n",
       "}\n",
       "\n",
       "#sk-container-id-3 div.sk-parallel-item {\n",
       "  display: flex;\n",
       "  flex-direction: column;\n",
       "}\n",
       "\n",
       "#sk-container-id-3 div.sk-parallel-item:first-child::after {\n",
       "  align-self: flex-end;\n",
       "  width: 50%;\n",
       "}\n",
       "\n",
       "#sk-container-id-3 div.sk-parallel-item:last-child::after {\n",
       "  align-self: flex-start;\n",
       "  width: 50%;\n",
       "}\n",
       "\n",
       "#sk-container-id-3 div.sk-parallel-item:only-child::after {\n",
       "  width: 0;\n",
       "}\n",
       "\n",
       "/* Serial-specific style estimator block */\n",
       "\n",
       "#sk-container-id-3 div.sk-serial {\n",
       "  display: flex;\n",
       "  flex-direction: column;\n",
       "  align-items: center;\n",
       "  background-color: var(--sklearn-color-background);\n",
       "  padding-right: 1em;\n",
       "  padding-left: 1em;\n",
       "}\n",
       "\n",
       "\n",
       "/* Toggleable style: style used for estimator/Pipeline/ColumnTransformer box that is\n",
       "clickable and can be expanded/collapsed.\n",
       "- Pipeline and ColumnTransformer use this feature and define the default style\n",
       "- Estimators will overwrite some part of the style using the `sk-estimator` class\n",
       "*/\n",
       "\n",
       "/* Pipeline and ColumnTransformer style (default) */\n",
       "\n",
       "#sk-container-id-3 div.sk-toggleable {\n",
       "  /* Default theme specific background. It is overwritten whether we have a\n",
       "  specific estimator or a Pipeline/ColumnTransformer */\n",
       "  background-color: var(--sklearn-color-background);\n",
       "}\n",
       "\n",
       "/* Toggleable label */\n",
       "#sk-container-id-3 label.sk-toggleable__label {\n",
       "  cursor: pointer;\n",
       "  display: block;\n",
       "  width: 100%;\n",
       "  margin-bottom: 0;\n",
       "  padding: 0.5em;\n",
       "  box-sizing: border-box;\n",
       "  text-align: center;\n",
       "}\n",
       "\n",
       "#sk-container-id-3 label.sk-toggleable__label-arrow:before {\n",
       "  /* Arrow on the left of the label */\n",
       "  content: \"▸\";\n",
       "  float: left;\n",
       "  margin-right: 0.25em;\n",
       "  color: var(--sklearn-color-icon);\n",
       "}\n",
       "\n",
       "#sk-container-id-3 label.sk-toggleable__label-arrow:hover:before {\n",
       "  color: var(--sklearn-color-text);\n",
       "}\n",
       "\n",
       "/* Toggleable content - dropdown */\n",
       "\n",
       "#sk-container-id-3 div.sk-toggleable__content {\n",
       "  max-height: 0;\n",
       "  max-width: 0;\n",
       "  overflow: hidden;\n",
       "  text-align: left;\n",
       "  /* unfitted */\n",
       "  background-color: var(--sklearn-color-unfitted-level-0);\n",
       "}\n",
       "\n",
       "#sk-container-id-3 div.sk-toggleable__content.fitted {\n",
       "  /* fitted */\n",
       "  background-color: var(--sklearn-color-fitted-level-0);\n",
       "}\n",
       "\n",
       "#sk-container-id-3 div.sk-toggleable__content pre {\n",
       "  margin: 0.2em;\n",
       "  border-radius: 0.25em;\n",
       "  color: var(--sklearn-color-text);\n",
       "  /* unfitted */\n",
       "  background-color: var(--sklearn-color-unfitted-level-0);\n",
       "}\n",
       "\n",
       "#sk-container-id-3 div.sk-toggleable__content.fitted pre {\n",
       "  /* unfitted */\n",
       "  background-color: var(--sklearn-color-fitted-level-0);\n",
       "}\n",
       "\n",
       "#sk-container-id-3 input.sk-toggleable__control:checked~div.sk-toggleable__content {\n",
       "  /* Expand drop-down */\n",
       "  max-height: 200px;\n",
       "  max-width: 100%;\n",
       "  overflow: auto;\n",
       "}\n",
       "\n",
       "#sk-container-id-3 input.sk-toggleable__control:checked~label.sk-toggleable__label-arrow:before {\n",
       "  content: \"▾\";\n",
       "}\n",
       "\n",
       "/* Pipeline/ColumnTransformer-specific style */\n",
       "\n",
       "#sk-container-id-3 div.sk-label input.sk-toggleable__control:checked~label.sk-toggleable__label {\n",
       "  color: var(--sklearn-color-text);\n",
       "  background-color: var(--sklearn-color-unfitted-level-2);\n",
       "}\n",
       "\n",
       "#sk-container-id-3 div.sk-label.fitted input.sk-toggleable__control:checked~label.sk-toggleable__label {\n",
       "  background-color: var(--sklearn-color-fitted-level-2);\n",
       "}\n",
       "\n",
       "/* Estimator-specific style */\n",
       "\n",
       "/* Colorize estimator box */\n",
       "#sk-container-id-3 div.sk-estimator input.sk-toggleable__control:checked~label.sk-toggleable__label {\n",
       "  /* unfitted */\n",
       "  background-color: var(--sklearn-color-unfitted-level-2);\n",
       "}\n",
       "\n",
       "#sk-container-id-3 div.sk-estimator.fitted input.sk-toggleable__control:checked~label.sk-toggleable__label {\n",
       "  /* fitted */\n",
       "  background-color: var(--sklearn-color-fitted-level-2);\n",
       "}\n",
       "\n",
       "#sk-container-id-3 div.sk-label label.sk-toggleable__label,\n",
       "#sk-container-id-3 div.sk-label label {\n",
       "  /* The background is the default theme color */\n",
       "  color: var(--sklearn-color-text-on-default-background);\n",
       "}\n",
       "\n",
       "/* On hover, darken the color of the background */\n",
       "#sk-container-id-3 div.sk-label:hover label.sk-toggleable__label {\n",
       "  color: var(--sklearn-color-text);\n",
       "  background-color: var(--sklearn-color-unfitted-level-2);\n",
       "}\n",
       "\n",
       "/* Label box, darken color on hover, fitted */\n",
       "#sk-container-id-3 div.sk-label.fitted:hover label.sk-toggleable__label.fitted {\n",
       "  color: var(--sklearn-color-text);\n",
       "  background-color: var(--sklearn-color-fitted-level-2);\n",
       "}\n",
       "\n",
       "/* Estimator label */\n",
       "\n",
       "#sk-container-id-3 div.sk-label label {\n",
       "  font-family: monospace;\n",
       "  font-weight: bold;\n",
       "  display: inline-block;\n",
       "  line-height: 1.2em;\n",
       "}\n",
       "\n",
       "#sk-container-id-3 div.sk-label-container {\n",
       "  text-align: center;\n",
       "}\n",
       "\n",
       "/* Estimator-specific */\n",
       "#sk-container-id-3 div.sk-estimator {\n",
       "  font-family: monospace;\n",
       "  border: 1px dotted var(--sklearn-color-border-box);\n",
       "  border-radius: 0.25em;\n",
       "  box-sizing: border-box;\n",
       "  margin-bottom: 0.5em;\n",
       "  /* unfitted */\n",
       "  background-color: var(--sklearn-color-unfitted-level-0);\n",
       "}\n",
       "\n",
       "#sk-container-id-3 div.sk-estimator.fitted {\n",
       "  /* fitted */\n",
       "  background-color: var(--sklearn-color-fitted-level-0);\n",
       "}\n",
       "\n",
       "/* on hover */\n",
       "#sk-container-id-3 div.sk-estimator:hover {\n",
       "  /* unfitted */\n",
       "  background-color: var(--sklearn-color-unfitted-level-2);\n",
       "}\n",
       "\n",
       "#sk-container-id-3 div.sk-estimator.fitted:hover {\n",
       "  /* fitted */\n",
       "  background-color: var(--sklearn-color-fitted-level-2);\n",
       "}\n",
       "\n",
       "/* Specification for estimator info (e.g. \"i\" and \"?\") */\n",
       "\n",
       "/* Common style for \"i\" and \"?\" */\n",
       "\n",
       ".sk-estimator-doc-link,\n",
       "a:link.sk-estimator-doc-link,\n",
       "a:visited.sk-estimator-doc-link {\n",
       "  float: right;\n",
       "  font-size: smaller;\n",
       "  line-height: 1em;\n",
       "  font-family: monospace;\n",
       "  background-color: var(--sklearn-color-background);\n",
       "  border-radius: 1em;\n",
       "  height: 1em;\n",
       "  width: 1em;\n",
       "  text-decoration: none !important;\n",
       "  margin-left: 1ex;\n",
       "  /* unfitted */\n",
       "  border: var(--sklearn-color-unfitted-level-1) 1pt solid;\n",
       "  color: var(--sklearn-color-unfitted-level-1);\n",
       "}\n",
       "\n",
       ".sk-estimator-doc-link.fitted,\n",
       "a:link.sk-estimator-doc-link.fitted,\n",
       "a:visited.sk-estimator-doc-link.fitted {\n",
       "  /* fitted */\n",
       "  border: var(--sklearn-color-fitted-level-1) 1pt solid;\n",
       "  color: var(--sklearn-color-fitted-level-1);\n",
       "}\n",
       "\n",
       "/* On hover */\n",
       "div.sk-estimator:hover .sk-estimator-doc-link:hover,\n",
       ".sk-estimator-doc-link:hover,\n",
       "div.sk-label-container:hover .sk-estimator-doc-link:hover,\n",
       ".sk-estimator-doc-link:hover {\n",
       "  /* unfitted */\n",
       "  background-color: var(--sklearn-color-unfitted-level-3);\n",
       "  color: var(--sklearn-color-background);\n",
       "  text-decoration: none;\n",
       "}\n",
       "\n",
       "div.sk-estimator.fitted:hover .sk-estimator-doc-link.fitted:hover,\n",
       ".sk-estimator-doc-link.fitted:hover,\n",
       "div.sk-label-container:hover .sk-estimator-doc-link.fitted:hover,\n",
       ".sk-estimator-doc-link.fitted:hover {\n",
       "  /* fitted */\n",
       "  background-color: var(--sklearn-color-fitted-level-3);\n",
       "  color: var(--sklearn-color-background);\n",
       "  text-decoration: none;\n",
       "}\n",
       "\n",
       "/* Span, style for the box shown on hovering the info icon */\n",
       ".sk-estimator-doc-link span {\n",
       "  display: none;\n",
       "  z-index: 9999;\n",
       "  position: relative;\n",
       "  font-weight: normal;\n",
       "  right: .2ex;\n",
       "  padding: .5ex;\n",
       "  margin: .5ex;\n",
       "  width: min-content;\n",
       "  min-width: 20ex;\n",
       "  max-width: 50ex;\n",
       "  color: var(--sklearn-color-text);\n",
       "  box-shadow: 2pt 2pt 4pt #999;\n",
       "  /* unfitted */\n",
       "  background: var(--sklearn-color-unfitted-level-0);\n",
       "  border: .5pt solid var(--sklearn-color-unfitted-level-3);\n",
       "}\n",
       "\n",
       ".sk-estimator-doc-link.fitted span {\n",
       "  /* fitted */\n",
       "  background: var(--sklearn-color-fitted-level-0);\n",
       "  border: var(--sklearn-color-fitted-level-3);\n",
       "}\n",
       "\n",
       ".sk-estimator-doc-link:hover span {\n",
       "  display: block;\n",
       "}\n",
       "\n",
       "/* \"?\"-specific style due to the `<a>` HTML tag */\n",
       "\n",
       "#sk-container-id-3 a.estimator_doc_link {\n",
       "  float: right;\n",
       "  font-size: 1rem;\n",
       "  line-height: 1em;\n",
       "  font-family: monospace;\n",
       "  background-color: var(--sklearn-color-background);\n",
       "  border-radius: 1rem;\n",
       "  height: 1rem;\n",
       "  width: 1rem;\n",
       "  text-decoration: none;\n",
       "  /* unfitted */\n",
       "  color: var(--sklearn-color-unfitted-level-1);\n",
       "  border: var(--sklearn-color-unfitted-level-1) 1pt solid;\n",
       "}\n",
       "\n",
       "#sk-container-id-3 a.estimator_doc_link.fitted {\n",
       "  /* fitted */\n",
       "  border: var(--sklearn-color-fitted-level-1) 1pt solid;\n",
       "  color: var(--sklearn-color-fitted-level-1);\n",
       "}\n",
       "\n",
       "/* On hover */\n",
       "#sk-container-id-3 a.estimator_doc_link:hover {\n",
       "  /* unfitted */\n",
       "  background-color: var(--sklearn-color-unfitted-level-3);\n",
       "  color: var(--sklearn-color-background);\n",
       "  text-decoration: none;\n",
       "}\n",
       "\n",
       "#sk-container-id-3 a.estimator_doc_link.fitted:hover {\n",
       "  /* fitted */\n",
       "  background-color: var(--sklearn-color-fitted-level-3);\n",
       "}\n",
       "</style><div id=\"sk-container-id-3\" class=\"sk-top-container\"><div class=\"sk-text-repr-fallback\"><pre>RandomizedSearchCV(cv=5,\n",
       "                   estimator=Pipeline(steps=[(&#x27;scaler&#x27;, StandardScaler()),\n",
       "                                             (&#x27;regressor&#x27;,\n",
       "                                              LinearRegression())]),\n",
       "                   n_jobs=1,\n",
       "                   param_distributions={&#x27;scaler__with_mean&#x27;: [True, False],\n",
       "                                        &#x27;scaler__with_std&#x27;: [True, False]},\n",
       "                   random_state=RandomState(MT19937) at 0x216C978C440)</pre><b>In a Jupyter environment, please rerun this cell to show the HTML representation or trust the notebook. <br />On GitHub, the HTML representation is unable to render, please try loading this page with nbviewer.org.</b></div><div class=\"sk-container\" hidden><div class=\"sk-item sk-dashed-wrapped\"><div class=\"sk-label-container\"><div class=\"sk-label fitted sk-toggleable\"><input class=\"sk-toggleable__control sk-hidden--visually\" id=\"sk-estimator-id-8\" type=\"checkbox\" ><label for=\"sk-estimator-id-8\" class=\"sk-toggleable__label fitted sk-toggleable__label-arrow fitted\">&nbsp;&nbsp;RandomizedSearchCV<a class=\"sk-estimator-doc-link fitted\" rel=\"noreferrer\" target=\"_blank\" href=\"https://scikit-learn.org/1.5/modules/generated/sklearn.model_selection.RandomizedSearchCV.html\">?<span>Documentation for RandomizedSearchCV</span></a><span class=\"sk-estimator-doc-link fitted\">i<span>Fitted</span></span></label><div class=\"sk-toggleable__content fitted\"><pre>RandomizedSearchCV(cv=5,\n",
       "                   estimator=Pipeline(steps=[(&#x27;scaler&#x27;, StandardScaler()),\n",
       "                                             (&#x27;regressor&#x27;,\n",
       "                                              LinearRegression())]),\n",
       "                   n_jobs=1,\n",
       "                   param_distributions={&#x27;scaler__with_mean&#x27;: [True, False],\n",
       "                                        &#x27;scaler__with_std&#x27;: [True, False]},\n",
       "                   random_state=RandomState(MT19937) at 0x216C978C440)</pre></div> </div></div><div class=\"sk-parallel\"><div class=\"sk-parallel-item\"><div class=\"sk-item\"><div class=\"sk-label-container\"><div class=\"sk-label fitted sk-toggleable\"><input class=\"sk-toggleable__control sk-hidden--visually\" id=\"sk-estimator-id-9\" type=\"checkbox\" ><label for=\"sk-estimator-id-9\" class=\"sk-toggleable__label fitted sk-toggleable__label-arrow fitted\">best_estimator_: Pipeline</label><div class=\"sk-toggleable__content fitted\"><pre>Pipeline(steps=[(&#x27;scaler&#x27;, StandardScaler()),\n",
       "                (&#x27;regressor&#x27;, LinearRegression())])</pre></div> </div></div><div class=\"sk-serial\"><div class=\"sk-item\"><div class=\"sk-serial\"><div class=\"sk-item\"><div class=\"sk-estimator fitted sk-toggleable\"><input class=\"sk-toggleable__control sk-hidden--visually\" id=\"sk-estimator-id-10\" type=\"checkbox\" ><label for=\"sk-estimator-id-10\" class=\"sk-toggleable__label fitted sk-toggleable__label-arrow fitted\">&nbsp;StandardScaler<a class=\"sk-estimator-doc-link fitted\" rel=\"noreferrer\" target=\"_blank\" href=\"https://scikit-learn.org/1.5/modules/generated/sklearn.preprocessing.StandardScaler.html\">?<span>Documentation for StandardScaler</span></a></label><div class=\"sk-toggleable__content fitted\"><pre>StandardScaler()</pre></div> </div></div><div class=\"sk-item\"><div class=\"sk-estimator fitted sk-toggleable\"><input class=\"sk-toggleable__control sk-hidden--visually\" id=\"sk-estimator-id-11\" type=\"checkbox\" ><label for=\"sk-estimator-id-11\" class=\"sk-toggleable__label fitted sk-toggleable__label-arrow fitted\">&nbsp;LinearRegression<a class=\"sk-estimator-doc-link fitted\" rel=\"noreferrer\" target=\"_blank\" href=\"https://scikit-learn.org/1.5/modules/generated/sklearn.linear_model.LinearRegression.html\">?<span>Documentation for LinearRegression</span></a></label><div class=\"sk-toggleable__content fitted\"><pre>LinearRegression()</pre></div> </div></div></div></div></div></div></div></div></div></div></div>"
      ],
      "text/plain": [
       "RandomizedSearchCV(cv=5,\n",
       "                   estimator=Pipeline(steps=[('scaler', StandardScaler()),\n",
       "                                             ('regressor',\n",
       "                                              LinearRegression())]),\n",
       "                   n_jobs=1,\n",
       "                   param_distributions={'scaler__with_mean': [True, False],\n",
       "                                        'scaler__with_std': [True, False]},\n",
       "                   random_state=RandomState(MT19937) at 0x216C978C440)"
      ]
     },
     "execution_count": 237,
     "metadata": {},
     "output_type": "execute_result"
    }
   ],
   "source": [
    "lr_rsearch = RandomizedSearchCV(estimator=lr, param_distributions=lr_param_grid, n_iter=10, cv=5, random_state=state, n_jobs=1)\n",
    "\n",
    "lr_rsearch.fit(x_train, y_train)"
   ]
  },
  {
   "cell_type": "code",
   "execution_count": 238,
   "metadata": {},
   "outputs": [
    {
     "data": {
      "text/plain": [
       "{'scaler__with_std': True, 'scaler__with_mean': True}"
      ]
     },
     "execution_count": 238,
     "metadata": {},
     "output_type": "execute_result"
    }
   ],
   "source": [
    "lr_bscore = lr_rsearch.best_score_ \n",
    "\n",
    "lr_bparams = lr_rsearch.best_params_\n",
    "\n",
    "lr_bparams"
   ]
  },
  {
   "cell_type": "code",
   "execution_count": 239,
   "metadata": {},
   "outputs": [
    {
     "data": {
      "text/html": [
       "<style>#sk-container-id-4 {\n",
       "  /* Definition of color scheme common for light and dark mode */\n",
       "  --sklearn-color-text: black;\n",
       "  --sklearn-color-line: gray;\n",
       "  /* Definition of color scheme for unfitted estimators */\n",
       "  --sklearn-color-unfitted-level-0: #fff5e6;\n",
       "  --sklearn-color-unfitted-level-1: #f6e4d2;\n",
       "  --sklearn-color-unfitted-level-2: #ffe0b3;\n",
       "  --sklearn-color-unfitted-level-3: chocolate;\n",
       "  /* Definition of color scheme for fitted estimators */\n",
       "  --sklearn-color-fitted-level-0: #f0f8ff;\n",
       "  --sklearn-color-fitted-level-1: #d4ebff;\n",
       "  --sklearn-color-fitted-level-2: #b3dbfd;\n",
       "  --sklearn-color-fitted-level-3: cornflowerblue;\n",
       "\n",
       "  /* Specific color for light theme */\n",
       "  --sklearn-color-text-on-default-background: var(--sg-text-color, var(--theme-code-foreground, var(--jp-content-font-color1, black)));\n",
       "  --sklearn-color-background: var(--sg-background-color, var(--theme-background, var(--jp-layout-color0, white)));\n",
       "  --sklearn-color-border-box: var(--sg-text-color, var(--theme-code-foreground, var(--jp-content-font-color1, black)));\n",
       "  --sklearn-color-icon: #696969;\n",
       "\n",
       "  @media (prefers-color-scheme: dark) {\n",
       "    /* Redefinition of color scheme for dark theme */\n",
       "    --sklearn-color-text-on-default-background: var(--sg-text-color, var(--theme-code-foreground, var(--jp-content-font-color1, white)));\n",
       "    --sklearn-color-background: var(--sg-background-color, var(--theme-background, var(--jp-layout-color0, #111)));\n",
       "    --sklearn-color-border-box: var(--sg-text-color, var(--theme-code-foreground, var(--jp-content-font-color1, white)));\n",
       "    --sklearn-color-icon: #878787;\n",
       "  }\n",
       "}\n",
       "\n",
       "#sk-container-id-4 {\n",
       "  color: var(--sklearn-color-text);\n",
       "}\n",
       "\n",
       "#sk-container-id-4 pre {\n",
       "  padding: 0;\n",
       "}\n",
       "\n",
       "#sk-container-id-4 input.sk-hidden--visually {\n",
       "  border: 0;\n",
       "  clip: rect(1px 1px 1px 1px);\n",
       "  clip: rect(1px, 1px, 1px, 1px);\n",
       "  height: 1px;\n",
       "  margin: -1px;\n",
       "  overflow: hidden;\n",
       "  padding: 0;\n",
       "  position: absolute;\n",
       "  width: 1px;\n",
       "}\n",
       "\n",
       "#sk-container-id-4 div.sk-dashed-wrapped {\n",
       "  border: 1px dashed var(--sklearn-color-line);\n",
       "  margin: 0 0.4em 0.5em 0.4em;\n",
       "  box-sizing: border-box;\n",
       "  padding-bottom: 0.4em;\n",
       "  background-color: var(--sklearn-color-background);\n",
       "}\n",
       "\n",
       "#sk-container-id-4 div.sk-container {\n",
       "  /* jupyter's `normalize.less` sets `[hidden] { display: none; }`\n",
       "     but bootstrap.min.css set `[hidden] { display: none !important; }`\n",
       "     so we also need the `!important` here to be able to override the\n",
       "     default hidden behavior on the sphinx rendered scikit-learn.org.\n",
       "     See: https://github.com/scikit-learn/scikit-learn/issues/21755 */\n",
       "  display: inline-block !important;\n",
       "  position: relative;\n",
       "}\n",
       "\n",
       "#sk-container-id-4 div.sk-text-repr-fallback {\n",
       "  display: none;\n",
       "}\n",
       "\n",
       "div.sk-parallel-item,\n",
       "div.sk-serial,\n",
       "div.sk-item {\n",
       "  /* draw centered vertical line to link estimators */\n",
       "  background-image: linear-gradient(var(--sklearn-color-text-on-default-background), var(--sklearn-color-text-on-default-background));\n",
       "  background-size: 2px 100%;\n",
       "  background-repeat: no-repeat;\n",
       "  background-position: center center;\n",
       "}\n",
       "\n",
       "/* Parallel-specific style estimator block */\n",
       "\n",
       "#sk-container-id-4 div.sk-parallel-item::after {\n",
       "  content: \"\";\n",
       "  width: 100%;\n",
       "  border-bottom: 2px solid var(--sklearn-color-text-on-default-background);\n",
       "  flex-grow: 1;\n",
       "}\n",
       "\n",
       "#sk-container-id-4 div.sk-parallel {\n",
       "  display: flex;\n",
       "  align-items: stretch;\n",
       "  justify-content: center;\n",
       "  background-color: var(--sklearn-color-background);\n",
       "  position: relative;\n",
       "}\n",
       "\n",
       "#sk-container-id-4 div.sk-parallel-item {\n",
       "  display: flex;\n",
       "  flex-direction: column;\n",
       "}\n",
       "\n",
       "#sk-container-id-4 div.sk-parallel-item:first-child::after {\n",
       "  align-self: flex-end;\n",
       "  width: 50%;\n",
       "}\n",
       "\n",
       "#sk-container-id-4 div.sk-parallel-item:last-child::after {\n",
       "  align-self: flex-start;\n",
       "  width: 50%;\n",
       "}\n",
       "\n",
       "#sk-container-id-4 div.sk-parallel-item:only-child::after {\n",
       "  width: 0;\n",
       "}\n",
       "\n",
       "/* Serial-specific style estimator block */\n",
       "\n",
       "#sk-container-id-4 div.sk-serial {\n",
       "  display: flex;\n",
       "  flex-direction: column;\n",
       "  align-items: center;\n",
       "  background-color: var(--sklearn-color-background);\n",
       "  padding-right: 1em;\n",
       "  padding-left: 1em;\n",
       "}\n",
       "\n",
       "\n",
       "/* Toggleable style: style used for estimator/Pipeline/ColumnTransformer box that is\n",
       "clickable and can be expanded/collapsed.\n",
       "- Pipeline and ColumnTransformer use this feature and define the default style\n",
       "- Estimators will overwrite some part of the style using the `sk-estimator` class\n",
       "*/\n",
       "\n",
       "/* Pipeline and ColumnTransformer style (default) */\n",
       "\n",
       "#sk-container-id-4 div.sk-toggleable {\n",
       "  /* Default theme specific background. It is overwritten whether we have a\n",
       "  specific estimator or a Pipeline/ColumnTransformer */\n",
       "  background-color: var(--sklearn-color-background);\n",
       "}\n",
       "\n",
       "/* Toggleable label */\n",
       "#sk-container-id-4 label.sk-toggleable__label {\n",
       "  cursor: pointer;\n",
       "  display: block;\n",
       "  width: 100%;\n",
       "  margin-bottom: 0;\n",
       "  padding: 0.5em;\n",
       "  box-sizing: border-box;\n",
       "  text-align: center;\n",
       "}\n",
       "\n",
       "#sk-container-id-4 label.sk-toggleable__label-arrow:before {\n",
       "  /* Arrow on the left of the label */\n",
       "  content: \"▸\";\n",
       "  float: left;\n",
       "  margin-right: 0.25em;\n",
       "  color: var(--sklearn-color-icon);\n",
       "}\n",
       "\n",
       "#sk-container-id-4 label.sk-toggleable__label-arrow:hover:before {\n",
       "  color: var(--sklearn-color-text);\n",
       "}\n",
       "\n",
       "/* Toggleable content - dropdown */\n",
       "\n",
       "#sk-container-id-4 div.sk-toggleable__content {\n",
       "  max-height: 0;\n",
       "  max-width: 0;\n",
       "  overflow: hidden;\n",
       "  text-align: left;\n",
       "  /* unfitted */\n",
       "  background-color: var(--sklearn-color-unfitted-level-0);\n",
       "}\n",
       "\n",
       "#sk-container-id-4 div.sk-toggleable__content.fitted {\n",
       "  /* fitted */\n",
       "  background-color: var(--sklearn-color-fitted-level-0);\n",
       "}\n",
       "\n",
       "#sk-container-id-4 div.sk-toggleable__content pre {\n",
       "  margin: 0.2em;\n",
       "  border-radius: 0.25em;\n",
       "  color: var(--sklearn-color-text);\n",
       "  /* unfitted */\n",
       "  background-color: var(--sklearn-color-unfitted-level-0);\n",
       "}\n",
       "\n",
       "#sk-container-id-4 div.sk-toggleable__content.fitted pre {\n",
       "  /* unfitted */\n",
       "  background-color: var(--sklearn-color-fitted-level-0);\n",
       "}\n",
       "\n",
       "#sk-container-id-4 input.sk-toggleable__control:checked~div.sk-toggleable__content {\n",
       "  /* Expand drop-down */\n",
       "  max-height: 200px;\n",
       "  max-width: 100%;\n",
       "  overflow: auto;\n",
       "}\n",
       "\n",
       "#sk-container-id-4 input.sk-toggleable__control:checked~label.sk-toggleable__label-arrow:before {\n",
       "  content: \"▾\";\n",
       "}\n",
       "\n",
       "/* Pipeline/ColumnTransformer-specific style */\n",
       "\n",
       "#sk-container-id-4 div.sk-label input.sk-toggleable__control:checked~label.sk-toggleable__label {\n",
       "  color: var(--sklearn-color-text);\n",
       "  background-color: var(--sklearn-color-unfitted-level-2);\n",
       "}\n",
       "\n",
       "#sk-container-id-4 div.sk-label.fitted input.sk-toggleable__control:checked~label.sk-toggleable__label {\n",
       "  background-color: var(--sklearn-color-fitted-level-2);\n",
       "}\n",
       "\n",
       "/* Estimator-specific style */\n",
       "\n",
       "/* Colorize estimator box */\n",
       "#sk-container-id-4 div.sk-estimator input.sk-toggleable__control:checked~label.sk-toggleable__label {\n",
       "  /* unfitted */\n",
       "  background-color: var(--sklearn-color-unfitted-level-2);\n",
       "}\n",
       "\n",
       "#sk-container-id-4 div.sk-estimator.fitted input.sk-toggleable__control:checked~label.sk-toggleable__label {\n",
       "  /* fitted */\n",
       "  background-color: var(--sklearn-color-fitted-level-2);\n",
       "}\n",
       "\n",
       "#sk-container-id-4 div.sk-label label.sk-toggleable__label,\n",
       "#sk-container-id-4 div.sk-label label {\n",
       "  /* The background is the default theme color */\n",
       "  color: var(--sklearn-color-text-on-default-background);\n",
       "}\n",
       "\n",
       "/* On hover, darken the color of the background */\n",
       "#sk-container-id-4 div.sk-label:hover label.sk-toggleable__label {\n",
       "  color: var(--sklearn-color-text);\n",
       "  background-color: var(--sklearn-color-unfitted-level-2);\n",
       "}\n",
       "\n",
       "/* Label box, darken color on hover, fitted */\n",
       "#sk-container-id-4 div.sk-label.fitted:hover label.sk-toggleable__label.fitted {\n",
       "  color: var(--sklearn-color-text);\n",
       "  background-color: var(--sklearn-color-fitted-level-2);\n",
       "}\n",
       "\n",
       "/* Estimator label */\n",
       "\n",
       "#sk-container-id-4 div.sk-label label {\n",
       "  font-family: monospace;\n",
       "  font-weight: bold;\n",
       "  display: inline-block;\n",
       "  line-height: 1.2em;\n",
       "}\n",
       "\n",
       "#sk-container-id-4 div.sk-label-container {\n",
       "  text-align: center;\n",
       "}\n",
       "\n",
       "/* Estimator-specific */\n",
       "#sk-container-id-4 div.sk-estimator {\n",
       "  font-family: monospace;\n",
       "  border: 1px dotted var(--sklearn-color-border-box);\n",
       "  border-radius: 0.25em;\n",
       "  box-sizing: border-box;\n",
       "  margin-bottom: 0.5em;\n",
       "  /* unfitted */\n",
       "  background-color: var(--sklearn-color-unfitted-level-0);\n",
       "}\n",
       "\n",
       "#sk-container-id-4 div.sk-estimator.fitted {\n",
       "  /* fitted */\n",
       "  background-color: var(--sklearn-color-fitted-level-0);\n",
       "}\n",
       "\n",
       "/* on hover */\n",
       "#sk-container-id-4 div.sk-estimator:hover {\n",
       "  /* unfitted */\n",
       "  background-color: var(--sklearn-color-unfitted-level-2);\n",
       "}\n",
       "\n",
       "#sk-container-id-4 div.sk-estimator.fitted:hover {\n",
       "  /* fitted */\n",
       "  background-color: var(--sklearn-color-fitted-level-2);\n",
       "}\n",
       "\n",
       "/* Specification for estimator info (e.g. \"i\" and \"?\") */\n",
       "\n",
       "/* Common style for \"i\" and \"?\" */\n",
       "\n",
       ".sk-estimator-doc-link,\n",
       "a:link.sk-estimator-doc-link,\n",
       "a:visited.sk-estimator-doc-link {\n",
       "  float: right;\n",
       "  font-size: smaller;\n",
       "  line-height: 1em;\n",
       "  font-family: monospace;\n",
       "  background-color: var(--sklearn-color-background);\n",
       "  border-radius: 1em;\n",
       "  height: 1em;\n",
       "  width: 1em;\n",
       "  text-decoration: none !important;\n",
       "  margin-left: 1ex;\n",
       "  /* unfitted */\n",
       "  border: var(--sklearn-color-unfitted-level-1) 1pt solid;\n",
       "  color: var(--sklearn-color-unfitted-level-1);\n",
       "}\n",
       "\n",
       ".sk-estimator-doc-link.fitted,\n",
       "a:link.sk-estimator-doc-link.fitted,\n",
       "a:visited.sk-estimator-doc-link.fitted {\n",
       "  /* fitted */\n",
       "  border: var(--sklearn-color-fitted-level-1) 1pt solid;\n",
       "  color: var(--sklearn-color-fitted-level-1);\n",
       "}\n",
       "\n",
       "/* On hover */\n",
       "div.sk-estimator:hover .sk-estimator-doc-link:hover,\n",
       ".sk-estimator-doc-link:hover,\n",
       "div.sk-label-container:hover .sk-estimator-doc-link:hover,\n",
       ".sk-estimator-doc-link:hover {\n",
       "  /* unfitted */\n",
       "  background-color: var(--sklearn-color-unfitted-level-3);\n",
       "  color: var(--sklearn-color-background);\n",
       "  text-decoration: none;\n",
       "}\n",
       "\n",
       "div.sk-estimator.fitted:hover .sk-estimator-doc-link.fitted:hover,\n",
       ".sk-estimator-doc-link.fitted:hover,\n",
       "div.sk-label-container:hover .sk-estimator-doc-link.fitted:hover,\n",
       ".sk-estimator-doc-link.fitted:hover {\n",
       "  /* fitted */\n",
       "  background-color: var(--sklearn-color-fitted-level-3);\n",
       "  color: var(--sklearn-color-background);\n",
       "  text-decoration: none;\n",
       "}\n",
       "\n",
       "/* Span, style for the box shown on hovering the info icon */\n",
       ".sk-estimator-doc-link span {\n",
       "  display: none;\n",
       "  z-index: 9999;\n",
       "  position: relative;\n",
       "  font-weight: normal;\n",
       "  right: .2ex;\n",
       "  padding: .5ex;\n",
       "  margin: .5ex;\n",
       "  width: min-content;\n",
       "  min-width: 20ex;\n",
       "  max-width: 50ex;\n",
       "  color: var(--sklearn-color-text);\n",
       "  box-shadow: 2pt 2pt 4pt #999;\n",
       "  /* unfitted */\n",
       "  background: var(--sklearn-color-unfitted-level-0);\n",
       "  border: .5pt solid var(--sklearn-color-unfitted-level-3);\n",
       "}\n",
       "\n",
       ".sk-estimator-doc-link.fitted span {\n",
       "  /* fitted */\n",
       "  background: var(--sklearn-color-fitted-level-0);\n",
       "  border: var(--sklearn-color-fitted-level-3);\n",
       "}\n",
       "\n",
       ".sk-estimator-doc-link:hover span {\n",
       "  display: block;\n",
       "}\n",
       "\n",
       "/* \"?\"-specific style due to the `<a>` HTML tag */\n",
       "\n",
       "#sk-container-id-4 a.estimator_doc_link {\n",
       "  float: right;\n",
       "  font-size: 1rem;\n",
       "  line-height: 1em;\n",
       "  font-family: monospace;\n",
       "  background-color: var(--sklearn-color-background);\n",
       "  border-radius: 1rem;\n",
       "  height: 1rem;\n",
       "  width: 1rem;\n",
       "  text-decoration: none;\n",
       "  /* unfitted */\n",
       "  color: var(--sklearn-color-unfitted-level-1);\n",
       "  border: var(--sklearn-color-unfitted-level-1) 1pt solid;\n",
       "}\n",
       "\n",
       "#sk-container-id-4 a.estimator_doc_link.fitted {\n",
       "  /* fitted */\n",
       "  border: var(--sklearn-color-fitted-level-1) 1pt solid;\n",
       "  color: var(--sklearn-color-fitted-level-1);\n",
       "}\n",
       "\n",
       "/* On hover */\n",
       "#sk-container-id-4 a.estimator_doc_link:hover {\n",
       "  /* unfitted */\n",
       "  background-color: var(--sklearn-color-unfitted-level-3);\n",
       "  color: var(--sklearn-color-background);\n",
       "  text-decoration: none;\n",
       "}\n",
       "\n",
       "#sk-container-id-4 a.estimator_doc_link.fitted:hover {\n",
       "  /* fitted */\n",
       "  background-color: var(--sklearn-color-fitted-level-3);\n",
       "}\n",
       "</style><div id=\"sk-container-id-4\" class=\"sk-top-container\"><div class=\"sk-text-repr-fallback\"><pre>Pipeline(steps=[(&#x27;scaler&#x27;, StandardScaler()),\n",
       "                (&#x27;regressor&#x27;, LinearRegression())])</pre><b>In a Jupyter environment, please rerun this cell to show the HTML representation or trust the notebook. <br />On GitHub, the HTML representation is unable to render, please try loading this page with nbviewer.org.</b></div><div class=\"sk-container\" hidden><div class=\"sk-item sk-dashed-wrapped\"><div class=\"sk-label-container\"><div class=\"sk-label fitted sk-toggleable\"><input class=\"sk-toggleable__control sk-hidden--visually\" id=\"sk-estimator-id-12\" type=\"checkbox\" ><label for=\"sk-estimator-id-12\" class=\"sk-toggleable__label fitted sk-toggleable__label-arrow fitted\">&nbsp;&nbsp;Pipeline<a class=\"sk-estimator-doc-link fitted\" rel=\"noreferrer\" target=\"_blank\" href=\"https://scikit-learn.org/1.5/modules/generated/sklearn.pipeline.Pipeline.html\">?<span>Documentation for Pipeline</span></a><span class=\"sk-estimator-doc-link fitted\">i<span>Fitted</span></span></label><div class=\"sk-toggleable__content fitted\"><pre>Pipeline(steps=[(&#x27;scaler&#x27;, StandardScaler()),\n",
       "                (&#x27;regressor&#x27;, LinearRegression())])</pre></div> </div></div><div class=\"sk-serial\"><div class=\"sk-item\"><div class=\"sk-estimator fitted sk-toggleable\"><input class=\"sk-toggleable__control sk-hidden--visually\" id=\"sk-estimator-id-13\" type=\"checkbox\" ><label for=\"sk-estimator-id-13\" class=\"sk-toggleable__label fitted sk-toggleable__label-arrow fitted\">&nbsp;StandardScaler<a class=\"sk-estimator-doc-link fitted\" rel=\"noreferrer\" target=\"_blank\" href=\"https://scikit-learn.org/1.5/modules/generated/sklearn.preprocessing.StandardScaler.html\">?<span>Documentation for StandardScaler</span></a></label><div class=\"sk-toggleable__content fitted\"><pre>StandardScaler()</pre></div> </div></div><div class=\"sk-item\"><div class=\"sk-estimator fitted sk-toggleable\"><input class=\"sk-toggleable__control sk-hidden--visually\" id=\"sk-estimator-id-14\" type=\"checkbox\" ><label for=\"sk-estimator-id-14\" class=\"sk-toggleable__label fitted sk-toggleable__label-arrow fitted\">&nbsp;LinearRegression<a class=\"sk-estimator-doc-link fitted\" rel=\"noreferrer\" target=\"_blank\" href=\"https://scikit-learn.org/1.5/modules/generated/sklearn.linear_model.LinearRegression.html\">?<span>Documentation for LinearRegression</span></a></label><div class=\"sk-toggleable__content fitted\"><pre>LinearRegression()</pre></div> </div></div></div></div></div></div>"
      ],
      "text/plain": [
       "Pipeline(steps=[('scaler', StandardScaler()),\n",
       "                ('regressor', LinearRegression())])"
      ]
     },
     "execution_count": 239,
     "metadata": {},
     "output_type": "execute_result"
    }
   ],
   "source": [
    "lr = Pipeline([('scaler', StandardScaler(with_std=True, with_mean=True)), ('regressor', LinearRegression())])\n",
    "\n",
    "lr.fit(x_train, y_train)"
   ]
  },
  {
   "cell_type": "code",
   "execution_count": 240,
   "metadata": {},
   "outputs": [],
   "source": [
    "lr_smape = smape(y_valid, lr_predict)\n",
    "\n"
   ]
  }
 ],
 "metadata": {
  "kernelspec": {
   "display_name": "base",
   "language": "python",
   "name": "python3"
  },
  "language_info": {
   "codemirror_mode": {
    "name": "ipython",
    "version": 3
   },
   "file_extension": ".py",
   "mimetype": "text/x-python",
   "name": "python",
   "nbconvert_exporter": "python",
   "pygments_lexer": "ipython3",
   "version": "3.11.5"
  }
 },
 "nbformat": 4,
 "nbformat_minor": 2
}
